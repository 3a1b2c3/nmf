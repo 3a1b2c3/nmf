{
 "cells": [
  {
   "cell_type": "code",
   "execution_count": 1,
   "metadata": {},
   "outputs": [
    {
     "name": "stdout",
     "output_type": "stream",
     "text": [
      "/home/dronelab/normalrf\n",
      "Warp 0.6.2 initialized:\n",
      "   CUDA Toolkit: 11.5, Driver: 12.0\n",
      "   Devices:\n",
      "     \"cpu\"    | x86_64\n",
      "     \"cuda:0\" | NVIDIA GeForce RTX 3090 (sm_86)\n",
      "     \"cuda:1\" | NVIDIA GeForce RTX 3090 (sm_86)\n",
      "     \"cuda:2\" | NVIDIA GeForce RTX 3090 (sm_86)\n",
      "     \"cuda:3\" | NVIDIA GeForce RTX 3090 (sm_86)\n",
      "     \"cuda:4\" | NVIDIA GeForce RTX 3090 (sm_86)\n",
      "   Kernel cache: /home/dronelab/.cache/warp/0.6.2\n"
     ]
    }
   ],
   "source": [
    "from pathlib import Path\n",
    "import sys\n",
    "import os\n",
    "base_path = Path(os.path.abspath('')).parent\n",
    "print(base_path)\n",
    "sys.path.append(str(base_path))\n",
    "import torch\n",
    "from modules.tensor_nerf import TensorNeRF"
   ]
  },
  {
   "cell_type": "code",
   "execution_count": 9,
   "metadata": {},
   "outputs": [
    {
     "name": "stderr",
     "output_type": "stream",
     "text": [
      "ic| grid_size: [tensor(300, device='cuda:0'),\n",
      "                tensor(300, device='cuda:0'),\n",
      "                tensor(300, device='cuda:0')]\n",
      "ic| self.N_voxel_list: [347217, 1279813, 3167271, 6346304, 11153628, 17925958, 27000000]\n"
     ]
    },
    {
     "name": "stdout",
     "output_type": "stream",
     "text": [
      "../log/noprednorms_nl0_conserve_pb0/mic_v37_mulLdotN_no2x_elam5e-5_max0.5rough_clip_pb0_norussian_noprednorms_nl0/imgs_test_all/envmaps\n",
      "grid size tensor([300, 300, 300])\n",
      "aabb tensor([-1.5000, -1.5000, -1.5000,  1.5000,  1.5000,  1.5000], device='cuda:0')\n",
      "sampling step size:  tensor(0.0050)\n",
      "sampling number:  1036\n"
     ]
    },
    {
     "name": "stderr",
     "output_type": "stream",
     "text": [
      "ic| self.use_predicted_normals: True\n",
      "    self.align_pred_norms: True\n",
      "    self.orient_world_normals: True\n",
      "ic| grid_size: [tensor(300, device='cuda:0'),\n",
      "                tensor(300, device='cuda:0'),\n",
      "                tensor(300, device='cuda:0')]\n",
      "ic| self.N_voxel_list: [347217, 1279813, 3167271, 6346304, 11153628, 17925958, 27000000]\n"
     ]
    },
    {
     "name": "stdout",
     "output_type": "stream",
     "text": [
      "../log/noprednorms_nl0_conserve_pb0/helmet_v37_mulLdotN_no2x_elam5e-5_max0.5rough_clip_pb0_noprednorms_nl0/imgs_test_all/envmaps\n",
      "grid size tensor([300, 300, 300])\n",
      "aabb tensor([-1.5000, -1.5000, -1.5000,  1.5000,  1.5000,  1.5000], device='cuda:0')\n",
      "sampling step size:  tensor(0.0050)\n",
      "sampling number:  1036\n"
     ]
    },
    {
     "name": "stderr",
     "output_type": "stream",
     "text": [
      "ic| self.use_predicted_normals: True\n",
      "    self.align_pred_norms: True\n",
      "    self.orient_world_normals: True\n",
      "ic| grid_size: [tensor(300, device='cuda:0'),\n",
      "                tensor(300, device='cuda:0'),\n",
      "                tensor(300, device='cuda:0')]\n"
     ]
    },
    {
     "name": "stdout",
     "output_type": "stream",
     "text": [
      "../log/noprednorms_nl0_conserve_pb0/toaster_v38/imgs_test_all/envmaps\n"
     ]
    },
    {
     "name": "stderr",
     "output_type": "stream",
     "text": [
      "ic| self.N_voxel_list: [347217, 1279813, 3167271, 6346304, 11153628, 17925958, 27000000]\n"
     ]
    },
    {
     "name": "stdout",
     "output_type": "stream",
     "text": [
      "grid size tensor([300, 300, 300])\n",
      "aabb tensor([-1.5000, -1.5000, -1.5000,  1.5000,  1.5000,  1.5000], device='cuda:0')\n",
      "sampling step size:  tensor(0.0050)\n",
      "sampling number:  1036\n"
     ]
    },
    {
     "name": "stderr",
     "output_type": "stream",
     "text": [
      "ic| self.use_predicted_normals: True\n",
      "    self.align_pred_norms: True\n",
      "    self.orient_world_normals: True\n",
      "ic| grid_size: [tensor(300, device='cuda:0'),\n",
      "                tensor(300, device='cuda:0'),\n",
      "                tensor(300, device='cuda:0')]\n",
      "ic| self.N_voxel_list: [347217, 1279813, 3167271, 6346304, 11153628, 17925958, 27000000]\n"
     ]
    },
    {
     "name": "stdout",
     "output_type": "stream",
     "text": [
      "../log/noprednorms_nl0_conserve_pb0/teapot_v37_mulLdotN_no2x_elam5e-5_max0.5rough_clip_pb0_norussian_noprednorms_nl0/imgs_test_all/envmaps\n",
      "grid size tensor([300, 300, 300])\n",
      "aabb tensor([-1.5000, -1.5000, -1.5000,  1.5000,  1.5000,  1.5000], device='cuda:0')\n",
      "sampling step size:  tensor(0.0050)\n",
      "sampling number:  1036\n"
     ]
    },
    {
     "name": "stderr",
     "output_type": "stream",
     "text": [
      "ic| self.use_predicted_normals: True\n",
      "    self.align_pred_norms: True\n",
      "    self.orient_world_normals: True\n",
      "ic| grid_size: [tensor(300, device='cuda:0'),\n",
      "                tensor(300, device='cuda:0'),\n",
      "                tensor(300, device='cuda:0')]\n",
      "ic| self.N_voxel_list: [347217, 1279813, 3167271, 6346304, 11153628, 17925958, 27000000]\n"
     ]
    },
    {
     "name": "stdout",
     "output_type": "stream",
     "text": [
      "../log/noprednorms_nl0_conserve_pb0/ficus_v37_mulLdotN_no2x_elam5e-5_max0.5rough_clip_pb0_norussian_noprednorms_nl0/imgs_test_all/envmaps\n",
      "grid size tensor([300, 300, 300])\n",
      "aabb tensor([-1.5000, -1.5000, -1.5000,  1.5000,  1.5000,  1.5000], device='cuda:0')\n",
      "sampling step size:  tensor(0.0050)\n",
      "sampling number:  1036\n"
     ]
    },
    {
     "name": "stderr",
     "output_type": "stream",
     "text": [
      "ic| self.use_predicted_normals: True\n",
      "    self.align_pred_norms: True\n",
      "    self.orient_world_normals: True\n",
      "ic| grid_size: [tensor(300, device='cuda:0'),\n",
      "                tensor(300, device='cuda:0'),\n",
      "                tensor(300, device='cuda:0')]\n",
      "ic| self.N_voxel_list: [347217, 1279813, 3167271, 6346304, 11153628, 17925958, 27000000]\n"
     ]
    },
    {
     "name": "stdout",
     "output_type": "stream",
     "text": [
      "../log/noprednorms_nl0_conserve_pb0/materials_v37_mulLdotN_no2x_elam5e-5_max0.5rough_clip_pb0_norussian_noprednorms_nl0/imgs_test_all/envmaps\n",
      "grid size tensor([300, 300, 300])\n",
      "aabb tensor([-1.5000, -1.5000, -1.5000,  1.5000,  1.5000,  1.5000], device='cuda:0')\n",
      "sampling step size:  tensor(0.0050)\n",
      "sampling number:  1036\n"
     ]
    },
    {
     "name": "stderr",
     "output_type": "stream",
     "text": [
      "ic| self.use_predicted_normals: True\n",
      "    self.align_pred_norms: True\n",
      "    self.orient_world_normals: True\n",
      "ic| grid_size: [tensor(300, device='cuda:0'),\n",
      "                tensor(300, device='cuda:0'),\n",
      "                tensor(300, device='cuda:0')]\n",
      "ic| self.N_voxel_list: [347217, 1279813, 3167271, 6346304, 11153628, 17925958, 27000000]\n"
     ]
    },
    {
     "name": "stdout",
     "output_type": "stream",
     "text": [
      "../log/noprednorms_nl0_conserve_pb0/chair_v37_mulLdotN_no2x_elam5e-5_max0.5rough_clip_pb0_norussian_noprednorms_nl0/imgs_test_all/envmaps\n",
      "grid size tensor([300, 300, 300])\n",
      "aabb tensor([-1.5000, -1.5000, -1.5000,  1.5000,  1.5000,  1.5000], device='cuda:0')\n",
      "sampling step size:  tensor(0.0050)\n",
      "sampling number:  1036\n"
     ]
    },
    {
     "name": "stderr",
     "output_type": "stream",
     "text": [
      "ic| self.use_predicted_normals: True\n",
      "    self.align_pred_norms: True\n",
      "    self.orient_world_normals: True\n",
      "ic| grid_size: [tensor(300, device='cuda:0'),\n",
      "                tensor(300, device='cuda:0'),\n",
      "                tensor(300, device='cuda:0')]\n",
      "ic| self.N_voxel_list: [347217, 1279813, 3167271, 6346304, 11153628, 17925958, 27000000]\n"
     ]
    },
    {
     "name": "stdout",
     "output_type": "stream",
     "text": [
      "../log/noprednorms_nl0_conserve_pb0/coffee_v38/imgs_test_all/envmaps\n",
      "grid size tensor([300, 300, 300])\n",
      "aabb tensor([-1.5000, -1.5000, -1.5000,  1.5000,  1.5000,  1.5000], device='cuda:0')\n",
      "sampling step size:  tensor(0.0050)\n",
      "sampling number:  1036\n"
     ]
    },
    {
     "name": "stderr",
     "output_type": "stream",
     "text": [
      "ic| self.use_predicted_normals: True\n",
      "    self.align_pred_norms: True\n",
      "    self.orient_world_normals: True\n",
      "ic| grid_size: [tensor(300, device='cuda:0'),\n",
      "                tensor(300, device='cuda:0'),\n",
      "                tensor(300, device='cuda:0')]\n",
      "ic| self.N_voxel_list: [347217, 1279813, 3167271, 6346304, 11153628, 17925958, 27000000]\n"
     ]
    },
    {
     "name": "stdout",
     "output_type": "stream",
     "text": [
      "../log/noprednorms_nl0_conserve_pb0/lego_v38/imgs_test_all/envmaps\n",
      "grid size tensor([300, 300, 300])\n",
      "aabb tensor([-1.5000, -1.5000, -1.5000,  1.5000,  1.5000,  1.5000], device='cuda:0')\n",
      "sampling step size:  tensor(0.0050)\n",
      "sampling number:  1036\n"
     ]
    },
    {
     "name": "stderr",
     "output_type": "stream",
     "text": [
      "ic| self.use_predicted_normals: True\n",
      "    self.align_pred_norms: True\n",
      "    self.orient_world_normals: True\n",
      "ic| grid_size: [tensor(300, device='cuda:0'),\n",
      "                tensor(300, device='cuda:0'),\n",
      "                tensor(300, device='cuda:0')]\n",
      "ic| self.N_voxel_list: [347217, 1279813, 3167271, 6346304, 11153628, 17925958, 27000000]\n"
     ]
    },
    {
     "name": "stdout",
     "output_type": "stream",
     "text": [
      "../log/noprednorms_nl0_conserve_pb0/hotdog_v37_mulLdotN_no2x_elam5e-5_max0.5rough_clip_pb0_norussian_noprednorms_nl0/imgs_test_all/envmaps\n",
      "grid size tensor([300, 300, 300])\n",
      "aabb tensor([-1.5000, -1.5000, -1.5000,  1.5000,  1.5000,  1.5000], device='cuda:0')\n",
      "sampling step size:  tensor(0.0050)\n",
      "sampling number:  1036\n"
     ]
    },
    {
     "name": "stderr",
     "output_type": "stream",
     "text": [
      "ic| self.use_predicted_normals: True\n",
      "    self.align_pred_norms: True\n",
      "    self.orient_world_normals: True\n",
      "ic| grid_size: [tensor(300, device='cuda:0'),\n",
      "                tensor(300, device='cuda:0'),\n",
      "                tensor(300, device='cuda:0')]\n",
      "ic| self.N_voxel_list: [347217, 1279813, 3167271, 6346304, 11153628, 17925958, 27000000]\n"
     ]
    },
    {
     "name": "stdout",
     "output_type": "stream",
     "text": [
      "../log/noprednorms_nl0_conserve_pb0/ship_v38/imgs_test_all/envmaps\n",
      "grid size tensor([300, 300, 300])\n",
      "aabb tensor([-1.5000, -1.5000, -1.5000,  1.5000,  1.5000,  1.5000], device='cuda:0')\n",
      "sampling step size:  tensor(0.0050)\n",
      "sampling number:  1036\n"
     ]
    },
    {
     "name": "stderr",
     "output_type": "stream",
     "text": [
      "ic| self.use_predicted_normals: True\n",
      "    self.align_pred_norms: True\n",
      "    self.orient_world_normals: True\n",
      "ic| grid_size: [tensor(300, device='cuda:0'),\n",
      "                tensor(300, device='cuda:0'),\n",
      "                tensor(300, device='cuda:0')]\n",
      "ic| self.N_voxel_list: [347217, 1279813, 3167271, 6346304, 11153628, 17925958, 27000000]\n"
     ]
    },
    {
     "name": "stdout",
     "output_type": "stream",
     "text": [
      "../log/noprednorms_nl0_conserve_pb0/drums_v38/imgs_test_all/envmaps\n",
      "grid size tensor([300, 300, 300])\n",
      "aabb tensor([-1.5000, -1.5000, -1.5000,  1.5000,  1.5000,  1.5000], device='cuda:0')\n",
      "sampling step size:  tensor(0.0050)\n",
      "sampling number:  1036\n"
     ]
    },
    {
     "name": "stderr",
     "output_type": "stream",
     "text": [
      "ic| self.use_predicted_normals: True\n",
      "    self.align_pred_norms: True\n",
      "    self.orient_world_normals: True\n",
      "ic| grid_size: [tensor(300, device='cuda:0'),\n",
      "                tensor(300, device='cuda:0'),\n",
      "                tensor(300, device='cuda:0')]\n",
      "ic| self.N_voxel_list: [347217, 1279813, 3167271, 6346304, 11153628, 17925958, 27000000]\n"
     ]
    },
    {
     "name": "stdout",
     "output_type": "stream",
     "text": [
      "../log/noprednorms_nl0_conserve_pb0/shinyball_v37_mulLdotN_no2x_elam5e-5_max0.5rough_clip_pb0_noprednorms_nl0/imgs_test_all/envmaps\n",
      "grid size tensor([300, 300, 300])\n",
      "aabb tensor([-3., -3., -3.,  3.,  3.,  3.], device='cuda:0')\n",
      "sampling step size:  tensor(0.0100)\n",
      "sampling number:  1036\n"
     ]
    },
    {
     "name": "stderr",
     "output_type": "stream",
     "text": [
      "ic| self.use_predicted_normals: True\n",
      "    self.align_pred_norms: True\n",
      "    self.orient_world_normals: True\n",
      "ic| grid_size: [tensor(300, device='cuda:0'),\n",
      "                tensor(300, device='cuda:0'),\n",
      "                tensor(300, device='cuda:0')]\n",
      "ic| self.N_voxel_list: [347217, 1279813, 3167271, 6346304, 11153628, 17925958, 27000000]\n"
     ]
    },
    {
     "name": "stdout",
     "output_type": "stream",
     "text": [
      "../log/noprednorms_nl0_conserve_pb0/car_v38/imgs_test_all/envmaps\n",
      "grid size tensor([300, 300, 300])\n",
      "aabb tensor([-1.5000, -1.5000, -1.5000,  1.5000,  1.5000,  1.5000], device='cuda:0')\n",
      "sampling step size:  tensor(0.0050)\n",
      "sampling number:  1036\n"
     ]
    },
    {
     "name": "stderr",
     "output_type": "stream",
     "text": [
      "ic| self.use_predicted_normals: True\n",
      "    self.align_pred_norms: True\n",
      "    self.orient_world_normals: True\n",
      "ic| grid_size: [tensor(300, device='cuda:0'),\n",
      "                tensor(300, device='cuda:0'),\n",
      "                tensor(300, device='cuda:0')]\n",
      "ic| self.N_voxel_list: [347217, 1279813, 3167271, 6346304, 11153628, 17925958, 27000000]\n"
     ]
    },
    {
     "name": "stdout",
     "output_type": "stream",
     "text": [
      "../log/noprednorms_nl0_conserve_pb0/ball_v37_mulLdotN_no2x_elam5e-5_max0.5rough_clip_pb0_noprednorms_nl0/imgs_test_all/envmaps\n",
      "grid size tensor([300, 300, 300])\n",
      "aabb tensor([-1.5000, -1.5000, -1.5000,  1.5000,  1.5000,  1.5000], device='cuda:0')\n",
      "sampling step size:  tensor(0.0050)\n",
      "sampling number:  1036\n"
     ]
    },
    {
     "name": "stderr",
     "output_type": "stream",
     "text": [
      "ic| self.use_predicted_normals: True\n",
      "    self.align_pred_norms: True\n",
      "    self.orient_world_normals: True\n"
     ]
    }
   ],
   "source": [
    "\n",
    "log_dir = Path(\"../log\") / \"noprednorms_nl0_conserve_pb0\"\n",
    "# log_dir = Path(\"../log\") / \"singlebounce_samen\"\n",
    "for ckpt_path in log_dir.glob(\"*/*.th\"):\n",
    "    p = ckpt_path.parent\n",
    "    pano_path = p / \"imgs_test_all\" / \"envmaps\"\n",
    "    print(pano_path)\n",
    "    ckpt = torch.load(ckpt_path)\n",
    "    tensorf = TensorNeRF.load(ckpt, near_far=[2, 6], strict=False)\n",
    "    tensorf.bg_module.save(pano_path)"
   ]
  },
  {
   "cell_type": "code",
   "execution_count": null,
   "metadata": {},
   "outputs": [],
   "source": []
  }
 ],
 "metadata": {
  "kernelspec": {
   "display_name": "31",
   "language": "python",
   "name": "python3"
  },
  "language_info": {
   "codemirror_mode": {
    "name": "ipython",
    "version": 3
   },
   "file_extension": ".py",
   "mimetype": "text/x-python",
   "name": "python",
   "nbconvert_exporter": "python",
   "pygments_lexer": "ipython3",
   "version": "3.10.4"
  },
  "orig_nbformat": 4,
  "vscode": {
   "interpreter": {
    "hash": "028f34ffe305a9c9d9afad2118f6894d15876b6d4b2e233b2f3e6907c2ac8580"
   }
  }
 },
 "nbformat": 4,
 "nbformat_minor": 2
}
