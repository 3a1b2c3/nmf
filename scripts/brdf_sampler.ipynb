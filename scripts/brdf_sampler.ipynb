{
 "cells": [
  {
   "cell_type": "code",
   "execution_count": 1,
   "metadata": {},
   "outputs": [
    {
     "name": "stdout",
     "output_type": "stream",
     "text": [
      "/home/amai/normalrf\n"
     ]
    }
   ],
   "source": [
    "from pathlib import Path\n",
    "import sys\n",
    "import os\n",
    "sys.path.append(str(Path(os.path.abspath('')).parent))\n",
    "print(Path(os.path.abspath('')).parent)"
   ]
  },
  {
   "cell_type": "code",
   "execution_count": 5,
   "metadata": {},
   "outputs": [],
   "source": [
    "import torch\n",
    "from modules import safemath\n",
    "import math\n",
    "import plotly.express as px\n",
    "from icecream import ic"
   ]
  },
  {
   "cell_type": "code",
   "execution_count": 6,
   "metadata": {},
   "outputs": [],
   "source": [
    "\n",
    "def normalize(x):\n",
    "    return x / (torch.linalg.norm(x, dim=-1, keepdim=True)+1e-8)\n",
    "\n",
    "class PseudoRandomSampler(torch.nn.Module):\n",
    "    def __init__(self, max_samples) -> None:\n",
    "        super().__init__()\n",
    "        self.sampler = torch.quasirandom.SobolEngine(dimension=3, scramble=True)\n",
    "        self.max_samples = max_samples\n",
    "        angs = self.sampler.draw(max_samples)\n",
    "        self.register_buffer('angs', angs)\n",
    "\n",
    "    def draw(self, B, num_samples):\n",
    "        if num_samples > self.max_samples:\n",
    "            self.max_samples = num_samples\n",
    "            self.angs = self.sampler.draw(self.max_samples)\n",
    "        angs = self.angs.reshape(1, self.max_samples, 3)[:, :num_samples, :].expand(B, num_samples, 3)\n",
    "        # self.sampler = torch.quasirandom.SobolEngine(dimension=2, scramble=True)\n",
    "        # add random offset\n",
    "        offset = torch.rand(B, 1, 3, device=angs.device)*0.25\n",
    "        angs = (angs + offset) % 1.0\n",
    "        return angs\n",
    "\n",
    "    def update(self, *args, **kwargs):\n",
    "        pass\n",
    "\n",
    "class CosineLobeSampler(PseudoRandomSampler):\n",
    "    def sample(self, refdirs, viewdir, normal, r1, r2, ray_mask, eps=torch.finfo(torch.float32).eps):\n",
    "        num_samples = ray_mask.shape[1]\n",
    "        # viewdir: (B, 3)\n",
    "        # normal: (B, 3)\n",
    "        # r1, r2: B roughness values for anisotropic roughness\n",
    "        device = normal.device\n",
    "        B = normal.shape[0]\n",
    "\n",
    "        # establish basis for BRDF\n",
    "        z_up = torch.tensor([0.0, 0.0, 1.0], device=device).reshape(1, 3).expand(B, 3)\n",
    "        x_up = torch.tensor([-1.0, 0.0, 0.0], device=device).reshape(1, 3).expand(B, 3)\n",
    "        up = torch.where(normal[:, 2:3] < 0.9, z_up, x_up)\n",
    "        tangent = normalize(torch.linalg.cross(up, normal))\n",
    "        bitangent = normalize(torch.linalg.cross(normal, tangent))\n",
    "        # B, 3, 3\n",
    "        row_world_basis = torch.stack([tangent, bitangent, normal], dim=1).reshape(B, 3, 3)\n",
    "\n",
    "        # GGXVNDF\n",
    "        # V_l = torch.matmul(torch.inverse(row_world_basis.permute(0, 2, 1)), viewdir.unsqueeze(-1)).squeeze(-1)\n",
    "        # ic((normal*viewdir).sum(dim=-1).min(), (normal*viewdir).sum(dim=-1).max())\n",
    "        # ic(1, V_l.min(dim=0), V_l.max(dim=0))\n",
    "        V_l = torch.matmul(row_world_basis, viewdir.unsqueeze(-1)).squeeze(-1)\n",
    "        # ic(2, V_l.min(dim=0), V_l.max(dim=0))\n",
    "        r1_c = r1.squeeze(-1)\n",
    "        r2_c = r2.squeeze(-1)\n",
    "\n",
    "        angs = self.draw(B, num_samples).to(device)\n",
    "\n",
    "        # here is where things get really large\n",
    "        u1 = angs[..., 0]\n",
    "        u2 = angs[..., 1]\n",
    "        u3 = angs[..., 2]\n",
    "\n",
    "        # stretch and mask stuff to reduce memory\n",
    "        r_mask1 = r1_c.reshape(-1, 1).expand(u1.shape)[ray_mask]\n",
    "        r_mask2 = r2_c.reshape(-1, 1).expand(u1.shape)[ray_mask]\n",
    "\n",
    "        u_mask = angs[ray_mask]\n",
    "        u1_mask = u1[ray_mask]\n",
    "        u2_mask = u2[ray_mask]\n",
    "        u3_mask = u3[ray_mask]\n",
    "        row_world_basis_mask = row_world_basis.permute(0, 2, 1).reshape(B, 1, 3, 3).expand(B, num_samples, 3, 3)[ray_mask]\n",
    "\n",
    "        \n",
    "        sphere_noise = normalize(u_mask*2-1)\n",
    "        # so this function is the inverse of the CDF\n",
    "        H_l = normalize(r_mask1.reshape(-1, 1) * sphere_noise + torch.tensor([0.0, 0.0, 1.0], device=device).reshape(1, -1))\n",
    "\n",
    "        first = torch.zeros_like(ray_mask)\n",
    "        first[:, 0] = True\n",
    "        H_l[first[ray_mask], 0] = 0\n",
    "        H_l[first[ray_mask], 1] = 0\n",
    "        H_l[first[ray_mask], 2] = 1\n",
    "\n",
    "        H = torch.matmul(row_world_basis_mask, H_l.unsqueeze(-1)).squeeze(-1)\n",
    "        # H = torch.einsum('bni,bij->bnj', H_l, row_world_basis)\n",
    "\n",
    "        V = viewdir.unsqueeze(1).expand(-1, num_samples, 3)[ray_mask]\n",
    "        # N = normal.reshape(-1, 1, 3).expand(-1, num_samples, 3)[ray_mask]\n",
    "        L = (2.0 * (V * H).sum(dim=-1, keepdim=True) * H - V)\n",
    "\n",
    "        return L, row_world_basis_mask\n",
    "\n",
    "    def calculate_mipval(self, H, V, N, ray_mask, roughness, row_world_basis, eps=torch.finfo(torch.float32).eps):\n",
    "        num_samples = ray_mask.shape[1]\n",
    "        device = ray_mask.device\n",
    "        # H_l = torch.matmul(row_world_basis.permute(0, 2, 1), H.unsqueeze(-1)).squeeze(-1)\n",
    "        # sphere_noise = (H_l - torch.tensor([0.0, 0.0, 1.0], device=device).reshape(1, -1)) / roughness\n",
    "\n",
    "        costheta = (H * N).sum(dim=-1).clip(min=eps, max=1)\n",
    "\n",
    "        HdotV = (H * V).sum(dim=-1).abs().clip(min=eps, max=1)\n",
    "        NdotV = (N * V).sum(dim=-1).abs().clip(min=eps, max=1)\n",
    "        lpdf1 = -(2*math.pi*roughness.clip(min=eps)).log() + (2*costheta**2 + roughness**2-1).clip(min=eps).log() - 0.5*(roughness**2 + costheta**2 - 1).clip(min=eps).log()\n",
    "        lpdf = torch.where(costheta > (1-roughness*2).clip(min=eps).sqrt(), lpdf1, torch.zeros_like(lpdf1))\n",
    "        indiv_num_samples = ray_mask.sum(dim=1, keepdim=True).expand(-1, num_samples)[ray_mask]\n",
    "\n",
    "        # logD = -math.log(2*math.pi**2) - dTdtheta\n",
    "        # ic(NdotH.shape, NdotH, D, D.mean())\n",
    "        # px.scatter(x=NdotH[0].detach().cpu().flatten(), y=D[0].detach().cpu().flatten()).show()\n",
    "        # assert(False)\n",
    "        # pdf = D * HdotV / NdotV / roughness.reshape(-1, 1)\n",
    "        # pdf = NdotH / 4 / HdotV\n",
    "        # pdf = D# / NdotH\n",
    "        # mipval = -torch.log(indiv_num_samples.clip(min=1)) - lpdf\n",
    "        ic(lpdf.exp())\n",
    "        mipval = -torch.log(indiv_num_samples.clip(min=1)) - lpdf\n",
    "        return mipval\n",
    "\n",
    "class GGXSampler(PseudoRandomSampler):\n",
    "\n",
    "    def sample(self, refdirs, viewdir, normal, r1, r2, ray_mask, eps=torch.finfo(torch.float32).eps):\n",
    "        num_samples = ray_mask.shape[1]\n",
    "        # viewdir: (B, 3)\n",
    "        # normal: (B, 3)\n",
    "        # r1, r2: B roughness values for anisotropic roughness\n",
    "        device = normal.device\n",
    "        B = normal.shape[0]\n",
    "\n",
    "        # establish basis for BRDF\n",
    "        z_up = torch.tensor([0.0, 0.0, 1.0], device=device).reshape(1, 3).expand(B, 3)\n",
    "        x_up = torch.tensor([-1.0, 0.0, 0.0], device=device).reshape(1, 3).expand(B, 3)\n",
    "        up = torch.where(normal[:, 2:3] < 0.999, z_up, x_up)\n",
    "        tangent = normalize(torch.linalg.cross(up, normal))\n",
    "        bitangent = normalize(torch.linalg.cross(normal, tangent))\n",
    "        # B, 3, 3\n",
    "        row_world_basis = torch.stack([tangent, bitangent, normal], dim=1).reshape(B, 3, 3)\n",
    "\n",
    "\n",
    "        # GGXVNDF\n",
    "        # V_l = torch.matmul(torch.inverse(row_world_basis.permute(0, 2, 1)), viewdir.unsqueeze(-1)).squeeze(-1)\n",
    "        # ic((normal*viewdir).sum(dim=-1).min(), (normal*viewdir).sum(dim=-1).max())\n",
    "        # ic(1, V_l.min(dim=0), V_l.max(dim=0))\n",
    "        V_l = torch.matmul(row_world_basis, viewdir.unsqueeze(-1)).squeeze(-1)\n",
    "        # ic(2, V_l.min(dim=0), V_l.max(dim=0))\n",
    "        r1_c = r1.squeeze(-1)\n",
    "        r2_c = r2.squeeze(-1)\n",
    "        V_stretch = normalize(torch.stack([r1_c*V_l[..., 0], r2_c*V_l[..., 1], V_l[..., 2]], dim=-1)).unsqueeze(1)\n",
    "        T1 = torch.where(V_stretch[..., 2:3] < 0.999, normalize(torch.linalg.cross(V_stretch, z_up.unsqueeze(1), dim=-1)), x_up.unsqueeze(1))\n",
    "        T2 = normalize(torch.linalg.cross(T1, V_stretch, dim=-1))\n",
    "        z = V_stretch[..., 2].reshape(-1, 1)\n",
    "        a = (1 / (1+z.detach()).clip(min=1e-5)).clip(max=1e4)\n",
    "        angs = self.draw(B, num_samples).to(device)\n",
    "\n",
    "        # here is where things get really large\n",
    "        u1 = angs[..., 0]\n",
    "        u2 = angs[..., 1]\n",
    "\n",
    "        # stretch and mask stuff to reduce memory\n",
    "        a_mask = a.expand(u1.shape)[ray_mask]\n",
    "\n",
    "        r_mask_u1 = r1_c.reshape(-1, 1).expand(u1.shape)[ray_mask]\n",
    "        r_mask1 = r_mask_u1\n",
    "        r_mask_u2 = r2_c.reshape(-1, 1).expand(u1.shape)[ray_mask]\n",
    "        r_mask2 = r_mask_u2\n",
    "\n",
    "        z_mask = z.expand(u1.shape)[ray_mask]\n",
    "        u1_mask = u1[ray_mask]\n",
    "        u2_mask = u2[ray_mask]\n",
    "        T1_mask = T1.expand(-1, num_samples, 3)[ray_mask]\n",
    "        T2_mask = T2.expand(-1, num_samples, 3)[ray_mask]\n",
    "        V_stretch_mask = V_stretch.expand(-1, num_samples, 3)[ray_mask]\n",
    "        row_world_basis_mask = row_world_basis.permute(0, 2, 1).reshape(B, 1, 3, 3).expand(B, num_samples, 3, 3)[ray_mask]\n",
    "\n",
    "        r = torch.sqrt(u1_mask)\n",
    "        phi = torch.where(u2_mask < a_mask, u2_mask/a_mask*math.pi, (u2_mask-a_mask)/(1-a_mask)*math.pi + math.pi)\n",
    "        P1 = (r*safemath.safe_cos(phi)).unsqueeze(-1)\n",
    "        P2 = (r*safemath.safe_sin(phi)*torch.where(u2_mask < a_mask, torch.tensor(1.0, device=device), z_mask)).unsqueeze(-1)\n",
    "        # ic((1-a).min(), a.min(), a.max(), phi.min(), phi.max(), (1-a).max())\n",
    "        N_stretch = P1*T1_mask + P2*T2_mask + (1 - P1*P1 - P2*P2).clip(min=0).sqrt() * V_stretch_mask\n",
    "        # H_l = normalize(torch.stack([r_mask1*N_stretch[..., 0], r_mask2*N_stretch[..., 1], N_stretch[..., 2].clip(min=0)], dim=-1))\n",
    "        H_l = normalize(torch.stack([r_mask1*N_stretch[..., 0], r_mask2*N_stretch[..., 1], N_stretch[..., 2]], dim=-1))\n",
    "\n",
    "        first = torch.zeros_like(ray_mask)\n",
    "        first[:, 0] = True\n",
    "        H_l[first[ray_mask], 0] = 0\n",
    "        H_l[first[ray_mask], 1] = 0\n",
    "        H_l[first[ray_mask], 2] = 1\n",
    "\n",
    "        H = torch.matmul(row_world_basis_mask, H_l.unsqueeze(-1)).squeeze(-1)\n",
    "        # H = torch.einsum('bni,bij->bnj', H_l, row_world_basis)\n",
    "\n",
    "        V = viewdir.unsqueeze(1).expand(-1, num_samples, 3)[ray_mask]\n",
    "        # N = normal.reshape(-1, 1, 3).expand(-1, num_samples, 3)[ray_mask]\n",
    "        L = (2.0 * (V * H).sum(dim=-1, keepdim=True) * H - V)\n",
    "\n",
    "        prob = -(math.pi * r_mask1 * r_mask2 * (\n",
    "            H_l[:, 0]**2 / (r_mask1**2).clip(min=eps) + \n",
    "            H_l[:, 1]**2 / (r_mask2**2).clip(min=eps) + \n",
    "            H_l[:, 2]**2\n",
    "            )**2).clip(min=eps).log()\n",
    "        return L, row_world_basis_mask, prob\n",
    "\n",
    "    def calculate_mipval(self, H, V, N, ray_mask, roughness, row_world_basis, eps=torch.finfo(torch.float32).eps):\n",
    "        num_samples = ray_mask.shape[1]\n",
    "        NdotH = ((H * N).sum(dim=-1)).abs().clip(min=eps, max=1)\n",
    "        HdotV = (H * V).sum(dim=-1).abs().clip(min=eps, max=1)\n",
    "        NdotV = (N * V).sum(dim=-1).abs().clip(min=eps, max=1)\n",
    "        logD = 2*torch.log(roughness.clip(min=eps)) - 2*torch.log((NdotH**2*(roughness**2-1)+1).clip(min=eps))\n",
    "        # ic(NdotH.shape, NdotH, D, D.mean())\n",
    "        # px.scatter(x=NdotH[0].detach().cpu().flatten(), y=D[0].detach().cpu().flatten()).show()\n",
    "        # assert(False)\n",
    "        # ic(NdotH.mean())\n",
    "        lpdf = logD + torch.log(HdotV) - torch.log(NdotV)# - torch.log(roughness.clip(min=1e-5))\n",
    "        # pdf = D * HdotV / NdotV / roughness.reshape(-1, 1)\n",
    "        # pdf = NdotH / 4 / HdotV\n",
    "        # pdf = D# / NdotH\n",
    "        indiv_num_samples = ray_mask.sum(dim=1, keepdim=True).expand(-1, num_samples)[ray_mask]\n",
    "        mipval = -torch.log(indiv_num_samples.clip(min=1)) - lpdf\n",
    "        return mipval"
   ]
  },
  {
   "cell_type": "code",
   "execution_count": 9,
   "metadata": {},
   "outputs": [
    {
     "name": "stderr",
     "output_type": "stream",
     "text": [
      "ic| L.min(): tensor(-1.)\n",
      "ic| mipval: tensor([12.0304, 12.0304, 12.0304, 12.0304, 12.0304, 12.0304, 12.0304, 12.0304,\n",
      "                    12.0304, 12.0304, 12.0304, 12.0304, 12.0304, 12.0304, 12.0304, -3.8913,\n",
      "                    12.0304, 12.0304, 12.0304, 12.0304, 12.0304, 12.0304, 12.0304, 12.0304,\n",
      "                    12.0304, 12.0304, 12.0304, -3.8709, 12.0304, 12.0304, 12.0304, 12.0304,\n",
      "                    12.0304, 12.0304, 12.0304, 12.0304, 12.0304, 12.0304, 12.0304, 12.0304,\n",
      "                    12.0304, 12.0304, 12.0304, 12.0304, 12.0304, 12.0304, 12.0304, -3.8913,\n",
      "                    -3.8709, 12.0304])\n",
      "    miplevel: tensor([17.6781, 17.6781, 17.6781, 17.6781, 17.6781, 17.6781, 17.6781, 17.6781,\n",
      "                      17.6781, 17.6781, 17.6781, 17.6781, 17.6781, 17.6781, 17.6781,  6.1930,\n",
      "                      17.6781, 17.6781, 17.6781, 17.6781, 17.6781, 17.6781, 17.6781, 17.6781,\n",
      "                      17.6781, 17.6781, 17.6781,  6.2077, 17.6781, 17.6781, 17.6781, 17.6781,\n",
      "                      17.6781, 17.6781, 17.6781, 17.6781, 17.6781, 17.6781, 17.6781, 17.6781,\n",
      "                      17.6781, 17.6781, 17.6781, 17.6781, 17.6781, 17.6781, 17.6781,  6.1930,\n",
      "                       6.2077, 17.6781])\n",
      "    math.log(saTexel*N): -8.564626244650869\n"
     ]
    },
    {
     "data": {
      "application/vnd.plotly.v1+json": {
       "config": {
        "plotlyServerURL": "https://plot.ly"
       },
       "data": [
        {
         "hovertemplate": "x=%{x}<br>y=%{y}<br>z=%{z}<br>color=%{marker.color}<extra></extra>",
         "legendgroup": "",
         "marker": {
          "color": [
           12.03036117553711,
           12.03036117553711,
           12.03036117553711,
           12.03036117553711,
           12.03036117553711,
           12.03036117553711,
           12.03036117553711,
           12.03036117553711,
           12.03036117553711,
           12.03036117553711,
           12.03036117553711,
           12.03036117553711,
           12.03036117553711,
           12.03036117553711,
           12.03036117553711,
           -3.891268491744995,
           12.03036117553711,
           12.03036117553711,
           12.03036117553711,
           12.03036117553711,
           12.03036117553711,
           12.03036117553711,
           12.03036117553711,
           12.03036117553711,
           12.03036117553711,
           12.03036117553711,
           12.03036117553711,
           -3.8709356784820557,
           12.03036117553711,
           12.03036117553711,
           12.03036117553711,
           12.03036117553711,
           12.03036117553711,
           12.03036117553711,
           12.03036117553711,
           12.03036117553711,
           12.03036117553711,
           12.03036117553711,
           12.03036117553711,
           12.03036117553711,
           12.03036117553711,
           12.03036117553711,
           12.03036117553711,
           12.03036117553711,
           12.03036117553711,
           12.03036117553711,
           12.03036117553711,
           -3.891268491744995,
           -3.8709356784820557,
           12.03036117553711
          ],
          "coloraxis": "coloraxis",
          "symbol": "circle"
         },
         "mode": "markers",
         "name": "",
         "scene": "scene",
         "showlegend": false,
         "type": "scatter3d",
         "x": [
          0,
          0,
          0,
          0,
          0,
          0,
          0,
          0,
          0,
          0,
          0,
          0,
          0,
          0,
          0,
          0,
          0,
          0,
          0,
          0,
          0,
          0,
          0,
          0,
          0,
          0,
          0,
          0,
          0,
          0,
          0,
          0,
          0,
          0,
          0,
          0,
          0,
          0,
          0,
          0,
          0,
          0,
          0,
          0,
          0,
          0,
          0,
          0,
          0,
          0
         ],
         "y": [
          0,
          0,
          0,
          0,
          0,
          0,
          0,
          0,
          0,
          0,
          0,
          0,
          0,
          0,
          0,
          0,
          0,
          0,
          0,
          0,
          0,
          0,
          0,
          0,
          0,
          0,
          0,
          0,
          0,
          0,
          0,
          0,
          0,
          0,
          0,
          0,
          0,
          0,
          0,
          0,
          0,
          0,
          0,
          0,
          0,
          0,
          0,
          0,
          0,
          0
         ],
         "z": [
          -1,
          -1,
          -1,
          -1,
          -1,
          -1,
          -1,
          -1,
          -1,
          -1,
          -1,
          -1,
          -1,
          -1,
          -1,
          -0.9999995231628418,
          -1,
          -1,
          -1,
          -1,
          -1,
          -1,
          -1,
          -1,
          -1,
          -1,
          -1,
          -0.9999997615814209,
          -1,
          -1,
          -1,
          -1,
          -1,
          -1,
          -1,
          -1,
          -1,
          -1,
          -1,
          -1,
          -1,
          -1,
          -1,
          -1,
          -1,
          -1,
          -1,
          -0.9999995231628418,
          -0.9999997615814209,
          -1
         ]
        }
       ],
       "layout": {
        "coloraxis": {
         "colorbar": {
          "title": {
           "text": "color"
          }
         },
         "colorscale": [
          [
           0,
           "#0d0887"
          ],
          [
           0.1111111111111111,
           "#46039f"
          ],
          [
           0.2222222222222222,
           "#7201a8"
          ],
          [
           0.3333333333333333,
           "#9c179e"
          ],
          [
           0.4444444444444444,
           "#bd3786"
          ],
          [
           0.5555555555555556,
           "#d8576b"
          ],
          [
           0.6666666666666666,
           "#ed7953"
          ],
          [
           0.7777777777777778,
           "#fb9f3a"
          ],
          [
           0.8888888888888888,
           "#fdca26"
          ],
          [
           1,
           "#f0f921"
          ]
         ]
        },
        "legend": {
         "tracegroupgap": 0
        },
        "margin": {
         "t": 60
        },
        "scene": {
         "domain": {
          "x": [
           0,
           1
          ],
          "y": [
           0,
           1
          ]
         },
         "xaxis": {
          "title": {
           "text": "x"
          }
         },
         "yaxis": {
          "title": {
           "text": "y"
          }
         },
         "zaxis": {
          "title": {
           "text": "z"
          }
         }
        },
        "template": {
         "data": {
          "bar": [
           {
            "error_x": {
             "color": "#2a3f5f"
            },
            "error_y": {
             "color": "#2a3f5f"
            },
            "marker": {
             "line": {
              "color": "#E5ECF6",
              "width": 0.5
             },
             "pattern": {
              "fillmode": "overlay",
              "size": 10,
              "solidity": 0.2
             }
            },
            "type": "bar"
           }
          ],
          "barpolar": [
           {
            "marker": {
             "line": {
              "color": "#E5ECF6",
              "width": 0.5
             },
             "pattern": {
              "fillmode": "overlay",
              "size": 10,
              "solidity": 0.2
             }
            },
            "type": "barpolar"
           }
          ],
          "carpet": [
           {
            "aaxis": {
             "endlinecolor": "#2a3f5f",
             "gridcolor": "white",
             "linecolor": "white",
             "minorgridcolor": "white",
             "startlinecolor": "#2a3f5f"
            },
            "baxis": {
             "endlinecolor": "#2a3f5f",
             "gridcolor": "white",
             "linecolor": "white",
             "minorgridcolor": "white",
             "startlinecolor": "#2a3f5f"
            },
            "type": "carpet"
           }
          ],
          "choropleth": [
           {
            "colorbar": {
             "outlinewidth": 0,
             "ticks": ""
            },
            "type": "choropleth"
           }
          ],
          "contour": [
           {
            "colorbar": {
             "outlinewidth": 0,
             "ticks": ""
            },
            "colorscale": [
             [
              0,
              "#0d0887"
             ],
             [
              0.1111111111111111,
              "#46039f"
             ],
             [
              0.2222222222222222,
              "#7201a8"
             ],
             [
              0.3333333333333333,
              "#9c179e"
             ],
             [
              0.4444444444444444,
              "#bd3786"
             ],
             [
              0.5555555555555556,
              "#d8576b"
             ],
             [
              0.6666666666666666,
              "#ed7953"
             ],
             [
              0.7777777777777778,
              "#fb9f3a"
             ],
             [
              0.8888888888888888,
              "#fdca26"
             ],
             [
              1,
              "#f0f921"
             ]
            ],
            "type": "contour"
           }
          ],
          "contourcarpet": [
           {
            "colorbar": {
             "outlinewidth": 0,
             "ticks": ""
            },
            "type": "contourcarpet"
           }
          ],
          "heatmap": [
           {
            "colorbar": {
             "outlinewidth": 0,
             "ticks": ""
            },
            "colorscale": [
             [
              0,
              "#0d0887"
             ],
             [
              0.1111111111111111,
              "#46039f"
             ],
             [
              0.2222222222222222,
              "#7201a8"
             ],
             [
              0.3333333333333333,
              "#9c179e"
             ],
             [
              0.4444444444444444,
              "#bd3786"
             ],
             [
              0.5555555555555556,
              "#d8576b"
             ],
             [
              0.6666666666666666,
              "#ed7953"
             ],
             [
              0.7777777777777778,
              "#fb9f3a"
             ],
             [
              0.8888888888888888,
              "#fdca26"
             ],
             [
              1,
              "#f0f921"
             ]
            ],
            "type": "heatmap"
           }
          ],
          "heatmapgl": [
           {
            "colorbar": {
             "outlinewidth": 0,
             "ticks": ""
            },
            "colorscale": [
             [
              0,
              "#0d0887"
             ],
             [
              0.1111111111111111,
              "#46039f"
             ],
             [
              0.2222222222222222,
              "#7201a8"
             ],
             [
              0.3333333333333333,
              "#9c179e"
             ],
             [
              0.4444444444444444,
              "#bd3786"
             ],
             [
              0.5555555555555556,
              "#d8576b"
             ],
             [
              0.6666666666666666,
              "#ed7953"
             ],
             [
              0.7777777777777778,
              "#fb9f3a"
             ],
             [
              0.8888888888888888,
              "#fdca26"
             ],
             [
              1,
              "#f0f921"
             ]
            ],
            "type": "heatmapgl"
           }
          ],
          "histogram": [
           {
            "marker": {
             "pattern": {
              "fillmode": "overlay",
              "size": 10,
              "solidity": 0.2
             }
            },
            "type": "histogram"
           }
          ],
          "histogram2d": [
           {
            "colorbar": {
             "outlinewidth": 0,
             "ticks": ""
            },
            "colorscale": [
             [
              0,
              "#0d0887"
             ],
             [
              0.1111111111111111,
              "#46039f"
             ],
             [
              0.2222222222222222,
              "#7201a8"
             ],
             [
              0.3333333333333333,
              "#9c179e"
             ],
             [
              0.4444444444444444,
              "#bd3786"
             ],
             [
              0.5555555555555556,
              "#d8576b"
             ],
             [
              0.6666666666666666,
              "#ed7953"
             ],
             [
              0.7777777777777778,
              "#fb9f3a"
             ],
             [
              0.8888888888888888,
              "#fdca26"
             ],
             [
              1,
              "#f0f921"
             ]
            ],
            "type": "histogram2d"
           }
          ],
          "histogram2dcontour": [
           {
            "colorbar": {
             "outlinewidth": 0,
             "ticks": ""
            },
            "colorscale": [
             [
              0,
              "#0d0887"
             ],
             [
              0.1111111111111111,
              "#46039f"
             ],
             [
              0.2222222222222222,
              "#7201a8"
             ],
             [
              0.3333333333333333,
              "#9c179e"
             ],
             [
              0.4444444444444444,
              "#bd3786"
             ],
             [
              0.5555555555555556,
              "#d8576b"
             ],
             [
              0.6666666666666666,
              "#ed7953"
             ],
             [
              0.7777777777777778,
              "#fb9f3a"
             ],
             [
              0.8888888888888888,
              "#fdca26"
             ],
             [
              1,
              "#f0f921"
             ]
            ],
            "type": "histogram2dcontour"
           }
          ],
          "mesh3d": [
           {
            "colorbar": {
             "outlinewidth": 0,
             "ticks": ""
            },
            "type": "mesh3d"
           }
          ],
          "parcoords": [
           {
            "line": {
             "colorbar": {
              "outlinewidth": 0,
              "ticks": ""
             }
            },
            "type": "parcoords"
           }
          ],
          "pie": [
           {
            "automargin": true,
            "type": "pie"
           }
          ],
          "scatter": [
           {
            "fillpattern": {
             "fillmode": "overlay",
             "size": 10,
             "solidity": 0.2
            },
            "type": "scatter"
           }
          ],
          "scatter3d": [
           {
            "line": {
             "colorbar": {
              "outlinewidth": 0,
              "ticks": ""
             }
            },
            "marker": {
             "colorbar": {
              "outlinewidth": 0,
              "ticks": ""
             }
            },
            "type": "scatter3d"
           }
          ],
          "scattercarpet": [
           {
            "marker": {
             "colorbar": {
              "outlinewidth": 0,
              "ticks": ""
             }
            },
            "type": "scattercarpet"
           }
          ],
          "scattergeo": [
           {
            "marker": {
             "colorbar": {
              "outlinewidth": 0,
              "ticks": ""
             }
            },
            "type": "scattergeo"
           }
          ],
          "scattergl": [
           {
            "marker": {
             "colorbar": {
              "outlinewidth": 0,
              "ticks": ""
             }
            },
            "type": "scattergl"
           }
          ],
          "scattermapbox": [
           {
            "marker": {
             "colorbar": {
              "outlinewidth": 0,
              "ticks": ""
             }
            },
            "type": "scattermapbox"
           }
          ],
          "scatterpolar": [
           {
            "marker": {
             "colorbar": {
              "outlinewidth": 0,
              "ticks": ""
             }
            },
            "type": "scatterpolar"
           }
          ],
          "scatterpolargl": [
           {
            "marker": {
             "colorbar": {
              "outlinewidth": 0,
              "ticks": ""
             }
            },
            "type": "scatterpolargl"
           }
          ],
          "scatterternary": [
           {
            "marker": {
             "colorbar": {
              "outlinewidth": 0,
              "ticks": ""
             }
            },
            "type": "scatterternary"
           }
          ],
          "surface": [
           {
            "colorbar": {
             "outlinewidth": 0,
             "ticks": ""
            },
            "colorscale": [
             [
              0,
              "#0d0887"
             ],
             [
              0.1111111111111111,
              "#46039f"
             ],
             [
              0.2222222222222222,
              "#7201a8"
             ],
             [
              0.3333333333333333,
              "#9c179e"
             ],
             [
              0.4444444444444444,
              "#bd3786"
             ],
             [
              0.5555555555555556,
              "#d8576b"
             ],
             [
              0.6666666666666666,
              "#ed7953"
             ],
             [
              0.7777777777777778,
              "#fb9f3a"
             ],
             [
              0.8888888888888888,
              "#fdca26"
             ],
             [
              1,
              "#f0f921"
             ]
            ],
            "type": "surface"
           }
          ],
          "table": [
           {
            "cells": {
             "fill": {
              "color": "#EBF0F8"
             },
             "line": {
              "color": "white"
             }
            },
            "header": {
             "fill": {
              "color": "#C8D4E3"
             },
             "line": {
              "color": "white"
             }
            },
            "type": "table"
           }
          ]
         },
         "layout": {
          "annotationdefaults": {
           "arrowcolor": "#2a3f5f",
           "arrowhead": 0,
           "arrowwidth": 1
          },
          "autotypenumbers": "strict",
          "coloraxis": {
           "colorbar": {
            "outlinewidth": 0,
            "ticks": ""
           }
          },
          "colorscale": {
           "diverging": [
            [
             0,
             "#8e0152"
            ],
            [
             0.1,
             "#c51b7d"
            ],
            [
             0.2,
             "#de77ae"
            ],
            [
             0.3,
             "#f1b6da"
            ],
            [
             0.4,
             "#fde0ef"
            ],
            [
             0.5,
             "#f7f7f7"
            ],
            [
             0.6,
             "#e6f5d0"
            ],
            [
             0.7,
             "#b8e186"
            ],
            [
             0.8,
             "#7fbc41"
            ],
            [
             0.9,
             "#4d9221"
            ],
            [
             1,
             "#276419"
            ]
           ],
           "sequential": [
            [
             0,
             "#0d0887"
            ],
            [
             0.1111111111111111,
             "#46039f"
            ],
            [
             0.2222222222222222,
             "#7201a8"
            ],
            [
             0.3333333333333333,
             "#9c179e"
            ],
            [
             0.4444444444444444,
             "#bd3786"
            ],
            [
             0.5555555555555556,
             "#d8576b"
            ],
            [
             0.6666666666666666,
             "#ed7953"
            ],
            [
             0.7777777777777778,
             "#fb9f3a"
            ],
            [
             0.8888888888888888,
             "#fdca26"
            ],
            [
             1,
             "#f0f921"
            ]
           ],
           "sequentialminus": [
            [
             0,
             "#0d0887"
            ],
            [
             0.1111111111111111,
             "#46039f"
            ],
            [
             0.2222222222222222,
             "#7201a8"
            ],
            [
             0.3333333333333333,
             "#9c179e"
            ],
            [
             0.4444444444444444,
             "#bd3786"
            ],
            [
             0.5555555555555556,
             "#d8576b"
            ],
            [
             0.6666666666666666,
             "#ed7953"
            ],
            [
             0.7777777777777778,
             "#fb9f3a"
            ],
            [
             0.8888888888888888,
             "#fdca26"
            ],
            [
             1,
             "#f0f921"
            ]
           ]
          },
          "colorway": [
           "#636efa",
           "#EF553B",
           "#00cc96",
           "#ab63fa",
           "#FFA15A",
           "#19d3f3",
           "#FF6692",
           "#B6E880",
           "#FF97FF",
           "#FECB52"
          ],
          "font": {
           "color": "#2a3f5f"
          },
          "geo": {
           "bgcolor": "white",
           "lakecolor": "white",
           "landcolor": "#E5ECF6",
           "showlakes": true,
           "showland": true,
           "subunitcolor": "white"
          },
          "hoverlabel": {
           "align": "left"
          },
          "hovermode": "closest",
          "mapbox": {
           "style": "light"
          },
          "paper_bgcolor": "white",
          "plot_bgcolor": "#E5ECF6",
          "polar": {
           "angularaxis": {
            "gridcolor": "white",
            "linecolor": "white",
            "ticks": ""
           },
           "bgcolor": "#E5ECF6",
           "radialaxis": {
            "gridcolor": "white",
            "linecolor": "white",
            "ticks": ""
           }
          },
          "scene": {
           "xaxis": {
            "backgroundcolor": "#E5ECF6",
            "gridcolor": "white",
            "gridwidth": 2,
            "linecolor": "white",
            "showbackground": true,
            "ticks": "",
            "zerolinecolor": "white"
           },
           "yaxis": {
            "backgroundcolor": "#E5ECF6",
            "gridcolor": "white",
            "gridwidth": 2,
            "linecolor": "white",
            "showbackground": true,
            "ticks": "",
            "zerolinecolor": "white"
           },
           "zaxis": {
            "backgroundcolor": "#E5ECF6",
            "gridcolor": "white",
            "gridwidth": 2,
            "linecolor": "white",
            "showbackground": true,
            "ticks": "",
            "zerolinecolor": "white"
           }
          },
          "shapedefaults": {
           "line": {
            "color": "#2a3f5f"
           }
          },
          "ternary": {
           "aaxis": {
            "gridcolor": "white",
            "linecolor": "white",
            "ticks": ""
           },
           "baxis": {
            "gridcolor": "white",
            "linecolor": "white",
            "ticks": ""
           },
           "bgcolor": "#E5ECF6",
           "caxis": {
            "gridcolor": "white",
            "linecolor": "white",
            "ticks": ""
           }
          },
          "title": {
           "x": 0.05
          },
          "xaxis": {
           "automargin": true,
           "gridcolor": "white",
           "linecolor": "white",
           "ticks": "",
           "title": {
            "standoff": 15
           },
           "zerolinecolor": "white",
           "zerolinewidth": 2
          },
          "yaxis": {
           "automargin": true,
           "gridcolor": "white",
           "linecolor": "white",
           "ticks": "",
           "title": {
            "standoff": 15
           },
           "zerolinecolor": "white",
           "zerolinewidth": 2
          }
         }
        }
       }
      }
     },
     "metadata": {},
     "output_type": "display_data"
    }
   ],
   "source": [
    "device = torch.device('cpu')\n",
    "N = 50\n",
    "ray_mask = torch.ones((1, N), device=device, dtype=bool)\n",
    "roughness = torch.tensor(1.00)\n",
    "normal = torch.tensor([0, 0, 1.0], device=device).reshape(1, 3)\n",
    "viewdir = torch.tensor([0, 0, -1.0], device=device).reshape(1, 3)\n",
    "# sampler = CosineLobeSampler(512)\n",
    "sampler = GGXSampler(512)\n",
    "L, basis = sampler.sample(None, viewdir, normal, roughness, roughness, ray_mask)\n",
    "H = normalize(L + normal)\n",
    "mipval = sampler.calculate_mipval(H, viewdir, normal, ray_mask, roughness, torch.eye(3).reshape(1, 3, 3))\n",
    "ic(L.min())\n",
    "\n",
    "h = w = 512\n",
    "# h = w = 2048\n",
    "distortion = 1\n",
    "saTexel = distortion / h / w\n",
    "num_pixels = h * w * 6\n",
    "miplevel = ((mipval - math.log(saTexel)) / math.log(2))/2\n",
    "miplevel = miplevel.clip(0)\n",
    "res = h / 2**miplevel\n",
    "ic(mipval, miplevel, math.log(saTexel*N))\n",
    "# px.scatter_3d(x=L[:, 0], y=L[:, 1], z=L[:, 2], color=miplevel)\n",
    "px.scatter_3d(x=L[:, 0], y=L[:, 1], z=L[:, 2], color=mipval)\n"
   ]
  },
  {
   "cell_type": "code",
   "execution_count": null,
   "metadata": {},
   "outputs": [],
   "source": []
  }
 ],
 "metadata": {
  "kernelspec": {
   "display_name": "Python 3.10.5 ('31')",
   "language": "python",
   "name": "python3"
  },
  "language_info": {
   "codemirror_mode": {
    "name": "ipython",
    "version": 3
   },
   "file_extension": ".py",
   "mimetype": "text/x-python",
   "name": "python",
   "nbconvert_exporter": "python",
   "pygments_lexer": "ipython3",
   "version": "3.10.5"
  },
  "orig_nbformat": 4,
  "vscode": {
   "interpreter": {
    "hash": "be76537492645a2c6be92a0ab2cc7fc4a631ad2e1167ca620f40cbb8b4259c8c"
   }
  }
 },
 "nbformat": 4,
 "nbformat_minor": 2
}
