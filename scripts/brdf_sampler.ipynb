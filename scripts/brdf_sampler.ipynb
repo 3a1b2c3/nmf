{
 "cells": [
  {
   "cell_type": "code",
   "execution_count": 4,
   "metadata": {},
   "outputs": [],
   "source": [
    "from pathlib import Path\n",
    "import sys\n",
    "import os\n",
    "sys.path.append(str(Path(os.path.abspath('')).parent))"
   ]
  },
  {
   "cell_type": "code",
   "execution_count": 35,
   "metadata": {},
   "outputs": [],
   "source": [
    "import torch\n",
    "from models import safemath\n",
    "import math\n",
    "import plotly.express as px\n",
    "from icecream import ic"
   ]
  },
  {
   "cell_type": "code",
   "execution_count": 108,
   "metadata": {},
   "outputs": [],
   "source": [
    "\n",
    "\n",
    "def normalize(x):\n",
    "    return x / (torch.linalg.norm(x, dim=-1, keepdim=True)+1e-8)\n",
    "\n",
    "class GGXSampler(torch.nn.Module):\n",
    "    def __init__(self, num_samples, min_roughness) -> None:\n",
    "        super().__init__()\n",
    "        self.sampler = torch.quasirandom.SobolEngine(dimension=2, scramble=True)\n",
    "        self.num_samples = num_samples\n",
    "        angs = self.sampler.draw(num_samples)\n",
    "        self.register_buffer('angs', angs)\n",
    "        self.min_roughness = min_roughness\n",
    "        # plt.scatter(self.angs[:, 0], self.angs[:, 1])\n",
    "        # plt.show()\n",
    "\n",
    "    def draw(self, B, num_samples):\n",
    "        # self.angs = self.sampler.draw(self.num_samples)\n",
    "        angs = self.angs.reshape(1, self.num_samples, 2)[:, :num_samples, :].expand(B, num_samples, 2)\n",
    "        # self.sampler = torch.quasirandom.SobolEngine(dimension=2, scramble=True)\n",
    "        # add random offset\n",
    "        offset = torch.rand(B, 1, 2, device=angs.device)*0.25\n",
    "        angs = (angs + offset) % 1.0\n",
    "        return angs\n",
    "\n",
    "    def update(self, *args, **kwargs):\n",
    "        pass\n",
    "\n",
    "    def sample(self, num_samples, refdirs, viewdir, normal, r1, r2, ray_mask):\n",
    "        # viewdir: (B, 3)\n",
    "        # normal: (B, 3)\n",
    "        # r1, r2: B roughness values for anisotropic roughness\n",
    "        device = normal.device\n",
    "        B = normal.shape[0]\n",
    "\n",
    "        # establish basis for BRDF\n",
    "        z_up = torch.tensor([0.0, 0.0, 1.0], device=device).reshape(1, 3).expand(B, 3)\n",
    "        x_up = torch.tensor([1.0, 0.0, 0.0], device=device).reshape(1, 3).expand(B, 3)\n",
    "        up = torch.where(normal[:, 2:3] < 0.9, z_up, x_up)\n",
    "        tangent = normalize(torch.linalg.cross(up, normal))\n",
    "        bitangent = normalize(torch.linalg.cross(normal, tangent))\n",
    "        # B, 3, 3\n",
    "        row_world_basis = torch.stack([tangent, bitangent, normal], dim=1).reshape(B, 3, 3)\n",
    "\n",
    "\n",
    "        # GGXVNDF\n",
    "        # V_l = torch.matmul(torch.inverse(row_world_basis.permute(0, 2, 1)), viewdir.unsqueeze(-1)).squeeze(-1)\n",
    "        # ic((normal*viewdir).sum(dim=-1).min(), (normal*viewdir).sum(dim=-1).max())\n",
    "        # ic(1, V_l.min(dim=0), V_l.max(dim=0))\n",
    "        V_l = torch.matmul(row_world_basis, viewdir.unsqueeze(-1)).squeeze(-1)\n",
    "        # ic(2, V_l.min(dim=0), V_l.max(dim=0))\n",
    "        r1_c = r1.clip(min=self.min_roughness).squeeze(-1)\n",
    "        r2_c = r2.clip(min=self.min_roughness).squeeze(-1)\n",
    "        V_stretch = normalize(torch.stack([r1_c*V_l[..., 0], r2_c*V_l[..., 1], V_l[..., 2]], dim=-1)).unsqueeze(1)\n",
    "        T1 = torch.where(V_stretch[..., 2:3] < 0.999, normalize(torch.linalg.cross(V_stretch, z_up.unsqueeze(1), dim=-1)), x_up.unsqueeze(1))\n",
    "        T2 = normalize(torch.linalg.cross(T1, V_stretch, dim=-1))\n",
    "        z = V_stretch[..., 2].reshape(-1, 1)\n",
    "        a = (1 / (1+z.detach()).clip(min=1e-5)).clip(max=1e4)\n",
    "        angs = self.draw(B, num_samples).to(device)\n",
    "\n",
    "        # here is where things get really large\n",
    "        u1 = angs[..., 0]\n",
    "        u2 = angs[..., 1]\n",
    "\n",
    "        # stretch and mask stuff to reduce memory\n",
    "        a_mask = a.expand(u1.shape)[ray_mask]\n",
    "\n",
    "        r_mask_u1 = r1_c.reshape(-1, 1).expand(u1.shape)[ray_mask]\n",
    "        r_mask1 = r_mask_u1.clip(min=self.min_roughness)\n",
    "        r_mask_u2 = r2_c.reshape(-1, 1).expand(u1.shape)[ray_mask]\n",
    "        r_mask2 = r_mask_u2.clip(min=self.min_roughness)\n",
    "\n",
    "        z_mask = z.expand(u1.shape)[ray_mask]\n",
    "        u1_mask = u1[ray_mask]\n",
    "        u2_mask = u2[ray_mask]\n",
    "        T1_mask = T1.expand(-1, num_samples, 3)[ray_mask]\n",
    "        T2_mask = T2.expand(-1, num_samples, 3)[ray_mask]\n",
    "        V_stretch_mask = V_stretch.expand(-1, num_samples, 3)[ray_mask]\n",
    "        row_world_basis_mask = row_world_basis.permute(0, 2, 1).reshape(B, 1, 3, 3).expand(B, num_samples, 3, 3)[ray_mask]\n",
    "\n",
    "        r = torch.sqrt(u1_mask)\n",
    "        phi = torch.where(u2_mask < a_mask, u2_mask/a_mask*math.pi, (u2_mask-a_mask)/(1-a_mask)*math.pi + math.pi)\n",
    "        P1 = (r*safemath.safe_cos(phi)).unsqueeze(-1)\n",
    "        P2 = (r*safemath.safe_sin(phi)*torch.where(u2_mask < a_mask, torch.tensor(1.0, device=device), z_mask)).unsqueeze(-1)\n",
    "        # ic((1-a).min(), a.min(), a.max(), phi.min(), phi.max(), (1-a).max())\n",
    "        N_stretch = P1*T1_mask + P2*T2_mask + (1 - P1*P1 - P2*P2).clip(min=0).sqrt() * V_stretch_mask\n",
    "        H_l = normalize(torch.stack([r_mask1*N_stretch[..., 0], r_mask2*N_stretch[..., 1], N_stretch[..., 2].clip(min=0)], dim=-1))\n",
    "        first = torch.zeros_like(ray_mask)\n",
    "        first[:, 0] = True\n",
    "        H_l[first[ray_mask], 0] = 0\n",
    "        H_l[first[ray_mask], 1] = 0\n",
    "        H_l[first[ray_mask], 2] = 1\n",
    "        H = torch.matmul(row_world_basis_mask, H_l.unsqueeze(-1)).squeeze(-1)\n",
    "        # H = torch.einsum('bni,bij->bnj', H_l, row_world_basis)\n",
    "\n",
    "        V = viewdir.unsqueeze(1).expand(-1, num_samples, 3)[ray_mask]\n",
    "        # N = normal.reshape(-1, 1, 3).expand(-1, num_samples, 3)[ray_mask]\n",
    "        L = (2.0 * (V * H).sum(dim=-1, keepdim=True) * H - V)\n",
    "\n",
    "        # calculate mipval, which will be used to calculate the mip level\n",
    "        # half is considered to be the microfacet normal\n",
    "        # viewdir = incident direction\n",
    "\n",
    "        # H = normalize(L + viewdir.reshape(-1, 1, 3))\n",
    "\n",
    "\n",
    "        return L, row_world_basis_mask\n",
    "\n",
    "def ggx_dist(NdotH, roughness):\n",
    "    # takes the cos of the zenith angle between the micro surface and the macro surface\n",
    "    # and returns the probability of that micro surface existing\n",
    "    a2 = roughness**2\n",
    "    # return a2 / np.pi / ((NdotH**2*(a2-1)+1)**2).clip(min=1e-8)\n",
    "    return ((a2 / (NdotH.clip(min=0, max=1)**2*(a2-1)+1))**2).clip(min=0, max=1)\n",
    "\n",
    "def calculate_mipval(H, V, N, ray_mask, roughness):\n",
    "    num_samples = ray_mask.shape[1]\n",
    "    NdotH = ((H * N).sum(dim=-1)).clip(min=1e-8, max=1)\n",
    "    HdotV = (H * V).sum(dim=-1).abs()\n",
    "    NdotV = (N * V).sum(dim=-1).abs().clip(min=1e-8, max=1)\n",
    "    # D = ggx_dist(NdotH, roughness.clip(min=1e-3))\n",
    "    # return ((a2 / (NdotH.clip(min=0, max=1)**2*(a2-1)+1))**2).clip(min=0, max=1)\n",
    "    logD = 2*torch.log(roughness) - 2*torch.log(NdotH**2*(roughness**2-1)+1)\n",
    "    # ic(NdotH.shape, NdotH, D, D.mean())\n",
    "    # px.scatter(x=NdotH[0].detach().cpu().flatten(), y=D[0].detach().cpu().flatten()).show()\n",
    "    # assert(False)\n",
    "    # ic(NdotH.mean())\n",
    "    lpdf = logD# + torch.log(HdotV.clip(min=1e-5)) - torch.log(NdotV)# - torch.log(roughness.clip(min=1e-5))\n",
    "    # lpdf = torch.log(D.clip(min=1e-5)) # - torch.log(roughness.clip(min=1e-5))\n",
    "    # pdf = D * HdotV / NdotV / roughness.reshape(-1, 1)\n",
    "    # pdf = NdotH / 4 / HdotV\n",
    "    # pdf = D# / NdotH\n",
    "    indiv_num_samples = ray_mask.sum(dim=1, keepdim=True).clip(min=1).expand(-1, num_samples)[ray_mask]\n",
    "    ic(logD, lpdf, -torch.log(indiv_num_samples))\n",
    "    mipval = -torch.log(indiv_num_samples) - lpdf\n",
    "    # mipval =  - lpdf\n",
    "    return mipval"
   ]
  },
  {
   "cell_type": "code",
   "execution_count": 109,
   "metadata": {},
   "outputs": [
    {
     "name": "stderr",
     "output_type": "stream",
     "text": [
      "ic| logD: tensor([9.2100, 2.3606, 5.9802, 8.0938, 7.5470, 6.8858, 8.8993, 8.5794, 8.7824,\n",
      "                  9.0741, 6.3062, 7.1543, 7.9214, 5.4476, 4.1286, 8.5043, 8.4465, 3.5527,\n",
      "                  4.7885, 7.7523, 7.3798, 6.6418, 9.1169, 8.8311, 8.7143, 9.0148, 6.9587,\n",
      "                  7.5985, 8.0533, 5.8606, 9.1722, 8.2018, 8.2721, 9.2076, 5.6174, 7.9902,\n",
      "                  7.6923, 7.0635, 8.9678, 8.6683, 8.8629, 9.1374, 6.5401, 7.3308, 7.8071,\n",
      "                  4.9593, 3.0266, 8.4174, 8.5432, 4.3622])\n",
      "    lpdf: tensor([9.2100, 2.3606, 5.9802, 8.0938, 7.5470, 6.8858, 8.8993, 8.5794, 8.7824,\n",
      "                  9.0741, 6.3062, 7.1543, 7.9214, 5.4476, 4.1286, 8.5043, 8.4465, 3.5527,\n",
      "                  4.7885, 7.7523, 7.3798, 6.6418, 9.1169, 8.8311, 8.7143, 9.0148, 6.9587,\n",
      "                  7.5985, 8.0533, 5.8606, 9.1722, 8.2018, 8.2721, 9.2076, 5.6174, 7.9902,\n",
      "                  7.6923, 7.0635, 8.9678, 8.6683, 8.8629, 9.1374, 6.5401, 7.3308, 7.8071,\n",
      "                  4.9593, 3.0266, 8.4174, 8.5432, 4.3622])\n",
      "    -torch.log(indiv_num_samples): tensor([-3.9120, -3.9120, -3.9120, -3.9120, -3.9120, -3.9120, -3.9120, -3.9120,\n",
      "                                           -3.9120, -3.9120, -3.9120, -3.9120, -3.9120, -3.9120, -3.9120, -3.9120,\n",
      "                                           -3.9120, -3.9120, -3.9120, -3.9120, -3.9120, -3.9120, -3.9120, -3.9120,\n",
      "                                           -3.9120, -3.9120, -3.9120, -3.9120, -3.9120, -3.9120, -3.9120, -3.9120,\n",
      "                                           -3.9120, -3.9120, -3.9120, -3.9120, -3.9120, -3.9120, -3.9120, -3.9120,\n",
      "                                           -3.9120, -3.9120, -3.9120, -3.9120, -3.9120, -3.9120, -3.9120, -3.9120,\n",
      "                                           -3.9120, -3.9120])\n",
      "ic| mipval: tensor([-13.1220,  -6.2726,  -9.8922, -12.0059, -11.4590, -10.7978, -12.8113,\n",
      "                    -12.4914, -12.6944, -12.9861, -10.2183, -11.0664, -11.8334,  -9.3596,\n",
      "                     -8.0406, -12.4163, -12.3585,  -7.4647,  -8.7005, -11.6643, -11.2918,\n",
      "                    -10.5538, -13.0289, -12.7431, -12.6263, -12.9269, -10.8707, -11.5105,\n",
      "                    -11.9654,  -9.7726, -13.0842, -12.1138, -12.1841, -13.1196,  -9.5294,\n",
      "                    -11.9022, -11.6043, -10.9755, -12.8799, -12.5803, -12.7749, -13.0495,\n",
      "                    -10.4522, -11.2428, -11.7191,  -8.8713,  -6.9386, -12.3295, -12.4552,\n",
      "                     -8.2743])\n",
      "    math.log(saTexel*N): -8.564626244650869\n"
     ]
    },
    {
     "data": {
      "application/vnd.plotly.v1+json": {
       "config": {
        "plotlyServerURL": "https://plot.ly"
       },
       "data": [
        {
         "hovertemplate": "x=%{x}<br>y=%{y}<br>z=%{z}<br>color=%{marker.color}<extra></extra>",
         "legendgroup": "",
         "marker": {
          "color": [
           1,
           22.242961883544922,
           3.6408417224884033,
           1.2654036283493042,
           1.6633226871490479,
           2.315014600753784,
           1,
           1,
           1,
           1,
           3.0931618213653564,
           2.02412748336792,
           1.37934148311615,
           4.751737117767334,
           9.189285278320312,
           1.0306217670440674,
           1.0608323812484741,
           12.255250930786133,
           6.606685161590576,
           1.50104820728302,
           1.8083354234695435,
           2.615396738052368,
           1,
           1,
           1,
           1,
           2.2321507930755615,
           1.6210277080535889,
           1.291298270225525,
           3.865265130996704,
           1,
           1.1989389657974243,
           1.1575068235397339,
           1,
           4.365036487579346,
           1.332730770111084,
           1.5467954874038696,
           2.1182126998901367,
           1,
           1,
           1,
           1,
           2.7517788410186768,
           1.8532202243804932,
           1.4604792594909668,
           6.065908432006836,
           15.943136215209961,
           1.076369285583496,
           1.0107687711715698,
           8.175925254821777
          ],
          "coloraxis": "coloraxis",
          "symbol": "circle"
         },
         "mode": "markers",
         "name": "",
         "scene": "scene",
         "showlegend": false,
         "type": "scatter3d",
         "x": [
          0,
          0.10628697276115417,
          -0.033000100404024124,
          -0.004114870447665453,
          -0.013545120134949684,
          -0.02898619882762432,
          0.006721587385982275,
          0.0028812719974666834,
          -0.009210281074047089,
          -0.003413638100028038,
          0.011149093508720398,
          0.020017854869365692,
          0.018843702971935272,
          0.02324143797159195,
          -0.007881995290517807,
          -0.01119550783187151,
          -0.003477799240499735,
          -0.0626821368932724,
          0.05480353906750679,
          0.01241447776556015,
          0.0012409009505063295,
          0.028704611584544182,
          -0.004366607870906591,
          -0.003958763089030981,
          0.009985681623220444,
          -0.00008808371057966724,
          -0.010569309815764427,
          -0.022238291800022125,
          -0.013014838099479675,
          -0.014984709210693836,
          0.0019097105832770467,
          0.015221777372062206,
          -0.013842091895639896,
          -0.00005231384784565307,
          0.020931920036673546,
          0.018303414806723595,
          0.01693398877978325,
          0.008017166517674923,
          -0.004525565076619387,
          -0.010757598094642162,
          0.0030457170214504004,
          0.00273927953094244,
          -0.031029336154460907,
          -0.01711621694266796,
          0.0004965895204804838,
          -0.050374679267406464,
          0.09159920364618301,
          0.004924327600747347,
          0.012277706526219845,
          0.03629256784915924
         ],
         "y": [
          0,
          0.02358747087419033,
          -0.022843237966299057,
          0.016794860363006592,
          -0.018319254741072655,
          0.006204856093972921,
          -0.0047004264779388905,
          0.01183449849486351,
          -0.003271760419011116,
          0.004046386107802391,
          -0.034414142370224,
          0.017817361280322075,
          -0.002605206100270152,
          0.04103400185704231,
          -0.06789010018110275,
          0.006644544191658497,
          -0.013184892013669014,
          0.04930752143263817,
          -0.015611449256539345,
          0.016592854633927345,
          -0.02443849667906761,
          0.014859432354569435,
          -0.000334230629960075,
          0.00824889075011015,
          -0.003583540441468358,
          0.0064043570309877396,
          -0.026860149577260017,
          -0.0008789482526481152,
          -0.012000001035630703,
          0.03885958716273308,
          -0.0019736054819077253,
          0.005530821159482002,
          -0.006924252957105637,
          0.0006077034049667418,
          -0.039657581597566605,
          0.0012025416363030672,
          -0.012942437082529068,
          0.0265626460313797,
          -0.005589043255895376,
          0.0029383155051618814,
          -0.008159512653946877,
          0.0027264608070254326,
          -0.012525253929197788,
          0.01818624883890152,
          -0.020157987251877785,
          0.020287295803427696,
          0.0003914863336831331,
          0.01304558664560318,
          -0.0028066509403288364,
          0.05287320166826248
         ],
         "z": [
          1,
          0.9940553903579712,
          0.9991945028305054,
          0.9998502731323242,
          0.9997406005859375,
          0.9995605945587158,
          0.9999661445617676,
          0.9999258518218994,
          0.9999523162841797,
          0.999985933303833,
          0.9993455410003662,
          0.999640941619873,
          0.9998190402984619,
          0.9988874197006226,
          0.9976615905761719,
          0.9999151229858398,
          0.9999070167541504,
          0.9968146085739136,
          0.9983752965927124,
          0.9997851848602295,
          0.9997005462646484,
          0.9994776248931885,
          0.9999904632568359,
          0.9999582767486572,
          0.9999434947967529,
          0.9999794960021973,
          0.9995834827423096,
          0.9997525215148926,
          0.9998433589935303,
          0.999132513999939,
          0.9999961853027344,
          0.999868631362915,
          0.999880313873291,
          0.9999997615814209,
          0.998993992805481,
          0.9998316764831543,
          0.9997727870941162,
          0.9996151924133301,
          0.999974250793457,
          0.9999377727508545,
          0.9999620914459229,
          0.9999923706054688,
          0.9994399547576904,
          0.999687910079956,
          0.9997968673706055,
          0.9985241889953613,
          0.9957958459854126,
          0.9999027252197266,
          0.9999206066131592,
          0.9979414939880371
         ]
        }
       ],
       "layout": {
        "coloraxis": {
         "colorbar": {
          "title": {
           "text": "color"
          }
         },
         "colorscale": [
          [
           0,
           "#0d0887"
          ],
          [
           0.1111111111111111,
           "#46039f"
          ],
          [
           0.2222222222222222,
           "#7201a8"
          ],
          [
           0.3333333333333333,
           "#9c179e"
          ],
          [
           0.4444444444444444,
           "#bd3786"
          ],
          [
           0.5555555555555556,
           "#d8576b"
          ],
          [
           0.6666666666666666,
           "#ed7953"
          ],
          [
           0.7777777777777778,
           "#fb9f3a"
          ],
          [
           0.8888888888888888,
           "#fdca26"
          ],
          [
           1,
           "#f0f921"
          ]
         ]
        },
        "legend": {
         "tracegroupgap": 0
        },
        "margin": {
         "t": 60
        },
        "scene": {
         "domain": {
          "x": [
           0,
           1
          ],
          "y": [
           0,
           1
          ]
         },
         "xaxis": {
          "title": {
           "text": "x"
          }
         },
         "yaxis": {
          "title": {
           "text": "y"
          }
         },
         "zaxis": {
          "title": {
           "text": "z"
          }
         }
        },
        "template": {
         "data": {
          "bar": [
           {
            "error_x": {
             "color": "#2a3f5f"
            },
            "error_y": {
             "color": "#2a3f5f"
            },
            "marker": {
             "line": {
              "color": "#E5ECF6",
              "width": 0.5
             },
             "pattern": {
              "fillmode": "overlay",
              "size": 10,
              "solidity": 0.2
             }
            },
            "type": "bar"
           }
          ],
          "barpolar": [
           {
            "marker": {
             "line": {
              "color": "#E5ECF6",
              "width": 0.5
             },
             "pattern": {
              "fillmode": "overlay",
              "size": 10,
              "solidity": 0.2
             }
            },
            "type": "barpolar"
           }
          ],
          "carpet": [
           {
            "aaxis": {
             "endlinecolor": "#2a3f5f",
             "gridcolor": "white",
             "linecolor": "white",
             "minorgridcolor": "white",
             "startlinecolor": "#2a3f5f"
            },
            "baxis": {
             "endlinecolor": "#2a3f5f",
             "gridcolor": "white",
             "linecolor": "white",
             "minorgridcolor": "white",
             "startlinecolor": "#2a3f5f"
            },
            "type": "carpet"
           }
          ],
          "choropleth": [
           {
            "colorbar": {
             "outlinewidth": 0,
             "ticks": ""
            },
            "type": "choropleth"
           }
          ],
          "contour": [
           {
            "colorbar": {
             "outlinewidth": 0,
             "ticks": ""
            },
            "colorscale": [
             [
              0,
              "#0d0887"
             ],
             [
              0.1111111111111111,
              "#46039f"
             ],
             [
              0.2222222222222222,
              "#7201a8"
             ],
             [
              0.3333333333333333,
              "#9c179e"
             ],
             [
              0.4444444444444444,
              "#bd3786"
             ],
             [
              0.5555555555555556,
              "#d8576b"
             ],
             [
              0.6666666666666666,
              "#ed7953"
             ],
             [
              0.7777777777777778,
              "#fb9f3a"
             ],
             [
              0.8888888888888888,
              "#fdca26"
             ],
             [
              1,
              "#f0f921"
             ]
            ],
            "type": "contour"
           }
          ],
          "contourcarpet": [
           {
            "colorbar": {
             "outlinewidth": 0,
             "ticks": ""
            },
            "type": "contourcarpet"
           }
          ],
          "heatmap": [
           {
            "colorbar": {
             "outlinewidth": 0,
             "ticks": ""
            },
            "colorscale": [
             [
              0,
              "#0d0887"
             ],
             [
              0.1111111111111111,
              "#46039f"
             ],
             [
              0.2222222222222222,
              "#7201a8"
             ],
             [
              0.3333333333333333,
              "#9c179e"
             ],
             [
              0.4444444444444444,
              "#bd3786"
             ],
             [
              0.5555555555555556,
              "#d8576b"
             ],
             [
              0.6666666666666666,
              "#ed7953"
             ],
             [
              0.7777777777777778,
              "#fb9f3a"
             ],
             [
              0.8888888888888888,
              "#fdca26"
             ],
             [
              1,
              "#f0f921"
             ]
            ],
            "type": "heatmap"
           }
          ],
          "heatmapgl": [
           {
            "colorbar": {
             "outlinewidth": 0,
             "ticks": ""
            },
            "colorscale": [
             [
              0,
              "#0d0887"
             ],
             [
              0.1111111111111111,
              "#46039f"
             ],
             [
              0.2222222222222222,
              "#7201a8"
             ],
             [
              0.3333333333333333,
              "#9c179e"
             ],
             [
              0.4444444444444444,
              "#bd3786"
             ],
             [
              0.5555555555555556,
              "#d8576b"
             ],
             [
              0.6666666666666666,
              "#ed7953"
             ],
             [
              0.7777777777777778,
              "#fb9f3a"
             ],
             [
              0.8888888888888888,
              "#fdca26"
             ],
             [
              1,
              "#f0f921"
             ]
            ],
            "type": "heatmapgl"
           }
          ],
          "histogram": [
           {
            "marker": {
             "pattern": {
              "fillmode": "overlay",
              "size": 10,
              "solidity": 0.2
             }
            },
            "type": "histogram"
           }
          ],
          "histogram2d": [
           {
            "colorbar": {
             "outlinewidth": 0,
             "ticks": ""
            },
            "colorscale": [
             [
              0,
              "#0d0887"
             ],
             [
              0.1111111111111111,
              "#46039f"
             ],
             [
              0.2222222222222222,
              "#7201a8"
             ],
             [
              0.3333333333333333,
              "#9c179e"
             ],
             [
              0.4444444444444444,
              "#bd3786"
             ],
             [
              0.5555555555555556,
              "#d8576b"
             ],
             [
              0.6666666666666666,
              "#ed7953"
             ],
             [
              0.7777777777777778,
              "#fb9f3a"
             ],
             [
              0.8888888888888888,
              "#fdca26"
             ],
             [
              1,
              "#f0f921"
             ]
            ],
            "type": "histogram2d"
           }
          ],
          "histogram2dcontour": [
           {
            "colorbar": {
             "outlinewidth": 0,
             "ticks": ""
            },
            "colorscale": [
             [
              0,
              "#0d0887"
             ],
             [
              0.1111111111111111,
              "#46039f"
             ],
             [
              0.2222222222222222,
              "#7201a8"
             ],
             [
              0.3333333333333333,
              "#9c179e"
             ],
             [
              0.4444444444444444,
              "#bd3786"
             ],
             [
              0.5555555555555556,
              "#d8576b"
             ],
             [
              0.6666666666666666,
              "#ed7953"
             ],
             [
              0.7777777777777778,
              "#fb9f3a"
             ],
             [
              0.8888888888888888,
              "#fdca26"
             ],
             [
              1,
              "#f0f921"
             ]
            ],
            "type": "histogram2dcontour"
           }
          ],
          "mesh3d": [
           {
            "colorbar": {
             "outlinewidth": 0,
             "ticks": ""
            },
            "type": "mesh3d"
           }
          ],
          "parcoords": [
           {
            "line": {
             "colorbar": {
              "outlinewidth": 0,
              "ticks": ""
             }
            },
            "type": "parcoords"
           }
          ],
          "pie": [
           {
            "automargin": true,
            "type": "pie"
           }
          ],
          "scatter": [
           {
            "fillpattern": {
             "fillmode": "overlay",
             "size": 10,
             "solidity": 0.2
            },
            "type": "scatter"
           }
          ],
          "scatter3d": [
           {
            "line": {
             "colorbar": {
              "outlinewidth": 0,
              "ticks": ""
             }
            },
            "marker": {
             "colorbar": {
              "outlinewidth": 0,
              "ticks": ""
             }
            },
            "type": "scatter3d"
           }
          ],
          "scattercarpet": [
           {
            "marker": {
             "colorbar": {
              "outlinewidth": 0,
              "ticks": ""
             }
            },
            "type": "scattercarpet"
           }
          ],
          "scattergeo": [
           {
            "marker": {
             "colorbar": {
              "outlinewidth": 0,
              "ticks": ""
             }
            },
            "type": "scattergeo"
           }
          ],
          "scattergl": [
           {
            "marker": {
             "colorbar": {
              "outlinewidth": 0,
              "ticks": ""
             }
            },
            "type": "scattergl"
           }
          ],
          "scattermapbox": [
           {
            "marker": {
             "colorbar": {
              "outlinewidth": 0,
              "ticks": ""
             }
            },
            "type": "scattermapbox"
           }
          ],
          "scatterpolar": [
           {
            "marker": {
             "colorbar": {
              "outlinewidth": 0,
              "ticks": ""
             }
            },
            "type": "scatterpolar"
           }
          ],
          "scatterpolargl": [
           {
            "marker": {
             "colorbar": {
              "outlinewidth": 0,
              "ticks": ""
             }
            },
            "type": "scatterpolargl"
           }
          ],
          "scatterternary": [
           {
            "marker": {
             "colorbar": {
              "outlinewidth": 0,
              "ticks": ""
             }
            },
            "type": "scatterternary"
           }
          ],
          "surface": [
           {
            "colorbar": {
             "outlinewidth": 0,
             "ticks": ""
            },
            "colorscale": [
             [
              0,
              "#0d0887"
             ],
             [
              0.1111111111111111,
              "#46039f"
             ],
             [
              0.2222222222222222,
              "#7201a8"
             ],
             [
              0.3333333333333333,
              "#9c179e"
             ],
             [
              0.4444444444444444,
              "#bd3786"
             ],
             [
              0.5555555555555556,
              "#d8576b"
             ],
             [
              0.6666666666666666,
              "#ed7953"
             ],
             [
              0.7777777777777778,
              "#fb9f3a"
             ],
             [
              0.8888888888888888,
              "#fdca26"
             ],
             [
              1,
              "#f0f921"
             ]
            ],
            "type": "surface"
           }
          ],
          "table": [
           {
            "cells": {
             "fill": {
              "color": "#EBF0F8"
             },
             "line": {
              "color": "white"
             }
            },
            "header": {
             "fill": {
              "color": "#C8D4E3"
             },
             "line": {
              "color": "white"
             }
            },
            "type": "table"
           }
          ]
         },
         "layout": {
          "annotationdefaults": {
           "arrowcolor": "#2a3f5f",
           "arrowhead": 0,
           "arrowwidth": 1
          },
          "autotypenumbers": "strict",
          "coloraxis": {
           "colorbar": {
            "outlinewidth": 0,
            "ticks": ""
           }
          },
          "colorscale": {
           "diverging": [
            [
             0,
             "#8e0152"
            ],
            [
             0.1,
             "#c51b7d"
            ],
            [
             0.2,
             "#de77ae"
            ],
            [
             0.3,
             "#f1b6da"
            ],
            [
             0.4,
             "#fde0ef"
            ],
            [
             0.5,
             "#f7f7f7"
            ],
            [
             0.6,
             "#e6f5d0"
            ],
            [
             0.7,
             "#b8e186"
            ],
            [
             0.8,
             "#7fbc41"
            ],
            [
             0.9,
             "#4d9221"
            ],
            [
             1,
             "#276419"
            ]
           ],
           "sequential": [
            [
             0,
             "#0d0887"
            ],
            [
             0.1111111111111111,
             "#46039f"
            ],
            [
             0.2222222222222222,
             "#7201a8"
            ],
            [
             0.3333333333333333,
             "#9c179e"
            ],
            [
             0.4444444444444444,
             "#bd3786"
            ],
            [
             0.5555555555555556,
             "#d8576b"
            ],
            [
             0.6666666666666666,
             "#ed7953"
            ],
            [
             0.7777777777777778,
             "#fb9f3a"
            ],
            [
             0.8888888888888888,
             "#fdca26"
            ],
            [
             1,
             "#f0f921"
            ]
           ],
           "sequentialminus": [
            [
             0,
             "#0d0887"
            ],
            [
             0.1111111111111111,
             "#46039f"
            ],
            [
             0.2222222222222222,
             "#7201a8"
            ],
            [
             0.3333333333333333,
             "#9c179e"
            ],
            [
             0.4444444444444444,
             "#bd3786"
            ],
            [
             0.5555555555555556,
             "#d8576b"
            ],
            [
             0.6666666666666666,
             "#ed7953"
            ],
            [
             0.7777777777777778,
             "#fb9f3a"
            ],
            [
             0.8888888888888888,
             "#fdca26"
            ],
            [
             1,
             "#f0f921"
            ]
           ]
          },
          "colorway": [
           "#636efa",
           "#EF553B",
           "#00cc96",
           "#ab63fa",
           "#FFA15A",
           "#19d3f3",
           "#FF6692",
           "#B6E880",
           "#FF97FF",
           "#FECB52"
          ],
          "font": {
           "color": "#2a3f5f"
          },
          "geo": {
           "bgcolor": "white",
           "lakecolor": "white",
           "landcolor": "#E5ECF6",
           "showlakes": true,
           "showland": true,
           "subunitcolor": "white"
          },
          "hoverlabel": {
           "align": "left"
          },
          "hovermode": "closest",
          "mapbox": {
           "style": "light"
          },
          "paper_bgcolor": "white",
          "plot_bgcolor": "#E5ECF6",
          "polar": {
           "angularaxis": {
            "gridcolor": "white",
            "linecolor": "white",
            "ticks": ""
           },
           "bgcolor": "#E5ECF6",
           "radialaxis": {
            "gridcolor": "white",
            "linecolor": "white",
            "ticks": ""
           }
          },
          "scene": {
           "xaxis": {
            "backgroundcolor": "#E5ECF6",
            "gridcolor": "white",
            "gridwidth": 2,
            "linecolor": "white",
            "showbackground": true,
            "ticks": "",
            "zerolinecolor": "white"
           },
           "yaxis": {
            "backgroundcolor": "#E5ECF6",
            "gridcolor": "white",
            "gridwidth": 2,
            "linecolor": "white",
            "showbackground": true,
            "ticks": "",
            "zerolinecolor": "white"
           },
           "zaxis": {
            "backgroundcolor": "#E5ECF6",
            "gridcolor": "white",
            "gridwidth": 2,
            "linecolor": "white",
            "showbackground": true,
            "ticks": "",
            "zerolinecolor": "white"
           }
          },
          "shapedefaults": {
           "line": {
            "color": "#2a3f5f"
           }
          },
          "ternary": {
           "aaxis": {
            "gridcolor": "white",
            "linecolor": "white",
            "ticks": ""
           },
           "baxis": {
            "gridcolor": "white",
            "linecolor": "white",
            "ticks": ""
           },
           "bgcolor": "#E5ECF6",
           "caxis": {
            "gridcolor": "white",
            "linecolor": "white",
            "ticks": ""
           }
          },
          "title": {
           "x": 0.05
          },
          "xaxis": {
           "automargin": true,
           "gridcolor": "white",
           "linecolor": "white",
           "ticks": "",
           "title": {
            "standoff": 15
           },
           "zerolinecolor": "white",
           "zerolinewidth": 2
          },
          "yaxis": {
           "automargin": true,
           "gridcolor": "white",
           "linecolor": "white",
           "ticks": "",
           "title": {
            "standoff": 15
           },
           "zerolinecolor": "white",
           "zerolinewidth": 2
          }
         }
        }
       }
      },
      "text/html": [
       "<div>                            <div id=\"d88941a3-a244-402e-bde3-100b8208dd5d\" class=\"plotly-graph-div\" style=\"height:525px; width:100%;\"></div>            <script type=\"text/javascript\">                require([\"plotly\"], function(Plotly) {                    window.PLOTLYENV=window.PLOTLYENV || {};                                    if (document.getElementById(\"d88941a3-a244-402e-bde3-100b8208dd5d\")) {                    Plotly.newPlot(                        \"d88941a3-a244-402e-bde3-100b8208dd5d\",                        [{\"hovertemplate\":\"x=%{x}<br>y=%{y}<br>z=%{z}<br>color=%{marker.color}<extra></extra>\",\"legendgroup\":\"\",\"marker\":{\"color\":[1.0,22.242961883544922,3.6408417224884033,1.2654036283493042,1.6633226871490479,2.315014600753784,1.0,1.0,1.0,1.0,3.0931618213653564,2.02412748336792,1.37934148311615,4.751737117767334,9.189285278320312,1.0306217670440674,1.0608323812484741,12.255250930786133,6.606685161590576,1.50104820728302,1.8083354234695435,2.615396738052368,1.0,1.0,1.0,1.0,2.2321507930755615,1.6210277080535889,1.291298270225525,3.865265130996704,1.0,1.1989389657974243,1.1575068235397339,1.0,4.365036487579346,1.332730770111084,1.5467954874038696,2.1182126998901367,1.0,1.0,1.0,1.0,2.7517788410186768,1.8532202243804932,1.4604792594909668,6.065908432006836,15.943136215209961,1.076369285583496,1.0107687711715698,8.175925254821777],\"coloraxis\":\"coloraxis\",\"symbol\":\"circle\"},\"mode\":\"markers\",\"name\":\"\",\"scene\":\"scene\",\"showlegend\":false,\"x\":[0.0,0.10628697276115417,-0.033000100404024124,-0.004114870447665453,-0.013545120134949684,-0.02898619882762432,0.006721587385982275,0.0028812719974666834,-0.009210281074047089,-0.003413638100028038,0.011149093508720398,0.020017854869365692,0.018843702971935272,0.02324143797159195,-0.007881995290517807,-0.01119550783187151,-0.003477799240499735,-0.0626821368932724,0.05480353906750679,0.01241447776556015,0.0012409009505063295,0.028704611584544182,-0.004366607870906591,-0.003958763089030981,0.009985681623220444,-8.808371057966724e-05,-0.010569309815764427,-0.022238291800022125,-0.013014838099479675,-0.014984709210693836,0.0019097105832770467,0.015221777372062206,-0.013842091895639896,-5.231384784565307e-05,0.020931920036673546,0.018303414806723595,0.01693398877978325,0.008017166517674923,-0.004525565076619387,-0.010757598094642162,0.0030457170214504004,0.00273927953094244,-0.031029336154460907,-0.01711621694266796,0.0004965895204804838,-0.050374679267406464,0.09159920364618301,0.004924327600747347,0.012277706526219845,0.03629256784915924],\"y\":[0.0,0.02358747087419033,-0.022843237966299057,0.016794860363006592,-0.018319254741072655,0.006204856093972921,-0.0047004264779388905,0.01183449849486351,-0.003271760419011116,0.004046386107802391,-0.034414142370224,0.017817361280322075,-0.002605206100270152,0.04103400185704231,-0.06789010018110275,0.006644544191658497,-0.013184892013669014,0.04930752143263817,-0.015611449256539345,0.016592854633927345,-0.02443849667906761,0.014859432354569435,-0.000334230629960075,0.00824889075011015,-0.003583540441468358,0.0064043570309877396,-0.026860149577260017,-0.0008789482526481152,-0.012000001035630703,0.03885958716273308,-0.0019736054819077253,0.005530821159482002,-0.006924252957105637,0.0006077034049667418,-0.039657581597566605,0.0012025416363030672,-0.012942437082529068,0.0265626460313797,-0.005589043255895376,0.0029383155051618814,-0.008159512653946877,0.0027264608070254326,-0.012525253929197788,0.01818624883890152,-0.020157987251877785,0.020287295803427696,0.0003914863336831331,0.01304558664560318,-0.0028066509403288364,0.05287320166826248],\"z\":[1.0,0.9940553903579712,0.9991945028305054,0.9998502731323242,0.9997406005859375,0.9995605945587158,0.9999661445617676,0.9999258518218994,0.9999523162841797,0.999985933303833,0.9993455410003662,0.999640941619873,0.9998190402984619,0.9988874197006226,0.9976615905761719,0.9999151229858398,0.9999070167541504,0.9968146085739136,0.9983752965927124,0.9997851848602295,0.9997005462646484,0.9994776248931885,0.9999904632568359,0.9999582767486572,0.9999434947967529,0.9999794960021973,0.9995834827423096,0.9997525215148926,0.9998433589935303,0.999132513999939,0.9999961853027344,0.999868631362915,0.999880313873291,0.9999997615814209,0.998993992805481,0.9998316764831543,0.9997727870941162,0.9996151924133301,0.999974250793457,0.9999377727508545,0.9999620914459229,0.9999923706054688,0.9994399547576904,0.999687910079956,0.9997968673706055,0.9985241889953613,0.9957958459854126,0.9999027252197266,0.9999206066131592,0.9979414939880371],\"type\":\"scatter3d\"}],                        {\"template\":{\"data\":{\"histogram2dcontour\":[{\"type\":\"histogram2dcontour\",\"colorbar\":{\"outlinewidth\":0,\"ticks\":\"\"},\"colorscale\":[[0.0,\"#0d0887\"],[0.1111111111111111,\"#46039f\"],[0.2222222222222222,\"#7201a8\"],[0.3333333333333333,\"#9c179e\"],[0.4444444444444444,\"#bd3786\"],[0.5555555555555556,\"#d8576b\"],[0.6666666666666666,\"#ed7953\"],[0.7777777777777778,\"#fb9f3a\"],[0.8888888888888888,\"#fdca26\"],[1.0,\"#f0f921\"]]}],\"choropleth\":[{\"type\":\"choropleth\",\"colorbar\":{\"outlinewidth\":0,\"ticks\":\"\"}}],\"histogram2d\":[{\"type\":\"histogram2d\",\"colorbar\":{\"outlinewidth\":0,\"ticks\":\"\"},\"colorscale\":[[0.0,\"#0d0887\"],[0.1111111111111111,\"#46039f\"],[0.2222222222222222,\"#7201a8\"],[0.3333333333333333,\"#9c179e\"],[0.4444444444444444,\"#bd3786\"],[0.5555555555555556,\"#d8576b\"],[0.6666666666666666,\"#ed7953\"],[0.7777777777777778,\"#fb9f3a\"],[0.8888888888888888,\"#fdca26\"],[1.0,\"#f0f921\"]]}],\"heatmap\":[{\"type\":\"heatmap\",\"colorbar\":{\"outlinewidth\":0,\"ticks\":\"\"},\"colorscale\":[[0.0,\"#0d0887\"],[0.1111111111111111,\"#46039f\"],[0.2222222222222222,\"#7201a8\"],[0.3333333333333333,\"#9c179e\"],[0.4444444444444444,\"#bd3786\"],[0.5555555555555556,\"#d8576b\"],[0.6666666666666666,\"#ed7953\"],[0.7777777777777778,\"#fb9f3a\"],[0.8888888888888888,\"#fdca26\"],[1.0,\"#f0f921\"]]}],\"heatmapgl\":[{\"type\":\"heatmapgl\",\"colorbar\":{\"outlinewidth\":0,\"ticks\":\"\"},\"colorscale\":[[0.0,\"#0d0887\"],[0.1111111111111111,\"#46039f\"],[0.2222222222222222,\"#7201a8\"],[0.3333333333333333,\"#9c179e\"],[0.4444444444444444,\"#bd3786\"],[0.5555555555555556,\"#d8576b\"],[0.6666666666666666,\"#ed7953\"],[0.7777777777777778,\"#fb9f3a\"],[0.8888888888888888,\"#fdca26\"],[1.0,\"#f0f921\"]]}],\"contourcarpet\":[{\"type\":\"contourcarpet\",\"colorbar\":{\"outlinewidth\":0,\"ticks\":\"\"}}],\"contour\":[{\"type\":\"contour\",\"colorbar\":{\"outlinewidth\":0,\"ticks\":\"\"},\"colorscale\":[[0.0,\"#0d0887\"],[0.1111111111111111,\"#46039f\"],[0.2222222222222222,\"#7201a8\"],[0.3333333333333333,\"#9c179e\"],[0.4444444444444444,\"#bd3786\"],[0.5555555555555556,\"#d8576b\"],[0.6666666666666666,\"#ed7953\"],[0.7777777777777778,\"#fb9f3a\"],[0.8888888888888888,\"#fdca26\"],[1.0,\"#f0f921\"]]}],\"surface\":[{\"type\":\"surface\",\"colorbar\":{\"outlinewidth\":0,\"ticks\":\"\"},\"colorscale\":[[0.0,\"#0d0887\"],[0.1111111111111111,\"#46039f\"],[0.2222222222222222,\"#7201a8\"],[0.3333333333333333,\"#9c179e\"],[0.4444444444444444,\"#bd3786\"],[0.5555555555555556,\"#d8576b\"],[0.6666666666666666,\"#ed7953\"],[0.7777777777777778,\"#fb9f3a\"],[0.8888888888888888,\"#fdca26\"],[1.0,\"#f0f921\"]]}],\"mesh3d\":[{\"type\":\"mesh3d\",\"colorbar\":{\"outlinewidth\":0,\"ticks\":\"\"}}],\"scatter\":[{\"fillpattern\":{\"fillmode\":\"overlay\",\"size\":10,\"solidity\":0.2},\"type\":\"scatter\"}],\"parcoords\":[{\"type\":\"parcoords\",\"line\":{\"colorbar\":{\"outlinewidth\":0,\"ticks\":\"\"}}}],\"scatterpolargl\":[{\"type\":\"scatterpolargl\",\"marker\":{\"colorbar\":{\"outlinewidth\":0,\"ticks\":\"\"}}}],\"bar\":[{\"error_x\":{\"color\":\"#2a3f5f\"},\"error_y\":{\"color\":\"#2a3f5f\"},\"marker\":{\"line\":{\"color\":\"#E5ECF6\",\"width\":0.5},\"pattern\":{\"fillmode\":\"overlay\",\"size\":10,\"solidity\":0.2}},\"type\":\"bar\"}],\"scattergeo\":[{\"type\":\"scattergeo\",\"marker\":{\"colorbar\":{\"outlinewidth\":0,\"ticks\":\"\"}}}],\"scatterpolar\":[{\"type\":\"scatterpolar\",\"marker\":{\"colorbar\":{\"outlinewidth\":0,\"ticks\":\"\"}}}],\"histogram\":[{\"marker\":{\"pattern\":{\"fillmode\":\"overlay\",\"size\":10,\"solidity\":0.2}},\"type\":\"histogram\"}],\"scattergl\":[{\"type\":\"scattergl\",\"marker\":{\"colorbar\":{\"outlinewidth\":0,\"ticks\":\"\"}}}],\"scatter3d\":[{\"type\":\"scatter3d\",\"line\":{\"colorbar\":{\"outlinewidth\":0,\"ticks\":\"\"}},\"marker\":{\"colorbar\":{\"outlinewidth\":0,\"ticks\":\"\"}}}],\"scattermapbox\":[{\"type\":\"scattermapbox\",\"marker\":{\"colorbar\":{\"outlinewidth\":0,\"ticks\":\"\"}}}],\"scatterternary\":[{\"type\":\"scatterternary\",\"marker\":{\"colorbar\":{\"outlinewidth\":0,\"ticks\":\"\"}}}],\"scattercarpet\":[{\"type\":\"scattercarpet\",\"marker\":{\"colorbar\":{\"outlinewidth\":0,\"ticks\":\"\"}}}],\"carpet\":[{\"aaxis\":{\"endlinecolor\":\"#2a3f5f\",\"gridcolor\":\"white\",\"linecolor\":\"white\",\"minorgridcolor\":\"white\",\"startlinecolor\":\"#2a3f5f\"},\"baxis\":{\"endlinecolor\":\"#2a3f5f\",\"gridcolor\":\"white\",\"linecolor\":\"white\",\"minorgridcolor\":\"white\",\"startlinecolor\":\"#2a3f5f\"},\"type\":\"carpet\"}],\"table\":[{\"cells\":{\"fill\":{\"color\":\"#EBF0F8\"},\"line\":{\"color\":\"white\"}},\"header\":{\"fill\":{\"color\":\"#C8D4E3\"},\"line\":{\"color\":\"white\"}},\"type\":\"table\"}],\"barpolar\":[{\"marker\":{\"line\":{\"color\":\"#E5ECF6\",\"width\":0.5},\"pattern\":{\"fillmode\":\"overlay\",\"size\":10,\"solidity\":0.2}},\"type\":\"barpolar\"}],\"pie\":[{\"automargin\":true,\"type\":\"pie\"}]},\"layout\":{\"autotypenumbers\":\"strict\",\"colorway\":[\"#636efa\",\"#EF553B\",\"#00cc96\",\"#ab63fa\",\"#FFA15A\",\"#19d3f3\",\"#FF6692\",\"#B6E880\",\"#FF97FF\",\"#FECB52\"],\"font\":{\"color\":\"#2a3f5f\"},\"hovermode\":\"closest\",\"hoverlabel\":{\"align\":\"left\"},\"paper_bgcolor\":\"white\",\"plot_bgcolor\":\"#E5ECF6\",\"polar\":{\"bgcolor\":\"#E5ECF6\",\"angularaxis\":{\"gridcolor\":\"white\",\"linecolor\":\"white\",\"ticks\":\"\"},\"radialaxis\":{\"gridcolor\":\"white\",\"linecolor\":\"white\",\"ticks\":\"\"}},\"ternary\":{\"bgcolor\":\"#E5ECF6\",\"aaxis\":{\"gridcolor\":\"white\",\"linecolor\":\"white\",\"ticks\":\"\"},\"baxis\":{\"gridcolor\":\"white\",\"linecolor\":\"white\",\"ticks\":\"\"},\"caxis\":{\"gridcolor\":\"white\",\"linecolor\":\"white\",\"ticks\":\"\"}},\"coloraxis\":{\"colorbar\":{\"outlinewidth\":0,\"ticks\":\"\"}},\"colorscale\":{\"sequential\":[[0.0,\"#0d0887\"],[0.1111111111111111,\"#46039f\"],[0.2222222222222222,\"#7201a8\"],[0.3333333333333333,\"#9c179e\"],[0.4444444444444444,\"#bd3786\"],[0.5555555555555556,\"#d8576b\"],[0.6666666666666666,\"#ed7953\"],[0.7777777777777778,\"#fb9f3a\"],[0.8888888888888888,\"#fdca26\"],[1.0,\"#f0f921\"]],\"sequentialminus\":[[0.0,\"#0d0887\"],[0.1111111111111111,\"#46039f\"],[0.2222222222222222,\"#7201a8\"],[0.3333333333333333,\"#9c179e\"],[0.4444444444444444,\"#bd3786\"],[0.5555555555555556,\"#d8576b\"],[0.6666666666666666,\"#ed7953\"],[0.7777777777777778,\"#fb9f3a\"],[0.8888888888888888,\"#fdca26\"],[1.0,\"#f0f921\"]],\"diverging\":[[0,\"#8e0152\"],[0.1,\"#c51b7d\"],[0.2,\"#de77ae\"],[0.3,\"#f1b6da\"],[0.4,\"#fde0ef\"],[0.5,\"#f7f7f7\"],[0.6,\"#e6f5d0\"],[0.7,\"#b8e186\"],[0.8,\"#7fbc41\"],[0.9,\"#4d9221\"],[1,\"#276419\"]]},\"xaxis\":{\"gridcolor\":\"white\",\"linecolor\":\"white\",\"ticks\":\"\",\"title\":{\"standoff\":15},\"zerolinecolor\":\"white\",\"automargin\":true,\"zerolinewidth\":2},\"yaxis\":{\"gridcolor\":\"white\",\"linecolor\":\"white\",\"ticks\":\"\",\"title\":{\"standoff\":15},\"zerolinecolor\":\"white\",\"automargin\":true,\"zerolinewidth\":2},\"scene\":{\"xaxis\":{\"backgroundcolor\":\"#E5ECF6\",\"gridcolor\":\"white\",\"linecolor\":\"white\",\"showbackground\":true,\"ticks\":\"\",\"zerolinecolor\":\"white\",\"gridwidth\":2},\"yaxis\":{\"backgroundcolor\":\"#E5ECF6\",\"gridcolor\":\"white\",\"linecolor\":\"white\",\"showbackground\":true,\"ticks\":\"\",\"zerolinecolor\":\"white\",\"gridwidth\":2},\"zaxis\":{\"backgroundcolor\":\"#E5ECF6\",\"gridcolor\":\"white\",\"linecolor\":\"white\",\"showbackground\":true,\"ticks\":\"\",\"zerolinecolor\":\"white\",\"gridwidth\":2}},\"shapedefaults\":{\"line\":{\"color\":\"#2a3f5f\"}},\"annotationdefaults\":{\"arrowcolor\":\"#2a3f5f\",\"arrowhead\":0,\"arrowwidth\":1},\"geo\":{\"bgcolor\":\"white\",\"landcolor\":\"#E5ECF6\",\"subunitcolor\":\"white\",\"showland\":true,\"showlakes\":true,\"lakecolor\":\"white\"},\"title\":{\"x\":0.05},\"mapbox\":{\"style\":\"light\"}}},\"scene\":{\"domain\":{\"x\":[0.0,1.0],\"y\":[0.0,1.0]},\"xaxis\":{\"title\":{\"text\":\"x\"}},\"yaxis\":{\"title\":{\"text\":\"y\"}},\"zaxis\":{\"title\":{\"text\":\"z\"}}},\"coloraxis\":{\"colorbar\":{\"title\":{\"text\":\"color\"}},\"colorscale\":[[0.0,\"#0d0887\"],[0.1111111111111111,\"#46039f\"],[0.2222222222222222,\"#7201a8\"],[0.3333333333333333,\"#9c179e\"],[0.4444444444444444,\"#bd3786\"],[0.5555555555555556,\"#d8576b\"],[0.6666666666666666,\"#ed7953\"],[0.7777777777777778,\"#fb9f3a\"],[0.8888888888888888,\"#fdca26\"],[1.0,\"#f0f921\"]]},\"legend\":{\"tracegroupgap\":0},\"margin\":{\"t\":60}},                        {\"responsive\": true}                    ).then(function(){\n",
       "                            \n",
       "var gd = document.getElementById('d88941a3-a244-402e-bde3-100b8208dd5d');\n",
       "var x = new MutationObserver(function (mutations, observer) {{\n",
       "        var display = window.getComputedStyle(gd).display;\n",
       "        if (!display || display === 'none') {{\n",
       "            console.log([gd, 'removed!']);\n",
       "            Plotly.purge(gd);\n",
       "            observer.disconnect();\n",
       "        }}\n",
       "}});\n",
       "\n",
       "// Listen for the removal of the full notebook cells\n",
       "var notebookContainer = gd.closest('#notebook-container');\n",
       "if (notebookContainer) {{\n",
       "    x.observe(notebookContainer, {childList: true});\n",
       "}}\n",
       "\n",
       "// Listen for the clearing of the current output cell\n",
       "var outputEl = gd.closest('.output');\n",
       "if (outputEl) {{\n",
       "    x.observe(outputEl, {childList: true});\n",
       "}}\n",
       "\n",
       "                        })                };                });            </script>        </div>"
      ]
     },
     "metadata": {},
     "output_type": "display_data"
    }
   ],
   "source": [
    "device = torch.device('cpu')\n",
    "N = 50\n",
    "ray_mask = torch.ones((1, 50), device=device, dtype=bool)\n",
    "roughness = torch.tensor(0.01)\n",
    "normal = torch.tensor([0, 0, 1.0], device=device).reshape(1, 3)\n",
    "viewdir = torch.tensor([0, 0, 1.0], device=device).reshape(1, 3)\n",
    "sampler = GGXSampler(N, 0)\n",
    "L, basis = sampler.sample(N, None, viewdir, normal, roughness, roughness, ray_mask)\n",
    "H = normalize(L + normal)\n",
    "mipval = calculate_mipval(H, viewdir, normal, ray_mask, roughness)\n",
    "\n",
    "h = w = 512\n",
    "# h = w = 2048\n",
    "distortion = 1\n",
    "saTexel = distortion / h / w\n",
    "num_pixels = h * w * 6\n",
    "miplevel = ((mipval - math.log(saTexel)) / math.log(2))/2\n",
    "miplevel = miplevel.clip(0)\n",
    "res = h / 2**miplevel\n",
    "ic(mipval, math.log(saTexel*N))\n",
    "px.scatter_3d(x=L[:, 0], y=L[:, 1], z=L[:, 2], color=2**miplevel)\n"
   ]
  },
  {
   "cell_type": "code",
   "execution_count": null,
   "metadata": {},
   "outputs": [],
   "source": []
  }
 ],
 "metadata": {
  "kernelspec": {
   "display_name": "Python 3.10.5 ('31')",
   "language": "python",
   "name": "python3"
  },
  "language_info": {
   "codemirror_mode": {
    "name": "ipython",
    "version": 3
   },
   "file_extension": ".py",
   "mimetype": "text/x-python",
   "name": "python",
   "nbconvert_exporter": "python",
   "pygments_lexer": "ipython3",
   "version": "3.10.5"
  },
  "orig_nbformat": 4,
  "vscode": {
   "interpreter": {
    "hash": "be76537492645a2c6be92a0ab2cc7fc4a631ad2e1167ca620f40cbb8b4259c8c"
   }
  }
 },
 "nbformat": 4,
 "nbformat_minor": 2
}
