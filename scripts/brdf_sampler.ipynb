{
 "cells": [
  {
   "cell_type": "code",
   "execution_count": 1,
   "metadata": {},
   "outputs": [
    {
     "name": "stdout",
     "output_type": "stream",
     "text": [
      "/home/amai/normalrf\n"
     ]
    }
   ],
   "source": [
    "from pathlib import Path\n",
    "import sys\n",
    "import os\n",
    "sys.path.append(str(Path(os.path.abspath('')).parent))\n",
    "print(Path(os.path.abspath('')).parent)"
   ]
  },
  {
   "cell_type": "code",
   "execution_count": 5,
   "metadata": {},
   "outputs": [],
   "source": [
    "import torch\n",
    "from modules import safemath\n",
    "import math\n",
    "import plotly.express as px\n",
    "from icecream import ic"
   ]
  },
  {
   "cell_type": "code",
   "execution_count": 46,
   "metadata": {},
   "outputs": [],
   "source": [
    "\n",
    "def normalize(x):\n",
    "    return x / (torch.linalg.norm(x, dim=-1, keepdim=True)+1e-8)\n",
    "\n",
    "class PseudoRandomSampler(torch.nn.Module):\n",
    "    def __init__(self, max_samples) -> None:\n",
    "        super().__init__()\n",
    "        self.sampler = torch.quasirandom.SobolEngine(dimension=3, scramble=True)\n",
    "        self.max_samples = max_samples\n",
    "        angs = self.sampler.draw(max_samples)\n",
    "        self.register_buffer('angs', angs)\n",
    "\n",
    "    def draw(self, B, num_samples):\n",
    "        if num_samples > self.max_samples:\n",
    "            self.max_samples = num_samples\n",
    "            self.angs = self.sampler.draw(self.max_samples)\n",
    "        angs = self.angs.reshape(1, self.max_samples, 3)[:, :num_samples, :].expand(B, num_samples, 3)\n",
    "        # self.sampler = torch.quasirandom.SobolEngine(dimension=2, scramble=True)\n",
    "        # add random offset\n",
    "        offset = torch.rand(B, 1, 3, device=angs.device)*0.25\n",
    "        angs = (angs + offset) % 1.0\n",
    "        return angs\n",
    "\n",
    "    def update(self, *args, **kwargs):\n",
    "        pass\n",
    "\n",
    "class CosineLobeSampler(PseudoRandomSampler):\n",
    "    def sample(self, refdirs, viewdir, normal, r1, r2, ray_mask, eps=torch.finfo(torch.float32).eps):\n",
    "        num_samples = ray_mask.shape[1]\n",
    "        # viewdir: (B, 3)\n",
    "        # normal: (B, 3)\n",
    "        # r1, r2: B roughness values for anisotropic roughness\n",
    "        device = normal.device\n",
    "        B = normal.shape[0]\n",
    "\n",
    "        # establish basis for BRDF\n",
    "        z_up = torch.tensor([0.0, 0.0, 1.0], device=device).reshape(1, 3).expand(B, 3)\n",
    "        x_up = torch.tensor([-1.0, 0.0, 0.0], device=device).reshape(1, 3).expand(B, 3)\n",
    "        up = torch.where(normal[:, 2:3] < 0.9, z_up, x_up)\n",
    "        tangent = normalize(torch.linalg.cross(up, normal))\n",
    "        bitangent = normalize(torch.linalg.cross(normal, tangent))\n",
    "        # B, 3, 3\n",
    "        row_world_basis = torch.stack([tangent, bitangent, normal], dim=1).reshape(B, 3, 3)\n",
    "\n",
    "        # GGXVNDF\n",
    "        # V_l = torch.matmul(torch.inverse(row_world_basis.permute(0, 2, 1)), viewdir.unsqueeze(-1)).squeeze(-1)\n",
    "        # ic((normal*viewdir).sum(dim=-1).min(), (normal*viewdir).sum(dim=-1).max())\n",
    "        # ic(1, V_l.min(dim=0), V_l.max(dim=0))\n",
    "        V_l = torch.matmul(row_world_basis, viewdir.unsqueeze(-1)).squeeze(-1)\n",
    "        # ic(2, V_l.min(dim=0), V_l.max(dim=0))\n",
    "        r1_c = r1.squeeze(-1)\n",
    "        r2_c = r2.squeeze(-1)\n",
    "\n",
    "        angs = self.draw(B, num_samples).to(device)\n",
    "\n",
    "        # here is where things get really large\n",
    "        u1 = angs[..., 0]\n",
    "        u2 = angs[..., 1]\n",
    "        u3 = angs[..., 2]\n",
    "\n",
    "        # stretch and mask stuff to reduce memory\n",
    "        r_mask1 = r1_c.reshape(-1, 1).expand(u1.shape)[ray_mask]\n",
    "        r_mask2 = r2_c.reshape(-1, 1).expand(u1.shape)[ray_mask]\n",
    "\n",
    "        u_mask = angs[ray_mask]\n",
    "        u1_mask = u1[ray_mask]\n",
    "        u2_mask = u2[ray_mask]\n",
    "        u3_mask = u3[ray_mask]\n",
    "        row_world_basis_mask = row_world_basis.permute(0, 2, 1).reshape(B, 1, 3, 3).expand(B, num_samples, 3, 3)[ray_mask]\n",
    "\n",
    "        \n",
    "        sphere_noise = normalize(u_mask*2-1)\n",
    "        # so this function is the inverse of the CDF\n",
    "        H_l = normalize(r_mask1.reshape(-1, 1) * sphere_noise + torch.tensor([0.0, 0.0, 1.0], device=device).reshape(1, -1))\n",
    "\n",
    "        first = torch.zeros_like(ray_mask)\n",
    "        first[:, 0] = True\n",
    "        H_l[first[ray_mask], 0] = 0\n",
    "        H_l[first[ray_mask], 1] = 0\n",
    "        H_l[first[ray_mask], 2] = 1\n",
    "\n",
    "        H = torch.matmul(row_world_basis_mask, H_l.unsqueeze(-1)).squeeze(-1)\n",
    "        # H = torch.einsum('bni,bij->bnj', H_l, row_world_basis)\n",
    "\n",
    "        V = viewdir.unsqueeze(1).expand(-1, num_samples, 3)[ray_mask]\n",
    "        # N = normal.reshape(-1, 1, 3).expand(-1, num_samples, 3)[ray_mask]\n",
    "        L = (2.0 * (V * H).sum(dim=-1, keepdim=True) * H - V)\n",
    "\n",
    "        return L, row_world_basis_mask\n",
    "\n",
    "    def calculate_mipval(self, H, V, N, ray_mask, roughness, row_world_basis, eps=torch.finfo(torch.float32).eps):\n",
    "        num_samples = ray_mask.shape[1]\n",
    "        device = ray_mask.device\n",
    "        # H_l = torch.matmul(row_world_basis.permute(0, 2, 1), H.unsqueeze(-1)).squeeze(-1)\n",
    "        # sphere_noise = (H_l - torch.tensor([0.0, 0.0, 1.0], device=device).reshape(1, -1)) / roughness\n",
    "\n",
    "        costheta = (H * N).sum(dim=-1).clip(min=eps, max=1)\n",
    "\n",
    "        HdotV = (H * V).sum(dim=-1).abs().clip(min=eps, max=1)\n",
    "        NdotV = (N * V).sum(dim=-1).abs().clip(min=eps, max=1)\n",
    "        lpdf1 = -(2*math.pi*roughness.clip(min=eps)).log() + (2*costheta**2 + roughness**2-1).clip(min=eps).log() - 0.5*(roughness**2 + costheta**2 - 1).clip(min=eps).log()\n",
    "        lpdf = torch.where(costheta > (1-roughness*2).clip(min=eps).sqrt(), lpdf1, torch.zeros_like(lpdf1))\n",
    "        indiv_num_samples = ray_mask.sum(dim=1, keepdim=True).expand(-1, num_samples)[ray_mask]\n",
    "\n",
    "        # logD = -math.log(2*math.pi**2) - dTdtheta\n",
    "        # ic(NdotH.shape, NdotH, D, D.mean())\n",
    "        # px.scatter(x=NdotH[0].detach().cpu().flatten(), y=D[0].detach().cpu().flatten()).show()\n",
    "        # assert(False)\n",
    "        # pdf = D * HdotV / NdotV / roughness.reshape(-1, 1)\n",
    "        # pdf = NdotH / 4 / HdotV\n",
    "        # pdf = D# / NdotH\n",
    "        # mipval = -torch.log(indiv_num_samples.clip(min=1)) - lpdf\n",
    "        ic(lpdf.exp())\n",
    "        mipval = -torch.log(indiv_num_samples.clip(min=1)) - lpdf\n",
    "        return mipval\n",
    "\n",
    "class GGXSampler(PseudoRandomSampler):\n",
    "\n",
    "    def sample(self, refdirs, viewdir, normal, r1, r2, ray_mask, eps=torch.finfo(torch.float32).eps):\n",
    "        num_samples = ray_mask.shape[1]\n",
    "        # viewdir: (B, 3)\n",
    "        # normal: (B, 3)\n",
    "        # r1, r2: B roughness values for anisotropic roughness\n",
    "        device = normal.device\n",
    "        B = normal.shape[0]\n",
    "\n",
    "        # establish basis for BRDF\n",
    "        z_up = torch.tensor([0.0, 0.0, 1.0], device=device).reshape(1, 3).expand(B, 3)\n",
    "        x_up = torch.tensor([-1.0, 0.0, 0.0], device=device).reshape(1, 3).expand(B, 3)\n",
    "        up = torch.where(normal[:, 2:3] < 0.999, z_up, x_up)\n",
    "        tangent = normalize(torch.linalg.cross(up, normal))\n",
    "        bitangent = normalize(torch.linalg.cross(normal, tangent))\n",
    "        # B, 3, 3\n",
    "        row_world_basis = torch.stack([tangent, bitangent, normal], dim=1).reshape(B, 3, 3)\n",
    "\n",
    "\n",
    "        # GGXVNDF\n",
    "        # V_l = torch.matmul(torch.inverse(row_world_basis.permute(0, 2, 1)), viewdir.unsqueeze(-1)).squeeze(-1)\n",
    "        # ic((normal*viewdir).sum(dim=-1).min(), (normal*viewdir).sum(dim=-1).max())\n",
    "        # ic(1, V_l.min(dim=0), V_l.max(dim=0))\n",
    "        V_l = torch.matmul(row_world_basis, viewdir.unsqueeze(-1)).squeeze(-1)\n",
    "        # ic(2, V_l.min(dim=0), V_l.max(dim=0))\n",
    "        r1_c = r1.squeeze(-1)\n",
    "        r2_c = r2.squeeze(-1)\n",
    "        V_stretch = normalize(torch.stack([r1_c*V_l[..., 0], r2_c*V_l[..., 1], V_l[..., 2]], dim=-1)).unsqueeze(1)\n",
    "        T1 = torch.where(V_stretch[..., 2:3] < 0.999, normalize(torch.linalg.cross(V_stretch, z_up.unsqueeze(1), dim=-1)), x_up.unsqueeze(1))\n",
    "        T2 = normalize(torch.linalg.cross(T1, V_stretch, dim=-1))\n",
    "        z = V_stretch[..., 2].reshape(-1, 1)\n",
    "        a = (1 / (1+z.detach()).clip(min=1e-5)).clip(max=1e4)\n",
    "        angs = self.draw(B, num_samples).to(device)\n",
    "\n",
    "        # here is where things get really large\n",
    "        u1 = angs[..., 0]\n",
    "        u2 = angs[..., 1]\n",
    "\n",
    "        # stretch and mask stuff to reduce memory\n",
    "        a_mask = a.expand(u1.shape)[ray_mask]\n",
    "\n",
    "        r_mask_u1 = r1_c.reshape(-1, 1).expand(u1.shape)[ray_mask]\n",
    "        r_mask1 = r_mask_u1\n",
    "        r_mask_u2 = r2_c.reshape(-1, 1).expand(u1.shape)[ray_mask]\n",
    "        r_mask2 = r_mask_u2\n",
    "\n",
    "        z_mask = z.expand(u1.shape)[ray_mask]\n",
    "        u1_mask = u1[ray_mask]\n",
    "        u2_mask = u2[ray_mask]\n",
    "        T1_mask = T1.expand(-1, num_samples, 3)[ray_mask]\n",
    "        T2_mask = T2.expand(-1, num_samples, 3)[ray_mask]\n",
    "        V_stretch_mask = V_stretch.expand(-1, num_samples, 3)[ray_mask]\n",
    "        row_world_basis_mask = row_world_basis.permute(0, 2, 1).reshape(B, 1, 3, 3).expand(B, num_samples, 3, 3)[ray_mask]\n",
    "\n",
    "        r = torch.sqrt(u1_mask)\n",
    "        phi = torch.where(u2_mask < a_mask, u2_mask/a_mask*math.pi, (u2_mask-a_mask)/(1-a_mask)*math.pi + math.pi)\n",
    "        P1 = (r*safemath.safe_cos(phi)).unsqueeze(-1)\n",
    "        P2 = (r*safemath.safe_sin(phi)*torch.where(u2_mask < a_mask, torch.tensor(1.0, device=device), z_mask)).unsqueeze(-1)\n",
    "        # ic((1-a).min(), a.min(), a.max(), phi.min(), phi.max(), (1-a).max())\n",
    "        N_stretch = P1*T1_mask + P2*T2_mask + (1 - P1*P1 - P2*P2).clip(min=0).sqrt() * V_stretch_mask\n",
    "        # H_l = normalize(torch.stack([r_mask1*N_stretch[..., 0], r_mask2*N_stretch[..., 1], N_stretch[..., 2].clip(min=0)], dim=-1))\n",
    "        H_l = normalize(torch.stack([r_mask1*N_stretch[..., 0], r_mask2*N_stretch[..., 1], N_stretch[..., 2]], dim=-1))\n",
    "\n",
    "        first = torch.zeros_like(ray_mask)\n",
    "        first[:, 0] = True\n",
    "        H_l[first[ray_mask], 0] = 0\n",
    "        H_l[first[ray_mask], 1] = 0\n",
    "        H_l[first[ray_mask], 2] = 1\n",
    "\n",
    "        H = torch.matmul(row_world_basis_mask, H_l.unsqueeze(-1)).squeeze(-1)\n",
    "        # H = torch.einsum('bni,bij->bnj', H_l, row_world_basis)\n",
    "\n",
    "        V = viewdir.unsqueeze(1).expand(-1, num_samples, 3)[ray_mask]\n",
    "        # N = normal.reshape(-1, 1, 3).expand(-1, num_samples, 3)[ray_mask]\n",
    "        L = (2.0 * (V * H).sum(dim=-1, keepdim=True) * H - V)\n",
    "\n",
    "        prob = -(math.pi * r_mask1 * r_mask2 * (\n",
    "            H_l[:, 0]**2 / (r_mask1**2).clip(min=eps) + \n",
    "            H_l[:, 1]**2 / (r_mask2**2).clip(min=eps) + \n",
    "            H_l[:, 2]**2\n",
    "            )**2).clip(min=eps).log()\n",
    "\n",
    "        # prob = 2*torch.log(r_mask1.clip(min=eps)) - 2*torch.log(math.pi*(H_l[:, 2]**2*(r_mask1**2-1)+1).clip(min=eps))\n",
    "        return L, row_world_basis_mask, prob\n",
    "\n",
    "    def calculate_mipval(self, H, V, N, ray_mask, roughness, row_world_basis, eps=torch.finfo(torch.float32).eps):\n",
    "        num_samples = ray_mask.shape[1]\n",
    "        NdotH = ((H * N).sum(dim=-1)).abs().clip(min=eps, max=1)\n",
    "        HdotV = (H * V).sum(dim=-1).abs().clip(min=eps, max=1)\n",
    "        NdotV = (N * V).sum(dim=-1).abs().clip(min=eps, max=1)\n",
    "        logD = 2*torch.log(roughness.clip(min=eps)) - 2*torch.log(math.pi*(NdotH**2*(roughness**2-1)+1).clip(min=eps))\n",
    "        # ic(NdotH.shape, NdotH, D, D.mean())\n",
    "        # px.scatter(x=NdotH[0].detach().cpu().flatten(), y=D[0].detach().cpu().flatten()).show()\n",
    "        # assert(False)\n",
    "        # ic(NdotH.mean())\n",
    "        lpdf = logD + torch.log(HdotV) - torch.log(NdotV)# - torch.log(roughness.clip(min=1e-5))\n",
    "        # pdf = D * HdotV / NdotV / roughness.reshape(-1, 1)\n",
    "        # pdf = NdotH / 4 / HdotV\n",
    "        # pdf = D# / NdotH\n",
    "        indiv_num_samples = ray_mask.sum(dim=1, keepdim=True).expand(-1, num_samples)[ray_mask]\n",
    "        mipval = -torch.log(indiv_num_samples.clip(min=1)) - lpdf\n",
    "        return logD\n",
    "        return mipval"
   ]
  },
  {
   "cell_type": "code",
   "execution_count": 56,
   "metadata": {},
   "outputs": [
    {
     "name": "stderr",
     "output_type": "stream",
     "text": [
      "ic| prob: tensor([ 3.4604, -0.7333, -1.1486,  1.8972,  2.1551,  3.2609,  1.1138,  2.6503,\n",
      "                   2.4583,  0.7068,  3.3713,  2.3286,  1.5428, -3.6098,  0.1535,  2.9956,\n",
      "                   3.0623,  0.4187,  3.4604,  1.4391,  2.2601,  3.3303,  0.9094,  2.5459,\n",
      "                   2.7515,  1.3274,  3.1651,  1.9843,  1.7028, -2.2611, -0.2368,  2.9183,\n",
      "                   2.9334, -0.5268, -2.4754,  1.8028,  2.0714,  3.1516,  1.1999,  2.7680,\n",
      "                   2.6238,  0.8388,  3.2759,  2.2950,  1.4915,  3.4095,  0.3280,  3.1228,\n",
      "                   3.0198, -0.1280])\n",
      "    indiv_num_samples: tensor([50, 50, 50, 50, 50, 50, 50, 50, 50, 50, 50, 50, 50, 50, 50, 50, 50, 50,\n",
      "                               50, 50, 50, 50, 50, 50, 50, 50, 50, 50, 50, 50, 50, 50, 50, 50, 50, 50,\n",
      "                               50, 50, 50, 50, 50, 50, 50, 50, 50, 50, 50, 50, 50, 50])\n",
      "ic| mipval: tensor([-5.1534, 12.0304, 12.0304, -4.5524, -4.6799, -5.0940, -4.0198, -4.8867,\n",
      "                    -4.8115, -3.5651, -5.1273, -4.7573, -4.3456, 12.0304, -2.0381, -5.0092,\n",
      "                    -5.0312, -3.0415, -5.1534, -4.2760, -4.7274, -5.1151, -3.8170, -4.8465,\n",
      "                    -4.9242, -4.1952, -5.0642, -4.5973, -4.4443, 12.0304, 12.0304, -4.9830,\n",
      "                    -4.9882, 12.0304, 12.0304, -4.5014, -4.6403, -5.0599, -4.0943, -4.9301,\n",
      "                    -4.8766, -3.7362, -5.0986, -4.7428, -4.3118, -5.1386, -2.7974, -5.0507,\n",
      "                    -5.0172, 12.0304])\n"
     ]
    },
    {
     "data": {
      "application/vnd.plotly.v1+json": {
       "config": {
        "plotlyServerURL": "https://plot.ly"
       },
       "data": [
        {
         "hovertemplate": "x=%{x}<br>y=%{y}<br>z=%{z}<br>color=%{marker.color}<extra></extra>",
         "legendgroup": "",
         "marker": {
          "color": [
           9.913691520690918,
           34.704647064208984,
           34.704647064208984,
           10.780782699584961,
           10.596888542175293,
           9.999368667602539,
           11.549149513244629,
           10.298497200012207,
           10.406994819641113,
           12.205178260803223,
           9.951346397399902,
           10.48515796661377,
           11.0791015625,
           34.704647064208984,
           14.408147811889648,
           10.12179183959961,
           10.090021133422852,
           12.960545539855957,
           9.91370964050293,
           11.179515838623047,
           10.528260231018066,
           9.969010353088379,
           11.841703414916992,
           10.356484413146973,
           10.244410514831543,
           11.296082496643066,
           10.042390823364258,
           10.71602725982666,
           10.936700820922852,
           34.704647064208984,
           34.704647064208984,
           10.159527778625488,
           10.152071952819824,
           34.704647064208984,
           34.704647064208984,
           10.854408264160156,
           10.654036521911621,
           10.048574447631836,
           11.44174575805664,
           10.235820770263672,
           10.312997817993164,
           11.958313941955566,
           9.992745399475098,
           10.506156921386719,
           11.127927780151367,
           9.935077667236328,
           13.312761306762695,
           10.061819076538086,
           10.110187530517578,
           34.704647064208984
          ],
          "coloraxis": "coloraxis",
          "symbol": "circle"
         },
         "mode": "markers",
         "name": "",
         "scene": "scene",
         "showlegend": false,
         "type": "scatter3d",
         "x": [
          0,
          0.1512773334980011,
          -0.3716798722743988,
          0.21152366697788239,
          -0.19057337939739227,
          0.04500110447406769,
          0.10299551486968994,
          -0.12592995166778564,
          -0.13109439611434937,
          0.3242610692977905,
          0.03302699327468872,
          -0.02558240480720997,
          -0.02182748354971409,
          -0.6397477388381958,
          -0.37055283784866333,
          0.05069039389491081,
          -0.09368696808815002,
          0.21804995834827423,
          -0.00015765131684020162,
          -0.1179724857211113,
          0.17000359296798706,
          -0.014651976525783539,
          -0.2460077702999115,
          0.1523990035057068,
          0.00896458886563778,
          -0.2320396900177002,
          -0.07792965322732925,
          0.18361425399780273,
          -0.10246482491493225,
          0.7131693363189697,
          0.28241783380508423,
          -0.0035308797378093004,
          -0.06556647270917892,
          0.4876561760902405,
          0.35352960228919983,
          0.03591969981789589,
          0.05345243588089943,
          -0.0763610303401947,
          -0.28767433762550354,
          0.09861212968826294,
          0.12328779697418213,
          -0.026545412838459015,
          -0.05518077313899994,
          0.17288488149642944,
          -0.24565285444259644,
          0.013546381145715714,
          0.007875806652009487,
          -0.05320568010210991,
          -0.02845689468085766,
          -0.23007284104824066
         ],
         "y": [
          0,
          -0.4947914481163025,
          0.43940919637680054,
          -0.05063805356621742,
          -0.023111190646886826,
          -0.04700051248073578,
          0.2785094082355499,
          -0.06494806706905365,
          0.09446867555379868,
          0.10468094795942307,
          0.02738790214061737,
          -0.17279426753520966,
          0.2519174814224243,
          -0.6954181790351868,
          0.1615966409444809,
          -0.08929553627967834,
          0.010103623382747173,
          -0.3028613328933716,
          0.000920747930649668,
          -0.23546092212200165,
          0.06365625560283661,
          -0.05000761151313782,
          0.20255717635154724,
          0.007908733561635017,
          0.13051317632198334,
          -0.14716647565364838,
          -0.01859818771481514,
          -0.09958277642726898,
          0.2134968489408493,
          -0.21507993340492249,
          0.35321182012557983,
          -0.11193258315324783,
          0.08857652544975281,
          -0.04492852836847305,
          0.6939634680747986,
          -0.22400006651878357,
          0.19299553334712982,
          -0.030081763863563538,
          -0.012533762492239475,
          -0.08320115506649017,
          0.0753430724143982,
          -0.3252163827419281,
          0.029261596500873566,
          0.0425606407225132,
          0.07901392877101898,
          -0.029293213039636612,
          0.38360023498535156,
          -0.0677243322134018,
          0.09551794826984406,
          -0.37338584661483765
         ],
         "z": [
          1,
          0.8557432889938354,
          0.8177860975265503,
          0.9760602712631226,
          0.981400728225708,
          0.9978805780410767,
          0.95489501953125,
          0.9899109601974487,
          0.9868583679199219,
          0.9401581287384033,
          0.9990791082382202,
          0.9846256971359253,
          0.9675025939941406,
          0.3272857666015625,
          0.9146460294723511,
          0.9947143793106079,
          0.9955505132675171,
          0.9277548789978027,
          0.9999995231628418,
          0.964697003364563,
          0.9833856821060181,
          0.9986414909362793,
          0.9478664398193359,
          0.9882874488830566,
          0.9914062023162842,
          0.961509108543396,
          0.9967852830886841,
          0.9779413938522339,
          0.9715554714202881,
          0.6671804189682007,
          0.8918977975845337,
          0.9937095642089844,
          0.9939090013504028,
          0.8718792200088501,
          0.627240777015686,
          0.9739270210266113,
          0.9797427654266357,
          0.9966263771057129,
          0.9576464891433716,
          0.991641640663147,
          0.989506721496582,
          0.945266842842102,
          0.9980475902557373,
          0.9840220212936401,
          0.9661322832107544,
          0.9994790554046631,
          0.9234657287597656,
          0.9962842464447021,
          0.995020866394043,
          0.8986932039260864
         ]
        }
       ],
       "layout": {
        "coloraxis": {
         "colorbar": {
          "title": {
           "text": "color"
          }
         },
         "colorscale": [
          [
           0,
           "#0d0887"
          ],
          [
           0.1111111111111111,
           "#46039f"
          ],
          [
           0.2222222222222222,
           "#7201a8"
          ],
          [
           0.3333333333333333,
           "#9c179e"
          ],
          [
           0.4444444444444444,
           "#bd3786"
          ],
          [
           0.5555555555555556,
           "#d8576b"
          ],
          [
           0.6666666666666666,
           "#ed7953"
          ],
          [
           0.7777777777777778,
           "#fb9f3a"
          ],
          [
           0.8888888888888888,
           "#fdca26"
          ],
          [
           1,
           "#f0f921"
          ]
         ]
        },
        "legend": {
         "tracegroupgap": 0
        },
        "margin": {
         "t": 60
        },
        "scene": {
         "domain": {
          "x": [
           0,
           1
          ],
          "y": [
           0,
           1
          ]
         },
         "xaxis": {
          "title": {
           "text": "x"
          }
         },
         "yaxis": {
          "title": {
           "text": "y"
          }
         },
         "zaxis": {
          "title": {
           "text": "z"
          }
         }
        },
        "template": {
         "data": {
          "bar": [
           {
            "error_x": {
             "color": "#2a3f5f"
            },
            "error_y": {
             "color": "#2a3f5f"
            },
            "marker": {
             "line": {
              "color": "#E5ECF6",
              "width": 0.5
             },
             "pattern": {
              "fillmode": "overlay",
              "size": 10,
              "solidity": 0.2
             }
            },
            "type": "bar"
           }
          ],
          "barpolar": [
           {
            "marker": {
             "line": {
              "color": "#E5ECF6",
              "width": 0.5
             },
             "pattern": {
              "fillmode": "overlay",
              "size": 10,
              "solidity": 0.2
             }
            },
            "type": "barpolar"
           }
          ],
          "carpet": [
           {
            "aaxis": {
             "endlinecolor": "#2a3f5f",
             "gridcolor": "white",
             "linecolor": "white",
             "minorgridcolor": "white",
             "startlinecolor": "#2a3f5f"
            },
            "baxis": {
             "endlinecolor": "#2a3f5f",
             "gridcolor": "white",
             "linecolor": "white",
             "minorgridcolor": "white",
             "startlinecolor": "#2a3f5f"
            },
            "type": "carpet"
           }
          ],
          "choropleth": [
           {
            "colorbar": {
             "outlinewidth": 0,
             "ticks": ""
            },
            "type": "choropleth"
           }
          ],
          "contour": [
           {
            "colorbar": {
             "outlinewidth": 0,
             "ticks": ""
            },
            "colorscale": [
             [
              0,
              "#0d0887"
             ],
             [
              0.1111111111111111,
              "#46039f"
             ],
             [
              0.2222222222222222,
              "#7201a8"
             ],
             [
              0.3333333333333333,
              "#9c179e"
             ],
             [
              0.4444444444444444,
              "#bd3786"
             ],
             [
              0.5555555555555556,
              "#d8576b"
             ],
             [
              0.6666666666666666,
              "#ed7953"
             ],
             [
              0.7777777777777778,
              "#fb9f3a"
             ],
             [
              0.8888888888888888,
              "#fdca26"
             ],
             [
              1,
              "#f0f921"
             ]
            ],
            "type": "contour"
           }
          ],
          "contourcarpet": [
           {
            "colorbar": {
             "outlinewidth": 0,
             "ticks": ""
            },
            "type": "contourcarpet"
           }
          ],
          "heatmap": [
           {
            "colorbar": {
             "outlinewidth": 0,
             "ticks": ""
            },
            "colorscale": [
             [
              0,
              "#0d0887"
             ],
             [
              0.1111111111111111,
              "#46039f"
             ],
             [
              0.2222222222222222,
              "#7201a8"
             ],
             [
              0.3333333333333333,
              "#9c179e"
             ],
             [
              0.4444444444444444,
              "#bd3786"
             ],
             [
              0.5555555555555556,
              "#d8576b"
             ],
             [
              0.6666666666666666,
              "#ed7953"
             ],
             [
              0.7777777777777778,
              "#fb9f3a"
             ],
             [
              0.8888888888888888,
              "#fdca26"
             ],
             [
              1,
              "#f0f921"
             ]
            ],
            "type": "heatmap"
           }
          ],
          "heatmapgl": [
           {
            "colorbar": {
             "outlinewidth": 0,
             "ticks": ""
            },
            "colorscale": [
             [
              0,
              "#0d0887"
             ],
             [
              0.1111111111111111,
              "#46039f"
             ],
             [
              0.2222222222222222,
              "#7201a8"
             ],
             [
              0.3333333333333333,
              "#9c179e"
             ],
             [
              0.4444444444444444,
              "#bd3786"
             ],
             [
              0.5555555555555556,
              "#d8576b"
             ],
             [
              0.6666666666666666,
              "#ed7953"
             ],
             [
              0.7777777777777778,
              "#fb9f3a"
             ],
             [
              0.8888888888888888,
              "#fdca26"
             ],
             [
              1,
              "#f0f921"
             ]
            ],
            "type": "heatmapgl"
           }
          ],
          "histogram": [
           {
            "marker": {
             "pattern": {
              "fillmode": "overlay",
              "size": 10,
              "solidity": 0.2
             }
            },
            "type": "histogram"
           }
          ],
          "histogram2d": [
           {
            "colorbar": {
             "outlinewidth": 0,
             "ticks": ""
            },
            "colorscale": [
             [
              0,
              "#0d0887"
             ],
             [
              0.1111111111111111,
              "#46039f"
             ],
             [
              0.2222222222222222,
              "#7201a8"
             ],
             [
              0.3333333333333333,
              "#9c179e"
             ],
             [
              0.4444444444444444,
              "#bd3786"
             ],
             [
              0.5555555555555556,
              "#d8576b"
             ],
             [
              0.6666666666666666,
              "#ed7953"
             ],
             [
              0.7777777777777778,
              "#fb9f3a"
             ],
             [
              0.8888888888888888,
              "#fdca26"
             ],
             [
              1,
              "#f0f921"
             ]
            ],
            "type": "histogram2d"
           }
          ],
          "histogram2dcontour": [
           {
            "colorbar": {
             "outlinewidth": 0,
             "ticks": ""
            },
            "colorscale": [
             [
              0,
              "#0d0887"
             ],
             [
              0.1111111111111111,
              "#46039f"
             ],
             [
              0.2222222222222222,
              "#7201a8"
             ],
             [
              0.3333333333333333,
              "#9c179e"
             ],
             [
              0.4444444444444444,
              "#bd3786"
             ],
             [
              0.5555555555555556,
              "#d8576b"
             ],
             [
              0.6666666666666666,
              "#ed7953"
             ],
             [
              0.7777777777777778,
              "#fb9f3a"
             ],
             [
              0.8888888888888888,
              "#fdca26"
             ],
             [
              1,
              "#f0f921"
             ]
            ],
            "type": "histogram2dcontour"
           }
          ],
          "mesh3d": [
           {
            "colorbar": {
             "outlinewidth": 0,
             "ticks": ""
            },
            "type": "mesh3d"
           }
          ],
          "parcoords": [
           {
            "line": {
             "colorbar": {
              "outlinewidth": 0,
              "ticks": ""
             }
            },
            "type": "parcoords"
           }
          ],
          "pie": [
           {
            "automargin": true,
            "type": "pie"
           }
          ],
          "scatter": [
           {
            "fillpattern": {
             "fillmode": "overlay",
             "size": 10,
             "solidity": 0.2
            },
            "type": "scatter"
           }
          ],
          "scatter3d": [
           {
            "line": {
             "colorbar": {
              "outlinewidth": 0,
              "ticks": ""
             }
            },
            "marker": {
             "colorbar": {
              "outlinewidth": 0,
              "ticks": ""
             }
            },
            "type": "scatter3d"
           }
          ],
          "scattercarpet": [
           {
            "marker": {
             "colorbar": {
              "outlinewidth": 0,
              "ticks": ""
             }
            },
            "type": "scattercarpet"
           }
          ],
          "scattergeo": [
           {
            "marker": {
             "colorbar": {
              "outlinewidth": 0,
              "ticks": ""
             }
            },
            "type": "scattergeo"
           }
          ],
          "scattergl": [
           {
            "marker": {
             "colorbar": {
              "outlinewidth": 0,
              "ticks": ""
             }
            },
            "type": "scattergl"
           }
          ],
          "scattermapbox": [
           {
            "marker": {
             "colorbar": {
              "outlinewidth": 0,
              "ticks": ""
             }
            },
            "type": "scattermapbox"
           }
          ],
          "scatterpolar": [
           {
            "marker": {
             "colorbar": {
              "outlinewidth": 0,
              "ticks": ""
             }
            },
            "type": "scatterpolar"
           }
          ],
          "scatterpolargl": [
           {
            "marker": {
             "colorbar": {
              "outlinewidth": 0,
              "ticks": ""
             }
            },
            "type": "scatterpolargl"
           }
          ],
          "scatterternary": [
           {
            "marker": {
             "colorbar": {
              "outlinewidth": 0,
              "ticks": ""
             }
            },
            "type": "scatterternary"
           }
          ],
          "surface": [
           {
            "colorbar": {
             "outlinewidth": 0,
             "ticks": ""
            },
            "colorscale": [
             [
              0,
              "#0d0887"
             ],
             [
              0.1111111111111111,
              "#46039f"
             ],
             [
              0.2222222222222222,
              "#7201a8"
             ],
             [
              0.3333333333333333,
              "#9c179e"
             ],
             [
              0.4444444444444444,
              "#bd3786"
             ],
             [
              0.5555555555555556,
              "#d8576b"
             ],
             [
              0.6666666666666666,
              "#ed7953"
             ],
             [
              0.7777777777777778,
              "#fb9f3a"
             ],
             [
              0.8888888888888888,
              "#fdca26"
             ],
             [
              1,
              "#f0f921"
             ]
            ],
            "type": "surface"
           }
          ],
          "table": [
           {
            "cells": {
             "fill": {
              "color": "#EBF0F8"
             },
             "line": {
              "color": "white"
             }
            },
            "header": {
             "fill": {
              "color": "#C8D4E3"
             },
             "line": {
              "color": "white"
             }
            },
            "type": "table"
           }
          ]
         },
         "layout": {
          "annotationdefaults": {
           "arrowcolor": "#2a3f5f",
           "arrowhead": 0,
           "arrowwidth": 1
          },
          "autotypenumbers": "strict",
          "coloraxis": {
           "colorbar": {
            "outlinewidth": 0,
            "ticks": ""
           }
          },
          "colorscale": {
           "diverging": [
            [
             0,
             "#8e0152"
            ],
            [
             0.1,
             "#c51b7d"
            ],
            [
             0.2,
             "#de77ae"
            ],
            [
             0.3,
             "#f1b6da"
            ],
            [
             0.4,
             "#fde0ef"
            ],
            [
             0.5,
             "#f7f7f7"
            ],
            [
             0.6,
             "#e6f5d0"
            ],
            [
             0.7,
             "#b8e186"
            ],
            [
             0.8,
             "#7fbc41"
            ],
            [
             0.9,
             "#4d9221"
            ],
            [
             1,
             "#276419"
            ]
           ],
           "sequential": [
            [
             0,
             "#0d0887"
            ],
            [
             0.1111111111111111,
             "#46039f"
            ],
            [
             0.2222222222222222,
             "#7201a8"
            ],
            [
             0.3333333333333333,
             "#9c179e"
            ],
            [
             0.4444444444444444,
             "#bd3786"
            ],
            [
             0.5555555555555556,
             "#d8576b"
            ],
            [
             0.6666666666666666,
             "#ed7953"
            ],
            [
             0.7777777777777778,
             "#fb9f3a"
            ],
            [
             0.8888888888888888,
             "#fdca26"
            ],
            [
             1,
             "#f0f921"
            ]
           ],
           "sequentialminus": [
            [
             0,
             "#0d0887"
            ],
            [
             0.1111111111111111,
             "#46039f"
            ],
            [
             0.2222222222222222,
             "#7201a8"
            ],
            [
             0.3333333333333333,
             "#9c179e"
            ],
            [
             0.4444444444444444,
             "#bd3786"
            ],
            [
             0.5555555555555556,
             "#d8576b"
            ],
            [
             0.6666666666666666,
             "#ed7953"
            ],
            [
             0.7777777777777778,
             "#fb9f3a"
            ],
            [
             0.8888888888888888,
             "#fdca26"
            ],
            [
             1,
             "#f0f921"
            ]
           ]
          },
          "colorway": [
           "#636efa",
           "#EF553B",
           "#00cc96",
           "#ab63fa",
           "#FFA15A",
           "#19d3f3",
           "#FF6692",
           "#B6E880",
           "#FF97FF",
           "#FECB52"
          ],
          "font": {
           "color": "#2a3f5f"
          },
          "geo": {
           "bgcolor": "white",
           "lakecolor": "white",
           "landcolor": "#E5ECF6",
           "showlakes": true,
           "showland": true,
           "subunitcolor": "white"
          },
          "hoverlabel": {
           "align": "left"
          },
          "hovermode": "closest",
          "mapbox": {
           "style": "light"
          },
          "paper_bgcolor": "white",
          "plot_bgcolor": "#E5ECF6",
          "polar": {
           "angularaxis": {
            "gridcolor": "white",
            "linecolor": "white",
            "ticks": ""
           },
           "bgcolor": "#E5ECF6",
           "radialaxis": {
            "gridcolor": "white",
            "linecolor": "white",
            "ticks": ""
           }
          },
          "scene": {
           "xaxis": {
            "backgroundcolor": "#E5ECF6",
            "gridcolor": "white",
            "gridwidth": 2,
            "linecolor": "white",
            "showbackground": true,
            "ticks": "",
            "zerolinecolor": "white"
           },
           "yaxis": {
            "backgroundcolor": "#E5ECF6",
            "gridcolor": "white",
            "gridwidth": 2,
            "linecolor": "white",
            "showbackground": true,
            "ticks": "",
            "zerolinecolor": "white"
           },
           "zaxis": {
            "backgroundcolor": "#E5ECF6",
            "gridcolor": "white",
            "gridwidth": 2,
            "linecolor": "white",
            "showbackground": true,
            "ticks": "",
            "zerolinecolor": "white"
           }
          },
          "shapedefaults": {
           "line": {
            "color": "#2a3f5f"
           }
          },
          "ternary": {
           "aaxis": {
            "gridcolor": "white",
            "linecolor": "white",
            "ticks": ""
           },
           "baxis": {
            "gridcolor": "white",
            "linecolor": "white",
            "ticks": ""
           },
           "bgcolor": "#E5ECF6",
           "caxis": {
            "gridcolor": "white",
            "linecolor": "white",
            "ticks": ""
           }
          },
          "title": {
           "x": 0.05
          },
          "xaxis": {
           "automargin": true,
           "gridcolor": "white",
           "linecolor": "white",
           "ticks": "",
           "title": {
            "standoff": 15
           },
           "zerolinecolor": "white",
           "zerolinewidth": 2
          },
          "yaxis": {
           "automargin": true,
           "gridcolor": "white",
           "linecolor": "white",
           "ticks": "",
           "title": {
            "standoff": 15
           },
           "zerolinecolor": "white",
           "zerolinewidth": 2
          }
         }
        }
       }
      }
     },
     "metadata": {},
     "output_type": "display_data"
    },
    {
     "data": {
      "application/vnd.plotly.v1+json": {
       "config": {
        "plotlyServerURL": "https://plot.ly"
       },
       "data": [
        {
         "hovertemplate": "x=%{x}<br>y=%{y}<br>z=%{z}<br>color=%{marker.color}<extra></extra>",
         "legendgroup": "",
         "marker": {
          "color": [
           5.782593250274658,
           18.178070068359375,
           18.178070068359375,
           6.216139316558838,
           6.124192237854004,
           5.825432300567627,
           6.600322723388672,
           5.974996566772461,
           6.029245376586914,
           6.928337097167969,
           5.80142068862915,
           6.068326473236084,
           6.365298748016357,
           18.178070068359375,
           8.029821395874023,
           5.88664436340332,
           5.870758533477783,
           7.306020259857178,
           5.782602787017822,
           6.415505886077881,
           6.089878082275391,
           5.810253620147705,
           6.746599197387695,
           6.003990173339844,
           5.947953224182129,
           6.473788738250732,
           5.8469438552856445,
           6.1837615966796875,
           6.294098377227783,
           18.178070068359375,
           18.178070068359375,
           5.905511379241943,
           5.9017839431762695,
           18.178070068359375,
           18.178070068359375,
           6.2529520988464355,
           6.152766227722168,
           5.850035190582275,
           6.546620845794678,
           5.943658351898193,
           5.982246398925781,
           6.804904937744141,
           5.822120189666748,
           6.078825950622559,
           6.389711380004883,
           5.793286323547363,
           7.482128620147705,
           5.8566575050354,
           5.880841255187988,
           18.178070068359375
          ],
          "coloraxis": "coloraxis",
          "symbol": "circle"
         },
         "mode": "markers",
         "name": "",
         "scene": "scene",
         "showlegend": false,
         "type": "scatter3d",
         "x": [
          0,
          0.1512773334980011,
          -0.3716798722743988,
          0.21152366697788239,
          -0.19057337939739227,
          0.04500110447406769,
          0.10299551486968994,
          -0.12592995166778564,
          -0.13109439611434937,
          0.3242610692977905,
          0.03302699327468872,
          -0.02558240480720997,
          -0.02182748354971409,
          -0.6397477388381958,
          -0.37055283784866333,
          0.05069039389491081,
          -0.09368696808815002,
          0.21804995834827423,
          -0.00015765131684020162,
          -0.1179724857211113,
          0.17000359296798706,
          -0.014651976525783539,
          -0.2460077702999115,
          0.1523990035057068,
          0.00896458886563778,
          -0.2320396900177002,
          -0.07792965322732925,
          0.18361425399780273,
          -0.10246482491493225,
          0.7131693363189697,
          0.28241783380508423,
          -0.0035308797378093004,
          -0.06556647270917892,
          0.4876561760902405,
          0.35352960228919983,
          0.03591969981789589,
          0.05345243588089943,
          -0.0763610303401947,
          -0.28767433762550354,
          0.09861212968826294,
          0.12328779697418213,
          -0.026545412838459015,
          -0.05518077313899994,
          0.17288488149642944,
          -0.24565285444259644,
          0.013546381145715714,
          0.007875806652009487,
          -0.05320568010210991,
          -0.02845689468085766,
          -0.23007284104824066
         ],
         "y": [
          0,
          -0.4947914481163025,
          0.43940919637680054,
          -0.05063805356621742,
          -0.023111190646886826,
          -0.04700051248073578,
          0.2785094082355499,
          -0.06494806706905365,
          0.09446867555379868,
          0.10468094795942307,
          0.02738790214061737,
          -0.17279426753520966,
          0.2519174814224243,
          -0.6954181790351868,
          0.1615966409444809,
          -0.08929553627967834,
          0.010103623382747173,
          -0.3028613328933716,
          0.000920747930649668,
          -0.23546092212200165,
          0.06365625560283661,
          -0.05000761151313782,
          0.20255717635154724,
          0.007908733561635017,
          0.13051317632198334,
          -0.14716647565364838,
          -0.01859818771481514,
          -0.09958277642726898,
          0.2134968489408493,
          -0.21507993340492249,
          0.35321182012557983,
          -0.11193258315324783,
          0.08857652544975281,
          -0.04492852836847305,
          0.6939634680747986,
          -0.22400006651878357,
          0.19299553334712982,
          -0.030081763863563538,
          -0.012533762492239475,
          -0.08320115506649017,
          0.0753430724143982,
          -0.3252163827419281,
          0.029261596500873566,
          0.0425606407225132,
          0.07901392877101898,
          -0.029293213039636612,
          0.38360023498535156,
          -0.0677243322134018,
          0.09551794826984406,
          -0.37338584661483765
         ],
         "z": [
          1,
          0.8557432889938354,
          0.8177860975265503,
          0.9760602712631226,
          0.981400728225708,
          0.9978805780410767,
          0.95489501953125,
          0.9899109601974487,
          0.9868583679199219,
          0.9401581287384033,
          0.9990791082382202,
          0.9846256971359253,
          0.9675025939941406,
          0.3272857666015625,
          0.9146460294723511,
          0.9947143793106079,
          0.9955505132675171,
          0.9277548789978027,
          0.9999995231628418,
          0.964697003364563,
          0.9833856821060181,
          0.9986414909362793,
          0.9478664398193359,
          0.9882874488830566,
          0.9914062023162842,
          0.961509108543396,
          0.9967852830886841,
          0.9779413938522339,
          0.9715554714202881,
          0.6671804189682007,
          0.8918977975845337,
          0.9937095642089844,
          0.9939090013504028,
          0.8718792200088501,
          0.627240777015686,
          0.9739270210266113,
          0.9797427654266357,
          0.9966263771057129,
          0.9576464891433716,
          0.991641640663147,
          0.989506721496582,
          0.945266842842102,
          0.9980475902557373,
          0.9840220212936401,
          0.9661322832107544,
          0.9994790554046631,
          0.9234657287597656,
          0.9962842464447021,
          0.995020866394043,
          0.8986932039260864
         ]
        }
       ],
       "layout": {
        "coloraxis": {
         "colorbar": {
          "title": {
           "text": "color"
          }
         },
         "colorscale": [
          [
           0,
           "#0d0887"
          ],
          [
           0.1111111111111111,
           "#46039f"
          ],
          [
           0.2222222222222222,
           "#7201a8"
          ],
          [
           0.3333333333333333,
           "#9c179e"
          ],
          [
           0.4444444444444444,
           "#bd3786"
          ],
          [
           0.5555555555555556,
           "#d8576b"
          ],
          [
           0.6666666666666666,
           "#ed7953"
          ],
          [
           0.7777777777777778,
           "#fb9f3a"
          ],
          [
           0.8888888888888888,
           "#fdca26"
          ],
          [
           1,
           "#f0f921"
          ]
         ]
        },
        "legend": {
         "tracegroupgap": 0
        },
        "margin": {
         "t": 60
        },
        "scene": {
         "domain": {
          "x": [
           0,
           1
          ],
          "y": [
           0,
           1
          ]
         },
         "xaxis": {
          "title": {
           "text": "x"
          }
         },
         "yaxis": {
          "title": {
           "text": "y"
          }
         },
         "zaxis": {
          "title": {
           "text": "z"
          }
         }
        },
        "template": {
         "data": {
          "bar": [
           {
            "error_x": {
             "color": "#2a3f5f"
            },
            "error_y": {
             "color": "#2a3f5f"
            },
            "marker": {
             "line": {
              "color": "#E5ECF6",
              "width": 0.5
             },
             "pattern": {
              "fillmode": "overlay",
              "size": 10,
              "solidity": 0.2
             }
            },
            "type": "bar"
           }
          ],
          "barpolar": [
           {
            "marker": {
             "line": {
              "color": "#E5ECF6",
              "width": 0.5
             },
             "pattern": {
              "fillmode": "overlay",
              "size": 10,
              "solidity": 0.2
             }
            },
            "type": "barpolar"
           }
          ],
          "carpet": [
           {
            "aaxis": {
             "endlinecolor": "#2a3f5f",
             "gridcolor": "white",
             "linecolor": "white",
             "minorgridcolor": "white",
             "startlinecolor": "#2a3f5f"
            },
            "baxis": {
             "endlinecolor": "#2a3f5f",
             "gridcolor": "white",
             "linecolor": "white",
             "minorgridcolor": "white",
             "startlinecolor": "#2a3f5f"
            },
            "type": "carpet"
           }
          ],
          "choropleth": [
           {
            "colorbar": {
             "outlinewidth": 0,
             "ticks": ""
            },
            "type": "choropleth"
           }
          ],
          "contour": [
           {
            "colorbar": {
             "outlinewidth": 0,
             "ticks": ""
            },
            "colorscale": [
             [
              0,
              "#0d0887"
             ],
             [
              0.1111111111111111,
              "#46039f"
             ],
             [
              0.2222222222222222,
              "#7201a8"
             ],
             [
              0.3333333333333333,
              "#9c179e"
             ],
             [
              0.4444444444444444,
              "#bd3786"
             ],
             [
              0.5555555555555556,
              "#d8576b"
             ],
             [
              0.6666666666666666,
              "#ed7953"
             ],
             [
              0.7777777777777778,
              "#fb9f3a"
             ],
             [
              0.8888888888888888,
              "#fdca26"
             ],
             [
              1,
              "#f0f921"
             ]
            ],
            "type": "contour"
           }
          ],
          "contourcarpet": [
           {
            "colorbar": {
             "outlinewidth": 0,
             "ticks": ""
            },
            "type": "contourcarpet"
           }
          ],
          "heatmap": [
           {
            "colorbar": {
             "outlinewidth": 0,
             "ticks": ""
            },
            "colorscale": [
             [
              0,
              "#0d0887"
             ],
             [
              0.1111111111111111,
              "#46039f"
             ],
             [
              0.2222222222222222,
              "#7201a8"
             ],
             [
              0.3333333333333333,
              "#9c179e"
             ],
             [
              0.4444444444444444,
              "#bd3786"
             ],
             [
              0.5555555555555556,
              "#d8576b"
             ],
             [
              0.6666666666666666,
              "#ed7953"
             ],
             [
              0.7777777777777778,
              "#fb9f3a"
             ],
             [
              0.8888888888888888,
              "#fdca26"
             ],
             [
              1,
              "#f0f921"
             ]
            ],
            "type": "heatmap"
           }
          ],
          "heatmapgl": [
           {
            "colorbar": {
             "outlinewidth": 0,
             "ticks": ""
            },
            "colorscale": [
             [
              0,
              "#0d0887"
             ],
             [
              0.1111111111111111,
              "#46039f"
             ],
             [
              0.2222222222222222,
              "#7201a8"
             ],
             [
              0.3333333333333333,
              "#9c179e"
             ],
             [
              0.4444444444444444,
              "#bd3786"
             ],
             [
              0.5555555555555556,
              "#d8576b"
             ],
             [
              0.6666666666666666,
              "#ed7953"
             ],
             [
              0.7777777777777778,
              "#fb9f3a"
             ],
             [
              0.8888888888888888,
              "#fdca26"
             ],
             [
              1,
              "#f0f921"
             ]
            ],
            "type": "heatmapgl"
           }
          ],
          "histogram": [
           {
            "marker": {
             "pattern": {
              "fillmode": "overlay",
              "size": 10,
              "solidity": 0.2
             }
            },
            "type": "histogram"
           }
          ],
          "histogram2d": [
           {
            "colorbar": {
             "outlinewidth": 0,
             "ticks": ""
            },
            "colorscale": [
             [
              0,
              "#0d0887"
             ],
             [
              0.1111111111111111,
              "#46039f"
             ],
             [
              0.2222222222222222,
              "#7201a8"
             ],
             [
              0.3333333333333333,
              "#9c179e"
             ],
             [
              0.4444444444444444,
              "#bd3786"
             ],
             [
              0.5555555555555556,
              "#d8576b"
             ],
             [
              0.6666666666666666,
              "#ed7953"
             ],
             [
              0.7777777777777778,
              "#fb9f3a"
             ],
             [
              0.8888888888888888,
              "#fdca26"
             ],
             [
              1,
              "#f0f921"
             ]
            ],
            "type": "histogram2d"
           }
          ],
          "histogram2dcontour": [
           {
            "colorbar": {
             "outlinewidth": 0,
             "ticks": ""
            },
            "colorscale": [
             [
              0,
              "#0d0887"
             ],
             [
              0.1111111111111111,
              "#46039f"
             ],
             [
              0.2222222222222222,
              "#7201a8"
             ],
             [
              0.3333333333333333,
              "#9c179e"
             ],
             [
              0.4444444444444444,
              "#bd3786"
             ],
             [
              0.5555555555555556,
              "#d8576b"
             ],
             [
              0.6666666666666666,
              "#ed7953"
             ],
             [
              0.7777777777777778,
              "#fb9f3a"
             ],
             [
              0.8888888888888888,
              "#fdca26"
             ],
             [
              1,
              "#f0f921"
             ]
            ],
            "type": "histogram2dcontour"
           }
          ],
          "mesh3d": [
           {
            "colorbar": {
             "outlinewidth": 0,
             "ticks": ""
            },
            "type": "mesh3d"
           }
          ],
          "parcoords": [
           {
            "line": {
             "colorbar": {
              "outlinewidth": 0,
              "ticks": ""
             }
            },
            "type": "parcoords"
           }
          ],
          "pie": [
           {
            "automargin": true,
            "type": "pie"
           }
          ],
          "scatter": [
           {
            "fillpattern": {
             "fillmode": "overlay",
             "size": 10,
             "solidity": 0.2
            },
            "type": "scatter"
           }
          ],
          "scatter3d": [
           {
            "line": {
             "colorbar": {
              "outlinewidth": 0,
              "ticks": ""
             }
            },
            "marker": {
             "colorbar": {
              "outlinewidth": 0,
              "ticks": ""
             }
            },
            "type": "scatter3d"
           }
          ],
          "scattercarpet": [
           {
            "marker": {
             "colorbar": {
              "outlinewidth": 0,
              "ticks": ""
             }
            },
            "type": "scattercarpet"
           }
          ],
          "scattergeo": [
           {
            "marker": {
             "colorbar": {
              "outlinewidth": 0,
              "ticks": ""
             }
            },
            "type": "scattergeo"
           }
          ],
          "scattergl": [
           {
            "marker": {
             "colorbar": {
              "outlinewidth": 0,
              "ticks": ""
             }
            },
            "type": "scattergl"
           }
          ],
          "scattermapbox": [
           {
            "marker": {
             "colorbar": {
              "outlinewidth": 0,
              "ticks": ""
             }
            },
            "type": "scattermapbox"
           }
          ],
          "scatterpolar": [
           {
            "marker": {
             "colorbar": {
              "outlinewidth": 0,
              "ticks": ""
             }
            },
            "type": "scatterpolar"
           }
          ],
          "scatterpolargl": [
           {
            "marker": {
             "colorbar": {
              "outlinewidth": 0,
              "ticks": ""
             }
            },
            "type": "scatterpolargl"
           }
          ],
          "scatterternary": [
           {
            "marker": {
             "colorbar": {
              "outlinewidth": 0,
              "ticks": ""
             }
            },
            "type": "scatterternary"
           }
          ],
          "surface": [
           {
            "colorbar": {
             "outlinewidth": 0,
             "ticks": ""
            },
            "colorscale": [
             [
              0,
              "#0d0887"
             ],
             [
              0.1111111111111111,
              "#46039f"
             ],
             [
              0.2222222222222222,
              "#7201a8"
             ],
             [
              0.3333333333333333,
              "#9c179e"
             ],
             [
              0.4444444444444444,
              "#bd3786"
             ],
             [
              0.5555555555555556,
              "#d8576b"
             ],
             [
              0.6666666666666666,
              "#ed7953"
             ],
             [
              0.7777777777777778,
              "#fb9f3a"
             ],
             [
              0.8888888888888888,
              "#fdca26"
             ],
             [
              1,
              "#f0f921"
             ]
            ],
            "type": "surface"
           }
          ],
          "table": [
           {
            "cells": {
             "fill": {
              "color": "#EBF0F8"
             },
             "line": {
              "color": "white"
             }
            },
            "header": {
             "fill": {
              "color": "#C8D4E3"
             },
             "line": {
              "color": "white"
             }
            },
            "type": "table"
           }
          ]
         },
         "layout": {
          "annotationdefaults": {
           "arrowcolor": "#2a3f5f",
           "arrowhead": 0,
           "arrowwidth": 1
          },
          "autotypenumbers": "strict",
          "coloraxis": {
           "colorbar": {
            "outlinewidth": 0,
            "ticks": ""
           }
          },
          "colorscale": {
           "diverging": [
            [
             0,
             "#8e0152"
            ],
            [
             0.1,
             "#c51b7d"
            ],
            [
             0.2,
             "#de77ae"
            ],
            [
             0.3,
             "#f1b6da"
            ],
            [
             0.4,
             "#fde0ef"
            ],
            [
             0.5,
             "#f7f7f7"
            ],
            [
             0.6,
             "#e6f5d0"
            ],
            [
             0.7,
             "#b8e186"
            ],
            [
             0.8,
             "#7fbc41"
            ],
            [
             0.9,
             "#4d9221"
            ],
            [
             1,
             "#276419"
            ]
           ],
           "sequential": [
            [
             0,
             "#0d0887"
            ],
            [
             0.1111111111111111,
             "#46039f"
            ],
            [
             0.2222222222222222,
             "#7201a8"
            ],
            [
             0.3333333333333333,
             "#9c179e"
            ],
            [
             0.4444444444444444,
             "#bd3786"
            ],
            [
             0.5555555555555556,
             "#d8576b"
            ],
            [
             0.6666666666666666,
             "#ed7953"
            ],
            [
             0.7777777777777778,
             "#fb9f3a"
            ],
            [
             0.8888888888888888,
             "#fdca26"
            ],
            [
             1,
             "#f0f921"
            ]
           ],
           "sequentialminus": [
            [
             0,
             "#0d0887"
            ],
            [
             0.1111111111111111,
             "#46039f"
            ],
            [
             0.2222222222222222,
             "#7201a8"
            ],
            [
             0.3333333333333333,
             "#9c179e"
            ],
            [
             0.4444444444444444,
             "#bd3786"
            ],
            [
             0.5555555555555556,
             "#d8576b"
            ],
            [
             0.6666666666666666,
             "#ed7953"
            ],
            [
             0.7777777777777778,
             "#fb9f3a"
            ],
            [
             0.8888888888888888,
             "#fdca26"
            ],
            [
             1,
             "#f0f921"
            ]
           ]
          },
          "colorway": [
           "#636efa",
           "#EF553B",
           "#00cc96",
           "#ab63fa",
           "#FFA15A",
           "#19d3f3",
           "#FF6692",
           "#B6E880",
           "#FF97FF",
           "#FECB52"
          ],
          "font": {
           "color": "#2a3f5f"
          },
          "geo": {
           "bgcolor": "white",
           "lakecolor": "white",
           "landcolor": "#E5ECF6",
           "showlakes": true,
           "showland": true,
           "subunitcolor": "white"
          },
          "hoverlabel": {
           "align": "left"
          },
          "hovermode": "closest",
          "mapbox": {
           "style": "light"
          },
          "paper_bgcolor": "white",
          "plot_bgcolor": "#E5ECF6",
          "polar": {
           "angularaxis": {
            "gridcolor": "white",
            "linecolor": "white",
            "ticks": ""
           },
           "bgcolor": "#E5ECF6",
           "radialaxis": {
            "gridcolor": "white",
            "linecolor": "white",
            "ticks": ""
           }
          },
          "scene": {
           "xaxis": {
            "backgroundcolor": "#E5ECF6",
            "gridcolor": "white",
            "gridwidth": 2,
            "linecolor": "white",
            "showbackground": true,
            "ticks": "",
            "zerolinecolor": "white"
           },
           "yaxis": {
            "backgroundcolor": "#E5ECF6",
            "gridcolor": "white",
            "gridwidth": 2,
            "linecolor": "white",
            "showbackground": true,
            "ticks": "",
            "zerolinecolor": "white"
           },
           "zaxis": {
            "backgroundcolor": "#E5ECF6",
            "gridcolor": "white",
            "gridwidth": 2,
            "linecolor": "white",
            "showbackground": true,
            "ticks": "",
            "zerolinecolor": "white"
           }
          },
          "shapedefaults": {
           "line": {
            "color": "#2a3f5f"
           }
          },
          "ternary": {
           "aaxis": {
            "gridcolor": "white",
            "linecolor": "white",
            "ticks": ""
           },
           "baxis": {
            "gridcolor": "white",
            "linecolor": "white",
            "ticks": ""
           },
           "bgcolor": "#E5ECF6",
           "caxis": {
            "gridcolor": "white",
            "linecolor": "white",
            "ticks": ""
           }
          },
          "title": {
           "x": 0.05
          },
          "xaxis": {
           "automargin": true,
           "gridcolor": "white",
           "linecolor": "white",
           "ticks": "",
           "title": {
            "standoff": 15
           },
           "zerolinecolor": "white",
           "zerolinewidth": 2
          },
          "yaxis": {
           "automargin": true,
           "gridcolor": "white",
           "linecolor": "white",
           "ticks": "",
           "title": {
            "standoff": 15
           },
           "zerolinecolor": "white",
           "zerolinewidth": 2
          }
         }
        }
       }
      }
     },
     "metadata": {},
     "output_type": "display_data"
    },
    {
     "data": {
      "application/vnd.plotly.v1+json": {
       "config": {
        "plotlyServerURL": "https://plot.ly"
       },
       "data": [
        {
         "hovertemplate": "x=%{x}<br>y=%{y}<br>z=%{z}<br>color=%{marker.color}<extra></extra>",
         "legendgroup": "",
         "marker": {
          "color": [
           -5.153419017791748,
           12.03036117553711,
           12.03036117553711,
           -4.55239725112915,
           -4.679862976074219,
           -5.094032287597656,
           -4.019805908203125,
           -4.886692047119141,
           -4.811487197875977,
           -3.565081834793091,
           -5.127318859100342,
           -4.757308483123779,
           -4.34561824798584,
           12.03036117553711,
           -2.0380992889404297,
           -5.009174823760986,
           -5.031196594238281,
           -3.041501045227051,
           -5.153406143188477,
           -4.276016712188721,
           -4.727432727813721,
           -5.115074634552002,
           -3.8170230388641357,
           -4.846498489379883,
           -4.924181938171387,
           -4.195218563079834,
           -5.064211368560791,
           -4.597282409667969,
           -4.4443230628967285,
           12.03036117553711,
           12.03036117553711,
           -4.983018398284912,
           -4.988186359405518,
           12.03036117553711,
           12.03036117553711,
           -4.501363754272461,
           -4.6402506828308105,
           -5.059925556182861,
           -4.094252586364746,
           -4.930136203765869,
           -4.876641273498535,
           -3.736194610595703,
           -5.098622798919678,
           -4.742753505706787,
           -4.311774730682373,
           -5.138595104217529,
           -2.797363758087158,
           -5.050744533538818,
           -5.017218589782715,
           12.03036117553711
          ],
          "coloraxis": "coloraxis",
          "symbol": "circle"
         },
         "mode": "markers",
         "name": "",
         "scene": "scene",
         "showlegend": false,
         "type": "scatter3d",
         "x": [
          0,
          0.1512773334980011,
          -0.3716798722743988,
          0.21152366697788239,
          -0.19057337939739227,
          0.04500110447406769,
          0.10299551486968994,
          -0.12592995166778564,
          -0.13109439611434937,
          0.3242610692977905,
          0.03302699327468872,
          -0.02558240480720997,
          -0.02182748354971409,
          -0.6397477388381958,
          -0.37055283784866333,
          0.05069039389491081,
          -0.09368696808815002,
          0.21804995834827423,
          -0.00015765131684020162,
          -0.1179724857211113,
          0.17000359296798706,
          -0.014651976525783539,
          -0.2460077702999115,
          0.1523990035057068,
          0.00896458886563778,
          -0.2320396900177002,
          -0.07792965322732925,
          0.18361425399780273,
          -0.10246482491493225,
          0.7131693363189697,
          0.28241783380508423,
          -0.0035308797378093004,
          -0.06556647270917892,
          0.4876561760902405,
          0.35352960228919983,
          0.03591969981789589,
          0.05345243588089943,
          -0.0763610303401947,
          -0.28767433762550354,
          0.09861212968826294,
          0.12328779697418213,
          -0.026545412838459015,
          -0.05518077313899994,
          0.17288488149642944,
          -0.24565285444259644,
          0.013546381145715714,
          0.007875806652009487,
          -0.05320568010210991,
          -0.02845689468085766,
          -0.23007284104824066
         ],
         "y": [
          0,
          -0.4947914481163025,
          0.43940919637680054,
          -0.05063805356621742,
          -0.023111190646886826,
          -0.04700051248073578,
          0.2785094082355499,
          -0.06494806706905365,
          0.09446867555379868,
          0.10468094795942307,
          0.02738790214061737,
          -0.17279426753520966,
          0.2519174814224243,
          -0.6954181790351868,
          0.1615966409444809,
          -0.08929553627967834,
          0.010103623382747173,
          -0.3028613328933716,
          0.000920747930649668,
          -0.23546092212200165,
          0.06365625560283661,
          -0.05000761151313782,
          0.20255717635154724,
          0.007908733561635017,
          0.13051317632198334,
          -0.14716647565364838,
          -0.01859818771481514,
          -0.09958277642726898,
          0.2134968489408493,
          -0.21507993340492249,
          0.35321182012557983,
          -0.11193258315324783,
          0.08857652544975281,
          -0.04492852836847305,
          0.6939634680747986,
          -0.22400006651878357,
          0.19299553334712982,
          -0.030081763863563538,
          -0.012533762492239475,
          -0.08320115506649017,
          0.0753430724143982,
          -0.3252163827419281,
          0.029261596500873566,
          0.0425606407225132,
          0.07901392877101898,
          -0.029293213039636612,
          0.38360023498535156,
          -0.0677243322134018,
          0.09551794826984406,
          -0.37338584661483765
         ],
         "z": [
          1,
          0.8557432889938354,
          0.8177860975265503,
          0.9760602712631226,
          0.981400728225708,
          0.9978805780410767,
          0.95489501953125,
          0.9899109601974487,
          0.9868583679199219,
          0.9401581287384033,
          0.9990791082382202,
          0.9846256971359253,
          0.9675025939941406,
          0.3272857666015625,
          0.9146460294723511,
          0.9947143793106079,
          0.9955505132675171,
          0.9277548789978027,
          0.9999995231628418,
          0.964697003364563,
          0.9833856821060181,
          0.9986414909362793,
          0.9478664398193359,
          0.9882874488830566,
          0.9914062023162842,
          0.961509108543396,
          0.9967852830886841,
          0.9779413938522339,
          0.9715554714202881,
          0.6671804189682007,
          0.8918977975845337,
          0.9937095642089844,
          0.9939090013504028,
          0.8718792200088501,
          0.627240777015686,
          0.9739270210266113,
          0.9797427654266357,
          0.9966263771057129,
          0.9576464891433716,
          0.991641640663147,
          0.989506721496582,
          0.945266842842102,
          0.9980475902557373,
          0.9840220212936401,
          0.9661322832107544,
          0.9994790554046631,
          0.9234657287597656,
          0.9962842464447021,
          0.995020866394043,
          0.8986932039260864
         ]
        }
       ],
       "layout": {
        "coloraxis": {
         "colorbar": {
          "title": {
           "text": "color"
          }
         },
         "colorscale": [
          [
           0,
           "#0d0887"
          ],
          [
           0.1111111111111111,
           "#46039f"
          ],
          [
           0.2222222222222222,
           "#7201a8"
          ],
          [
           0.3333333333333333,
           "#9c179e"
          ],
          [
           0.4444444444444444,
           "#bd3786"
          ],
          [
           0.5555555555555556,
           "#d8576b"
          ],
          [
           0.6666666666666666,
           "#ed7953"
          ],
          [
           0.7777777777777778,
           "#fb9f3a"
          ],
          [
           0.8888888888888888,
           "#fdca26"
          ],
          [
           1,
           "#f0f921"
          ]
         ]
        },
        "legend": {
         "tracegroupgap": 0
        },
        "margin": {
         "t": 60
        },
        "scene": {
         "domain": {
          "x": [
           0,
           1
          ],
          "y": [
           0,
           1
          ]
         },
         "xaxis": {
          "title": {
           "text": "x"
          }
         },
         "yaxis": {
          "title": {
           "text": "y"
          }
         },
         "zaxis": {
          "title": {
           "text": "z"
          }
         }
        },
        "template": {
         "data": {
          "bar": [
           {
            "error_x": {
             "color": "#2a3f5f"
            },
            "error_y": {
             "color": "#2a3f5f"
            },
            "marker": {
             "line": {
              "color": "#E5ECF6",
              "width": 0.5
             },
             "pattern": {
              "fillmode": "overlay",
              "size": 10,
              "solidity": 0.2
             }
            },
            "type": "bar"
           }
          ],
          "barpolar": [
           {
            "marker": {
             "line": {
              "color": "#E5ECF6",
              "width": 0.5
             },
             "pattern": {
              "fillmode": "overlay",
              "size": 10,
              "solidity": 0.2
             }
            },
            "type": "barpolar"
           }
          ],
          "carpet": [
           {
            "aaxis": {
             "endlinecolor": "#2a3f5f",
             "gridcolor": "white",
             "linecolor": "white",
             "minorgridcolor": "white",
             "startlinecolor": "#2a3f5f"
            },
            "baxis": {
             "endlinecolor": "#2a3f5f",
             "gridcolor": "white",
             "linecolor": "white",
             "minorgridcolor": "white",
             "startlinecolor": "#2a3f5f"
            },
            "type": "carpet"
           }
          ],
          "choropleth": [
           {
            "colorbar": {
             "outlinewidth": 0,
             "ticks": ""
            },
            "type": "choropleth"
           }
          ],
          "contour": [
           {
            "colorbar": {
             "outlinewidth": 0,
             "ticks": ""
            },
            "colorscale": [
             [
              0,
              "#0d0887"
             ],
             [
              0.1111111111111111,
              "#46039f"
             ],
             [
              0.2222222222222222,
              "#7201a8"
             ],
             [
              0.3333333333333333,
              "#9c179e"
             ],
             [
              0.4444444444444444,
              "#bd3786"
             ],
             [
              0.5555555555555556,
              "#d8576b"
             ],
             [
              0.6666666666666666,
              "#ed7953"
             ],
             [
              0.7777777777777778,
              "#fb9f3a"
             ],
             [
              0.8888888888888888,
              "#fdca26"
             ],
             [
              1,
              "#f0f921"
             ]
            ],
            "type": "contour"
           }
          ],
          "contourcarpet": [
           {
            "colorbar": {
             "outlinewidth": 0,
             "ticks": ""
            },
            "type": "contourcarpet"
           }
          ],
          "heatmap": [
           {
            "colorbar": {
             "outlinewidth": 0,
             "ticks": ""
            },
            "colorscale": [
             [
              0,
              "#0d0887"
             ],
             [
              0.1111111111111111,
              "#46039f"
             ],
             [
              0.2222222222222222,
              "#7201a8"
             ],
             [
              0.3333333333333333,
              "#9c179e"
             ],
             [
              0.4444444444444444,
              "#bd3786"
             ],
             [
              0.5555555555555556,
              "#d8576b"
             ],
             [
              0.6666666666666666,
              "#ed7953"
             ],
             [
              0.7777777777777778,
              "#fb9f3a"
             ],
             [
              0.8888888888888888,
              "#fdca26"
             ],
             [
              1,
              "#f0f921"
             ]
            ],
            "type": "heatmap"
           }
          ],
          "heatmapgl": [
           {
            "colorbar": {
             "outlinewidth": 0,
             "ticks": ""
            },
            "colorscale": [
             [
              0,
              "#0d0887"
             ],
             [
              0.1111111111111111,
              "#46039f"
             ],
             [
              0.2222222222222222,
              "#7201a8"
             ],
             [
              0.3333333333333333,
              "#9c179e"
             ],
             [
              0.4444444444444444,
              "#bd3786"
             ],
             [
              0.5555555555555556,
              "#d8576b"
             ],
             [
              0.6666666666666666,
              "#ed7953"
             ],
             [
              0.7777777777777778,
              "#fb9f3a"
             ],
             [
              0.8888888888888888,
              "#fdca26"
             ],
             [
              1,
              "#f0f921"
             ]
            ],
            "type": "heatmapgl"
           }
          ],
          "histogram": [
           {
            "marker": {
             "pattern": {
              "fillmode": "overlay",
              "size": 10,
              "solidity": 0.2
             }
            },
            "type": "histogram"
           }
          ],
          "histogram2d": [
           {
            "colorbar": {
             "outlinewidth": 0,
             "ticks": ""
            },
            "colorscale": [
             [
              0,
              "#0d0887"
             ],
             [
              0.1111111111111111,
              "#46039f"
             ],
             [
              0.2222222222222222,
              "#7201a8"
             ],
             [
              0.3333333333333333,
              "#9c179e"
             ],
             [
              0.4444444444444444,
              "#bd3786"
             ],
             [
              0.5555555555555556,
              "#d8576b"
             ],
             [
              0.6666666666666666,
              "#ed7953"
             ],
             [
              0.7777777777777778,
              "#fb9f3a"
             ],
             [
              0.8888888888888888,
              "#fdca26"
             ],
             [
              1,
              "#f0f921"
             ]
            ],
            "type": "histogram2d"
           }
          ],
          "histogram2dcontour": [
           {
            "colorbar": {
             "outlinewidth": 0,
             "ticks": ""
            },
            "colorscale": [
             [
              0,
              "#0d0887"
             ],
             [
              0.1111111111111111,
              "#46039f"
             ],
             [
              0.2222222222222222,
              "#7201a8"
             ],
             [
              0.3333333333333333,
              "#9c179e"
             ],
             [
              0.4444444444444444,
              "#bd3786"
             ],
             [
              0.5555555555555556,
              "#d8576b"
             ],
             [
              0.6666666666666666,
              "#ed7953"
             ],
             [
              0.7777777777777778,
              "#fb9f3a"
             ],
             [
              0.8888888888888888,
              "#fdca26"
             ],
             [
              1,
              "#f0f921"
             ]
            ],
            "type": "histogram2dcontour"
           }
          ],
          "mesh3d": [
           {
            "colorbar": {
             "outlinewidth": 0,
             "ticks": ""
            },
            "type": "mesh3d"
           }
          ],
          "parcoords": [
           {
            "line": {
             "colorbar": {
              "outlinewidth": 0,
              "ticks": ""
             }
            },
            "type": "parcoords"
           }
          ],
          "pie": [
           {
            "automargin": true,
            "type": "pie"
           }
          ],
          "scatter": [
           {
            "fillpattern": {
             "fillmode": "overlay",
             "size": 10,
             "solidity": 0.2
            },
            "type": "scatter"
           }
          ],
          "scatter3d": [
           {
            "line": {
             "colorbar": {
              "outlinewidth": 0,
              "ticks": ""
             }
            },
            "marker": {
             "colorbar": {
              "outlinewidth": 0,
              "ticks": ""
             }
            },
            "type": "scatter3d"
           }
          ],
          "scattercarpet": [
           {
            "marker": {
             "colorbar": {
              "outlinewidth": 0,
              "ticks": ""
             }
            },
            "type": "scattercarpet"
           }
          ],
          "scattergeo": [
           {
            "marker": {
             "colorbar": {
              "outlinewidth": 0,
              "ticks": ""
             }
            },
            "type": "scattergeo"
           }
          ],
          "scattergl": [
           {
            "marker": {
             "colorbar": {
              "outlinewidth": 0,
              "ticks": ""
             }
            },
            "type": "scattergl"
           }
          ],
          "scattermapbox": [
           {
            "marker": {
             "colorbar": {
              "outlinewidth": 0,
              "ticks": ""
             }
            },
            "type": "scattermapbox"
           }
          ],
          "scatterpolar": [
           {
            "marker": {
             "colorbar": {
              "outlinewidth": 0,
              "ticks": ""
             }
            },
            "type": "scatterpolar"
           }
          ],
          "scatterpolargl": [
           {
            "marker": {
             "colorbar": {
              "outlinewidth": 0,
              "ticks": ""
             }
            },
            "type": "scatterpolargl"
           }
          ],
          "scatterternary": [
           {
            "marker": {
             "colorbar": {
              "outlinewidth": 0,
              "ticks": ""
             }
            },
            "type": "scatterternary"
           }
          ],
          "surface": [
           {
            "colorbar": {
             "outlinewidth": 0,
             "ticks": ""
            },
            "colorscale": [
             [
              0,
              "#0d0887"
             ],
             [
              0.1111111111111111,
              "#46039f"
             ],
             [
              0.2222222222222222,
              "#7201a8"
             ],
             [
              0.3333333333333333,
              "#9c179e"
             ],
             [
              0.4444444444444444,
              "#bd3786"
             ],
             [
              0.5555555555555556,
              "#d8576b"
             ],
             [
              0.6666666666666666,
              "#ed7953"
             ],
             [
              0.7777777777777778,
              "#fb9f3a"
             ],
             [
              0.8888888888888888,
              "#fdca26"
             ],
             [
              1,
              "#f0f921"
             ]
            ],
            "type": "surface"
           }
          ],
          "table": [
           {
            "cells": {
             "fill": {
              "color": "#EBF0F8"
             },
             "line": {
              "color": "white"
             }
            },
            "header": {
             "fill": {
              "color": "#C8D4E3"
             },
             "line": {
              "color": "white"
             }
            },
            "type": "table"
           }
          ]
         },
         "layout": {
          "annotationdefaults": {
           "arrowcolor": "#2a3f5f",
           "arrowhead": 0,
           "arrowwidth": 1
          },
          "autotypenumbers": "strict",
          "coloraxis": {
           "colorbar": {
            "outlinewidth": 0,
            "ticks": ""
           }
          },
          "colorscale": {
           "diverging": [
            [
             0,
             "#8e0152"
            ],
            [
             0.1,
             "#c51b7d"
            ],
            [
             0.2,
             "#de77ae"
            ],
            [
             0.3,
             "#f1b6da"
            ],
            [
             0.4,
             "#fde0ef"
            ],
            [
             0.5,
             "#f7f7f7"
            ],
            [
             0.6,
             "#e6f5d0"
            ],
            [
             0.7,
             "#b8e186"
            ],
            [
             0.8,
             "#7fbc41"
            ],
            [
             0.9,
             "#4d9221"
            ],
            [
             1,
             "#276419"
            ]
           ],
           "sequential": [
            [
             0,
             "#0d0887"
            ],
            [
             0.1111111111111111,
             "#46039f"
            ],
            [
             0.2222222222222222,
             "#7201a8"
            ],
            [
             0.3333333333333333,
             "#9c179e"
            ],
            [
             0.4444444444444444,
             "#bd3786"
            ],
            [
             0.5555555555555556,
             "#d8576b"
            ],
            [
             0.6666666666666666,
             "#ed7953"
            ],
            [
             0.7777777777777778,
             "#fb9f3a"
            ],
            [
             0.8888888888888888,
             "#fdca26"
            ],
            [
             1,
             "#f0f921"
            ]
           ],
           "sequentialminus": [
            [
             0,
             "#0d0887"
            ],
            [
             0.1111111111111111,
             "#46039f"
            ],
            [
             0.2222222222222222,
             "#7201a8"
            ],
            [
             0.3333333333333333,
             "#9c179e"
            ],
            [
             0.4444444444444444,
             "#bd3786"
            ],
            [
             0.5555555555555556,
             "#d8576b"
            ],
            [
             0.6666666666666666,
             "#ed7953"
            ],
            [
             0.7777777777777778,
             "#fb9f3a"
            ],
            [
             0.8888888888888888,
             "#fdca26"
            ],
            [
             1,
             "#f0f921"
            ]
           ]
          },
          "colorway": [
           "#636efa",
           "#EF553B",
           "#00cc96",
           "#ab63fa",
           "#FFA15A",
           "#19d3f3",
           "#FF6692",
           "#B6E880",
           "#FF97FF",
           "#FECB52"
          ],
          "font": {
           "color": "#2a3f5f"
          },
          "geo": {
           "bgcolor": "white",
           "lakecolor": "white",
           "landcolor": "#E5ECF6",
           "showlakes": true,
           "showland": true,
           "subunitcolor": "white"
          },
          "hoverlabel": {
           "align": "left"
          },
          "hovermode": "closest",
          "mapbox": {
           "style": "light"
          },
          "paper_bgcolor": "white",
          "plot_bgcolor": "#E5ECF6",
          "polar": {
           "angularaxis": {
            "gridcolor": "white",
            "linecolor": "white",
            "ticks": ""
           },
           "bgcolor": "#E5ECF6",
           "radialaxis": {
            "gridcolor": "white",
            "linecolor": "white",
            "ticks": ""
           }
          },
          "scene": {
           "xaxis": {
            "backgroundcolor": "#E5ECF6",
            "gridcolor": "white",
            "gridwidth": 2,
            "linecolor": "white",
            "showbackground": true,
            "ticks": "",
            "zerolinecolor": "white"
           },
           "yaxis": {
            "backgroundcolor": "#E5ECF6",
            "gridcolor": "white",
            "gridwidth": 2,
            "linecolor": "white",
            "showbackground": true,
            "ticks": "",
            "zerolinecolor": "white"
           },
           "zaxis": {
            "backgroundcolor": "#E5ECF6",
            "gridcolor": "white",
            "gridwidth": 2,
            "linecolor": "white",
            "showbackground": true,
            "ticks": "",
            "zerolinecolor": "white"
           }
          },
          "shapedefaults": {
           "line": {
            "color": "#2a3f5f"
           }
          },
          "ternary": {
           "aaxis": {
            "gridcolor": "white",
            "linecolor": "white",
            "ticks": ""
           },
           "baxis": {
            "gridcolor": "white",
            "linecolor": "white",
            "ticks": ""
           },
           "bgcolor": "#E5ECF6",
           "caxis": {
            "gridcolor": "white",
            "linecolor": "white",
            "ticks": ""
           }
          },
          "title": {
           "x": 0.05
          },
          "xaxis": {
           "automargin": true,
           "gridcolor": "white",
           "linecolor": "white",
           "ticks": "",
           "title": {
            "standoff": 15
           },
           "zerolinecolor": "white",
           "zerolinewidth": 2
          },
          "yaxis": {
           "automargin": true,
           "gridcolor": "white",
           "linecolor": "white",
           "ticks": "",
           "title": {
            "standoff": 15
           },
           "zerolinecolor": "white",
           "zerolinewidth": 2
          }
         }
        }
       }
      }
     },
     "metadata": {},
     "output_type": "display_data"
    }
   ],
   "source": [
    "device = torch.device('cpu')\n",
    "eps=torch.finfo(torch.float32).eps\n",
    "N = 50\n",
    "ray_mask = torch.ones((1, N), device=device, dtype=bool)\n",
    "roughness = torch.tensor(0.10)\n",
    "normal = torch.tensor([0, 0, 1.0], device=device).reshape(1, 3)\n",
    "viewdir = torch.tensor([0, 0, 1.0], device=device).reshape(1, 3)\n",
    "# sampler = CosineLobeSampler(512)\n",
    "sampler = GGXSampler(512)\n",
    "L, basis, prob = sampler.sample(None, viewdir, normal, roughness, roughness, ray_mask)\n",
    "H = normalize(L + normal)\n",
    "indiv_num_samples = ray_mask.sum(dim=1, keepdim=True).expand(ray_mask.shape)[ray_mask]\n",
    "ic(prob, indiv_num_samples)\n",
    "mipval = -prob.clip(min=eps).log() - (indiv_num_samples).clip(min=eps).log()\n",
    "# mipval = sampler.calculate_mipval(H, viewdir, normal, ray_mask, roughness, torch.eye(3).reshape(1, 3, 3))\n",
    "ic(mipval)\n",
    "\n",
    "w = 1024\n",
    "h = 512\n",
    "dw = (1-L[:, 2]**2).clip(min=eps).sqrt() * 2 * math.pi / w\n",
    "dh = torch.ones_like(dw) * math.pi / h\n",
    "saSample = mipval.reshape(-1)\n",
    "\n",
    "# saTexel is the ratio to the solid angle subtended by one pixel of the 0th mipmap level\n",
    "# num_pixels = self.bg_mat.numel() // 3\n",
    "# saTexel = distortion / num_pixels\n",
    "miplevel_w = ((saSample - torch.log(dw.clip(min=eps))) / math.log(2))\n",
    "miplevel_h = ((saSample - torch.log(dh.clip(min=eps))) / math.log(2))\n",
    "\n",
    "# distortion_w = 1/(1-u[:, 2]**2).clip(min=eps)\n",
    "dw2 = (1-L[:, 2]**2).clip(min=eps).sqrt()\n",
    "dh2 = torch.ones_like(dw2)\n",
    "\n",
    "saTexel_w = dw2 / h / w\n",
    "saTexel_h = dh2 / h / w\n",
    "# saTexel is the ratio to the solid angle subtended by one pixel of the 0th mipmap level\n",
    "# num_pixels = self.bg_mat.numel() // 3\n",
    "# saTexel = distortion / num_pixels\n",
    "miplevel_w2 = ((saSample - torch.log(saTexel_w.clip(min=eps))) / math.log(2))/2\n",
    "miplevel_h2 = ((saSample - torch.log(saTexel_h.clip(min=eps))) / math.log(2))/2\n",
    "\n",
    "# px.scatter_3d(x=L[:, 0], y=L[:, 1], z=L[:, 2], color=miplevel)\n",
    "px.scatter_3d(x=L[:, 0], y=L[:, 1], z=L[:, 2], color=miplevel_h).show()\n",
    "px.scatter_3d(x=L[:, 0], y=L[:, 1], z=L[:, 2], color=miplevel_h2).show()\n",
    "px.scatter_3d(x=L[:, 0], y=L[:, 1], z=L[:, 2], color=mipval).show()\n"
   ]
  },
  {
   "cell_type": "code",
   "execution_count": null,
   "metadata": {},
   "outputs": [],
   "source": []
  },
  {
   "cell_type": "code",
   "execution_count": null,
   "metadata": {},
   "outputs": [],
   "source": []
  }
 ],
 "metadata": {
  "kernelspec": {
   "display_name": "Python 3.10.5 ('31')",
   "language": "python",
   "name": "python3"
  },
  "language_info": {
   "codemirror_mode": {
    "name": "ipython",
    "version": 3
   },
   "file_extension": ".py",
   "mimetype": "text/x-python",
   "name": "python",
   "nbconvert_exporter": "python",
   "pygments_lexer": "ipython3",
   "version": "3.10.5"
  },
  "orig_nbformat": 4,
  "vscode": {
   "interpreter": {
    "hash": "be76537492645a2c6be92a0ab2cc7fc4a631ad2e1167ca620f40cbb8b4259c8c"
   }
  }
 },
 "nbformat": 4,
 "nbformat_minor": 2
}
