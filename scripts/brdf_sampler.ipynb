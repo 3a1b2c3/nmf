{
 "cells": [
  {
   "cell_type": "code",
   "execution_count": 3,
   "metadata": {},
   "outputs": [
    {
     "name": "stdout",
     "output_type": "stream",
     "text": [
      "/home/amai/normalrf\n"
     ]
    }
   ],
   "source": [
    "from pathlib import Path\n",
    "import sys\n",
    "import os\n",
    "sys.path.append(str(Path(os.path.abspath('')).parent))\n",
    "print(Path(os.path.abspath('')).parent)"
   ]
  },
  {
   "cell_type": "code",
   "execution_count": 4,
   "metadata": {},
   "outputs": [],
   "source": [
    "import torch\n",
    "from models import safemath\n",
    "import math\n",
    "import plotly.express as px\n",
    "from icecream import ic"
   ]
  },
  {
   "cell_type": "code",
   "execution_count": 37,
   "metadata": {},
   "outputs": [],
   "source": [
    "\n",
    "def normalize(x):\n",
    "    return x / (torch.linalg.norm(x, dim=-1, keepdim=True)+1e-8)\n",
    "\n",
    "class PseudoRandomSampler(torch.nn.Module):\n",
    "    def __init__(self, max_samples) -> None:\n",
    "        super().__init__()\n",
    "        self.sampler = torch.quasirandom.SobolEngine(dimension=3, scramble=True)\n",
    "        self.max_samples = max_samples\n",
    "        angs = self.sampler.draw(max_samples)\n",
    "        self.register_buffer('angs', angs)\n",
    "\n",
    "    def draw(self, B, num_samples):\n",
    "        if num_samples > self.max_samples:\n",
    "            self.max_samples = num_samples\n",
    "            self.angs = self.sampler.draw(self.max_samples)\n",
    "        angs = self.angs.reshape(1, self.max_samples, 3)[:, :num_samples, :].expand(B, num_samples, 3)\n",
    "        # self.sampler = torch.quasirandom.SobolEngine(dimension=2, scramble=True)\n",
    "        # add random offset\n",
    "        offset = torch.rand(B, 1, 3, device=angs.device)*0.25\n",
    "        angs = (angs + offset) % 1.0\n",
    "        return angs\n",
    "\n",
    "    def update(self, *args, **kwargs):\n",
    "        pass\n",
    "\n",
    "class CosineLobeSampler(PseudoRandomSampler):\n",
    "    def sample(self, refdirs, viewdir, normal, r1, r2, ray_mask, eps=torch.finfo(torch.float32).eps):\n",
    "        num_samples = ray_mask.shape[1]\n",
    "        # viewdir: (B, 3)\n",
    "        # normal: (B, 3)\n",
    "        # r1, r2: B roughness values for anisotropic roughness\n",
    "        device = normal.device\n",
    "        B = normal.shape[0]\n",
    "\n",
    "        # establish basis for BRDF\n",
    "        z_up = torch.tensor([0.0, 0.0, 1.0], device=device).reshape(1, 3).expand(B, 3)\n",
    "        x_up = torch.tensor([-1.0, 0.0, 0.0], device=device).reshape(1, 3).expand(B, 3)\n",
    "        up = torch.where(normal[:, 2:3] < 0.9, z_up, x_up)\n",
    "        tangent = normalize(torch.linalg.cross(up, normal))\n",
    "        bitangent = normalize(torch.linalg.cross(normal, tangent))\n",
    "        # B, 3, 3\n",
    "        row_world_basis = torch.stack([tangent, bitangent, normal], dim=1).reshape(B, 3, 3)\n",
    "\n",
    "        # GGXVNDF\n",
    "        # V_l = torch.matmul(torch.inverse(row_world_basis.permute(0, 2, 1)), viewdir.unsqueeze(-1)).squeeze(-1)\n",
    "        # ic((normal*viewdir).sum(dim=-1).min(), (normal*viewdir).sum(dim=-1).max())\n",
    "        # ic(1, V_l.min(dim=0), V_l.max(dim=0))\n",
    "        V_l = torch.matmul(row_world_basis, viewdir.unsqueeze(-1)).squeeze(-1)\n",
    "        # ic(2, V_l.min(dim=0), V_l.max(dim=0))\n",
    "        r1_c = r1.squeeze(-1)\n",
    "        r2_c = r2.squeeze(-1)\n",
    "\n",
    "        angs = self.draw(B, num_samples).to(device)\n",
    "\n",
    "        # here is where things get really large\n",
    "        u1 = angs[..., 0]\n",
    "        u2 = angs[..., 1]\n",
    "        u3 = angs[..., 2]\n",
    "\n",
    "        # stretch and mask stuff to reduce memory\n",
    "        r_mask1 = r1_c.reshape(-1, 1).expand(u1.shape)[ray_mask]\n",
    "        r_mask2 = r2_c.reshape(-1, 1).expand(u1.shape)[ray_mask]\n",
    "\n",
    "        u_mask = angs[ray_mask]\n",
    "        u1_mask = u1[ray_mask]\n",
    "        u2_mask = u2[ray_mask]\n",
    "        u3_mask = u3[ray_mask]\n",
    "        row_world_basis_mask = row_world_basis.permute(0, 2, 1).reshape(B, 1, 3, 3).expand(B, num_samples, 3, 3)[ray_mask]\n",
    "\n",
    "        \n",
    "        sphere_noise = normalize(u_mask*2-1)\n",
    "        # so this function is the inverse of the CDF\n",
    "        H_l = normalize(r_mask1.reshape(-1, 1) * sphere_noise + torch.tensor([0.0, 0.0, 1.0], device=device).reshape(1, -1))\n",
    "\n",
    "        first = torch.zeros_like(ray_mask)\n",
    "        first[:, 0] = True\n",
    "        H_l[first[ray_mask], 0] = 0\n",
    "        H_l[first[ray_mask], 1] = 0\n",
    "        H_l[first[ray_mask], 2] = 1\n",
    "\n",
    "        H = torch.matmul(row_world_basis_mask, H_l.unsqueeze(-1)).squeeze(-1)\n",
    "        # H = torch.einsum('bni,bij->bnj', H_l, row_world_basis)\n",
    "\n",
    "        V = viewdir.unsqueeze(1).expand(-1, num_samples, 3)[ray_mask]\n",
    "        # N = normal.reshape(-1, 1, 3).expand(-1, num_samples, 3)[ray_mask]\n",
    "        L = (2.0 * (V * H).sum(dim=-1, keepdim=True) * H - V)\n",
    "\n",
    "        return L, row_world_basis_mask\n",
    "\n",
    "    def calculate_mipval(self, H, V, N, ray_mask, roughness, row_world_basis, eps=torch.finfo(torch.float32).eps):\n",
    "        num_samples = ray_mask.shape[1]\n",
    "        device = ray_mask.device\n",
    "        # H_l = torch.matmul(row_world_basis.permute(0, 2, 1), H.unsqueeze(-1)).squeeze(-1)\n",
    "        # sphere_noise = (H_l - torch.tensor([0.0, 0.0, 1.0], device=device).reshape(1, -1)) / roughness\n",
    "\n",
    "        costheta = (H * N).sum(dim=-1).clip(min=eps, max=1)\n",
    "\n",
    "        HdotV = (H * V).sum(dim=-1).abs().clip(min=eps, max=1)\n",
    "        NdotV = (N * V).sum(dim=-1).abs().clip(min=eps, max=1)\n",
    "        lpdf1 = -(2*math.pi*roughness.clip(min=eps)).log() + (2*costheta**2 + roughness**2-1).clip(min=eps).log() - 0.5*(roughness**2 + costheta**2 - 1).clip(min=eps).log()\n",
    "        lpdf = torch.where(costheta > (1-roughness*2).clip(min=eps).sqrt(), lpdf1, torch.zeros_like(lpdf1))\n",
    "        indiv_num_samples = ray_mask.sum(dim=1, keepdim=True).expand(-1, num_samples)[ray_mask]\n",
    "\n",
    "        # logD = -math.log(2*math.pi**2) - dTdtheta\n",
    "        # ic(NdotH.shape, NdotH, D, D.mean())\n",
    "        # px.scatter(x=NdotH[0].detach().cpu().flatten(), y=D[0].detach().cpu().flatten()).show()\n",
    "        # assert(False)\n",
    "        # pdf = D * HdotV / NdotV / roughness.reshape(-1, 1)\n",
    "        # pdf = NdotH / 4 / HdotV\n",
    "        # pdf = D# / NdotH\n",
    "        # mipval = -torch.log(indiv_num_samples.clip(min=1)) - lpdf\n",
    "        ic(lpdf.exp())\n",
    "        mipval = -torch.log(indiv_num_samples.clip(min=1)) - lpdf\n",
    "        return mipval\n",
    "\n",
    "class GGXSampler(PseudoRandomSampler):\n",
    "\n",
    "    def sample(self, refdirs, viewdir, normal, r1, r2, ray_mask):\n",
    "        num_samples = ray_mask.shape[1]\n",
    "        # viewdir: (B, 3)\n",
    "        # normal: (B, 3)\n",
    "        # r1, r2: B roughness values for anisotropic roughness\n",
    "        device = normal.device\n",
    "        B = normal.shape[0]\n",
    "\n",
    "        # establish basis for BRDF\n",
    "        z_up = torch.tensor([0.0, 0.0, 1.0], device=device).reshape(1, 3).expand(B, 3)\n",
    "        x_up = torch.tensor([-1.0, 0.0, 0.0], device=device).reshape(1, 3).expand(B, 3)\n",
    "        up = torch.where(normal[:, 2:3] < 0.999, z_up, x_up)\n",
    "        tangent = normalize(torch.linalg.cross(up, normal))\n",
    "        bitangent = normalize(torch.linalg.cross(normal, tangent))\n",
    "        # B, 3, 3\n",
    "        row_world_basis = torch.stack([tangent, bitangent, normal], dim=1).reshape(B, 3, 3)\n",
    "\n",
    "\n",
    "        # GGXVNDF\n",
    "        # V_l = torch.matmul(torch.inverse(row_world_basis.permute(0, 2, 1)), viewdir.unsqueeze(-1)).squeeze(-1)\n",
    "        # ic((normal*viewdir).sum(dim=-1).min(), (normal*viewdir).sum(dim=-1).max())\n",
    "        # ic(1, V_l.min(dim=0), V_l.max(dim=0))\n",
    "        V_l = torch.matmul(row_world_basis, viewdir.unsqueeze(-1)).squeeze(-1)\n",
    "        # ic(2, V_l.min(dim=0), V_l.max(dim=0))\n",
    "        r1_c = r1.squeeze(-1)\n",
    "        r2_c = r2.squeeze(-1)\n",
    "        V_stretch = normalize(torch.stack([r1_c*V_l[..., 0], r2_c*V_l[..., 1], V_l[..., 2]], dim=-1)).unsqueeze(1)\n",
    "        T1 = torch.where(V_stretch[..., 2:3] < 0.999, normalize(torch.linalg.cross(V_stretch, z_up.unsqueeze(1), dim=-1)), x_up.unsqueeze(1))\n",
    "        T2 = normalize(torch.linalg.cross(T1, V_stretch, dim=-1))\n",
    "        z = V_stretch[..., 2].reshape(-1, 1)\n",
    "        a = (1 / (1+z.detach()).clip(min=1e-5)).clip(max=1e4)\n",
    "        angs = self.draw(B, num_samples).to(device)\n",
    "\n",
    "        # here is where things get really large\n",
    "        u1 = angs[..., 0]\n",
    "        u2 = angs[..., 1]\n",
    "\n",
    "        # stretch and mask stuff to reduce memory\n",
    "        a_mask = a.expand(u1.shape)[ray_mask]\n",
    "\n",
    "        r_mask_u1 = r1_c.reshape(-1, 1).expand(u1.shape)[ray_mask]\n",
    "        r_mask1 = r_mask_u1\n",
    "        r_mask_u2 = r2_c.reshape(-1, 1).expand(u1.shape)[ray_mask]\n",
    "        r_mask2 = r_mask_u2\n",
    "\n",
    "        z_mask = z.expand(u1.shape)[ray_mask]\n",
    "        u1_mask = u1[ray_mask]\n",
    "        u2_mask = u2[ray_mask]\n",
    "        T1_mask = T1.expand(-1, num_samples, 3)[ray_mask]\n",
    "        T2_mask = T2.expand(-1, num_samples, 3)[ray_mask]\n",
    "        V_stretch_mask = V_stretch.expand(-1, num_samples, 3)[ray_mask]\n",
    "        row_world_basis_mask = row_world_basis.permute(0, 2, 1).reshape(B, 1, 3, 3).expand(B, num_samples, 3, 3)[ray_mask]\n",
    "\n",
    "        r = torch.sqrt(u1_mask)\n",
    "        phi = torch.where(u2_mask < a_mask, u2_mask/a_mask*math.pi, (u2_mask-a_mask)/(1-a_mask)*math.pi + math.pi)\n",
    "        P1 = (r*safemath.safe_cos(phi)).unsqueeze(-1)\n",
    "        P2 = (r*safemath.safe_sin(phi)*torch.where(u2_mask < a_mask, torch.tensor(1.0, device=device), z_mask)).unsqueeze(-1)\n",
    "        # ic((1-a).min(), a.min(), a.max(), phi.min(), phi.max(), (1-a).max())\n",
    "        N_stretch = P1*T1_mask + P2*T2_mask + (1 - P1*P1 - P2*P2).clip(min=0).sqrt() * V_stretch_mask\n",
    "        # H_l = normalize(torch.stack([r_mask1*N_stretch[..., 0], r_mask2*N_stretch[..., 1], N_stretch[..., 2].clip(min=0)], dim=-1))\n",
    "        H_l = normalize(torch.stack([r_mask1*N_stretch[..., 0], r_mask2*N_stretch[..., 1], N_stretch[..., 2]], dim=-1))\n",
    "\n",
    "        first = torch.zeros_like(ray_mask)\n",
    "        first[:, 0] = True\n",
    "        H_l[first[ray_mask], 0] = 0\n",
    "        H_l[first[ray_mask], 1] = 0\n",
    "        H_l[first[ray_mask], 2] = 1\n",
    "\n",
    "        H = torch.matmul(row_world_basis_mask, H_l.unsqueeze(-1)).squeeze(-1)\n",
    "        # H = torch.einsum('bni,bij->bnj', H_l, row_world_basis)\n",
    "\n",
    "        V = viewdir.unsqueeze(1).expand(-1, num_samples, 3)[ray_mask]\n",
    "        # N = normal.reshape(-1, 1, 3).expand(-1, num_samples, 3)[ray_mask]\n",
    "        L = (2.0 * (V * H).sum(dim=-1, keepdim=True) * H - V)\n",
    "\n",
    "        return L, row_world_basis_mask\n",
    "\n",
    "    def calculate_mipval(self, H, V, N, ray_mask, roughness, row_world_basis, eps=torch.finfo(torch.float32).eps):\n",
    "        num_samples = ray_mask.shape[1]\n",
    "        NdotH = ((H * N).sum(dim=-1)).abs().clip(min=eps, max=1)\n",
    "        HdotV = (H * V).sum(dim=-1).abs().clip(min=eps, max=1)\n",
    "        NdotV = (N * V).sum(dim=-1).abs().clip(min=eps, max=1)\n",
    "        logD = 2*torch.log(roughness.clip(min=eps)) - 2*torch.log((NdotH**2*(roughness**2-1)+1).clip(min=eps))\n",
    "        # ic(NdotH.shape, NdotH, D, D.mean())\n",
    "        # px.scatter(x=NdotH[0].detach().cpu().flatten(), y=D[0].detach().cpu().flatten()).show()\n",
    "        # assert(False)\n",
    "        # ic(NdotH.mean())\n",
    "        lpdf = logD + torch.log(HdotV) - torch.log(NdotV)# - torch.log(roughness.clip(min=1e-5))\n",
    "        # pdf = D * HdotV / NdotV / roughness.reshape(-1, 1)\n",
    "        # pdf = NdotH / 4 / HdotV\n",
    "        # pdf = D# / NdotH\n",
    "        indiv_num_samples = ray_mask.sum(dim=1, keepdim=True).expand(-1, num_samples)[ray_mask]\n",
    "        mipval = -torch.log(indiv_num_samples.clip(min=1)) - lpdf\n",
    "        return mipval"
   ]
  },
  {
   "cell_type": "code",
   "execution_count": 40,
   "metadata": {},
   "outputs": [
    {
     "name": "stderr",
     "output_type": "stream",
     "text": [
      "ic| lpdf.exp(): tensor([  4.1380,   5.9331,  12.9328,   7.3276,   5.9556,   4.3309,   8.7568,\n",
      "                        358.9373,   6.4842,  11.1786,   4.8206,  19.6367,  24.4056,   5.3667,\n",
      "                          5.7373,   5.2648,  20.5116,   6.2983,   9.3769,   5.3954,   7.5152,\n",
      "                         72.1078,   4.9987,   6.0757,   5.0162,   6.5789,   4.1407,  14.1945,\n",
      "                         10.0658,   4.6241, 173.8466,  11.8721,   4.7581,   9.6617,   8.4759,\n",
      "                         53.0511,   9.8183,   5.2610, 903.2986,   4.8928,  18.5293,   7.2725,\n",
      "                          4.7223,   5.7389,  10.0349,  17.8297,   6.0306,  12.0802,   6.5061,\n",
      "                         11.9612])\n",
      "ic| L.min(): tensor(-0.3854)\n",
      "ic| mipval: tensor([ -5.3322,  -5.6926,  -6.4718,  -5.9037,  -5.6963,  -5.3778,  -6.0819,\n",
      "                     -9.7952,  -5.7814,  -6.3260,  -5.4849,  -6.8894,  -7.1068,  -5.5922,\n",
      "                     -5.6590,  -5.5731,  -6.9330,  -5.7523,  -6.1503,  -5.5976,  -5.9289,\n",
      "                     -8.1902,  -5.5212,  -5.7163,  -5.5247,  -5.7959,  -5.3329,  -6.5649,\n",
      "                     -6.2212,  -5.4433,  -9.0702,  -6.3862,  -5.4719,  -6.1802,  -6.0493,\n",
      "                     -7.8833,  -6.1963,  -5.5723, -10.7181,  -5.4998,  -6.8314,  -5.8961,\n",
      "                     -5.4643,  -5.6593,  -6.2181,  -6.7929,  -5.7089,  -6.4036,  -5.7848,\n",
      "                     -6.3937])\n",
      "    miplevel: tensor([5.1536, 4.8937, 4.3316, 4.7414, 4.8910, 5.1207, 4.6129, 1.9343, 4.8296,\n",
      "                      4.4367, 5.0435, 4.0303, 3.8735, 4.9661, 4.9179, 4.9799, 3.9989, 4.8506,\n",
      "                      4.5635, 4.9622, 4.7232, 3.0920, 5.0173, 4.8765, 5.0148, 4.8192, 5.1531,\n",
      "                      4.2644, 4.5124, 5.0735, 2.4572, 4.3933, 5.0529, 4.5419, 4.6364, 3.3134,\n",
      "                      4.5303, 4.9804, 1.2685, 5.0327, 4.0722, 4.7469, 5.0583, 4.9177, 4.5146,\n",
      "                      4.1000, 4.8819, 4.3808, 4.8272, 4.3879])\n",
      "    math.log(saTexel*N): -8.564626244650869\n"
     ]
    },
    {
     "data": {
      "application/vnd.plotly.v1+json": {
       "config": {
        "plotlyServerURL": "https://plot.ly"
       },
       "data": [
        {
         "hovertemplate": "x=%{x}<br>y=%{y}<br>z=%{z}<br>color=%{marker.color}<extra></extra>",
         "legendgroup": "",
         "marker": {
          "color": [
           -5.332242965698242,
           -5.692577362060547,
           -6.471786022186279,
           -5.903669834136963,
           -5.696348190307617,
           -5.377805233001709,
           -6.081852436065674,
           -9.795170783996582,
           -5.78139066696167,
           -6.326025009155273,
           -5.4849138259887695,
           -6.889421463012695,
           -7.106836318969727,
           -5.592226982116699,
           -5.659005165100098,
           -5.573065280914307,
           -6.933013916015625,
           -5.7523040771484375,
           -6.150277137756348,
           -5.5975728034973145,
           -5.928948402404785,
           -8.190185546875,
           -5.5212082862854,
           -5.7163166999816895,
           -5.524692535400391,
           -5.795886039733887,
           -5.332895278930664,
           -6.564874649047852,
           -6.221170902252197,
           -5.443296432495117,
           -9.070196151733398,
           -6.3862104415893555,
           -5.471880912780762,
           -6.180197715759277,
           -6.049251556396484,
           -7.883279323577881,
           -6.196266174316406,
           -5.572340965270996,
           -10.718076705932617,
           -5.499794960021973,
           -6.831378936767578,
           -5.8961181640625,
           -5.464329242706299,
           -5.6592864990234375,
           -6.218087196350098,
           -6.792891025543213,
           -5.70887565612793,
           -6.403587341308594,
           -5.784767150878906,
           -6.39369010925293
          ],
          "coloraxis": "coloraxis",
          "symbol": "circle"
         },
         "mode": "markers",
         "name": "",
         "scene": "scene",
         "showlegend": false,
         "type": "scatter3d",
         "x": [
          0,
          -0.2366558313369751,
          0.31433048844337463,
          -0.10713958740234375,
          0.008075053803622723,
          -0.12155729532241821,
          0.32779645919799805,
          -0.3255089819431305,
          0.23763763904571533,
          -0.2638542652130127,
          0.21456573903560638,
          -0.2625848948955536,
          0.1858951896429062,
          -0.25079619884490967,
          0.07700706273317337,
          -0.08483773469924927,
          0.0599466934800148,
          -0.11701177060604095,
          0.31072112917900085,
          -0.14058154821395874,
          0.22207336127758026,
          -0.3853694200515747,
          0.18081751465797424,
          -0.24760469794273376,
          0.19056583940982819,
          -0.2900369465351105,
          -0.007991195656359196,
          -0.057911232113838196,
          0.12568406760692596,
          -0.18592721223831177,
          0.3257203698158264,
          0.3108464479446411,
          0.07025254517793655,
          -0.17836561799049377,
          0.349170058965683,
          -0.300216943025589,
          0.2452358454465866,
          -0.25724703073501587,
          0.09281587600708008,
          -0.0708094909787178,
          0.3387836515903473,
          -0.30862364172935486,
          0.18399447202682495,
          -0.12988118827342987,
          0.06796448677778244,
          -0.2777126729488373,
          0.2186114490032196,
          -0.25295624136924744,
          0.16625379025936127,
          -0.28589627146720886
         ],
         "y": [
          0,
          -0.17519719898700714,
          0.20424368977546692,
          0.31572508811950684,
          -0.29527395963668823,
          -0.036881741136312485,
          -0.13026665151119232,
          0.21823713183403015,
          0.20491744577884674,
          -0.25760501623153687,
          -0.028531331568956375,
          -0.2811306118965149,
          0.33973273634910583,
          0.08433817327022552,
          -0.2750178575515747,
          0.24316707253456116,
          0.3806103467941284,
          -0.2849314510822296,
          0.1781577169895172,
          -0.22637483477592468,
          -0.25309741497039795,
          -0.06838858872652054,
          -0.15071791410446167,
          0.169651597738266,
          0.14098036289215088,
          -0.1266443133354187,
          0.013523180037736893,
          -0.3733924329280853,
          0.34050408005714417,
          0.03744973987340927,
          -0.217795729637146,
          0.20346172153949738,
          0.1965663880109787,
          -0.3130403757095337,
          0.021106429398059845,
          0.2504110038280487,
          -0.26541534066200256,
          -0.0029403341468423605,
          -0.3807658851146698,
          0.2131810039281845,
          0.18031683564186096,
          -0.12339466065168381,
          -0.08813595026731491,
          -0.254442423582077,
          0.35634323954582214,
          0.2639195919036865,
          -0.2031174749135971,
          0.2730923295021057,
          0.26687559485435486,
          -0.2377445250749588
         ],
         "z": [
          1,
          0.95566725730896,
          0.9270821809768677,
          0.9427825212478638,
          0.9553784132003784,
          0.9918988943099976,
          0.9357243776321411,
          0.9200087785720825,
          0.9494930505752563,
          0.9295270442962646,
          0.9762929677963257,
          0.923046350479126,
          0.9219677448272705,
          0.9643590450286865,
          0.9583501815795898,
          0.966267466545105,
          0.9227904081344604,
          0.9513794183731079,
          0.9336552619934082,
          0.9638420343399048,
          0.9416077136993408,
          0.920224666595459,
          0.9718997478485107,
          0.9538921117782593,
          0.9714987277984619,
          0.9485987424850464,
          0.9998767375946045,
          0.9258642196655273,
          0.9318050146102905,
          0.9818495512008667,
          0.9200387001037598,
          0.9284276962280273,
          0.9779708385467529,
          0.9328404664993286,
          0.9368215799331665,
          0.9204152822494507,
          0.9324237108230591,
          0.966341495513916,
          0.9200015068054199,
          0.9744433164596558,
          0.9234236478805542,
          0.9431464672088623,
          0.9789676666259766,
          0.9583268165588379,
          0.931879997253418,
          0.9237000942230225,
          0.9544382095336914,
          0.928134560585022,
          0.9492824077606201,
          0.9283002614974976
         ]
        }
       ],
       "layout": {
        "coloraxis": {
         "colorbar": {
          "title": {
           "text": "color"
          }
         },
         "colorscale": [
          [
           0,
           "#0d0887"
          ],
          [
           0.1111111111111111,
           "#46039f"
          ],
          [
           0.2222222222222222,
           "#7201a8"
          ],
          [
           0.3333333333333333,
           "#9c179e"
          ],
          [
           0.4444444444444444,
           "#bd3786"
          ],
          [
           0.5555555555555556,
           "#d8576b"
          ],
          [
           0.6666666666666666,
           "#ed7953"
          ],
          [
           0.7777777777777778,
           "#fb9f3a"
          ],
          [
           0.8888888888888888,
           "#fdca26"
          ],
          [
           1,
           "#f0f921"
          ]
         ]
        },
        "legend": {
         "tracegroupgap": 0
        },
        "margin": {
         "t": 60
        },
        "scene": {
         "domain": {
          "x": [
           0,
           1
          ],
          "y": [
           0,
           1
          ]
         },
         "xaxis": {
          "title": {
           "text": "x"
          }
         },
         "yaxis": {
          "title": {
           "text": "y"
          }
         },
         "zaxis": {
          "title": {
           "text": "z"
          }
         }
        },
        "template": {
         "data": {
          "bar": [
           {
            "error_x": {
             "color": "#2a3f5f"
            },
            "error_y": {
             "color": "#2a3f5f"
            },
            "marker": {
             "line": {
              "color": "#E5ECF6",
              "width": 0.5
             },
             "pattern": {
              "fillmode": "overlay",
              "size": 10,
              "solidity": 0.2
             }
            },
            "type": "bar"
           }
          ],
          "barpolar": [
           {
            "marker": {
             "line": {
              "color": "#E5ECF6",
              "width": 0.5
             },
             "pattern": {
              "fillmode": "overlay",
              "size": 10,
              "solidity": 0.2
             }
            },
            "type": "barpolar"
           }
          ],
          "carpet": [
           {
            "aaxis": {
             "endlinecolor": "#2a3f5f",
             "gridcolor": "white",
             "linecolor": "white",
             "minorgridcolor": "white",
             "startlinecolor": "#2a3f5f"
            },
            "baxis": {
             "endlinecolor": "#2a3f5f",
             "gridcolor": "white",
             "linecolor": "white",
             "minorgridcolor": "white",
             "startlinecolor": "#2a3f5f"
            },
            "type": "carpet"
           }
          ],
          "choropleth": [
           {
            "colorbar": {
             "outlinewidth": 0,
             "ticks": ""
            },
            "type": "choropleth"
           }
          ],
          "contour": [
           {
            "colorbar": {
             "outlinewidth": 0,
             "ticks": ""
            },
            "colorscale": [
             [
              0,
              "#0d0887"
             ],
             [
              0.1111111111111111,
              "#46039f"
             ],
             [
              0.2222222222222222,
              "#7201a8"
             ],
             [
              0.3333333333333333,
              "#9c179e"
             ],
             [
              0.4444444444444444,
              "#bd3786"
             ],
             [
              0.5555555555555556,
              "#d8576b"
             ],
             [
              0.6666666666666666,
              "#ed7953"
             ],
             [
              0.7777777777777778,
              "#fb9f3a"
             ],
             [
              0.8888888888888888,
              "#fdca26"
             ],
             [
              1,
              "#f0f921"
             ]
            ],
            "type": "contour"
           }
          ],
          "contourcarpet": [
           {
            "colorbar": {
             "outlinewidth": 0,
             "ticks": ""
            },
            "type": "contourcarpet"
           }
          ],
          "heatmap": [
           {
            "colorbar": {
             "outlinewidth": 0,
             "ticks": ""
            },
            "colorscale": [
             [
              0,
              "#0d0887"
             ],
             [
              0.1111111111111111,
              "#46039f"
             ],
             [
              0.2222222222222222,
              "#7201a8"
             ],
             [
              0.3333333333333333,
              "#9c179e"
             ],
             [
              0.4444444444444444,
              "#bd3786"
             ],
             [
              0.5555555555555556,
              "#d8576b"
             ],
             [
              0.6666666666666666,
              "#ed7953"
             ],
             [
              0.7777777777777778,
              "#fb9f3a"
             ],
             [
              0.8888888888888888,
              "#fdca26"
             ],
             [
              1,
              "#f0f921"
             ]
            ],
            "type": "heatmap"
           }
          ],
          "heatmapgl": [
           {
            "colorbar": {
             "outlinewidth": 0,
             "ticks": ""
            },
            "colorscale": [
             [
              0,
              "#0d0887"
             ],
             [
              0.1111111111111111,
              "#46039f"
             ],
             [
              0.2222222222222222,
              "#7201a8"
             ],
             [
              0.3333333333333333,
              "#9c179e"
             ],
             [
              0.4444444444444444,
              "#bd3786"
             ],
             [
              0.5555555555555556,
              "#d8576b"
             ],
             [
              0.6666666666666666,
              "#ed7953"
             ],
             [
              0.7777777777777778,
              "#fb9f3a"
             ],
             [
              0.8888888888888888,
              "#fdca26"
             ],
             [
              1,
              "#f0f921"
             ]
            ],
            "type": "heatmapgl"
           }
          ],
          "histogram": [
           {
            "marker": {
             "pattern": {
              "fillmode": "overlay",
              "size": 10,
              "solidity": 0.2
             }
            },
            "type": "histogram"
           }
          ],
          "histogram2d": [
           {
            "colorbar": {
             "outlinewidth": 0,
             "ticks": ""
            },
            "colorscale": [
             [
              0,
              "#0d0887"
             ],
             [
              0.1111111111111111,
              "#46039f"
             ],
             [
              0.2222222222222222,
              "#7201a8"
             ],
             [
              0.3333333333333333,
              "#9c179e"
             ],
             [
              0.4444444444444444,
              "#bd3786"
             ],
             [
              0.5555555555555556,
              "#d8576b"
             ],
             [
              0.6666666666666666,
              "#ed7953"
             ],
             [
              0.7777777777777778,
              "#fb9f3a"
             ],
             [
              0.8888888888888888,
              "#fdca26"
             ],
             [
              1,
              "#f0f921"
             ]
            ],
            "type": "histogram2d"
           }
          ],
          "histogram2dcontour": [
           {
            "colorbar": {
             "outlinewidth": 0,
             "ticks": ""
            },
            "colorscale": [
             [
              0,
              "#0d0887"
             ],
             [
              0.1111111111111111,
              "#46039f"
             ],
             [
              0.2222222222222222,
              "#7201a8"
             ],
             [
              0.3333333333333333,
              "#9c179e"
             ],
             [
              0.4444444444444444,
              "#bd3786"
             ],
             [
              0.5555555555555556,
              "#d8576b"
             ],
             [
              0.6666666666666666,
              "#ed7953"
             ],
             [
              0.7777777777777778,
              "#fb9f3a"
             ],
             [
              0.8888888888888888,
              "#fdca26"
             ],
             [
              1,
              "#f0f921"
             ]
            ],
            "type": "histogram2dcontour"
           }
          ],
          "mesh3d": [
           {
            "colorbar": {
             "outlinewidth": 0,
             "ticks": ""
            },
            "type": "mesh3d"
           }
          ],
          "parcoords": [
           {
            "line": {
             "colorbar": {
              "outlinewidth": 0,
              "ticks": ""
             }
            },
            "type": "parcoords"
           }
          ],
          "pie": [
           {
            "automargin": true,
            "type": "pie"
           }
          ],
          "scatter": [
           {
            "fillpattern": {
             "fillmode": "overlay",
             "size": 10,
             "solidity": 0.2
            },
            "type": "scatter"
           }
          ],
          "scatter3d": [
           {
            "line": {
             "colorbar": {
              "outlinewidth": 0,
              "ticks": ""
             }
            },
            "marker": {
             "colorbar": {
              "outlinewidth": 0,
              "ticks": ""
             }
            },
            "type": "scatter3d"
           }
          ],
          "scattercarpet": [
           {
            "marker": {
             "colorbar": {
              "outlinewidth": 0,
              "ticks": ""
             }
            },
            "type": "scattercarpet"
           }
          ],
          "scattergeo": [
           {
            "marker": {
             "colorbar": {
              "outlinewidth": 0,
              "ticks": ""
             }
            },
            "type": "scattergeo"
           }
          ],
          "scattergl": [
           {
            "marker": {
             "colorbar": {
              "outlinewidth": 0,
              "ticks": ""
             }
            },
            "type": "scattergl"
           }
          ],
          "scattermapbox": [
           {
            "marker": {
             "colorbar": {
              "outlinewidth": 0,
              "ticks": ""
             }
            },
            "type": "scattermapbox"
           }
          ],
          "scatterpolar": [
           {
            "marker": {
             "colorbar": {
              "outlinewidth": 0,
              "ticks": ""
             }
            },
            "type": "scatterpolar"
           }
          ],
          "scatterpolargl": [
           {
            "marker": {
             "colorbar": {
              "outlinewidth": 0,
              "ticks": ""
             }
            },
            "type": "scatterpolargl"
           }
          ],
          "scatterternary": [
           {
            "marker": {
             "colorbar": {
              "outlinewidth": 0,
              "ticks": ""
             }
            },
            "type": "scatterternary"
           }
          ],
          "surface": [
           {
            "colorbar": {
             "outlinewidth": 0,
             "ticks": ""
            },
            "colorscale": [
             [
              0,
              "#0d0887"
             ],
             [
              0.1111111111111111,
              "#46039f"
             ],
             [
              0.2222222222222222,
              "#7201a8"
             ],
             [
              0.3333333333333333,
              "#9c179e"
             ],
             [
              0.4444444444444444,
              "#bd3786"
             ],
             [
              0.5555555555555556,
              "#d8576b"
             ],
             [
              0.6666666666666666,
              "#ed7953"
             ],
             [
              0.7777777777777778,
              "#fb9f3a"
             ],
             [
              0.8888888888888888,
              "#fdca26"
             ],
             [
              1,
              "#f0f921"
             ]
            ],
            "type": "surface"
           }
          ],
          "table": [
           {
            "cells": {
             "fill": {
              "color": "#EBF0F8"
             },
             "line": {
              "color": "white"
             }
            },
            "header": {
             "fill": {
              "color": "#C8D4E3"
             },
             "line": {
              "color": "white"
             }
            },
            "type": "table"
           }
          ]
         },
         "layout": {
          "annotationdefaults": {
           "arrowcolor": "#2a3f5f",
           "arrowhead": 0,
           "arrowwidth": 1
          },
          "autotypenumbers": "strict",
          "coloraxis": {
           "colorbar": {
            "outlinewidth": 0,
            "ticks": ""
           }
          },
          "colorscale": {
           "diverging": [
            [
             0,
             "#8e0152"
            ],
            [
             0.1,
             "#c51b7d"
            ],
            [
             0.2,
             "#de77ae"
            ],
            [
             0.3,
             "#f1b6da"
            ],
            [
             0.4,
             "#fde0ef"
            ],
            [
             0.5,
             "#f7f7f7"
            ],
            [
             0.6,
             "#e6f5d0"
            ],
            [
             0.7,
             "#b8e186"
            ],
            [
             0.8,
             "#7fbc41"
            ],
            [
             0.9,
             "#4d9221"
            ],
            [
             1,
             "#276419"
            ]
           ],
           "sequential": [
            [
             0,
             "#0d0887"
            ],
            [
             0.1111111111111111,
             "#46039f"
            ],
            [
             0.2222222222222222,
             "#7201a8"
            ],
            [
             0.3333333333333333,
             "#9c179e"
            ],
            [
             0.4444444444444444,
             "#bd3786"
            ],
            [
             0.5555555555555556,
             "#d8576b"
            ],
            [
             0.6666666666666666,
             "#ed7953"
            ],
            [
             0.7777777777777778,
             "#fb9f3a"
            ],
            [
             0.8888888888888888,
             "#fdca26"
            ],
            [
             1,
             "#f0f921"
            ]
           ],
           "sequentialminus": [
            [
             0,
             "#0d0887"
            ],
            [
             0.1111111111111111,
             "#46039f"
            ],
            [
             0.2222222222222222,
             "#7201a8"
            ],
            [
             0.3333333333333333,
             "#9c179e"
            ],
            [
             0.4444444444444444,
             "#bd3786"
            ],
            [
             0.5555555555555556,
             "#d8576b"
            ],
            [
             0.6666666666666666,
             "#ed7953"
            ],
            [
             0.7777777777777778,
             "#fb9f3a"
            ],
            [
             0.8888888888888888,
             "#fdca26"
            ],
            [
             1,
             "#f0f921"
            ]
           ]
          },
          "colorway": [
           "#636efa",
           "#EF553B",
           "#00cc96",
           "#ab63fa",
           "#FFA15A",
           "#19d3f3",
           "#FF6692",
           "#B6E880",
           "#FF97FF",
           "#FECB52"
          ],
          "font": {
           "color": "#2a3f5f"
          },
          "geo": {
           "bgcolor": "white",
           "lakecolor": "white",
           "landcolor": "#E5ECF6",
           "showlakes": true,
           "showland": true,
           "subunitcolor": "white"
          },
          "hoverlabel": {
           "align": "left"
          },
          "hovermode": "closest",
          "mapbox": {
           "style": "light"
          },
          "paper_bgcolor": "white",
          "plot_bgcolor": "#E5ECF6",
          "polar": {
           "angularaxis": {
            "gridcolor": "white",
            "linecolor": "white",
            "ticks": ""
           },
           "bgcolor": "#E5ECF6",
           "radialaxis": {
            "gridcolor": "white",
            "linecolor": "white",
            "ticks": ""
           }
          },
          "scene": {
           "xaxis": {
            "backgroundcolor": "#E5ECF6",
            "gridcolor": "white",
            "gridwidth": 2,
            "linecolor": "white",
            "showbackground": true,
            "ticks": "",
            "zerolinecolor": "white"
           },
           "yaxis": {
            "backgroundcolor": "#E5ECF6",
            "gridcolor": "white",
            "gridwidth": 2,
            "linecolor": "white",
            "showbackground": true,
            "ticks": "",
            "zerolinecolor": "white"
           },
           "zaxis": {
            "backgroundcolor": "#E5ECF6",
            "gridcolor": "white",
            "gridwidth": 2,
            "linecolor": "white",
            "showbackground": true,
            "ticks": "",
            "zerolinecolor": "white"
           }
          },
          "shapedefaults": {
           "line": {
            "color": "#2a3f5f"
           }
          },
          "ternary": {
           "aaxis": {
            "gridcolor": "white",
            "linecolor": "white",
            "ticks": ""
           },
           "baxis": {
            "gridcolor": "white",
            "linecolor": "white",
            "ticks": ""
           },
           "bgcolor": "#E5ECF6",
           "caxis": {
            "gridcolor": "white",
            "linecolor": "white",
            "ticks": ""
           }
          },
          "title": {
           "x": 0.05
          },
          "xaxis": {
           "automargin": true,
           "gridcolor": "white",
           "linecolor": "white",
           "ticks": "",
           "title": {
            "standoff": 15
           },
           "zerolinecolor": "white",
           "zerolinewidth": 2
          },
          "yaxis": {
           "automargin": true,
           "gridcolor": "white",
           "linecolor": "white",
           "ticks": "",
           "title": {
            "standoff": 15
           },
           "zerolinecolor": "white",
           "zerolinewidth": 2
          }
         }
        }
       }
      },
      "text/html": [
       "<div>                            <div id=\"c9e0db2b-1ac4-4ffb-b4cb-9732976f27ad\" class=\"plotly-graph-div\" style=\"height:525px; width:100%;\"></div>            <script type=\"text/javascript\">                require([\"plotly\"], function(Plotly) {                    window.PLOTLYENV=window.PLOTLYENV || {};                                    if (document.getElementById(\"c9e0db2b-1ac4-4ffb-b4cb-9732976f27ad\")) {                    Plotly.newPlot(                        \"c9e0db2b-1ac4-4ffb-b4cb-9732976f27ad\",                        [{\"hovertemplate\":\"x=%{x}<br>y=%{y}<br>z=%{z}<br>color=%{marker.color}<extra></extra>\",\"legendgroup\":\"\",\"marker\":{\"color\":[-5.332242965698242,-5.692577362060547,-6.471786022186279,-5.903669834136963,-5.696348190307617,-5.377805233001709,-6.081852436065674,-9.795170783996582,-5.78139066696167,-6.326025009155273,-5.4849138259887695,-6.889421463012695,-7.106836318969727,-5.592226982116699,-5.659005165100098,-5.573065280914307,-6.933013916015625,-5.7523040771484375,-6.150277137756348,-5.5975728034973145,-5.928948402404785,-8.190185546875,-5.5212082862854,-5.7163166999816895,-5.524692535400391,-5.795886039733887,-5.332895278930664,-6.564874649047852,-6.221170902252197,-5.443296432495117,-9.070196151733398,-6.3862104415893555,-5.471880912780762,-6.180197715759277,-6.049251556396484,-7.883279323577881,-6.196266174316406,-5.572340965270996,-10.718076705932617,-5.499794960021973,-6.831378936767578,-5.8961181640625,-5.464329242706299,-5.6592864990234375,-6.218087196350098,-6.792891025543213,-5.70887565612793,-6.403587341308594,-5.784767150878906,-6.39369010925293],\"coloraxis\":\"coloraxis\",\"symbol\":\"circle\"},\"mode\":\"markers\",\"name\":\"\",\"scene\":\"scene\",\"showlegend\":false,\"x\":[0.0,-0.2366558313369751,0.31433048844337463,-0.10713958740234375,0.008075053803622723,-0.12155729532241821,0.32779645919799805,-0.3255089819431305,0.23763763904571533,-0.2638542652130127,0.21456573903560638,-0.2625848948955536,0.1858951896429062,-0.25079619884490967,0.07700706273317337,-0.08483773469924927,0.0599466934800148,-0.11701177060604095,0.31072112917900085,-0.14058154821395874,0.22207336127758026,-0.3853694200515747,0.18081751465797424,-0.24760469794273376,0.19056583940982819,-0.2900369465351105,-0.007991195656359196,-0.057911232113838196,0.12568406760692596,-0.18592721223831177,0.3257203698158264,0.3108464479446411,0.07025254517793655,-0.17836561799049377,0.349170058965683,-0.300216943025589,0.2452358454465866,-0.25724703073501587,0.09281587600708008,-0.0708094909787178,0.3387836515903473,-0.30862364172935486,0.18399447202682495,-0.12988118827342987,0.06796448677778244,-0.2777126729488373,0.2186114490032196,-0.25295624136924744,0.16625379025936127,-0.28589627146720886],\"y\":[0.0,-0.17519719898700714,0.20424368977546692,0.31572508811950684,-0.29527395963668823,-0.036881741136312485,-0.13026665151119232,0.21823713183403015,0.20491744577884674,-0.25760501623153687,-0.028531331568956375,-0.2811306118965149,0.33973273634910583,0.08433817327022552,-0.2750178575515747,0.24316707253456116,0.3806103467941284,-0.2849314510822296,0.1781577169895172,-0.22637483477592468,-0.25309741497039795,-0.06838858872652054,-0.15071791410446167,0.169651597738266,0.14098036289215088,-0.1266443133354187,0.013523180037736893,-0.3733924329280853,0.34050408005714417,0.03744973987340927,-0.217795729637146,0.20346172153949738,0.1965663880109787,-0.3130403757095337,0.021106429398059845,0.2504110038280487,-0.26541534066200256,-0.0029403341468423605,-0.3807658851146698,0.2131810039281845,0.18031683564186096,-0.12339466065168381,-0.08813595026731491,-0.254442423582077,0.35634323954582214,0.2639195919036865,-0.2031174749135971,0.2730923295021057,0.26687559485435486,-0.2377445250749588],\"z\":[1.0,0.95566725730896,0.9270821809768677,0.9427825212478638,0.9553784132003784,0.9918988943099976,0.9357243776321411,0.9200087785720825,0.9494930505752563,0.9295270442962646,0.9762929677963257,0.923046350479126,0.9219677448272705,0.9643590450286865,0.9583501815795898,0.966267466545105,0.9227904081344604,0.9513794183731079,0.9336552619934082,0.9638420343399048,0.9416077136993408,0.920224666595459,0.9718997478485107,0.9538921117782593,0.9714987277984619,0.9485987424850464,0.9998767375946045,0.9258642196655273,0.9318050146102905,0.9818495512008667,0.9200387001037598,0.9284276962280273,0.9779708385467529,0.9328404664993286,0.9368215799331665,0.9204152822494507,0.9324237108230591,0.966341495513916,0.9200015068054199,0.9744433164596558,0.9234236478805542,0.9431464672088623,0.9789676666259766,0.9583268165588379,0.931879997253418,0.9237000942230225,0.9544382095336914,0.928134560585022,0.9492824077606201,0.9283002614974976],\"type\":\"scatter3d\"}],                        {\"template\":{\"data\":{\"histogram2dcontour\":[{\"type\":\"histogram2dcontour\",\"colorbar\":{\"outlinewidth\":0,\"ticks\":\"\"},\"colorscale\":[[0.0,\"#0d0887\"],[0.1111111111111111,\"#46039f\"],[0.2222222222222222,\"#7201a8\"],[0.3333333333333333,\"#9c179e\"],[0.4444444444444444,\"#bd3786\"],[0.5555555555555556,\"#d8576b\"],[0.6666666666666666,\"#ed7953\"],[0.7777777777777778,\"#fb9f3a\"],[0.8888888888888888,\"#fdca26\"],[1.0,\"#f0f921\"]]}],\"choropleth\":[{\"type\":\"choropleth\",\"colorbar\":{\"outlinewidth\":0,\"ticks\":\"\"}}],\"histogram2d\":[{\"type\":\"histogram2d\",\"colorbar\":{\"outlinewidth\":0,\"ticks\":\"\"},\"colorscale\":[[0.0,\"#0d0887\"],[0.1111111111111111,\"#46039f\"],[0.2222222222222222,\"#7201a8\"],[0.3333333333333333,\"#9c179e\"],[0.4444444444444444,\"#bd3786\"],[0.5555555555555556,\"#d8576b\"],[0.6666666666666666,\"#ed7953\"],[0.7777777777777778,\"#fb9f3a\"],[0.8888888888888888,\"#fdca26\"],[1.0,\"#f0f921\"]]}],\"heatmap\":[{\"type\":\"heatmap\",\"colorbar\":{\"outlinewidth\":0,\"ticks\":\"\"},\"colorscale\":[[0.0,\"#0d0887\"],[0.1111111111111111,\"#46039f\"],[0.2222222222222222,\"#7201a8\"],[0.3333333333333333,\"#9c179e\"],[0.4444444444444444,\"#bd3786\"],[0.5555555555555556,\"#d8576b\"],[0.6666666666666666,\"#ed7953\"],[0.7777777777777778,\"#fb9f3a\"],[0.8888888888888888,\"#fdca26\"],[1.0,\"#f0f921\"]]}],\"heatmapgl\":[{\"type\":\"heatmapgl\",\"colorbar\":{\"outlinewidth\":0,\"ticks\":\"\"},\"colorscale\":[[0.0,\"#0d0887\"],[0.1111111111111111,\"#46039f\"],[0.2222222222222222,\"#7201a8\"],[0.3333333333333333,\"#9c179e\"],[0.4444444444444444,\"#bd3786\"],[0.5555555555555556,\"#d8576b\"],[0.6666666666666666,\"#ed7953\"],[0.7777777777777778,\"#fb9f3a\"],[0.8888888888888888,\"#fdca26\"],[1.0,\"#f0f921\"]]}],\"contourcarpet\":[{\"type\":\"contourcarpet\",\"colorbar\":{\"outlinewidth\":0,\"ticks\":\"\"}}],\"contour\":[{\"type\":\"contour\",\"colorbar\":{\"outlinewidth\":0,\"ticks\":\"\"},\"colorscale\":[[0.0,\"#0d0887\"],[0.1111111111111111,\"#46039f\"],[0.2222222222222222,\"#7201a8\"],[0.3333333333333333,\"#9c179e\"],[0.4444444444444444,\"#bd3786\"],[0.5555555555555556,\"#d8576b\"],[0.6666666666666666,\"#ed7953\"],[0.7777777777777778,\"#fb9f3a\"],[0.8888888888888888,\"#fdca26\"],[1.0,\"#f0f921\"]]}],\"surface\":[{\"type\":\"surface\",\"colorbar\":{\"outlinewidth\":0,\"ticks\":\"\"},\"colorscale\":[[0.0,\"#0d0887\"],[0.1111111111111111,\"#46039f\"],[0.2222222222222222,\"#7201a8\"],[0.3333333333333333,\"#9c179e\"],[0.4444444444444444,\"#bd3786\"],[0.5555555555555556,\"#d8576b\"],[0.6666666666666666,\"#ed7953\"],[0.7777777777777778,\"#fb9f3a\"],[0.8888888888888888,\"#fdca26\"],[1.0,\"#f0f921\"]]}],\"mesh3d\":[{\"type\":\"mesh3d\",\"colorbar\":{\"outlinewidth\":0,\"ticks\":\"\"}}],\"scatter\":[{\"fillpattern\":{\"fillmode\":\"overlay\",\"size\":10,\"solidity\":0.2},\"type\":\"scatter\"}],\"parcoords\":[{\"type\":\"parcoords\",\"line\":{\"colorbar\":{\"outlinewidth\":0,\"ticks\":\"\"}}}],\"scatterpolargl\":[{\"type\":\"scatterpolargl\",\"marker\":{\"colorbar\":{\"outlinewidth\":0,\"ticks\":\"\"}}}],\"bar\":[{\"error_x\":{\"color\":\"#2a3f5f\"},\"error_y\":{\"color\":\"#2a3f5f\"},\"marker\":{\"line\":{\"color\":\"#E5ECF6\",\"width\":0.5},\"pattern\":{\"fillmode\":\"overlay\",\"size\":10,\"solidity\":0.2}},\"type\":\"bar\"}],\"scattergeo\":[{\"type\":\"scattergeo\",\"marker\":{\"colorbar\":{\"outlinewidth\":0,\"ticks\":\"\"}}}],\"scatterpolar\":[{\"type\":\"scatterpolar\",\"marker\":{\"colorbar\":{\"outlinewidth\":0,\"ticks\":\"\"}}}],\"histogram\":[{\"marker\":{\"pattern\":{\"fillmode\":\"overlay\",\"size\":10,\"solidity\":0.2}},\"type\":\"histogram\"}],\"scattergl\":[{\"type\":\"scattergl\",\"marker\":{\"colorbar\":{\"outlinewidth\":0,\"ticks\":\"\"}}}],\"scatter3d\":[{\"type\":\"scatter3d\",\"line\":{\"colorbar\":{\"outlinewidth\":0,\"ticks\":\"\"}},\"marker\":{\"colorbar\":{\"outlinewidth\":0,\"ticks\":\"\"}}}],\"scattermapbox\":[{\"type\":\"scattermapbox\",\"marker\":{\"colorbar\":{\"outlinewidth\":0,\"ticks\":\"\"}}}],\"scatterternary\":[{\"type\":\"scatterternary\",\"marker\":{\"colorbar\":{\"outlinewidth\":0,\"ticks\":\"\"}}}],\"scattercarpet\":[{\"type\":\"scattercarpet\",\"marker\":{\"colorbar\":{\"outlinewidth\":0,\"ticks\":\"\"}}}],\"carpet\":[{\"aaxis\":{\"endlinecolor\":\"#2a3f5f\",\"gridcolor\":\"white\",\"linecolor\":\"white\",\"minorgridcolor\":\"white\",\"startlinecolor\":\"#2a3f5f\"},\"baxis\":{\"endlinecolor\":\"#2a3f5f\",\"gridcolor\":\"white\",\"linecolor\":\"white\",\"minorgridcolor\":\"white\",\"startlinecolor\":\"#2a3f5f\"},\"type\":\"carpet\"}],\"table\":[{\"cells\":{\"fill\":{\"color\":\"#EBF0F8\"},\"line\":{\"color\":\"white\"}},\"header\":{\"fill\":{\"color\":\"#C8D4E3\"},\"line\":{\"color\":\"white\"}},\"type\":\"table\"}],\"barpolar\":[{\"marker\":{\"line\":{\"color\":\"#E5ECF6\",\"width\":0.5},\"pattern\":{\"fillmode\":\"overlay\",\"size\":10,\"solidity\":0.2}},\"type\":\"barpolar\"}],\"pie\":[{\"automargin\":true,\"type\":\"pie\"}]},\"layout\":{\"autotypenumbers\":\"strict\",\"colorway\":[\"#636efa\",\"#EF553B\",\"#00cc96\",\"#ab63fa\",\"#FFA15A\",\"#19d3f3\",\"#FF6692\",\"#B6E880\",\"#FF97FF\",\"#FECB52\"],\"font\":{\"color\":\"#2a3f5f\"},\"hovermode\":\"closest\",\"hoverlabel\":{\"align\":\"left\"},\"paper_bgcolor\":\"white\",\"plot_bgcolor\":\"#E5ECF6\",\"polar\":{\"bgcolor\":\"#E5ECF6\",\"angularaxis\":{\"gridcolor\":\"white\",\"linecolor\":\"white\",\"ticks\":\"\"},\"radialaxis\":{\"gridcolor\":\"white\",\"linecolor\":\"white\",\"ticks\":\"\"}},\"ternary\":{\"bgcolor\":\"#E5ECF6\",\"aaxis\":{\"gridcolor\":\"white\",\"linecolor\":\"white\",\"ticks\":\"\"},\"baxis\":{\"gridcolor\":\"white\",\"linecolor\":\"white\",\"ticks\":\"\"},\"caxis\":{\"gridcolor\":\"white\",\"linecolor\":\"white\",\"ticks\":\"\"}},\"coloraxis\":{\"colorbar\":{\"outlinewidth\":0,\"ticks\":\"\"}},\"colorscale\":{\"sequential\":[[0.0,\"#0d0887\"],[0.1111111111111111,\"#46039f\"],[0.2222222222222222,\"#7201a8\"],[0.3333333333333333,\"#9c179e\"],[0.4444444444444444,\"#bd3786\"],[0.5555555555555556,\"#d8576b\"],[0.6666666666666666,\"#ed7953\"],[0.7777777777777778,\"#fb9f3a\"],[0.8888888888888888,\"#fdca26\"],[1.0,\"#f0f921\"]],\"sequentialminus\":[[0.0,\"#0d0887\"],[0.1111111111111111,\"#46039f\"],[0.2222222222222222,\"#7201a8\"],[0.3333333333333333,\"#9c179e\"],[0.4444444444444444,\"#bd3786\"],[0.5555555555555556,\"#d8576b\"],[0.6666666666666666,\"#ed7953\"],[0.7777777777777778,\"#fb9f3a\"],[0.8888888888888888,\"#fdca26\"],[1.0,\"#f0f921\"]],\"diverging\":[[0,\"#8e0152\"],[0.1,\"#c51b7d\"],[0.2,\"#de77ae\"],[0.3,\"#f1b6da\"],[0.4,\"#fde0ef\"],[0.5,\"#f7f7f7\"],[0.6,\"#e6f5d0\"],[0.7,\"#b8e186\"],[0.8,\"#7fbc41\"],[0.9,\"#4d9221\"],[1,\"#276419\"]]},\"xaxis\":{\"gridcolor\":\"white\",\"linecolor\":\"white\",\"ticks\":\"\",\"title\":{\"standoff\":15},\"zerolinecolor\":\"white\",\"automargin\":true,\"zerolinewidth\":2},\"yaxis\":{\"gridcolor\":\"white\",\"linecolor\":\"white\",\"ticks\":\"\",\"title\":{\"standoff\":15},\"zerolinecolor\":\"white\",\"automargin\":true,\"zerolinewidth\":2},\"scene\":{\"xaxis\":{\"backgroundcolor\":\"#E5ECF6\",\"gridcolor\":\"white\",\"linecolor\":\"white\",\"showbackground\":true,\"ticks\":\"\",\"zerolinecolor\":\"white\",\"gridwidth\":2},\"yaxis\":{\"backgroundcolor\":\"#E5ECF6\",\"gridcolor\":\"white\",\"linecolor\":\"white\",\"showbackground\":true,\"ticks\":\"\",\"zerolinecolor\":\"white\",\"gridwidth\":2},\"zaxis\":{\"backgroundcolor\":\"#E5ECF6\",\"gridcolor\":\"white\",\"linecolor\":\"white\",\"showbackground\":true,\"ticks\":\"\",\"zerolinecolor\":\"white\",\"gridwidth\":2}},\"shapedefaults\":{\"line\":{\"color\":\"#2a3f5f\"}},\"annotationdefaults\":{\"arrowcolor\":\"#2a3f5f\",\"arrowhead\":0,\"arrowwidth\":1},\"geo\":{\"bgcolor\":\"white\",\"landcolor\":\"#E5ECF6\",\"subunitcolor\":\"white\",\"showland\":true,\"showlakes\":true,\"lakecolor\":\"white\"},\"title\":{\"x\":0.05},\"mapbox\":{\"style\":\"light\"}}},\"scene\":{\"domain\":{\"x\":[0.0,1.0],\"y\":[0.0,1.0]},\"xaxis\":{\"title\":{\"text\":\"x\"}},\"yaxis\":{\"title\":{\"text\":\"y\"}},\"zaxis\":{\"title\":{\"text\":\"z\"}}},\"coloraxis\":{\"colorbar\":{\"title\":{\"text\":\"color\"}},\"colorscale\":[[0.0,\"#0d0887\"],[0.1111111111111111,\"#46039f\"],[0.2222222222222222,\"#7201a8\"],[0.3333333333333333,\"#9c179e\"],[0.4444444444444444,\"#bd3786\"],[0.5555555555555556,\"#d8576b\"],[0.6666666666666666,\"#ed7953\"],[0.7777777777777778,\"#fb9f3a\"],[0.8888888888888888,\"#fdca26\"],[1.0,\"#f0f921\"]]},\"legend\":{\"tracegroupgap\":0},\"margin\":{\"t\":60}},                        {\"responsive\": true}                    ).then(function(){\n",
       "                            \n",
       "var gd = document.getElementById('c9e0db2b-1ac4-4ffb-b4cb-9732976f27ad');\n",
       "var x = new MutationObserver(function (mutations, observer) {{\n",
       "        var display = window.getComputedStyle(gd).display;\n",
       "        if (!display || display === 'none') {{\n",
       "            console.log([gd, 'removed!']);\n",
       "            Plotly.purge(gd);\n",
       "            observer.disconnect();\n",
       "        }}\n",
       "}});\n",
       "\n",
       "// Listen for the removal of the full notebook cells\n",
       "var notebookContainer = gd.closest('#notebook-container');\n",
       "if (notebookContainer) {{\n",
       "    x.observe(notebookContainer, {childList: true});\n",
       "}}\n",
       "\n",
       "// Listen for the clearing of the current output cell\n",
       "var outputEl = gd.closest('.output');\n",
       "if (outputEl) {{\n",
       "    x.observe(outputEl, {childList: true});\n",
       "}}\n",
       "\n",
       "                        })                };                });            </script>        </div>"
      ]
     },
     "metadata": {},
     "output_type": "display_data"
    }
   ],
   "source": [
    "device = torch.device('cpu')\n",
    "N = 50\n",
    "ray_mask = torch.ones((1, N), device=device, dtype=bool)\n",
    "roughness = torch.tensor(0.20)\n",
    "normal = torch.tensor([0, 0, 1.0], device=device).reshape(1, 3)\n",
    "viewdir = torch.tensor([0, 0, 1.0], device=device).reshape(1, 3)\n",
    "sampler = CosineLobeSampler(512)\n",
    "# sampler = GGXSampler(512)\n",
    "L, basis = sampler.sample(None, viewdir, normal, roughness, roughness, ray_mask)\n",
    "H = normalize(L + normal)\n",
    "mipval = sampler.calculate_mipval(H, viewdir, normal, ray_mask, roughness, torch.eye(3).reshape(1, 3, 3))\n",
    "ic(L.min())\n",
    "\n",
    "h = w = 512\n",
    "# h = w = 2048\n",
    "distortion = 1\n",
    "saTexel = distortion / h / w\n",
    "num_pixels = h * w * 6\n",
    "miplevel = ((mipval - math.log(saTexel)) / math.log(2))/2\n",
    "miplevel = miplevel.clip(0)\n",
    "res = h / 2**miplevel\n",
    "ic(mipval, miplevel, math.log(saTexel*N))\n",
    "# px.scatter_3d(x=L[:, 0], y=L[:, 1], z=L[:, 2], color=miplevel)\n",
    "px.scatter_3d(x=L[:, 0], y=L[:, 1], z=L[:, 2], color=mipval)\n"
   ]
  },
  {
   "cell_type": "code",
   "execution_count": null,
   "metadata": {},
   "outputs": [],
   "source": []
  }
 ],
 "metadata": {
  "kernelspec": {
   "display_name": "Python 3.10.5 ('31')",
   "language": "python",
   "name": "python3"
  },
  "language_info": {
   "codemirror_mode": {
    "name": "ipython",
    "version": 3
   },
   "file_extension": ".py",
   "mimetype": "text/x-python",
   "name": "python",
   "nbconvert_exporter": "python",
   "pygments_lexer": "ipython3",
   "version": "3.10.5"
  },
  "orig_nbformat": 4,
  "vscode": {
   "interpreter": {
    "hash": "be76537492645a2c6be92a0ab2cc7fc4a631ad2e1167ca620f40cbb8b4259c8c"
   }
  }
 },
 "nbformat": 4,
 "nbformat_minor": 2
}
