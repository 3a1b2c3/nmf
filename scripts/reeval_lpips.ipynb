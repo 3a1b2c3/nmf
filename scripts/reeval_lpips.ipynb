{
 "cells": [
  {
   "cell_type": "code",
   "execution_count": 1,
   "metadata": {},
   "outputs": [
    {
     "name": "stdout",
     "output_type": "stream",
     "text": [
      "/home/dronelab/nmf\n"
     ]
    }
   ],
   "source": [
    "%matplotlib widget\n",
    "import imageio\n",
    "import numpy as np\n",
    "from pathlib import Path\n",
    "from omegaconf import OmegaConf\n",
    "import os\n",
    "from IPython.display import display, Image\n",
    "os.environ[\"OPENCV_IO_ENABLE_OPENEXR\"] = \"1\"\n",
    "import cv2 as cv\n",
    "import matplotlib.pyplot as plt\n",
    "from sklearn import linear_model\n",
    "import torch.nn.functional as F\n",
    "import torch\n",
    "import yaml\n",
    "import lpips\n",
    "import scipy.signal\n",
    "\n",
    "import sys\n",
    "base_path = Path(os.path.abspath('')).parent\n",
    "print(base_path)\n",
    "sys.path.append(str(base_path))\n",
    "import torch\n",
    "from dataLoader import dataset_dict\n",
    "\n",
    "def disp_im(im):\n",
    "    plt.close()\n",
    "    plt.cla()\n",
    "    fig = plt.imshow(im)\n",
    "    plt.close()\n",
    "    display(fig.figure)\n"
   ]
  },
  {
   "cell_type": "code",
   "execution_count": 2,
   "metadata": {},
   "outputs": [
    {
     "name": "stdout",
     "output_type": "stream",
     "text": [
      "Setting up [LPIPS] perceptual loss: trunk [alex], v[0.1], spatial [off]\n"
     ]
    },
    {
     "name": "stderr",
     "output_type": "stream",
     "text": [
      "/home/dronelab/miniconda3/envs/31/lib/python3.10/site-packages/torchvision/models/_utils.py:208: UserWarning: The parameter 'pretrained' is deprecated since 0.13 and may be removed in the future, please use 'weights' instead.\n",
      "  warnings.warn(\n",
      "/home/dronelab/miniconda3/envs/31/lib/python3.10/site-packages/torchvision/models/_utils.py:223: UserWarning: Arguments other than a weight enum or `None` for 'weights' are deprecated since 0.13 and may be removed in the future. The current behavior is equivalent to passing `weights=AlexNet_Weights.IMAGENET1K_V1`. You can also use `weights=AlexNet_Weights.DEFAULT` to get the most up-to-date weights.\n",
      "  warnings.warn(msg)\n"
     ]
    },
    {
     "name": "stdout",
     "output_type": "stream",
     "text": [
      "Loading model from: /home/dronelab/miniconda3/envs/31/lib/python3.10/site-packages/lpips/weights/v0.1/alex.pth\n"
     ]
    }
   ],
   "source": [
    "def rgb_ssim(img0, img1, max_val,\n",
    "             filter_size=11,\n",
    "             filter_sigma=1.5,\n",
    "             k1=0.01,\n",
    "             k2=0.03,\n",
    "             return_map=False):\n",
    "    # Modified from https://github.com/google/mipnerf/blob/16e73dfdb52044dcceb47cda5243a686391a6e0f/internal/math.py#L58\n",
    "    assert len(img0.shape) == 3\n",
    "    assert img0.shape[-1] == 3\n",
    "    assert img0.shape == img1.shape\n",
    "\n",
    "    # Construct a 1D Gaussian blur filter.\n",
    "    hw = filter_size // 2\n",
    "    shift = (2 * hw - filter_size + 1) / 2\n",
    "    f_i = ((np.arange(filter_size) - hw + shift) / filter_sigma)**2\n",
    "    filt = np.exp(-0.5 * f_i)\n",
    "    filt /= np.sum(filt)\n",
    "\n",
    "    # Blur in x and y (faster than the 2D convolution).\n",
    "    def convolve2d(z, f):\n",
    "        return scipy.signal.convolve2d(z, f, mode='valid')\n",
    "\n",
    "    filt_fn = lambda z: np.stack([\n",
    "        convolve2d(convolve2d(z[...,i], filt[:, None]), filt[None, :])\n",
    "        for i in range(z.shape[-1])], -1)\n",
    "    mu0 = filt_fn(img0)\n",
    "    mu1 = filt_fn(img1)\n",
    "    mu00 = mu0 * mu0\n",
    "    mu11 = mu1 * mu1\n",
    "    mu01 = mu0 * mu1\n",
    "    sigma00 = filt_fn(img0**2) - mu00\n",
    "    sigma11 = filt_fn(img1**2) - mu11\n",
    "    sigma01 = filt_fn(img0 * img1) - mu01\n",
    "\n",
    "    # Clip the variances and covariances to valid values.\n",
    "    # Variance must be non-negative:\n",
    "    sigma00 = np.maximum(0., sigma00)\n",
    "    sigma11 = np.maximum(0., sigma11)\n",
    "    sigma01 = np.sign(sigma01) * np.minimum(\n",
    "        np.sqrt(sigma00 * sigma11), np.abs(sigma01))\n",
    "    c1 = (k1 * max_val)**2\n",
    "    c2 = (k2 * max_val)**2\n",
    "    numer = (2 * mu01 + c1) * (2 * sigma01 + c2)\n",
    "    denom = (mu00 + mu11 + c1) * (sigma00 + sigma11 + c2)\n",
    "    ssim_map = numer / denom\n",
    "    ssim = np.mean(ssim_map)\n",
    "    return ssim_map if return_map else ssim\n",
    "\n",
    "\n",
    "device = torch.device('cuda')\n",
    "loss_fn_alex = lpips.LPIPS(net='alex').to(device)"
   ]
  },
  {
   "cell_type": "code",
   "execution_count": 3,
   "metadata": {},
   "outputs": [],
   "source": [
    "def get_stats(p):\n",
    "    stats_files = ['stats_augnle.yaml', 'stats_augnl.yaml', 'stats_augn.yaml', 'stats_aug.yaml', 'stats.yaml']\n",
    "    stat_file = [s for s in stats_files if (p / \"imgs_test_all\" / s).exists()]\n",
    "    stat_file = stat_file[0] if len(stat_file) else None\n",
    "    if stat_file is None:\n",
    "        return None\n",
    "    data_path = p / \"imgs_test_all\" / stat_file\n",
    "    with data_path.open('r') as f:\n",
    "        data = yaml.safe_load(f)\n",
    "    return data\n"
   ]
  },
  {
   "cell_type": "code",
   "execution_count": 4,
   "metadata": {},
   "outputs": [
    {
     "name": "stdout",
     "output_type": "stream",
     "text": [
      "../log/fresnel_nointim/toaster_v1_fresnel_nointim\n"
     ]
    },
    {
     "data": {
      "text/html": [
       "<pre style=\"white-space:pre;overflow-x:auto;line-height:normal;font-family:Menlo,'DejaVu Sans Mono',consolas,'Courier New',monospace\"><span style=\"color: #800000; text-decoration-color: #800000\">╭─────────────────────────────── </span><span style=\"color: #800000; text-decoration-color: #800000; font-weight: bold\">Traceback </span><span style=\"color: #bf7f7f; text-decoration-color: #bf7f7f; font-weight: bold\">(most recent call last)</span><span style=\"color: #800000; text-decoration-color: #800000\"> ────────────────────────────────╮</span>\n",
       "<span style=\"color: #800000; text-decoration-color: #800000\">│</span> in <span style=\"color: #00ff00; text-decoration-color: #00ff00\">&lt;module&gt;</span>:<span style=\"color: #0000ff; text-decoration-color: #0000ff\">27</span>                                                                                   <span style=\"color: #800000; text-decoration-color: #800000\">│</span>\n",
       "<span style=\"color: #800000; text-decoration-color: #800000\">│</span>                                                                                                  <span style=\"color: #800000; text-decoration-color: #800000\">│</span>\n",
       "<span style=\"color: #800000; text-decoration-color: #800000\">│</span>   <span style=\"color: #7f7f7f; text-decoration-color: #7f7f7f\">24 </span><span style=\"color: #7f7f7f; text-decoration-color: #7f7f7f\">│   │   </span>                                                                                    <span style=\"color: #800000; text-decoration-color: #800000\">│</span>\n",
       "<span style=\"color: #800000; text-decoration-color: #800000\">│</span>   <span style=\"color: #7f7f7f; text-decoration-color: #7f7f7f\">25 </span><span style=\"color: #7f7f7f; text-decoration-color: #7f7f7f\">│   │   </span>white_bg = config.dataset.white_bg <span style=\"color: #0000ff; text-decoration-color: #0000ff\">if</span> <span style=\"color: #00ffff; text-decoration-color: #00ffff\">hasattr</span>(config.dataset, <span style=\"color: #808000; text-decoration-color: #808000\">'white_bg'</span>) <span style=\"color: #0000ff; text-decoration-color: #0000ff\">else</span> <span style=\"color: #0000ff; text-decoration-color: #0000ff\">T</span>    <span style=\"color: #800000; text-decoration-color: #800000\">│</span>\n",
       "<span style=\"color: #800000; text-decoration-color: #800000\">│</span>   <span style=\"color: #7f7f7f; text-decoration-color: #7f7f7f\">26 </span><span style=\"color: #7f7f7f; text-decoration-color: #7f7f7f\">│   │   </span>dataset = dataset_dict[config.dataset.dataset_name]                                 <span style=\"color: #800000; text-decoration-color: #800000\">│</span>\n",
       "<span style=\"color: #800000; text-decoration-color: #800000\">│</span> <span style=\"color: #800000; text-decoration-color: #800000\">❱ </span>27 <span style=\"color: #7f7f7f; text-decoration-color: #7f7f7f\">│   │   </span>test_dataset = dataset(os.path.join(datadir, config.dataset.scenedir), split=<span style=\"color: #808000; text-decoration-color: #808000\">'te</span>    <span style=\"color: #800000; text-decoration-color: #800000\">│</span>\n",
       "<span style=\"color: #800000; text-decoration-color: #800000\">│</span>   <span style=\"color: #7f7f7f; text-decoration-color: #7f7f7f\">28 </span><span style=\"color: #7f7f7f; text-decoration-color: #7f7f7f\">│   │   │   │   │   │   │   </span>downsample=config.dataset.downsample_train, is_stack=<span style=\"color: #0000ff; text-decoration-color: #0000ff\">True</span>, w    <span style=\"color: #800000; text-decoration-color: #800000\">│</span>\n",
       "<span style=\"color: #800000; text-decoration-color: #800000\">│</span>   <span style=\"color: #7f7f7f; text-decoration-color: #7f7f7f\">29 </span><span style=\"color: #7f7f7f; text-decoration-color: #7f7f7f\">│   │   </span>lpips_vs = []                                                                       <span style=\"color: #800000; text-decoration-color: #800000\">│</span>\n",
       "<span style=\"color: #800000; text-decoration-color: #800000\">│</span>   <span style=\"color: #7f7f7f; text-decoration-color: #7f7f7f\">30 </span><span style=\"color: #7f7f7f; text-decoration-color: #7f7f7f\">│   │   </span>ssims = []                                                                          <span style=\"color: #800000; text-decoration-color: #800000\">│</span>\n",
       "<span style=\"color: #800000; text-decoration-color: #800000\">│</span>                                                                                                  <span style=\"color: #800000; text-decoration-color: #800000\">│</span>\n",
       "<span style=\"color: #800000; text-decoration-color: #800000\">│</span> <span style=\"color: #bfbf7f; text-decoration-color: #bfbf7f\">/home/dronelab/nmf/dataLoader/</span><span style=\"color: #808000; text-decoration-color: #808000; font-weight: bold\">blender.py</span>:<span style=\"color: #0000ff; text-decoration-color: #0000ff\">51</span> in <span style=\"color: #00ff00; text-decoration-color: #00ff00\">__init__</span>                                          <span style=\"color: #800000; text-decoration-color: #800000\">│</span>\n",
       "<span style=\"color: #800000; text-decoration-color: #800000\">│</span>                                                                                                  <span style=\"color: #800000; text-decoration-color: #800000\">│</span>\n",
       "<span style=\"color: #800000; text-decoration-color: #800000\">│</span>   <span style=\"color: #7f7f7f; text-decoration-color: #7f7f7f\"> 48 </span><span style=\"color: #7f7f7f; text-decoration-color: #7f7f7f\">│   │   </span>)                                                                                  <span style=\"color: #800000; text-decoration-color: #800000\">│</span>\n",
       "<span style=\"color: #800000; text-decoration-color: #800000\">│</span>   <span style=\"color: #7f7f7f; text-decoration-color: #7f7f7f\"> 49 </span><span style=\"color: #7f7f7f; text-decoration-color: #7f7f7f\">│   │   </span><span style=\"color: #00ffff; text-decoration-color: #00ffff\">self</span>.center = torch.mean(<span style=\"color: #00ffff; text-decoration-color: #00ffff\">self</span>.scene_bbox, axis=<span style=\"color: #0000ff; text-decoration-color: #0000ff\">0</span>).float().view(<span style=\"color: #0000ff; text-decoration-color: #0000ff\">1</span>, <span style=\"color: #0000ff; text-decoration-color: #0000ff\">1</span>, <span style=\"color: #0000ff; text-decoration-color: #0000ff\">3</span>)            <span style=\"color: #800000; text-decoration-color: #800000\">│</span>\n",
       "<span style=\"color: #800000; text-decoration-color: #800000\">│</span>   <span style=\"color: #7f7f7f; text-decoration-color: #7f7f7f\"> 50 </span><span style=\"color: #7f7f7f; text-decoration-color: #7f7f7f\">│   │   </span><span style=\"color: #00ffff; text-decoration-color: #00ffff\">self</span>.radius = (<span style=\"color: #00ffff; text-decoration-color: #00ffff\">self</span>.scene_bbox[<span style=\"color: #0000ff; text-decoration-color: #0000ff\">1</span>] - <span style=\"color: #00ffff; text-decoration-color: #00ffff\">self</span>.center).float().view(<span style=\"color: #0000ff; text-decoration-color: #0000ff\">1</span>, <span style=\"color: #0000ff; text-decoration-color: #0000ff\">1</span>, <span style=\"color: #0000ff; text-decoration-color: #0000ff\">3</span>)             <span style=\"color: #800000; text-decoration-color: #800000\">│</span>\n",
       "<span style=\"color: #800000; text-decoration-color: #800000\">│</span> <span style=\"color: #800000; text-decoration-color: #800000\">❱ </span> 51 <span style=\"color: #7f7f7f; text-decoration-color: #7f7f7f\">│   │   </span><span style=\"color: #00ffff; text-decoration-color: #00ffff\">self</span>.read_meta()                                                                   <span style=\"color: #800000; text-decoration-color: #800000\">│</span>\n",
       "<span style=\"color: #800000; text-decoration-color: #800000\">│</span>   <span style=\"color: #7f7f7f; text-decoration-color: #7f7f7f\"> 52 </span><span style=\"color: #7f7f7f; text-decoration-color: #7f7f7f\">│   │   </span><span style=\"color: #00ffff; text-decoration-color: #00ffff\">self</span>.define_proj_mat()                                                             <span style=\"color: #800000; text-decoration-color: #800000\">│</span>\n",
       "<span style=\"color: #800000; text-decoration-color: #800000\">│</span>   <span style=\"color: #7f7f7f; text-decoration-color: #7f7f7f\"> 53 </span><span style=\"color: #7f7f7f; text-decoration-color: #7f7f7f\">│   </span>                                                                                       <span style=\"color: #800000; text-decoration-color: #800000\">│</span>\n",
       "<span style=\"color: #800000; text-decoration-color: #800000\">│</span>   <span style=\"color: #7f7f7f; text-decoration-color: #7f7f7f\"> 54 </span><span style=\"color: #7f7f7f; text-decoration-color: #7f7f7f\">│   </span><span style=\"color: #0000ff; text-decoration-color: #0000ff\">def</span> <span style=\"color: #00ff00; text-decoration-color: #00ff00\">read_depth</span>(<span style=\"color: #00ffff; text-decoration-color: #00ffff\">self</span>, filename):                                                        <span style=\"color: #800000; text-decoration-color: #800000\">│</span>\n",
       "<span style=\"color: #800000; text-decoration-color: #800000\">│</span>                                                                                                  <span style=\"color: #800000; text-decoration-color: #800000\">│</span>\n",
       "<span style=\"color: #800000; text-decoration-color: #800000\">│</span> <span style=\"color: #bfbf7f; text-decoration-color: #bfbf7f\">/home/dronelab/nmf/dataLoader/</span><span style=\"color: #808000; text-decoration-color: #808000; font-weight: bold\">blender.py</span>:<span style=\"color: #0000ff; text-decoration-color: #0000ff\">59</span> in <span style=\"color: #00ff00; text-decoration-color: #00ff00\">read_meta</span>                                         <span style=\"color: #800000; text-decoration-color: #800000\">│</span>\n",
       "<span style=\"color: #800000; text-decoration-color: #800000\">│</span>                                                                                                  <span style=\"color: #800000; text-decoration-color: #800000\">│</span>\n",
       "<span style=\"color: #800000; text-decoration-color: #800000\">│</span>   <span style=\"color: #7f7f7f; text-decoration-color: #7f7f7f\"> 56 </span><span style=\"color: #7f7f7f; text-decoration-color: #7f7f7f\">│   │   </span><span style=\"color: #0000ff; text-decoration-color: #0000ff\">return</span> depth                                                                       <span style=\"color: #800000; text-decoration-color: #800000\">│</span>\n",
       "<span style=\"color: #800000; text-decoration-color: #800000\">│</span>   <span style=\"color: #7f7f7f; text-decoration-color: #7f7f7f\"> 57 </span><span style=\"color: #7f7f7f; text-decoration-color: #7f7f7f\">│   </span>                                                                                       <span style=\"color: #800000; text-decoration-color: #800000\">│</span>\n",
       "<span style=\"color: #800000; text-decoration-color: #800000\">│</span>   <span style=\"color: #7f7f7f; text-decoration-color: #7f7f7f\"> 58 </span><span style=\"color: #7f7f7f; text-decoration-color: #7f7f7f\">│   </span><span style=\"color: #0000ff; text-decoration-color: #0000ff\">def</span> <span style=\"color: #00ff00; text-decoration-color: #00ff00\">read_meta</span>(<span style=\"color: #00ffff; text-decoration-color: #00ffff\">self</span>):                                                                   <span style=\"color: #800000; text-decoration-color: #800000\">│</span>\n",
       "<span style=\"color: #800000; text-decoration-color: #800000\">│</span> <span style=\"color: #800000; text-decoration-color: #800000\">❱ </span> 59 <span style=\"color: #7f7f7f; text-decoration-color: #7f7f7f\">│   │   </span><span style=\"color: #0000ff; text-decoration-color: #0000ff\">with</span> <span style=\"color: #00ffff; text-decoration-color: #00ffff\">open</span>(                                                                         <span style=\"color: #800000; text-decoration-color: #800000\">│</span>\n",
       "<span style=\"color: #800000; text-decoration-color: #800000\">│</span>   <span style=\"color: #7f7f7f; text-decoration-color: #7f7f7f\"> 60 </span><span style=\"color: #7f7f7f; text-decoration-color: #7f7f7f\">│   │   │   </span>os.path.join(<span style=\"color: #00ffff; text-decoration-color: #00ffff\">self</span>.root_dir, <span style=\"color: #808000; text-decoration-color: #808000\">f\"transforms_{</span><span style=\"color: #00ffff; text-decoration-color: #00ffff\">self</span>.split<span style=\"color: #808000; text-decoration-color: #808000\">}.json\"</span>), <span style=\"color: #808000; text-decoration-color: #808000\">\"r\"</span>              <span style=\"color: #800000; text-decoration-color: #800000\">│</span>\n",
       "<span style=\"color: #800000; text-decoration-color: #800000\">│</span>   <span style=\"color: #7f7f7f; text-decoration-color: #7f7f7f\"> 61 </span><span style=\"color: #7f7f7f; text-decoration-color: #7f7f7f\">│   │   </span>) <span style=\"color: #0000ff; text-decoration-color: #0000ff\">as</span> f:                                                                            <span style=\"color: #800000; text-decoration-color: #800000\">│</span>\n",
       "<span style=\"color: #800000; text-decoration-color: #800000\">│</span>   <span style=\"color: #7f7f7f; text-decoration-color: #7f7f7f\"> 62 </span><span style=\"color: #7f7f7f; text-decoration-color: #7f7f7f\">│   │   │   </span><span style=\"color: #00ffff; text-decoration-color: #00ffff\">self</span>.meta = json.load(f)                                                       <span style=\"color: #800000; text-decoration-color: #800000\">│</span>\n",
       "<span style=\"color: #800000; text-decoration-color: #800000\">╰──────────────────────────────────────────────────────────────────────────────────────────────────╯</span>\n",
       "<span style=\"color: #ff0000; text-decoration-color: #ff0000; font-weight: bold\">FileNotFoundError: </span><span style=\"font-weight: bold\">[</span>Errno <span style=\"color: #008080; text-decoration-color: #008080; font-weight: bold\">2</span><span style=\"font-weight: bold\">]</span> No such file or directory: <span style=\"color: #008000; text-decoration-color: #008000\">'/data/nerf_synthetic/toaster/transforms_test.json'</span>\n",
       "</pre>\n"
      ],
      "text/plain": [
       "\u001b[31m╭─\u001b[0m\u001b[31m──────────────────────────────\u001b[0m\u001b[31m \u001b[0m\u001b[1;31mTraceback \u001b[0m\u001b[1;2;31m(most recent call last)\u001b[0m\u001b[31m \u001b[0m\u001b[31m───────────────────────────────\u001b[0m\u001b[31m─╮\u001b[0m\n",
       "\u001b[31m│\u001b[0m in \u001b[92m<module>\u001b[0m:\u001b[94m27\u001b[0m                                                                                   \u001b[31m│\u001b[0m\n",
       "\u001b[31m│\u001b[0m                                                                                                  \u001b[31m│\u001b[0m\n",
       "\u001b[31m│\u001b[0m   \u001b[2m24 \u001b[0m\u001b[2m│   │   \u001b[0m                                                                                    \u001b[31m│\u001b[0m\n",
       "\u001b[31m│\u001b[0m   \u001b[2m25 \u001b[0m\u001b[2m│   │   \u001b[0mwhite_bg = config.dataset.white_bg \u001b[94mif\u001b[0m \u001b[96mhasattr\u001b[0m(config.dataset, \u001b[33m'\u001b[0m\u001b[33mwhite_bg\u001b[0m\u001b[33m'\u001b[0m) \u001b[94melse\u001b[0m \u001b[94mT\u001b[0m    \u001b[31m│\u001b[0m\n",
       "\u001b[31m│\u001b[0m   \u001b[2m26 \u001b[0m\u001b[2m│   │   \u001b[0mdataset = dataset_dict[config.dataset.dataset_name]                                 \u001b[31m│\u001b[0m\n",
       "\u001b[31m│\u001b[0m \u001b[31m❱ \u001b[0m27 \u001b[2m│   │   \u001b[0mtest_dataset = dataset(os.path.join(datadir, config.dataset.scenedir), split=\u001b[33m'\u001b[0m\u001b[33mte\u001b[0m    \u001b[31m│\u001b[0m\n",
       "\u001b[31m│\u001b[0m   \u001b[2m28 \u001b[0m\u001b[2m│   │   │   │   │   │   │   \u001b[0mdownsample=config.dataset.downsample_train, is_stack=\u001b[94mTrue\u001b[0m, w    \u001b[31m│\u001b[0m\n",
       "\u001b[31m│\u001b[0m   \u001b[2m29 \u001b[0m\u001b[2m│   │   \u001b[0mlpips_vs = []                                                                       \u001b[31m│\u001b[0m\n",
       "\u001b[31m│\u001b[0m   \u001b[2m30 \u001b[0m\u001b[2m│   │   \u001b[0mssims = []                                                                          \u001b[31m│\u001b[0m\n",
       "\u001b[31m│\u001b[0m                                                                                                  \u001b[31m│\u001b[0m\n",
       "\u001b[31m│\u001b[0m \u001b[2;33m/home/dronelab/nmf/dataLoader/\u001b[0m\u001b[1;33mblender.py\u001b[0m:\u001b[94m51\u001b[0m in \u001b[92m__init__\u001b[0m                                          \u001b[31m│\u001b[0m\n",
       "\u001b[31m│\u001b[0m                                                                                                  \u001b[31m│\u001b[0m\n",
       "\u001b[31m│\u001b[0m   \u001b[2m 48 \u001b[0m\u001b[2m│   │   \u001b[0m)                                                                                  \u001b[31m│\u001b[0m\n",
       "\u001b[31m│\u001b[0m   \u001b[2m 49 \u001b[0m\u001b[2m│   │   \u001b[0m\u001b[96mself\u001b[0m.center = torch.mean(\u001b[96mself\u001b[0m.scene_bbox, axis=\u001b[94m0\u001b[0m).float().view(\u001b[94m1\u001b[0m, \u001b[94m1\u001b[0m, \u001b[94m3\u001b[0m)            \u001b[31m│\u001b[0m\n",
       "\u001b[31m│\u001b[0m   \u001b[2m 50 \u001b[0m\u001b[2m│   │   \u001b[0m\u001b[96mself\u001b[0m.radius = (\u001b[96mself\u001b[0m.scene_bbox[\u001b[94m1\u001b[0m] - \u001b[96mself\u001b[0m.center).float().view(\u001b[94m1\u001b[0m, \u001b[94m1\u001b[0m, \u001b[94m3\u001b[0m)             \u001b[31m│\u001b[0m\n",
       "\u001b[31m│\u001b[0m \u001b[31m❱ \u001b[0m 51 \u001b[2m│   │   \u001b[0m\u001b[96mself\u001b[0m.read_meta()                                                                   \u001b[31m│\u001b[0m\n",
       "\u001b[31m│\u001b[0m   \u001b[2m 52 \u001b[0m\u001b[2m│   │   \u001b[0m\u001b[96mself\u001b[0m.define_proj_mat()                                                             \u001b[31m│\u001b[0m\n",
       "\u001b[31m│\u001b[0m   \u001b[2m 53 \u001b[0m\u001b[2m│   \u001b[0m                                                                                       \u001b[31m│\u001b[0m\n",
       "\u001b[31m│\u001b[0m   \u001b[2m 54 \u001b[0m\u001b[2m│   \u001b[0m\u001b[94mdef\u001b[0m \u001b[92mread_depth\u001b[0m(\u001b[96mself\u001b[0m, filename):                                                        \u001b[31m│\u001b[0m\n",
       "\u001b[31m│\u001b[0m                                                                                                  \u001b[31m│\u001b[0m\n",
       "\u001b[31m│\u001b[0m \u001b[2;33m/home/dronelab/nmf/dataLoader/\u001b[0m\u001b[1;33mblender.py\u001b[0m:\u001b[94m59\u001b[0m in \u001b[92mread_meta\u001b[0m                                         \u001b[31m│\u001b[0m\n",
       "\u001b[31m│\u001b[0m                                                                                                  \u001b[31m│\u001b[0m\n",
       "\u001b[31m│\u001b[0m   \u001b[2m 56 \u001b[0m\u001b[2m│   │   \u001b[0m\u001b[94mreturn\u001b[0m depth                                                                       \u001b[31m│\u001b[0m\n",
       "\u001b[31m│\u001b[0m   \u001b[2m 57 \u001b[0m\u001b[2m│   \u001b[0m                                                                                       \u001b[31m│\u001b[0m\n",
       "\u001b[31m│\u001b[0m   \u001b[2m 58 \u001b[0m\u001b[2m│   \u001b[0m\u001b[94mdef\u001b[0m \u001b[92mread_meta\u001b[0m(\u001b[96mself\u001b[0m):                                                                   \u001b[31m│\u001b[0m\n",
       "\u001b[31m│\u001b[0m \u001b[31m❱ \u001b[0m 59 \u001b[2m│   │   \u001b[0m\u001b[94mwith\u001b[0m \u001b[96mopen\u001b[0m(                                                                         \u001b[31m│\u001b[0m\n",
       "\u001b[31m│\u001b[0m   \u001b[2m 60 \u001b[0m\u001b[2m│   │   │   \u001b[0mos.path.join(\u001b[96mself\u001b[0m.root_dir, \u001b[33mf\u001b[0m\u001b[33m\"\u001b[0m\u001b[33mtransforms_\u001b[0m\u001b[33m{\u001b[0m\u001b[96mself\u001b[0m.split\u001b[33m}\u001b[0m\u001b[33m.json\u001b[0m\u001b[33m\"\u001b[0m), \u001b[33m\"\u001b[0m\u001b[33mr\u001b[0m\u001b[33m\"\u001b[0m              \u001b[31m│\u001b[0m\n",
       "\u001b[31m│\u001b[0m   \u001b[2m 61 \u001b[0m\u001b[2m│   │   \u001b[0m) \u001b[94mas\u001b[0m f:                                                                            \u001b[31m│\u001b[0m\n",
       "\u001b[31m│\u001b[0m   \u001b[2m 62 \u001b[0m\u001b[2m│   │   │   \u001b[0m\u001b[96mself\u001b[0m.meta = json.load(f)                                                       \u001b[31m│\u001b[0m\n",
       "\u001b[31m╰──────────────────────────────────────────────────────────────────────────────────────────────────╯\u001b[0m\n",
       "\u001b[1;91mFileNotFoundError: \u001b[0m\u001b[1m[\u001b[0mErrno \u001b[1;36m2\u001b[0m\u001b[1m]\u001b[0m No such file or directory: \u001b[32m'/data/nerf_synthetic/toaster/transforms_test.json'\u001b[0m\n"
      ]
     },
     "metadata": {},
     "output_type": "display_data"
    }
   ],
   "source": [
    "\n",
    "# log_dir = Path(\"../log\") / \"tensorf\"\n",
    "# log_dir = Path(\"../log\") / \"fixedmip128\"\n",
    "# log_dir = Path(\"../log\") / \"singlebounce_samen\"\n",
    "# exps = [\"noprednorms_nl0_conserve_pb0\", 'fixedmip128', 'tensorf', 'singlebounce_samen']\n",
    "# exps = ['interpdiffuse', 'interpdiffuse_flipnorm']\n",
    "# exps = ['noupsample']\n",
    "exps = ['fresnel_nointim', 'fresnel_nobounce', 'fresnel', 'lambda', 'fresnel_nonumer']\n",
    "\n",
    "stats_files = ['stats_augn.yaml', 'stats_aug.yaml', 'stats.yaml']\n",
    "datadir = \"/optane/nerf_datasets\"\n",
    "# datadir = \"/data\"\n",
    "for exp in exps:\n",
    "    log_dir = Path(\"../log\") / exp\n",
    "    for p in log_dir.glob(\"*\"):\n",
    "        print(p)\n",
    "        pano_path = p / \"imgs_test_all\" / \"envmaps\" / \"pano.exr\"\n",
    "        mapped_pano_path = p / \"imgs_test_all\" / \"envmaps\" / \"mapped_pano.png\"\n",
    "        new_data_path = p / \"imgs_test_all\" / \"stats_augnl.yaml\"\n",
    "\n",
    "        old_data = get_stats(p)\n",
    "\n",
    "        config = OmegaConf.load(p / 'config.yaml')\n",
    "        dname = Path(config['dataset']['scenedir']).name\n",
    "\n",
    "        white_bg = config.dataset.white_bg if hasattr(config.dataset, 'white_bg') else True\n",
    "        dataset = dataset_dict[config.dataset.dataset_name]\n",
    "        test_dataset = dataset(os.path.join(datadir, config.dataset.scenedir), split='test',\n",
    "                            downsample=config.dataset.downsample_train, is_stack=True, white_bg=white_bg, is_testing=True)\n",
    "        lpips_vs = []\n",
    "        ssims = []\n",
    "        psnrs = []\n",
    "        for idx in range(len(test_dataset)):\n",
    "            pred_im = torch.as_tensor(imageio.imread(p / \"imgs_test_all\" / f\"{idx:03d}.png\")).float() / 255\n",
    "            gt_im = test_dataset.all_rgbs[idx]\n",
    "\n",
    "            pred_t = pred_im.permute(2, 0, 1).unsqueeze(0).to(device)\n",
    "            gt_t = gt_im.permute(2, 0, 1).unsqueeze(0).to(device)\n",
    "            err = (pred_im - gt_im)**2\n",
    "            psnr = -10 * torch.log(torch.mean(err)) / np.log(10.0)\n",
    "            psnrs.append(psnr)\n",
    "\n",
    "            with torch.no_grad():\n",
    "                lpips_v = loss_fn_alex(pred_t, gt_t, normalize=True).cpu()\n",
    "            ssims.append(rgb_ssim(pred_im, gt_im, 1))\n",
    "            lpips_vs.append(float(lpips_v))\n",
    "\n",
    "        with new_data_path.open('w') as f:\n",
    "            old_data['l_alex'] = float(sum(lpips_vs) / len(lpips_vs)) if len(lpips_vs) > 0 else 0\n",
    "            old_data['new_psnr'] = float(sum(psnrs) / len(psnrs)) if len(psnrs) > 0 else 0\n",
    "            old_data['ssim'] = float(sum(ssims) / len(ssims)) if len(ssims) > 0 else 0\n",
    "            yaml.dump(old_data, f)\n"
   ]
  },
  {
   "cell_type": "code",
   "execution_count": null,
   "metadata": {},
   "outputs": [],
   "source": []
  }
 ],
 "metadata": {
  "kernelspec": {
   "display_name": "31",
   "language": "python",
   "name": "python3"
  },
  "language_info": {
   "codemirror_mode": {
    "name": "ipython",
    "version": 3
   },
   "file_extension": ".py",
   "mimetype": "text/x-python",
   "name": "python",
   "nbconvert_exporter": "python",
   "pygments_lexer": "ipython3",
   "version": "3.10.4"
  },
  "orig_nbformat": 4,
  "vscode": {
   "interpreter": {
    "hash": "028f34ffe305a9c9d9afad2118f6894d15876b6d4b2e233b2f3e6907c2ac8580"
   }
  }
 },
 "nbformat": 4,
 "nbformat_minor": 2
}
