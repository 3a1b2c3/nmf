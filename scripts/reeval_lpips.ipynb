{
 "cells": [
  {
   "cell_type": "code",
   "execution_count": 16,
   "metadata": {},
   "outputs": [
    {
     "name": "stdout",
     "output_type": "stream",
     "text": [
      "/home/dronelab/normalrf\n"
     ]
    }
   ],
   "source": [
    "%matplotlib widget\n",
    "import imageio\n",
    "import numpy as np\n",
    "from pathlib import Path\n",
    "from omegaconf import OmegaConf\n",
    "import os\n",
    "from IPython.display import display, Image\n",
    "os.environ[\"OPENCV_IO_ENABLE_OPENEXR\"] = \"1\"\n",
    "import cv2 as cv\n",
    "import matplotlib.pyplot as plt\n",
    "from sklearn import linear_model\n",
    "import torch.nn.functional as F\n",
    "import torch\n",
    "import yaml\n",
    "import lpips\n",
    "import scipy.signal\n",
    "\n",
    "import sys\n",
    "base_path = Path(os.path.abspath('')).parent\n",
    "print(base_path)\n",
    "sys.path.append(str(base_path))\n",
    "import torch\n",
    "from dataLoader import dataset_dict\n",
    "\n",
    "def disp_im(im):\n",
    "    plt.close()\n",
    "    plt.cla()\n",
    "    fig = plt.imshow(im)\n",
    "    plt.close()\n",
    "    display(fig.figure)\n"
   ]
  },
  {
   "cell_type": "code",
   "execution_count": 14,
   "metadata": {},
   "outputs": [
    {
     "name": "stdout",
     "output_type": "stream",
     "text": [
      "Setting up [LPIPS] perceptual loss: trunk [alex], v[0.1], spatial [off]\n"
     ]
    },
    {
     "name": "stderr",
     "output_type": "stream",
     "text": [
      "/home/dronelab/miniconda3/envs/31/lib/python3.10/site-packages/torchvision/models/_utils.py:208: UserWarning: The parameter 'pretrained' is deprecated since 0.13 and may be removed in the future, please use 'weights' instead.\n",
      "  warnings.warn(\n",
      "/home/dronelab/miniconda3/envs/31/lib/python3.10/site-packages/torchvision/models/_utils.py:223: UserWarning: Arguments other than a weight enum or `None` for 'weights' are deprecated since 0.13 and may be removed in the future. The current behavior is equivalent to passing `weights=AlexNet_Weights.IMAGENET1K_V1`. You can also use `weights=AlexNet_Weights.DEFAULT` to get the most up-to-date weights.\n",
      "  warnings.warn(msg)\n"
     ]
    },
    {
     "name": "stdout",
     "output_type": "stream",
     "text": [
      "Loading model from: /home/dronelab/miniconda3/envs/31/lib/python3.10/site-packages/lpips/weights/v0.1/alex.pth\n"
     ]
    }
   ],
   "source": [
    "def rgb_ssim(img0, img1, max_val,\n",
    "             filter_size=11,\n",
    "             filter_sigma=1.5,\n",
    "             k1=0.01,\n",
    "             k2=0.03,\n",
    "             return_map=False):\n",
    "    # Modified from https://github.com/google/mipnerf/blob/16e73dfdb52044dcceb47cda5243a686391a6e0f/internal/math.py#L58\n",
    "    assert len(img0.shape) == 3\n",
    "    assert img0.shape[-1] == 3\n",
    "    assert img0.shape == img1.shape\n",
    "\n",
    "    # Construct a 1D Gaussian blur filter.\n",
    "    hw = filter_size // 2\n",
    "    shift = (2 * hw - filter_size + 1) / 2\n",
    "    f_i = ((np.arange(filter_size) - hw + shift) / filter_sigma)**2\n",
    "    filt = np.exp(-0.5 * f_i)\n",
    "    filt /= np.sum(filt)\n",
    "\n",
    "    # Blur in x and y (faster than the 2D convolution).\n",
    "    def convolve2d(z, f):\n",
    "        return scipy.signal.convolve2d(z, f, mode='valid')\n",
    "\n",
    "    filt_fn = lambda z: np.stack([\n",
    "        convolve2d(convolve2d(z[...,i], filt[:, None]), filt[None, :])\n",
    "        for i in range(z.shape[-1])], -1)\n",
    "    mu0 = filt_fn(img0)\n",
    "    mu1 = filt_fn(img1)\n",
    "    mu00 = mu0 * mu0\n",
    "    mu11 = mu1 * mu1\n",
    "    mu01 = mu0 * mu1\n",
    "    sigma00 = filt_fn(img0**2) - mu00\n",
    "    sigma11 = filt_fn(img1**2) - mu11\n",
    "    sigma01 = filt_fn(img0 * img1) - mu01\n",
    "\n",
    "    # Clip the variances and covariances to valid values.\n",
    "    # Variance must be non-negative:\n",
    "    sigma00 = np.maximum(0., sigma00)\n",
    "    sigma11 = np.maximum(0., sigma11)\n",
    "    sigma01 = np.sign(sigma01) * np.minimum(\n",
    "        np.sqrt(sigma00 * sigma11), np.abs(sigma01))\n",
    "    c1 = (k1 * max_val)**2\n",
    "    c2 = (k2 * max_val)**2\n",
    "    numer = (2 * mu01 + c1) * (2 * sigma01 + c2)\n",
    "    denom = (mu00 + mu11 + c1) * (sigma00 + sigma11 + c2)\n",
    "    ssim_map = numer / denom\n",
    "    ssim = np.mean(ssim_map)\n",
    "    return ssim_map if return_map else ssim\n",
    "\n",
    "\n",
    "device = torch.device('cuda')\n",
    "loss_fn_alex = lpips.LPIPS(net='alex').to(device)"
   ]
  },
  {
   "cell_type": "code",
   "execution_count": 17,
   "metadata": {},
   "outputs": [
    {
     "name": "stdout",
     "output_type": "stream",
     "text": [
      "../log/noprednorms_nl0_conserve_pb0/mic_v37_mulLdotN_no2x_elam5e-5_max0.5rough_clip_pb0_norussian_noprednorms_nl0\n"
     ]
    },
    {
     "name": "stderr",
     "output_type": "stream",
     "text": [
      "Loading data test (200): 100%|██████████| 200/200 [00:06<00:00, 32.05it/s]\n",
      "/tmp/ipykernel_3621461/1866536771.py:30: DeprecationWarning: Starting with ImageIO v3 the behavior of this function will switch to that of iio.v3.imread. To keep the current behavior (and make this warning dissapear) use `import imageio.v2 as imageio` or call `imageio.v2.imread` directly.\n",
      "  pred_im = torch.as_tensor(imageio.imread(p / \"imgs_test_all\" / f\"{idx:03d}.png\")).float() / 255\n"
     ]
    },
    {
     "name": "stdout",
     "output_type": "stream",
     "text": [
      "../log/noprednorms_nl0_conserve_pb0/helmet_v37_mulLdotN_no2x_elam5e-5_max0.5rough_clip_pb0_noprednorms_nl0\n"
     ]
    },
    {
     "name": "stderr",
     "output_type": "stream",
     "text": [
      "Loading data test (200): 100%|██████████| 200/200 [00:07<00:00, 25.06it/s]\n"
     ]
    },
    {
     "name": "stdout",
     "output_type": "stream",
     "text": [
      "../log/noprednorms_nl0_conserve_pb0/toaster_v38\n"
     ]
    },
    {
     "name": "stderr",
     "output_type": "stream",
     "text": [
      "Loading data test (200): 100%|██████████| 200/200 [00:07<00:00, 26.48it/s]\n"
     ]
    },
    {
     "name": "stdout",
     "output_type": "stream",
     "text": [
      "../log/noprednorms_nl0_conserve_pb0/teapot_v37_mulLdotN_no2x_elam5e-5_max0.5rough_clip_pb0_norussian_noprednorms_nl0\n"
     ]
    },
    {
     "name": "stderr",
     "output_type": "stream",
     "text": [
      "Loading data test (200): 100%|██████████| 200/200 [00:08<00:00, 23.82it/s]\n"
     ]
    },
    {
     "name": "stdout",
     "output_type": "stream",
     "text": [
      "../log/noprednorms_nl0_conserve_pb0/ficus_v37_mulLdotN_no2x_elam5e-5_max0.5rough_clip_pb0_norussian_noprednorms_nl0\n"
     ]
    },
    {
     "name": "stderr",
     "output_type": "stream",
     "text": [
      "Loading data test (200): 100%|██████████| 200/200 [00:08<00:00, 24.16it/s]\n"
     ]
    },
    {
     "name": "stdout",
     "output_type": "stream",
     "text": [
      "../log/noprednorms_nl0_conserve_pb0/materials_v37_mulLdotN_no2x_elam5e-5_max0.5rough_clip_pb0_norussian_noprednorms_nl0\n"
     ]
    },
    {
     "name": "stderr",
     "output_type": "stream",
     "text": [
      "Loading data test (200): 100%|██████████| 200/200 [00:09<00:00, 21.84it/s]\n"
     ]
    },
    {
     "name": "stdout",
     "output_type": "stream",
     "text": [
      "../log/noprednorms_nl0_conserve_pb0/chair_v37_mulLdotN_no2x_elam5e-5_max0.5rough_clip_pb0_norussian_noprednorms_nl0\n"
     ]
    },
    {
     "name": "stderr",
     "output_type": "stream",
     "text": [
      "Loading data test (200): 100%|██████████| 200/200 [00:06<00:00, 28.83it/s]\n"
     ]
    },
    {
     "name": "stdout",
     "output_type": "stream",
     "text": [
      "../log/noprednorms_nl0_conserve_pb0/coffee_v38\n"
     ]
    },
    {
     "name": "stderr",
     "output_type": "stream",
     "text": [
      "Loading data test (200): 100%|██████████| 200/200 [00:06<00:00, 29.52it/s]\n"
     ]
    },
    {
     "name": "stdout",
     "output_type": "stream",
     "text": [
      "../log/noprednorms_nl0_conserve_pb0/lego_v38\n"
     ]
    },
    {
     "name": "stderr",
     "output_type": "stream",
     "text": [
      "Loading data test (200): 100%|██████████| 200/200 [00:07<00:00, 26.51it/s]\n"
     ]
    },
    {
     "name": "stdout",
     "output_type": "stream",
     "text": [
      "../log/noprednorms_nl0_conserve_pb0/hotdog_v37_mulLdotN_no2x_elam5e-5_max0.5rough_clip_pb0_norussian_noprednorms_nl0\n"
     ]
    },
    {
     "name": "stderr",
     "output_type": "stream",
     "text": [
      "Loading data test (200): 100%|██████████| 200/200 [00:05<00:00, 34.39it/s]\n"
     ]
    },
    {
     "name": "stdout",
     "output_type": "stream",
     "text": [
      "../log/noprednorms_nl0_conserve_pb0/ship_v38\n"
     ]
    },
    {
     "name": "stderr",
     "output_type": "stream",
     "text": [
      "Loading data test (200): 100%|██████████| 200/200 [00:06<00:00, 31.72it/s]\n"
     ]
    },
    {
     "name": "stdout",
     "output_type": "stream",
     "text": [
      "../log/noprednorms_nl0_conserve_pb0/drums_v38\n"
     ]
    },
    {
     "name": "stderr",
     "output_type": "stream",
     "text": [
      "Loading data test (200): 100%|██████████| 200/200 [00:06<00:00, 31.91it/s]\n"
     ]
    },
    {
     "name": "stdout",
     "output_type": "stream",
     "text": [
      "../log/noprednorms_nl0_conserve_pb0/shinyball_v37_mulLdotN_no2x_elam5e-5_max0.5rough_clip_pb0_noprednorms_nl0\n"
     ]
    },
    {
     "name": "stderr",
     "output_type": "stream",
     "text": [
      "Loading data test (200): 100%|██████████| 200/200 [00:09<00:00, 20.16it/s]\n"
     ]
    },
    {
     "name": "stdout",
     "output_type": "stream",
     "text": [
      "../log/noprednorms_nl0_conserve_pb0/car_v38\n"
     ]
    },
    {
     "name": "stderr",
     "output_type": "stream",
     "text": [
      "Loading data test (200): 100%|██████████| 200/200 [00:06<00:00, 29.77it/s]\n"
     ]
    },
    {
     "name": "stdout",
     "output_type": "stream",
     "text": [
      "../log/noprednorms_nl0_conserve_pb0/ball_v37_mulLdotN_no2x_elam5e-5_max0.5rough_clip_pb0_noprednorms_nl0\n"
     ]
    },
    {
     "name": "stderr",
     "output_type": "stream",
     "text": [
      "Loading data test (200): 100%|██████████| 200/200 [00:06<00:00, 30.87it/s]\n"
     ]
    },
    {
     "name": "stdout",
     "output_type": "stream",
     "text": [
      "../log/fixedmip128/shinyball_v37_mulLdotN_no2x_elam5e-5_max0.5rough_clip_pb0.05_noconserve_fixedmip128\n"
     ]
    },
    {
     "name": "stderr",
     "output_type": "stream",
     "text": [
      "Loading data test (200): 100%|██████████| 200/200 [00:09<00:00, 20.35it/s]\n"
     ]
    },
    {
     "name": "stdout",
     "output_type": "stream",
     "text": [
      "../log/fixedmip128/car_v38_fixedmip128\n"
     ]
    },
    {
     "name": "stderr",
     "output_type": "stream",
     "text": [
      "Loading data test (200): 100%|██████████| 200/200 [00:06<00:00, 29.18it/s]\n"
     ]
    },
    {
     "name": "stdout",
     "output_type": "stream",
     "text": [
      "../log/fixedmip128/helmet_v37_mulLdotN_no2x_elam5e-5_max0.5rough_clip_pb0.05_noconserve_fixedmip128\n"
     ]
    },
    {
     "name": "stderr",
     "output_type": "stream",
     "text": [
      "Loading data test (200): 100%|██████████| 200/200 [00:06<00:00, 28.59it/s]\n"
     ]
    },
    {
     "name": "stdout",
     "output_type": "stream",
     "text": [
      "../log/fixedmip128/toaster_v37_mulLdotN_no2x_elam5e-5_max0.5rough_clip_pb0.05_noconserve_norussian_fixedmip128\n"
     ]
    },
    {
     "name": "stderr",
     "output_type": "stream",
     "text": [
      "Loading data test (200): 100%|██████████| 200/200 [00:06<00:00, 29.29it/s]\n"
     ]
    },
    {
     "name": "stdout",
     "output_type": "stream",
     "text": [
      "../log/fixedmip128/ship_v37_mulLdotN_no2x_elam5e-5_max0.5rough_clip_pb0.05_noconserve_norussian_fixedmip128\n"
     ]
    },
    {
     "name": "stderr",
     "output_type": "stream",
     "text": [
      "Loading data test (200): 100%|██████████| 200/200 [00:06<00:00, 31.17it/s]\n"
     ]
    },
    {
     "name": "stdout",
     "output_type": "stream",
     "text": [
      "../log/fixedmip128/teapot_v38_fixedmip128\n"
     ]
    },
    {
     "name": "stderr",
     "output_type": "stream",
     "text": [
      "Loading data test (200): 100%|██████████| 200/200 [00:05<00:00, 36.29it/s]\n"
     ]
    },
    {
     "name": "stdout",
     "output_type": "stream",
     "text": [
      "../log/fixedmip128/chair_v37_mulLdotN_no2x_elam5e-5_max0.5rough_clip_pb0.05_noconserve_norussian_fixedmip128\n"
     ]
    },
    {
     "name": "stderr",
     "output_type": "stream",
     "text": [
      "Loading data test (200): 100%|██████████| 200/200 [00:05<00:00, 34.74it/s]\n"
     ]
    },
    {
     "name": "stdout",
     "output_type": "stream",
     "text": [
      "../log/fixedmip128/hotdog_v37_mulLdotN_no2x_elam5e-5_max0.5rough_clip_pb0.05_noconserve_norussian_fixedmip128\n"
     ]
    },
    {
     "name": "stderr",
     "output_type": "stream",
     "text": [
      "Loading data test (200): 100%|██████████| 200/200 [00:05<00:00, 37.30it/s]\n"
     ]
    },
    {
     "name": "stdout",
     "output_type": "stream",
     "text": [
      "../log/fixedmip128/ficus_v37_mulLdotN_no2x_elam5e-5_max0.5rough_clip_pb0.05_noconserve_norussian_fixedmip128\n"
     ]
    },
    {
     "name": "stderr",
     "output_type": "stream",
     "text": [
      "Loading data test (200): 100%|██████████| 200/200 [00:05<00:00, 33.58it/s]\n"
     ]
    },
    {
     "name": "stdout",
     "output_type": "stream",
     "text": [
      "../log/fixedmip128/materials_v38_fixedmip128\n"
     ]
    },
    {
     "name": "stderr",
     "output_type": "stream",
     "text": [
      "Loading data test (200): 100%|██████████| 200/200 [00:06<00:00, 31.37it/s]\n"
     ]
    },
    {
     "name": "stdout",
     "output_type": "stream",
     "text": [
      "../log/fixedmip128/mic_v37_mulLdotN_no2x_elam5e-5_max0.5rough_clip_pb0.05_noconserve_norussian_fixedmip128\n"
     ]
    },
    {
     "name": "stderr",
     "output_type": "stream",
     "text": [
      "Loading data test (200): 100%|██████████| 200/200 [00:05<00:00, 37.26it/s]\n"
     ]
    },
    {
     "name": "stdout",
     "output_type": "stream",
     "text": [
      "../log/fixedmip128/lego_v37_mulLdotN_no2x_elam5e-5_max0.5rough_clip_pb0.05_noconserve_norussian_fixedmip128\n"
     ]
    },
    {
     "name": "stderr",
     "output_type": "stream",
     "text": [
      "Loading data test (200): 100%|██████████| 200/200 [00:07<00:00, 26.11it/s]\n"
     ]
    },
    {
     "name": "stdout",
     "output_type": "stream",
     "text": [
      "../log/fixedmip128/coffee_v37_mulLdotN_no2x_elam5e-5_max0.5rough_clip_pb0.05_noconserve_norussian_fixedmip128\n"
     ]
    },
    {
     "name": "stderr",
     "output_type": "stream",
     "text": [
      "Loading data test (200): 100%|██████████| 200/200 [00:06<00:00, 28.62it/s]\n"
     ]
    },
    {
     "name": "stdout",
     "output_type": "stream",
     "text": [
      "../log/fixedmip128/shinyball_v37_mulLdotN_no2x_elam5e-5_max0.5rough_clip_pb0.05_noconserve_noprednorms\n"
     ]
    },
    {
     "name": "stderr",
     "output_type": "stream",
     "text": [
      "Loading data test (200): 100%|██████████| 200/200 [00:09<00:00, 20.87it/s]\n"
     ]
    },
    {
     "name": "stdout",
     "output_type": "stream",
     "text": [
      "../log/fixedmip128/ball_v37_mulLdotN_no2x_elam5e-5_max0.5rough_clip_pb0.05_noconserve_fixedmip128\n"
     ]
    },
    {
     "name": "stderr",
     "output_type": "stream",
     "text": [
      "Loading data test (200): 100%|██████████| 200/200 [00:07<00:00, 25.58it/s]\n"
     ]
    },
    {
     "name": "stdout",
     "output_type": "stream",
     "text": [
      "../log/fixedmip128/drums_v37_mulLdotN_no2x_elam5e-5_max0.5rough_clip_pb0.05_noconserve_norussian_fixedmip128\n"
     ]
    },
    {
     "name": "stderr",
     "output_type": "stream",
     "text": [
      "Loading data test (200): 100%|██████████| 200/200 [00:07<00:00, 26.54it/s]\n"
     ]
    },
    {
     "name": "stdout",
     "output_type": "stream",
     "text": [
      "../log/tensorf/ball_tensorf\n"
     ]
    },
    {
     "name": "stderr",
     "output_type": "stream",
     "text": [
      "Loading data test (200): 100%|██████████| 200/200 [00:07<00:00, 25.47it/s]\n"
     ]
    },
    {
     "name": "stdout",
     "output_type": "stream",
     "text": [
      "../log/tensorf/teapot_tensorf\n"
     ]
    },
    {
     "name": "stderr",
     "output_type": "stream",
     "text": [
      "Loading data test (200): 100%|██████████| 200/200 [00:06<00:00, 32.66it/s]\n"
     ]
    },
    {
     "name": "stdout",
     "output_type": "stream",
     "text": [
      "../log/tensorf/car_tensorf\n"
     ]
    },
    {
     "name": "stderr",
     "output_type": "stream",
     "text": [
      "Loading data test (200): 100%|██████████| 200/200 [00:07<00:00, 27.37it/s]\n"
     ]
    },
    {
     "name": "stdout",
     "output_type": "stream",
     "text": [
      "../log/tensorf/drums_tensorf\n"
     ]
    },
    {
     "name": "stderr",
     "output_type": "stream",
     "text": [
      "Loading data test (200): 100%|██████████| 200/200 [00:07<00:00, 25.86it/s]\n"
     ]
    },
    {
     "name": "stdout",
     "output_type": "stream",
     "text": [
      "../log/tensorf/toaster_tensorf\n"
     ]
    },
    {
     "name": "stderr",
     "output_type": "stream",
     "text": [
      "Loading data test (200): 100%|██████████| 200/200 [00:07<00:00, 27.16it/s]\n"
     ]
    },
    {
     "name": "stdout",
     "output_type": "stream",
     "text": [
      "../log/tensorf/materials_tensorf\n"
     ]
    },
    {
     "name": "stderr",
     "output_type": "stream",
     "text": [
      "Loading data test (200): 100%|██████████| 200/200 [00:06<00:00, 32.62it/s]\n"
     ]
    },
    {
     "name": "stdout",
     "output_type": "stream",
     "text": [
      "../log/tensorf/hotdog_tensorf\n"
     ]
    },
    {
     "name": "stderr",
     "output_type": "stream",
     "text": [
      "Loading data test (200): 100%|██████████| 200/200 [00:05<00:00, 35.54it/s]\n"
     ]
    },
    {
     "name": "stdout",
     "output_type": "stream",
     "text": [
      "../log/tensorf/ficus_tensorf\n"
     ]
    },
    {
     "name": "stderr",
     "output_type": "stream",
     "text": [
      "Loading data test (200): 100%|██████████| 200/200 [00:05<00:00, 34.66it/s]\n"
     ]
    },
    {
     "name": "stdout",
     "output_type": "stream",
     "text": [
      "../log/tensorf/lego_tensorf\n"
     ]
    },
    {
     "name": "stderr",
     "output_type": "stream",
     "text": [
      "Loading data test (200): 100%|██████████| 200/200 [00:06<00:00, 32.29it/s]\n"
     ]
    },
    {
     "name": "stdout",
     "output_type": "stream",
     "text": [
      "../log/tensorf/chair_tensorf\n"
     ]
    },
    {
     "name": "stderr",
     "output_type": "stream",
     "text": [
      "Loading data test (200): 100%|██████████| 200/200 [00:06<00:00, 29.88it/s]\n"
     ]
    },
    {
     "name": "stdout",
     "output_type": "stream",
     "text": [
      "../log/tensorf/mic_tensorf\n"
     ]
    },
    {
     "name": "stderr",
     "output_type": "stream",
     "text": [
      "Loading data test (200): 100%|██████████| 200/200 [00:05<00:00, 39.62it/s]\n"
     ]
    },
    {
     "name": "stdout",
     "output_type": "stream",
     "text": [
      "../log/tensorf/helmet_tensorf\n"
     ]
    },
    {
     "name": "stderr",
     "output_type": "stream",
     "text": [
      "Loading data test (200): 100%|██████████| 200/200 [00:05<00:00, 34.13it/s]\n"
     ]
    },
    {
     "name": "stdout",
     "output_type": "stream",
     "text": [
      "../log/tensorf/coffee_tensorf\n"
     ]
    },
    {
     "name": "stderr",
     "output_type": "stream",
     "text": [
      "Loading data test (200): 100%|██████████| 200/200 [00:05<00:00, 33.92it/s]\n"
     ]
    },
    {
     "name": "stdout",
     "output_type": "stream",
     "text": [
      "../log/tensorf/ship_tensorf\n"
     ]
    },
    {
     "name": "stderr",
     "output_type": "stream",
     "text": [
      "Loading data test (200): 100%|██████████| 200/200 [00:06<00:00, 33.18it/s]\n"
     ]
    },
    {
     "name": "stdout",
     "output_type": "stream",
     "text": [
      "../log/singlebounce_samen/helmet_v38_singlebounce_samen\n"
     ]
    },
    {
     "name": "stderr",
     "output_type": "stream",
     "text": [
      "Loading data test (200): 100%|██████████| 200/200 [00:05<00:00, 33.98it/s]\n"
     ]
    },
    {
     "name": "stdout",
     "output_type": "stream",
     "text": [
      "../log/singlebounce_samen/coffee_v38_singlebounce_samen\n"
     ]
    },
    {
     "name": "stderr",
     "output_type": "stream",
     "text": [
      "Loading data test (200): 100%|██████████| 200/200 [00:06<00:00, 31.07it/s]\n"
     ]
    },
    {
     "name": "stdout",
     "output_type": "stream",
     "text": [
      "../log/singlebounce_samen/drums_v38_singlebounce_samen\n"
     ]
    },
    {
     "name": "stderr",
     "output_type": "stream",
     "text": [
      "Loading data test (200): 100%|██████████| 200/200 [00:06<00:00, 29.61it/s]\n"
     ]
    },
    {
     "name": "stdout",
     "output_type": "stream",
     "text": [
      "../log/singlebounce_samen/toaster_v38_singlebounce_samen\n"
     ]
    },
    {
     "name": "stderr",
     "output_type": "stream",
     "text": [
      "Loading data test (200): 100%|██████████| 200/200 [00:07<00:00, 27.54it/s]\n"
     ]
    },
    {
     "name": "stdout",
     "output_type": "stream",
     "text": [
      "../log/singlebounce_samen/mic_v38_singlebounce_samen\n"
     ]
    },
    {
     "name": "stderr",
     "output_type": "stream",
     "text": [
      "Loading data test (200): 100%|██████████| 200/200 [00:05<00:00, 37.04it/s]\n"
     ]
    },
    {
     "name": "stdout",
     "output_type": "stream",
     "text": [
      "../log/singlebounce_samen/chair_v38_singlebounce_samen\n"
     ]
    },
    {
     "name": "stderr",
     "output_type": "stream",
     "text": [
      "Loading data test (200): 100%|██████████| 200/200 [00:06<00:00, 29.23it/s]\n"
     ]
    },
    {
     "name": "stdout",
     "output_type": "stream",
     "text": [
      "../log/singlebounce_samen/teapot_v38_singlebounce_samen\n"
     ]
    },
    {
     "name": "stderr",
     "output_type": "stream",
     "text": [
      "Loading data test (200): 100%|██████████| 200/200 [00:06<00:00, 32.53it/s]\n"
     ]
    },
    {
     "name": "stdout",
     "output_type": "stream",
     "text": [
      "../log/singlebounce_samen/ship_v38_singlebounce_samen\n"
     ]
    },
    {
     "name": "stderr",
     "output_type": "stream",
     "text": [
      "Loading data test (200): 100%|██████████| 200/200 [00:06<00:00, 29.36it/s]\n"
     ]
    },
    {
     "name": "stdout",
     "output_type": "stream",
     "text": [
      "../log/singlebounce_samen/hotdog_v38_singlebounce_samen\n"
     ]
    },
    {
     "name": "stderr",
     "output_type": "stream",
     "text": [
      "Loading data test (200): 100%|██████████| 200/200 [00:06<00:00, 31.85it/s]\n"
     ]
    },
    {
     "name": "stdout",
     "output_type": "stream",
     "text": [
      "../log/singlebounce_samen/materials_v38_singlebounce_samen\n"
     ]
    },
    {
     "name": "stderr",
     "output_type": "stream",
     "text": [
      "Loading data test (200): 100%|██████████| 200/200 [00:06<00:00, 30.12it/s]\n"
     ]
    },
    {
     "name": "stdout",
     "output_type": "stream",
     "text": [
      "../log/singlebounce_samen/car_v38_singlebounce_samen\n"
     ]
    },
    {
     "name": "stderr",
     "output_type": "stream",
     "text": [
      "Loading data test (200): 100%|██████████| 200/200 [00:06<00:00, 32.24it/s]\n"
     ]
    },
    {
     "name": "stdout",
     "output_type": "stream",
     "text": [
      "../log/singlebounce_samen/ficus_v38_singlebounce_samen\n"
     ]
    },
    {
     "name": "stderr",
     "output_type": "stream",
     "text": [
      "Loading data test (200): 100%|██████████| 200/200 [00:05<00:00, 33.53it/s]\n"
     ]
    },
    {
     "name": "stdout",
     "output_type": "stream",
     "text": [
      "../log/singlebounce_samen/ball_v38_singlebounce_samen\n"
     ]
    },
    {
     "name": "stderr",
     "output_type": "stream",
     "text": [
      "Loading data test (200): 100%|██████████| 200/200 [00:06<00:00, 29.78it/s]\n"
     ]
    },
    {
     "name": "stdout",
     "output_type": "stream",
     "text": [
      "../log/singlebounce_samen/lego_v38_singlebounce_samen\n"
     ]
    },
    {
     "name": "stderr",
     "output_type": "stream",
     "text": [
      "Loading data test (200): 100%|██████████| 200/200 [00:07<00:00, 27.00it/s]\n"
     ]
    }
   ],
   "source": [
    "\n",
    "# log_dir = Path(\"../log\") / \"tensorf\"\n",
    "# log_dir = Path(\"../log\") / \"fixedmip128\"\n",
    "# log_dir = Path(\"../log\") / \"singlebounce_samen\"\n",
    "exps = [\"noprednorms_nl0_conserve_pb0\", 'fixedmip128', 'tensorf', 'singlebounce_samen']\n",
    "\n",
    "stats_files = ['stats_augn.yaml', 'stats_aug.yaml', 'stats.yaml']\n",
    "datadir = \"/optane/nerf_datasets\"\n",
    "for exp in exps:\n",
    "    log_dir = Path(\"../log\") / exp\n",
    "    for p in log_dir.glob(\"*\"):\n",
    "        print(p)\n",
    "        pano_path = p / \"imgs_test_all\" / \"envmaps\" / \"pano.exr\"\n",
    "        mapped_pano_path = p / \"imgs_test_all\" / \"envmaps\" / \"mapped_pano.png\"\n",
    "        new_data_path = p / \"imgs_test_all\" / \"stats_augnl.yaml\"\n",
    "\n",
    "        stat_file = [s for s in stats_files if (p / \"imgs_test_all\" / s).exists()]\n",
    "        stat_file = stat_file[0] if len(stat_file) else None\n",
    "        old_data_path = p / \"imgs_test_all\" / stat_file\n",
    "\n",
    "        config = OmegaConf.load(p / 'config.yaml')\n",
    "        dname = Path(config['dataset']['scenedir']).name\n",
    "\n",
    "        white_bg = config.dataset.white_bg if hasattr(config.dataset, 'white_bg') else True\n",
    "        dataset = dataset_dict[config.dataset.dataset_name]\n",
    "        test_dataset = dataset(os.path.join(datadir, config.dataset.scenedir), split='test',\n",
    "                            downsample=config.dataset.downsample_train, is_stack=True, white_bg=white_bg, is_testing=True)\n",
    "        lpips_vs = []\n",
    "        ssims = []\n",
    "        for idx in range(len(test_dataset)):\n",
    "            pred_im = torch.as_tensor(imageio.imread(p / \"imgs_test_all\" / f\"{idx:03d}.png\")).float() / 255\n",
    "            gt_im = test_dataset.all_rgbs[idx]\n",
    "\n",
    "            pred_t = pred_im.permute(2, 0, 1).unsqueeze(0).to(device)\n",
    "            gt_t = gt_im.permute(2, 0, 1).unsqueeze(0).to(device)\n",
    "\n",
    "            with torch.no_grad():\n",
    "                lpips_v = loss_fn_alex(pred_t, gt_t, normalize=True).cpu()\n",
    "            ssims.append(rgb_ssim(pred_im, gt_im, 1))\n",
    "            lpips_vs.append(float(lpips_v))\n",
    "\n",
    "        with old_data_path.open('r') as f:\n",
    "            old_data = yaml.safe_load(f)\n",
    "        with new_data_path.open('w') as f:\n",
    "            old_data['l_alex'] = float(sum(lpips_vs) / len(lpips_vs)) if len(lpips_vs) > 0 else 0\n",
    "            old_data['ssim'] = float(sum(ssims) / len(ssims)) if len(ssims) > 0 else 0\n",
    "            yaml.dump(old_data, f)\n"
   ]
  },
  {
   "cell_type": "code",
   "execution_count": null,
   "metadata": {},
   "outputs": [],
   "source": []
  }
 ],
 "metadata": {
  "kernelspec": {
   "display_name": "31",
   "language": "python",
   "name": "python3"
  },
  "language_info": {
   "codemirror_mode": {
    "name": "ipython",
    "version": 3
   },
   "file_extension": ".py",
   "mimetype": "text/x-python",
   "name": "python",
   "nbconvert_exporter": "python",
   "pygments_lexer": "ipython3",
   "version": "3.10.4"
  },
  "orig_nbformat": 4,
  "vscode": {
   "interpreter": {
    "hash": "028f34ffe305a9c9d9afad2118f6894d15876b6d4b2e233b2f3e6907c2ac8580"
   }
  }
 },
 "nbformat": 4,
 "nbformat_minor": 2
}
