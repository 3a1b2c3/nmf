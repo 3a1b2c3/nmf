{
 "cells": [
  {
   "cell_type": "code",
   "execution_count": 2,
   "metadata": {},
   "outputs": [],
   "source": [
    "import imageio\n",
    "import numpy as np\n",
    "from pathlib import Path\n",
    "from omegaconf import OmegaConf\n",
    "import os\n",
    "from IPython.display import display, Image\n",
    "os.environ[\"OPENCV_IO_ENABLE_OPENEXR\"] = \"1\"\n",
    "import cv2 as cv\n",
    "import matplotlib.pyplot as plt\n",
    "import torch\n",
    "import yaml\n",
    "import shutil\n",
    "\n",
    "def disp_im(im):\n",
    "    plt.close()\n",
    "    plt.cla()\n",
    "    fig = plt.imshow(im)\n",
    "    plt.close()\n",
    "    display(fig.figure)\n"
   ]
  },
  {
   "cell_type": "code",
   "execution_count": 28,
   "metadata": {},
   "outputs": [
    {
     "name": "stdout",
     "output_type": "stream",
     "text": [
      "../log/noprednorms_nl0_conserve_pb0/mic_v37_mulLdotN_no2x_elam5e-5_max0.5rough_clip_pb0_norussian_noprednorms_nl0\n"
     ]
    },
    {
     "name": "stderr",
     "output_type": "stream",
     "text": [
      "/tmp/ipykernel_2794597/1876719010.py:44: DeprecationWarning: Starting with ImageIO v3 the behavior of this function will switch to that of iio.v3.imread. To keep the current behavior (and make this warning dissapear) use `import imageio.v2 as imageio` or call `imageio.v2.imread` directly.\n",
      "  gt_acc_map = imageio.imread(gt_path / f\"r_{idx}.png\")[..., 3:4]\n",
      "/tmp/ipykernel_2794597/1876719010.py:55: DeprecationWarning: Starting with ImageIO v3 the behavior of this function will switch to that of iio.v3.imread. To keep the current behavior (and make this warning dissapear) use `import imageio.v2 as imageio` or call `imageio.v2.imread` directly.\n",
      "  acc_map = imageio.imread(p / \"acc_map\" / f\"{idx:03d}.png\")\n",
      "/tmp/ipykernel_2794597/1876719010.py:57: DeprecationWarning: Starting with ImageIO v3 the behavior of this function will switch to that of iio.v3.imread. To keep the current behavior (and make this warning dissapear) use `import imageio.v2 as imageio` or call `imageio.v2.imread` directly.\n",
      "  tint = imageio.imread(p / \"tint\" / f\"{idx:03d}.exr\")\n",
      "/tmp/ipykernel_2794597/1876719010.py:58: DeprecationWarning: Starting with ImageIO v3 the behavior of this function will switch to that of iio.v3.imread. To keep the current behavior (and make this warning dissapear) use `import imageio.v2 as imageio` or call `imageio.v2.imread` directly.\n",
      "  diffuse = imageio.imread(p / \"diffuse\" / f\"{idx:03d}.png\")\n",
      "/tmp/ipykernel_2794597/1876719010.py:59: DeprecationWarning: Starting with ImageIO v3 the behavior of this function will switch to that of iio.v3.imread. To keep the current behavior (and make this warning dissapear) use `import imageio.v2 as imageio` or call `imageio.v2.imread` directly.\n",
      "  spec = imageio.imread(p / \"spec\" / f\"{idx:03d}.exr\")\n",
      "/tmp/ipykernel_2794597/1876719010.py:73: DeprecationWarning: Starting with ImageIO v3 the behavior of this function will switch to that of iio.v3.imread. To keep the current behavior (and make this warning dissapear) use `import imageio.v2 as imageio` or call `imageio.v2.imread` directly.\n",
      "  normals = imageio.imread(p / \"world_normal\" / f\"{idx:03d}.png\")\n"
     ]
    },
    {
     "name": "stdout",
     "output_type": "stream",
     "text": [
      "../log/noprednorms_nl0_conserve_pb0/helmet_v37_mulLdotN_no2x_elam5e-5_max0.5rough_clip_pb0_noprednorms_nl0\n"
     ]
    },
    {
     "name": "stderr",
     "output_type": "stream",
     "text": [
      "/tmp/ipykernel_2794597/1876719010.py:49: DeprecationWarning: Starting with ImageIO v3 the behavior of this function will switch to that of iio.v3.imread. To keep the current behavior (and make this warning dissapear) use `import imageio.v2 as imageio` or call `imageio.v2.imread` directly.\n",
      "  gt_norms = imageio.imread(gt_norm_path)\n"
     ]
    },
    {
     "name": "stdout",
     "output_type": "stream",
     "text": [
      "../log/noprednorms_nl0_conserve_pb0/toaster_v38\n",
      "../log/noprednorms_nl0_conserve_pb0/teapot_v37_mulLdotN_no2x_elam5e-5_max0.5rough_clip_pb0_norussian_noprednorms_nl0\n",
      "../log/noprednorms_nl0_conserve_pb0/ficus_v37_mulLdotN_no2x_elam5e-5_max0.5rough_clip_pb0_norussian_noprednorms_nl0\n",
      "../log/noprednorms_nl0_conserve_pb0/materials_v37_mulLdotN_no2x_elam5e-5_max0.5rough_clip_pb0_norussian_noprednorms_nl0\n",
      "../log/noprednorms_nl0_conserve_pb0/chair_v37_mulLdotN_no2x_elam5e-5_max0.5rough_clip_pb0_norussian_noprednorms_nl0\n",
      "../log/noprednorms_nl0_conserve_pb0/coffee_v38\n",
      "../log/noprednorms_nl0_conserve_pb0/lego_v38\n",
      "../log/noprednorms_nl0_conserve_pb0/hotdog_v37_mulLdotN_no2x_elam5e-5_max0.5rough_clip_pb0_norussian_noprednorms_nl0\n",
      "../log/noprednorms_nl0_conserve_pb0/ship_v38\n",
      "../log/noprednorms_nl0_conserve_pb0/drums_v38\n",
      "../log/noprednorms_nl0_conserve_pb0/shinyball_v37_mulLdotN_no2x_elam5e-5_max0.5rough_clip_pb0_noprednorms_nl0\n",
      "../log/noprednorms_nl0_conserve_pb0/car_v38\n",
      "../log/noprednorms_nl0_conserve_pb0/ball_v37_mulLdotN_no2x_elam5e-5_max0.5rough_clip_pb0_noprednorms_nl0\n"
     ]
    }
   ],
   "source": [
    "image_indices = dict(\n",
    "    car=129,\n",
    "    materials=144,\n",
    "    hotdog=48,\n",
    "    ficus=153,\n",
    "    mic=189,\n",
    "    ball=162,\n",
    "    teapot=116,\n",
    "    ship=140,\n",
    "    toaster=162,\n",
    "    coffee=157,\n",
    "    helmet=156,\n",
    "    lego=44,\n",
    "    drums=188,\n",
    ")\n",
    "\n",
    "\n",
    "base_path = Path(\"../log/\")\n",
    "base_out_path = Path(\"../figures\")\n",
    "data_path = Path(\"/optane/nerf_datasets/nerf_synthetic\")\n",
    "\n",
    "exp = \"noprednorms_nl0_conserve_pb0\"\n",
    "for p in (base_path / exp).glob(\"*\"):\n",
    "    print(p)\n",
    "    config = OmegaConf.load(p / 'config.yaml')\n",
    "    p = p / \"imgs_test_all\"\n",
    "    dname = Path(config['dataset']['scenedir']).name\n",
    "    if dname in image_indices:\n",
    "        idx = image_indices[dname]\n",
    "        out_path = base_out_path / dname\n",
    "        out_path.mkdir(parents=True, exist_ok=True)\n",
    "        pano_path = p / \"envmaps\"\n",
    "        shutil.copyfile(pano_path / \"mapped_pano.png\", out_path / 'mapped_pano.png')\n",
    "        shutil.copyfile(pano_path / \"gt_pano.png\", out_path / 'gt_pano.png')\n",
    "        with (pano_path / 'coeffs.yaml').open('r') as f:\n",
    "            coeffs = yaml.safe_load(f)\n",
    "\n",
    "        shutil.copyfile(p / f\"{idx:03d}.png\", out_path / 'final.png')\n",
    "\n",
    "        # copy GT\n",
    "        gt_path = data_path / dname / \"test\"\n",
    "        shutil.copyfile(gt_path / f\"r_{idx}.png\", out_path / 'gt_final.png')\n",
    "        # get acc_map\n",
    "        gt_acc_map = imageio.imread(gt_path / f\"r_{idx}.png\")[..., 3:4]\n",
    "\n",
    "        gt_norm_path = gt_path / f\"r_{idx}_normal.png\"\n",
    "        if gt_norm_path.exists():\n",
    "            # mask out gray\n",
    "            gt_norms = imageio.imread(gt_norm_path)\n",
    "            gt_norms = (np.clip(gt_norms.astype(np.float32)/255 + 1-gt_acc_map.astype(np.float32)/255, 0, 1)*255).astype(np.uint8)\n",
    "            imageio.imwrite(out_path / 'gt_normals.png', gt_norms)\n",
    "            # shutil.copyfile(gt_norm_path, out_path / 'gt_normals.png')\n",
    "\n",
    "        # spec, tint, diffuse all need mul with acc_map\n",
    "        acc_map = imageio.imread(p / \"acc_map\" / f\"{idx:03d}.png\")\n",
    "        acc_map = acc_map.reshape(*acc_map.shape[:2], 1)\n",
    "        tint = imageio.imread(p / \"tint\" / f\"{idx:03d}.exr\")\n",
    "        diffuse = imageio.imread(p / \"diffuse\" / f\"{idx:03d}.png\")\n",
    "        spec = imageio.imread(p / \"spec\" / f\"{idx:03d}.exr\")\n",
    "        spec = spec * np.array(coeffs['M']).reshape(1, 1, 3) + coeffs['B']\n",
    "        spec = spec / (1 + spec)\n",
    "        material = diffuse + 255*tint\n",
    "\n",
    "        tint = np.concatenate(((255*tint + (255-acc_map)).astype(np.uint8), acc_map), axis=-1)\n",
    "        imageio.imwrite(out_path / 'tint.png', tint)\n",
    "        diffuse = np.concatenate((diffuse + (255-acc_map), acc_map), axis=-1)\n",
    "        imageio.imwrite(out_path / 'diffuse.png', diffuse)\n",
    "        spec = np.concatenate(((255*spec + (255-acc_map)).astype(np.uint8), acc_map), axis=-1)\n",
    "        imageio.imwrite(out_path / 'spec.png', spec)\n",
    "        material = np.concatenate((material + (255-acc_map), acc_map), axis=-1)\n",
    "        imageio.imwrite(out_path / 'material.png', material.astype(np.uint8))\n",
    "\n",
    "        normals = imageio.imread(p / \"world_normal\" / f\"{idx:03d}.png\")\n",
    "        normals = np.concatenate((normals, acc_map), axis=-1)\n",
    "        imageio.imwrite(out_path / 'normals.png', normals)"
   ]
  },
  {
   "cell_type": "code",
   "execution_count": null,
   "metadata": {},
   "outputs": [],
   "source": []
  }
 ],
 "metadata": {
  "kernelspec": {
   "display_name": "31",
   "language": "python",
   "name": "python3"
  },
  "language_info": {
   "codemirror_mode": {
    "name": "ipython",
    "version": 3
   },
   "file_extension": ".py",
   "mimetype": "text/x-python",
   "name": "python",
   "nbconvert_exporter": "python",
   "pygments_lexer": "ipython3",
   "version": "3.10.4"
  },
  "orig_nbformat": 4,
  "vscode": {
   "interpreter": {
    "hash": "028f34ffe305a9c9d9afad2118f6894d15876b6d4b2e233b2f3e6907c2ac8580"
   }
  }
 },
 "nbformat": 4,
 "nbformat_minor": 2
}
