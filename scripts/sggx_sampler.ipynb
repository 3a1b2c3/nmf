{
 "cells": [
  {
   "cell_type": "code",
   "execution_count": 1,
   "metadata": {},
   "outputs": [
    {
     "name": "stdout",
     "output_type": "stream",
     "text": [
      "/home/amai/normalrf\n",
      "['/home/amai/normalrf/scripts', '/home/amai/.conda/envs/31/lib/python310.zip', '/home/amai/.conda/envs/31/lib/python3.10', '/home/amai/.conda/envs/31/lib/python3.10/lib-dynload', '', '/home/amai/.local/lib/python3.10/site-packages', '/home/amai/.conda/envs/31/lib/python3.10/site-packages', '/home/amai/.conda/envs/31/lib/python3.10/site-packages/GDAL-3.5.0-py3.10-linux-x86_64.egg', '/home/amai/.conda/envs/31/lib/python3.10/site-packages/tinycudann-1.6-py3.10-linux-x86_64.egg', '/home/amai/.conda/envs/31/lib/python3.10/site-packages/raymarching_full-0.0.0-py3.10-linux-x86_64.egg', '/home/amai/triton/python', '/home/amai/normalrf']\n"
     ]
    }
   ],
   "source": [
    "from pathlib import Path\n",
    "import sys\n",
    "import os\n",
    "sys.path.append(str(Path(os.path.abspath('')).parent))\n",
    "print(Path(os.path.abspath('')).parent)\n",
    "print(sys.path)"
   ]
  },
  {
   "cell_type": "code",
   "execution_count": 2,
   "metadata": {},
   "outputs": [],
   "source": [
    "import torch\n",
    "from modules import safemath\n",
    "import math\n",
    "import plotly.express as px\n",
    "from icecream import ic"
   ]
  },
  {
   "cell_type": "code",
   "execution_count": 15,
   "metadata": {},
   "outputs": [],
   "source": [
    "\n",
    "def normalize(x):\n",
    "    return x / (torch.linalg.norm(x, dim=-1, keepdim=True)+1e-8)\n",
    "\n",
    "class PseudoRandomSampler(torch.nn.Module):\n",
    "    def __init__(self, max_samples) -> None:\n",
    "        super().__init__()\n",
    "        self.sampler = torch.quasirandom.SobolEngine(dimension=3, scramble=True)\n",
    "        self.max_samples = max_samples\n",
    "        angs = self.sampler.draw(max_samples)\n",
    "        self.register_buffer('angs', angs)\n",
    "\n",
    "    def draw(self, B, num_samples):\n",
    "        if num_samples > self.max_samples:\n",
    "            self.max_samples = num_samples\n",
    "            self.angs = self.sampler.draw(self.max_samples)\n",
    "        angs = self.angs.reshape(1, self.max_samples, 3)[:, :num_samples, :].expand(B, num_samples, 3)\n",
    "        # self.sampler = torch.quasirandom.SobolEngine(dimension=2, scramble=True)\n",
    "        # add random offset\n",
    "        offset = torch.rand(B, 1, 3, device=angs.device)*0.25\n",
    "        angs = (angs + offset) % 1.0\n",
    "        return angs\n",
    "\n",
    "    def update(self, *args, **kwargs):\n",
    "        pass\n",
    "\n",
    "class SGGXSampler(PseudoRandomSampler):\n",
    "\n",
    "    def sample(self, refdirs, viewdir, normal, r1, r2, ray_mask):\n",
    "        num_samples = ray_mask.shape[1]\n",
    "        # viewdir: (B, 3)\n",
    "        # normal: (B, 3)\n",
    "        # r1, r2: B roughness values for anisotropic roughness\n",
    "        device = normal.device\n",
    "        B = normal.shape[0]\n",
    "        eps=torch.finfo(normal.dtype).eps\n",
    "\n",
    "        # establish basis for BRDF\n",
    "        z_up = torch.tensor([0.0, 0.0, 1.0], device=device).reshape(1, 3).expand(B, 3)\n",
    "        x_up = torch.tensor([-1.0, 0.0, 0.0], device=device).reshape(1, 3).expand(B, 3)\n",
    "        up = torch.where(normal[:, 2:3] < 0.999, z_up, x_up)\n",
    "        tangent = normalize(torch.linalg.cross(up, normal))\n",
    "        bitangent = normalize(torch.linalg.cross(normal, tangent))\n",
    "        # B, 3, 3\n",
    "        row_world_basis = torch.stack([tangent, bitangent, normal], dim=1).reshape(B, 3, 3)\n",
    "\n",
    "        # B, 3, 3\n",
    "        S_diag = torch.diag_embed(torch.stack([r1, r2, torch.ones_like(r1)], dim=0))\n",
    "        S = torch.matmul(torch.matmul(row_world_basis, S_diag), row_world_basis.permute(0, 2, 1))\n",
    "        M = torch.zeros((B, 3, 3), device=device)\n",
    "        tmp = (S[:, 1, 1]*S[:, 2, 2] - S[:, 1, 2]**2).clip(min=eps).sqrt()\n",
    "        M[:, 0, 0] = torch.linalg.det(S).abs().sqrt() / tmp\n",
    "        # checked\n",
    "        inv_sqrt_Sii = 1/S[:, 2, 2].clip(min=eps).sqrt().clip(min=eps)\n",
    "        # checked\n",
    "        M[:, 1, 0] = -inv_sqrt_Sii*(S[:, 0, 2]*S[:, 1, 2] - S[:, 0, 1]*S[:, 2, 2])/tmp\n",
    "        M[:, 1, 1] = inv_sqrt_Sii*tmp\n",
    "\n",
    "        # checked\n",
    "        M[:, 2, 0] = inv_sqrt_Sii * S[:, 0, 2]\n",
    "        M[:, 2, 1] = inv_sqrt_Sii * S[:, 1, 2]\n",
    "        M[:, 2, 2] = inv_sqrt_Sii * S[:, 2, 2]\n",
    "\n",
    "        angs = self.draw(B, num_samples).to(device)\n",
    "\n",
    "        M_mask = M.reshape(B, 1, 3, 3).expand(B, num_samples, 3, 3)[ray_mask]\n",
    "        S_mask = S.reshape(B, 1, 3, 3).expand(B, num_samples, 3, 3)[ray_mask]\n",
    "\n",
    "        # here is where things get really large\n",
    "        u1 = angs[..., 0]\n",
    "        u2 = angs[..., 1]\n",
    "\n",
    "        # stretch and mask stuff to reduce memory\n",
    "        r1_mask = r1.reshape(-1, 1).expand(u1.shape)[ray_mask]\n",
    "        r2_mask = r2.reshape(-1, 1).expand(u1.shape)[ray_mask]\n",
    "        row_world_basis_mask = row_world_basis.permute(0, 2, 1).reshape(B, 1, 3, 3).expand(B, num_samples, 3, 3)[ray_mask]\n",
    "\n",
    "        u1_mask = u1[ray_mask]\n",
    "        u2_mask = u2[ray_mask]\n",
    "\n",
    "        u1sqrt = u1_mask.clip(min=eps).sqrt()\n",
    "        u = (2*math.pi*u2_mask).cos() * u1sqrt\n",
    "        v = (2*math.pi*u2_mask).sin() * u1sqrt\n",
    "        w = (1-u**2-v**2).clip(min=eps).sqrt()\n",
    "\n",
    "        ic(u.shape, M_mask.shape)\n",
    "        H_l = normalize(u[:, None] * M_mask[:, 0] + v[:, None] * M_mask[:, 1] + w[:, None] * M_mask[:, 2])\n",
    "\n",
    "        first = torch.zeros_like(ray_mask)\n",
    "        first[:, 0] = True\n",
    "        H_l[first[ray_mask], 0] = 0\n",
    "        H_l[first[ray_mask], 1] = 0\n",
    "        H_l[first[ray_mask], 2] = 1\n",
    "\n",
    "        H = torch.matmul(row_world_basis_mask, H_l.unsqueeze(-1)).squeeze(-1)\n",
    "        # H = torch.einsum('bni,bij->bnj', H_l, row_world_basis)\n",
    "\n",
    "        V = viewdir.unsqueeze(1).expand(-1, num_samples, 3)[ray_mask]\n",
    "        # N = normal.reshape(-1, 1, 3).expand(-1, num_samples, 3)[ray_mask]\n",
    "        L = (2.0 * (V * H).sum(dim=-1, keepdim=True) * H - V)\n",
    "\n",
    "        temp = torch.matmul(torch.matmul(H_l.reshape(-1, 1, 3), S_mask), H_l.reshape(-1, 3, 1))\n",
    "        ic(temp.shape, S_mask.shape, H_l.shape)\n",
    "        prob = 1 / (math.pi * torch.linalg.det(S).sqrt().reshape(-1) * (temp.reshape(-1))**2)\n",
    "\n",
    "        return L, row_world_basis_mask, prob\n",
    "\n",
    "    def calculate_mipval(self, H, V, N, ray_mask, roughness, row_world_basis, eps=torch.finfo(torch.float32).eps):\n",
    "        num_samples = ray_mask.shape[1]\n",
    "        NdotH = ((H * N).sum(dim=-1)).abs().clip(min=eps, max=1)\n",
    "        HdotV = (H * V).sum(dim=-1).abs().clip(min=eps, max=1)\n",
    "        NdotV = (N * V).sum(dim=-1).abs().clip(min=eps, max=1)\n",
    "        logD = 2*torch.log(roughness.clip(min=eps)) - 2*torch.log((NdotH**2*(roughness**2-1)+1).clip(min=eps))\n",
    "        # ic(NdotH.shape, NdotH, D, D.mean())\n",
    "        # px.scatter(x=NdotH[0].detach().cpu().flatten(), y=D[0].detach().cpu().flatten()).show()\n",
    "        # assert(False)\n",
    "        # ic(NdotH.mean())\n",
    "        lpdf = logD + torch.log(HdotV) - torch.log(NdotV)# - torch.log(roughness.clip(min=1e-5))\n",
    "        # pdf = D * HdotV / NdotV / roughness.reshape(-1, 1)\n",
    "        # pdf = NdotH / 4 / HdotV\n",
    "        # pdf = D# / NdotH\n",
    "        indiv_num_samples = ray_mask.sum(dim=1, keepdim=True).expand(-1, num_samples)[ray_mask]\n",
    "        mipval = -torch.log(indiv_num_samples.clip(min=1)) - lpdf\n",
    "        return mipval"
   ]
  },
  {
   "cell_type": "code",
   "execution_count": 16,
   "metadata": {},
   "outputs": [
    {
     "name": "stderr",
     "output_type": "stream",
     "text": [
      "ic| u.shape: torch.Size([50]), M_mask.shape: torch.Size([50, 3, 3])\n",
      "ic| temp.shape: torch.Size([50, 1, 1])\n",
      "    S_mask.shape: torch.Size([50, 3, 3])\n",
      "    H_l.shape: torch.Size([50, 3])\n",
      "ic| L.min(): tensor(-1.)\n",
      "ic| mipval: tensor([-8.5172, -6.4890, -2.1749, -3.3524, -4.1602, -1.6194, -8.4313, -4.4508,\n",
      "                    -4.9154,  0.1623, -0.9173, -3.7164, -2.9369, -1.6676, -7.1201, -6.1790,\n",
      "                    -5.8431, -7.4031, -2.1418, -2.8813, -3.7666, -0.1884,  0.6439, -5.1949,\n",
      "                    -4.7240, -8.0156, -1.0563, -4.2170, -3.2926, -2.6081, -6.7290, -5.3754,\n",
      "                    -5.4613, -6.8803, -2.5379, -3.2075, -4.2992, -1.1594, -7.7944, -4.6462,\n",
      "                    -5.0630,  1.3805, -0.4294, -3.9082, -2.7277, -2.0059, -7.7188, -5.9955,\n",
      "                    -6.0704, -7.0129])\n",
      "    miplevel: tensor([2.8561, 4.3192, 7.4311, 6.5818, 5.9991, 7.8318, 2.9181, 5.7894, 5.4543,\n",
      "                      9.1171, 8.3383, 6.3192, 6.8815, 7.7971, 3.8639, 4.5428, 4.7851, 3.6598,\n",
      "                      7.4550, 6.9216, 6.2830, 8.8641, 9.4644, 5.2527, 5.5924, 3.2180, 8.2380,\n",
      "                      5.9580, 6.6249, 7.1187, 4.1460, 5.1225, 5.0605, 4.0369, 7.1693, 6.6863,\n",
      "                      5.8988, 8.1636, 3.3776, 5.6485, 5.3479, 9.9958, 8.6902, 6.1808, 7.0324,\n",
      "                      7.5531, 3.4320, 4.6752, 4.6211, 3.9413])\n",
      "    math.log(saTexel*N): -8.564626244650869\n"
     ]
    },
    {
     "data": {
      "application/vnd.plotly.v1+json": {
       "config": {
        "plotlyServerURL": "https://plot.ly"
       },
       "data": [
        {
         "hovertemplate": "x=%{x}<br>y=%{y}<br>z=%{z}<extra></extra>",
         "legendgroup": "",
         "marker": {
          "color": "#636efa",
          "symbol": "circle"
         },
         "mode": "markers",
         "name": "",
         "scene": "scene",
         "showlegend": false,
         "type": "scatter3d",
         "x": [
          0,
          0.23523405194282532,
          -0.23712395131587982,
          -0.2207687944173813,
          0.06896208971738815,
          0.6446453332901001,
          -0.04089454188942909,
          0.3813660442829132,
          -0.2234063297510147,
          -0.004267875570803881,
          -0.795244038105011,
          0.5940846800804138,
          -0.5949075818061829,
          0.8056731224060059,
          0.12459133565425873,
          0.10269366204738617,
          0.10484743118286133,
          0.037386659532785416,
          -0.74942547082901,
          0.7147238850593567,
          -0.424014687538147,
          0.9650644659996033,
          -0.6933106184005737,
          -0.06185857579112053,
          -0.46076157689094543,
          0.08571723103523254,
          0.07511578500270844,
          0.2801910638809204,
          -0.21366886794567108,
          -0.42672353982925415,
          -0.21796569228172302,
          0.33496618270874023,
          -0.06590884923934937,
          -0.09862688183784485,
          -0.7393081188201904,
          0.6290323138237,
          -0.511539101600647,
          0.6592496037483215,
          0.031870242208242416,
          0.2995278537273407,
          -0.3622317612171173,
          0.6930124759674072,
          -0.5806212425231934,
          0.04847496375441551,
          0.41050031781196594,
          0.36532872915267944,
          -0.11011102050542831,
          0.2934647500514984,
          -0.2900991141796112,
          0.20650270581245422
         ],
         "y": [
          0,
          0.11796225607395172,
          -0.7887232899665833,
          0.6096451878547668,
          -0.5298057794570923,
          0.6285498738288879,
          -0.009769563563168049,
          -0.31666743755340576,
          -0.37561994791030884,
          0.9779978394508362,
          0.5642377138137817,
          -0.04533133655786514,
          -0.3876257836818695,
          -0.38775041699409485,
          -0.15715835988521576,
          0.27641555666923523,
          -0.3133818507194519,
          0.16842453181743622,
          -0.3529953062534332,
          -0.07250624150037766,
          0.4083978831768036,
          0.2557200491428375,
          -0.5828361511230469,
          0.3987290859222412,
          0.0011569804046303034,
          -0.0640336349606514,
          -0.9603551030158997,
          0.44588929414749146,
          -0.6214599609375,
          0.6281567215919495,
          0.09837166219949722,
          0.1847030371427536,
          -0.3668377697467804,
          0.20130537450313568,
          0.21490322053432465,
          0.2299351841211319,
          -0.06496643275022507,
          -0.6887767314910889,
          -0.128196582198143,
          0.36294621229171753,
          0.2109278291463852,
          0.005180490668863058,
          -0.8131285309791565,
          0.5667744874954224,
          -0.6174429059028625,
          0.7651622295379639,
          -0.0867544561624527,
          -0.11209772527217865,
          -0.09806530922651291,
          -0.043840162456035614
         ],
         "z": [
          -1,
          -0.9647536277770996,
          -0.567175030708313,
          -0.7613106966018677,
          -0.8453105688095093,
          -0.43515241146087646,
          -0.9991158246994019,
          -0.8684940338134766,
          -0.8994438648223877,
          0.20857131481170654,
          -0.22186219692230225,
          -0.8031243085861206,
          -0.7041525840759277,
          -0.4478175640106201,
          -0.9796825647354126,
          -0.9555356502532959,
          -0.9438213109970093,
          -0.985005259513855,
          -0.5601389408111572,
          -0.6956382989883423,
          -0.8083457946777344,
          0.057075321674346924,
          0.42381882667541504,
          -0.9149802923202515,
          -0.8875229358673096,
          -0.9942597150802612,
          -0.26846933364868164,
          -0.850103497505188,
          -0.7537463903427124,
          -0.6506350040435791,
          -0.970986008644104,
          -0.9239493608474731,
          -0.9279472827911377,
          -0.9745506048202515,
          -0.6381536722183228,
          -0.7425956726074219,
          -0.8568007946014404,
          -0.30162322521209717,
          -0.9912365674972534,
          -0.8823565244674683,
          -0.9079084396362305,
          0.7209069728851318,
          -0.04124176502227783,
          -0.8224455118179321,
          -0.6710096597671509,
          -0.5301526784896851,
          -0.9901256561279297,
          -0.9493746757507324,
          -0.9519588947296143,
          -0.9774632453918457
         ]
        }
       ],
       "layout": {
        "legend": {
         "tracegroupgap": 0
        },
        "margin": {
         "t": 60
        },
        "scene": {
         "domain": {
          "x": [
           0,
           1
          ],
          "y": [
           0,
           1
          ]
         },
         "xaxis": {
          "title": {
           "text": "x"
          }
         },
         "yaxis": {
          "title": {
           "text": "y"
          }
         },
         "zaxis": {
          "title": {
           "text": "z"
          }
         }
        },
        "template": {
         "data": {
          "bar": [
           {
            "error_x": {
             "color": "#2a3f5f"
            },
            "error_y": {
             "color": "#2a3f5f"
            },
            "marker": {
             "line": {
              "color": "#E5ECF6",
              "width": 0.5
             },
             "pattern": {
              "fillmode": "overlay",
              "size": 10,
              "solidity": 0.2
             }
            },
            "type": "bar"
           }
          ],
          "barpolar": [
           {
            "marker": {
             "line": {
              "color": "#E5ECF6",
              "width": 0.5
             },
             "pattern": {
              "fillmode": "overlay",
              "size": 10,
              "solidity": 0.2
             }
            },
            "type": "barpolar"
           }
          ],
          "carpet": [
           {
            "aaxis": {
             "endlinecolor": "#2a3f5f",
             "gridcolor": "white",
             "linecolor": "white",
             "minorgridcolor": "white",
             "startlinecolor": "#2a3f5f"
            },
            "baxis": {
             "endlinecolor": "#2a3f5f",
             "gridcolor": "white",
             "linecolor": "white",
             "minorgridcolor": "white",
             "startlinecolor": "#2a3f5f"
            },
            "type": "carpet"
           }
          ],
          "choropleth": [
           {
            "colorbar": {
             "outlinewidth": 0,
             "ticks": ""
            },
            "type": "choropleth"
           }
          ],
          "contour": [
           {
            "colorbar": {
             "outlinewidth": 0,
             "ticks": ""
            },
            "colorscale": [
             [
              0,
              "#0d0887"
             ],
             [
              0.1111111111111111,
              "#46039f"
             ],
             [
              0.2222222222222222,
              "#7201a8"
             ],
             [
              0.3333333333333333,
              "#9c179e"
             ],
             [
              0.4444444444444444,
              "#bd3786"
             ],
             [
              0.5555555555555556,
              "#d8576b"
             ],
             [
              0.6666666666666666,
              "#ed7953"
             ],
             [
              0.7777777777777778,
              "#fb9f3a"
             ],
             [
              0.8888888888888888,
              "#fdca26"
             ],
             [
              1,
              "#f0f921"
             ]
            ],
            "type": "contour"
           }
          ],
          "contourcarpet": [
           {
            "colorbar": {
             "outlinewidth": 0,
             "ticks": ""
            },
            "type": "contourcarpet"
           }
          ],
          "heatmap": [
           {
            "colorbar": {
             "outlinewidth": 0,
             "ticks": ""
            },
            "colorscale": [
             [
              0,
              "#0d0887"
             ],
             [
              0.1111111111111111,
              "#46039f"
             ],
             [
              0.2222222222222222,
              "#7201a8"
             ],
             [
              0.3333333333333333,
              "#9c179e"
             ],
             [
              0.4444444444444444,
              "#bd3786"
             ],
             [
              0.5555555555555556,
              "#d8576b"
             ],
             [
              0.6666666666666666,
              "#ed7953"
             ],
             [
              0.7777777777777778,
              "#fb9f3a"
             ],
             [
              0.8888888888888888,
              "#fdca26"
             ],
             [
              1,
              "#f0f921"
             ]
            ],
            "type": "heatmap"
           }
          ],
          "heatmapgl": [
           {
            "colorbar": {
             "outlinewidth": 0,
             "ticks": ""
            },
            "colorscale": [
             [
              0,
              "#0d0887"
             ],
             [
              0.1111111111111111,
              "#46039f"
             ],
             [
              0.2222222222222222,
              "#7201a8"
             ],
             [
              0.3333333333333333,
              "#9c179e"
             ],
             [
              0.4444444444444444,
              "#bd3786"
             ],
             [
              0.5555555555555556,
              "#d8576b"
             ],
             [
              0.6666666666666666,
              "#ed7953"
             ],
             [
              0.7777777777777778,
              "#fb9f3a"
             ],
             [
              0.8888888888888888,
              "#fdca26"
             ],
             [
              1,
              "#f0f921"
             ]
            ],
            "type": "heatmapgl"
           }
          ],
          "histogram": [
           {
            "marker": {
             "pattern": {
              "fillmode": "overlay",
              "size": 10,
              "solidity": 0.2
             }
            },
            "type": "histogram"
           }
          ],
          "histogram2d": [
           {
            "colorbar": {
             "outlinewidth": 0,
             "ticks": ""
            },
            "colorscale": [
             [
              0,
              "#0d0887"
             ],
             [
              0.1111111111111111,
              "#46039f"
             ],
             [
              0.2222222222222222,
              "#7201a8"
             ],
             [
              0.3333333333333333,
              "#9c179e"
             ],
             [
              0.4444444444444444,
              "#bd3786"
             ],
             [
              0.5555555555555556,
              "#d8576b"
             ],
             [
              0.6666666666666666,
              "#ed7953"
             ],
             [
              0.7777777777777778,
              "#fb9f3a"
             ],
             [
              0.8888888888888888,
              "#fdca26"
             ],
             [
              1,
              "#f0f921"
             ]
            ],
            "type": "histogram2d"
           }
          ],
          "histogram2dcontour": [
           {
            "colorbar": {
             "outlinewidth": 0,
             "ticks": ""
            },
            "colorscale": [
             [
              0,
              "#0d0887"
             ],
             [
              0.1111111111111111,
              "#46039f"
             ],
             [
              0.2222222222222222,
              "#7201a8"
             ],
             [
              0.3333333333333333,
              "#9c179e"
             ],
             [
              0.4444444444444444,
              "#bd3786"
             ],
             [
              0.5555555555555556,
              "#d8576b"
             ],
             [
              0.6666666666666666,
              "#ed7953"
             ],
             [
              0.7777777777777778,
              "#fb9f3a"
             ],
             [
              0.8888888888888888,
              "#fdca26"
             ],
             [
              1,
              "#f0f921"
             ]
            ],
            "type": "histogram2dcontour"
           }
          ],
          "mesh3d": [
           {
            "colorbar": {
             "outlinewidth": 0,
             "ticks": ""
            },
            "type": "mesh3d"
           }
          ],
          "parcoords": [
           {
            "line": {
             "colorbar": {
              "outlinewidth": 0,
              "ticks": ""
             }
            },
            "type": "parcoords"
           }
          ],
          "pie": [
           {
            "automargin": true,
            "type": "pie"
           }
          ],
          "scatter": [
           {
            "fillpattern": {
             "fillmode": "overlay",
             "size": 10,
             "solidity": 0.2
            },
            "type": "scatter"
           }
          ],
          "scatter3d": [
           {
            "line": {
             "colorbar": {
              "outlinewidth": 0,
              "ticks": ""
             }
            },
            "marker": {
             "colorbar": {
              "outlinewidth": 0,
              "ticks": ""
             }
            },
            "type": "scatter3d"
           }
          ],
          "scattercarpet": [
           {
            "marker": {
             "colorbar": {
              "outlinewidth": 0,
              "ticks": ""
             }
            },
            "type": "scattercarpet"
           }
          ],
          "scattergeo": [
           {
            "marker": {
             "colorbar": {
              "outlinewidth": 0,
              "ticks": ""
             }
            },
            "type": "scattergeo"
           }
          ],
          "scattergl": [
           {
            "marker": {
             "colorbar": {
              "outlinewidth": 0,
              "ticks": ""
             }
            },
            "type": "scattergl"
           }
          ],
          "scattermapbox": [
           {
            "marker": {
             "colorbar": {
              "outlinewidth": 0,
              "ticks": ""
             }
            },
            "type": "scattermapbox"
           }
          ],
          "scatterpolar": [
           {
            "marker": {
             "colorbar": {
              "outlinewidth": 0,
              "ticks": ""
             }
            },
            "type": "scatterpolar"
           }
          ],
          "scatterpolargl": [
           {
            "marker": {
             "colorbar": {
              "outlinewidth": 0,
              "ticks": ""
             }
            },
            "type": "scatterpolargl"
           }
          ],
          "scatterternary": [
           {
            "marker": {
             "colorbar": {
              "outlinewidth": 0,
              "ticks": ""
             }
            },
            "type": "scatterternary"
           }
          ],
          "surface": [
           {
            "colorbar": {
             "outlinewidth": 0,
             "ticks": ""
            },
            "colorscale": [
             [
              0,
              "#0d0887"
             ],
             [
              0.1111111111111111,
              "#46039f"
             ],
             [
              0.2222222222222222,
              "#7201a8"
             ],
             [
              0.3333333333333333,
              "#9c179e"
             ],
             [
              0.4444444444444444,
              "#bd3786"
             ],
             [
              0.5555555555555556,
              "#d8576b"
             ],
             [
              0.6666666666666666,
              "#ed7953"
             ],
             [
              0.7777777777777778,
              "#fb9f3a"
             ],
             [
              0.8888888888888888,
              "#fdca26"
             ],
             [
              1,
              "#f0f921"
             ]
            ],
            "type": "surface"
           }
          ],
          "table": [
           {
            "cells": {
             "fill": {
              "color": "#EBF0F8"
             },
             "line": {
              "color": "white"
             }
            },
            "header": {
             "fill": {
              "color": "#C8D4E3"
             },
             "line": {
              "color": "white"
             }
            },
            "type": "table"
           }
          ]
         },
         "layout": {
          "annotationdefaults": {
           "arrowcolor": "#2a3f5f",
           "arrowhead": 0,
           "arrowwidth": 1
          },
          "autotypenumbers": "strict",
          "coloraxis": {
           "colorbar": {
            "outlinewidth": 0,
            "ticks": ""
           }
          },
          "colorscale": {
           "diverging": [
            [
             0,
             "#8e0152"
            ],
            [
             0.1,
             "#c51b7d"
            ],
            [
             0.2,
             "#de77ae"
            ],
            [
             0.3,
             "#f1b6da"
            ],
            [
             0.4,
             "#fde0ef"
            ],
            [
             0.5,
             "#f7f7f7"
            ],
            [
             0.6,
             "#e6f5d0"
            ],
            [
             0.7,
             "#b8e186"
            ],
            [
             0.8,
             "#7fbc41"
            ],
            [
             0.9,
             "#4d9221"
            ],
            [
             1,
             "#276419"
            ]
           ],
           "sequential": [
            [
             0,
             "#0d0887"
            ],
            [
             0.1111111111111111,
             "#46039f"
            ],
            [
             0.2222222222222222,
             "#7201a8"
            ],
            [
             0.3333333333333333,
             "#9c179e"
            ],
            [
             0.4444444444444444,
             "#bd3786"
            ],
            [
             0.5555555555555556,
             "#d8576b"
            ],
            [
             0.6666666666666666,
             "#ed7953"
            ],
            [
             0.7777777777777778,
             "#fb9f3a"
            ],
            [
             0.8888888888888888,
             "#fdca26"
            ],
            [
             1,
             "#f0f921"
            ]
           ],
           "sequentialminus": [
            [
             0,
             "#0d0887"
            ],
            [
             0.1111111111111111,
             "#46039f"
            ],
            [
             0.2222222222222222,
             "#7201a8"
            ],
            [
             0.3333333333333333,
             "#9c179e"
            ],
            [
             0.4444444444444444,
             "#bd3786"
            ],
            [
             0.5555555555555556,
             "#d8576b"
            ],
            [
             0.6666666666666666,
             "#ed7953"
            ],
            [
             0.7777777777777778,
             "#fb9f3a"
            ],
            [
             0.8888888888888888,
             "#fdca26"
            ],
            [
             1,
             "#f0f921"
            ]
           ]
          },
          "colorway": [
           "#636efa",
           "#EF553B",
           "#00cc96",
           "#ab63fa",
           "#FFA15A",
           "#19d3f3",
           "#FF6692",
           "#B6E880",
           "#FF97FF",
           "#FECB52"
          ],
          "font": {
           "color": "#2a3f5f"
          },
          "geo": {
           "bgcolor": "white",
           "lakecolor": "white",
           "landcolor": "#E5ECF6",
           "showlakes": true,
           "showland": true,
           "subunitcolor": "white"
          },
          "hoverlabel": {
           "align": "left"
          },
          "hovermode": "closest",
          "mapbox": {
           "style": "light"
          },
          "paper_bgcolor": "white",
          "plot_bgcolor": "#E5ECF6",
          "polar": {
           "angularaxis": {
            "gridcolor": "white",
            "linecolor": "white",
            "ticks": ""
           },
           "bgcolor": "#E5ECF6",
           "radialaxis": {
            "gridcolor": "white",
            "linecolor": "white",
            "ticks": ""
           }
          },
          "scene": {
           "xaxis": {
            "backgroundcolor": "#E5ECF6",
            "gridcolor": "white",
            "gridwidth": 2,
            "linecolor": "white",
            "showbackground": true,
            "ticks": "",
            "zerolinecolor": "white"
           },
           "yaxis": {
            "backgroundcolor": "#E5ECF6",
            "gridcolor": "white",
            "gridwidth": 2,
            "linecolor": "white",
            "showbackground": true,
            "ticks": "",
            "zerolinecolor": "white"
           },
           "zaxis": {
            "backgroundcolor": "#E5ECF6",
            "gridcolor": "white",
            "gridwidth": 2,
            "linecolor": "white",
            "showbackground": true,
            "ticks": "",
            "zerolinecolor": "white"
           }
          },
          "shapedefaults": {
           "line": {
            "color": "#2a3f5f"
           }
          },
          "ternary": {
           "aaxis": {
            "gridcolor": "white",
            "linecolor": "white",
            "ticks": ""
           },
           "baxis": {
            "gridcolor": "white",
            "linecolor": "white",
            "ticks": ""
           },
           "bgcolor": "#E5ECF6",
           "caxis": {
            "gridcolor": "white",
            "linecolor": "white",
            "ticks": ""
           }
          },
          "title": {
           "x": 0.05
          },
          "xaxis": {
           "automargin": true,
           "gridcolor": "white",
           "linecolor": "white",
           "ticks": "",
           "title": {
            "standoff": 15
           },
           "zerolinecolor": "white",
           "zerolinewidth": 2
          },
          "yaxis": {
           "automargin": true,
           "gridcolor": "white",
           "linecolor": "white",
           "ticks": "",
           "title": {
            "standoff": 15
           },
           "zerolinecolor": "white",
           "zerolinewidth": 2
          }
         }
        }
       }
      }
     },
     "metadata": {},
     "output_type": "display_data"
    }
   ],
   "source": [
    "device = torch.device('cpu')\n",
    "N = 50\n",
    "ray_mask = torch.ones((1, N), device=device, dtype=bool)\n",
    "roughness = torch.tensor(0.1)\n",
    "normal = torch.tensor([0, 0, 1.0], device=device).reshape(1, 3)\n",
    "viewdir = torch.tensor([0, 0, -1.0], device=device).reshape(1, 3)\n",
    "# sampler = CosineLobeSampler(512)\n",
    "sampler = SGGXSampler(512)\n",
    "L, basis, prob = sampler.sample(None, viewdir, normal, roughness, roughness, ray_mask)\n",
    "\n",
    "        num_samples = ray_mask.shape[1]\n",
    "indiv_num_samples = ray_mask.sum(dim=1, keepdim=True).expand(-1, num_samples)[ray_mask]\n",
    "mipval = prob * indiv_num_samples\n",
    "H = normalize(L + viewdir)\n",
    "mipval = sampler.calculate_mipval(H, viewdir, normal, ray_mask, roughness, torch.eye(3).reshape(1, 3, 3))\n",
    "ic(L.min())\n",
    "\n",
    "h = w = 512\n",
    "# h = w = 2048\n",
    "distortion = 1\n",
    "saTexel = distortion / h / w\n",
    "num_pixels = h * w * 6\n",
    "miplevel = ((mipval - math.log(saTexel)) / math.log(2))/2\n",
    "miplevel = miplevel.clip(0)\n",
    "res = h / 2**miplevel\n",
    "ic(mipval, miplevel, math.log(saTexel*N))\n",
    "# px.scatter_3d(x=L[:, 0], y=L[:, 1], z=L[:, 2], color=miplevel)\n",
    "px.scatter_3d(x=L[:, 0], y=L[:, 1], z=L[:, 2]).show()\n"
   ]
  },
  {
   "cell_type": "code",
   "execution_count": null,
   "metadata": {},
   "outputs": [],
   "source": []
  }
 ],
 "metadata": {
  "kernelspec": {
   "display_name": "31",
   "language": "python",
   "name": "python3"
  },
  "language_info": {
   "codemirror_mode": {
    "name": "ipython",
    "version": 3
   },
   "file_extension": ".py",
   "mimetype": "text/x-python",
   "name": "python",
   "nbconvert_exporter": "python",
   "pygments_lexer": "ipython3",
   "version": "3.10.5"
  },
  "orig_nbformat": 4,
  "vscode": {
   "interpreter": {
    "hash": "be76537492645a2c6be92a0ab2cc7fc4a631ad2e1167ca620f40cbb8b4259c8c"
   }
  }
 },
 "nbformat": 4,
 "nbformat_minor": 2
}
