{
 "cells": [
  {
   "cell_type": "code",
   "execution_count": 1,
   "metadata": {},
   "outputs": [
    {
     "name": "stdout",
     "output_type": "stream",
     "text": [
      "/home/amai/normalrf\n",
      "['/home/amai/normalrf/scripts', '/home/amai/.conda/envs/31/lib/python310.zip', '/home/amai/.conda/envs/31/lib/python3.10', '/home/amai/.conda/envs/31/lib/python3.10/lib-dynload', '', '/home/amai/.local/lib/python3.10/site-packages', '/home/amai/.conda/envs/31/lib/python3.10/site-packages', '/home/amai/.conda/envs/31/lib/python3.10/site-packages/GDAL-3.5.0-py3.10-linux-x86_64.egg', '/home/amai/.conda/envs/31/lib/python3.10/site-packages/tinycudann-1.6-py3.10-linux-x86_64.egg', '/home/amai/.conda/envs/31/lib/python3.10/site-packages/raymarching_full-0.0.0-py3.10-linux-x86_64.egg', '/home/amai/triton/python', '/home/amai/normalrf']\n"
     ]
    }
   ],
   "source": [
    "from pathlib import Path\n",
    "import sys\n",
    "import os\n",
    "sys.path.append(str(Path(os.path.abspath('')).parent))\n",
    "print(Path(os.path.abspath('')).parent)\n",
    "print(sys.path)"
   ]
  },
  {
   "cell_type": "code",
   "execution_count": 2,
   "metadata": {},
   "outputs": [],
   "source": [
    "import torch\n",
    "from modules import safemath\n",
    "import math\n",
    "import plotly.express as px\n",
    "from icecream import ic"
   ]
  },
  {
   "cell_type": "code",
   "execution_count": 40,
   "metadata": {},
   "outputs": [],
   "source": [
    "\n",
    "def normalize(x):\n",
    "    return x / (torch.linalg.norm(x, dim=-1, keepdim=True)+1e-8)\n",
    "\n",
    "class PseudoRandomSampler(torch.nn.Module):\n",
    "    def __init__(self, max_samples) -> None:\n",
    "        super().__init__()\n",
    "        self.sampler = torch.quasirandom.SobolEngine(dimension=3, scramble=True)\n",
    "        self.max_samples = max_samples\n",
    "        angs = self.sampler.draw(max_samples)\n",
    "        self.register_buffer('angs', angs)\n",
    "\n",
    "    def draw(self, B, num_samples):\n",
    "        if num_samples > self.max_samples:\n",
    "            self.max_samples = num_samples\n",
    "            self.angs = self.sampler.draw(self.max_samples)\n",
    "        angs = self.angs.reshape(1, self.max_samples, 3)[:, :num_samples, :].expand(B, num_samples, 3)\n",
    "        # self.sampler = torch.quasirandom.SobolEngine(dimension=2, scramble=True)\n",
    "        # add random offset\n",
    "        offset = torch.rand(B, 1, 3, device=angs.device)*0.25\n",
    "        angs = (angs + offset) % 1.0\n",
    "        return angs\n",
    "\n",
    "    def update(self, *args, **kwargs):\n",
    "        pass\n",
    "\n",
    "class SGGXSampler(PseudoRandomSampler):\n",
    "\n",
    "    def sample(self, viewdir, normal, r1, r2, ray_mask, eps=torch.finfo(torch.float32).eps, **kwargs):\n",
    "        num_samples = ray_mask.shape[1]\n",
    "        # viewdir: (B, 3)\n",
    "        # normal: (B, 3)\n",
    "        # r1, r2: B roughness values for anisotropic roughness\n",
    "        device = normal.device\n",
    "        B = normal.shape[0]\n",
    "        eps=torch.finfo(normal.dtype).eps\n",
    "\n",
    "        # establish basis for BRDF\n",
    "        z_up = torch.tensor([0.0, 0.0, 1.0], device=device).reshape(1, 3).expand(B, 3)\n",
    "        x_up = torch.tensor([-1.0, 0.0, 0.0], device=device).reshape(1, 3).expand(B, 3)\n",
    "        up = torch.where(normal[:, 2:3] < 0.999, z_up, x_up)\n",
    "        tangent = normalize(torch.linalg.cross(up, normal))\n",
    "        bitangent = normalize(torch.linalg.cross(normal, tangent))\n",
    "        # B, 3, 3\n",
    "        row_world_basis = torch.stack([tangent, bitangent, normal], dim=1).reshape(B, 3, 3)\n",
    "\n",
    "        # B, 3, 3\n",
    "        S_diagv = torch.stack([r1, r2, torch.ones_like(r1)], dim=-1).reshape(-1, 3)\n",
    "        S_diag = torch.diag_embed(S_diagv)\n",
    "        S = torch.matmul(torch.matmul(row_world_basis, S_diag), row_world_basis.permute(0, 2, 1))\n",
    "        M = torch.zeros((B, 3, 3), device=device)\n",
    "        tmp = (S[:, 1, 1]*S[:, 2, 2] - S[:, 1, 2]**2).clip(min=eps).sqrt()\n",
    "        M[:, 0, 0] = torch.linalg.det(S).abs().sqrt() / tmp\n",
    "        # checked\n",
    "        inv_sqrt_Sii = 1/S[:, 2, 2].clip(min=eps).sqrt().clip(min=eps)\n",
    "        # checked\n",
    "        M[:, 1, 0] = -inv_sqrt_Sii*(S[:, 0, 2]*S[:, 1, 2] - S[:, 0, 1]*S[:, 2, 2])/tmp\n",
    "        M[:, 1, 1] = inv_sqrt_Sii*tmp\n",
    "\n",
    "        # checked\n",
    "        M[:, 2, 0] = inv_sqrt_Sii * S[:, 0, 2]\n",
    "        M[:, 2, 1] = inv_sqrt_Sii * S[:, 1, 2]\n",
    "        M[:, 2, 2] = inv_sqrt_Sii * S[:, 2, 2]\n",
    "\n",
    "        angs = self.draw(B, num_samples).to(device)\n",
    "\n",
    "        M_mask = M.reshape(B, 1, 3, 3).expand(B, num_samples, 3, 3)[ray_mask]\n",
    "        S_mask_v = S_diagv.reshape(B, 1, 3).expand(B, num_samples, 3)[ray_mask]\n",
    "\n",
    "        # here is where things get really large\n",
    "        u1 = angs[..., 0]\n",
    "        u2 = angs[..., 1]\n",
    "\n",
    "        # stretch and mask stuff to reduce memory\n",
    "        # r1_mask = r1.reshape(-1, 1).expand(u1.shape)[ray_mask]\n",
    "        # r2_mask = r2.reshape(-1, 1).expand(u1.shape)[ray_mask]\n",
    "        row_world_basis_mask = row_world_basis.permute(0, 2, 1).reshape(B, 1, 3, 3).expand(B, num_samples, 3, 3)[ray_mask]\n",
    "\n",
    "        u1_mask = u1[ray_mask]\n",
    "        u2_mask = u2[ray_mask]\n",
    "\n",
    "        u1sqrt = u1_mask.clip(min=eps).sqrt()\n",
    "        u = (2*math.pi*u2_mask).cos() * u1sqrt\n",
    "        v = (2*math.pi*u2_mask).sin() * u1sqrt\n",
    "        w = (1-u**2-v**2).clip(min=eps).sqrt()\n",
    "\n",
    "        H_l = normalize(u[:, None] * M_mask[:, 0] + v[:, None] * M_mask[:, 1] + w[:, None] * M_mask[:, 2])\n",
    "\n",
    "        first = torch.zeros_like(ray_mask)\n",
    "        first[:, 0] = True\n",
    "        H_l[first[ray_mask], 0] = 0\n",
    "        H_l[first[ray_mask], 1] = 0\n",
    "        H_l[first[ray_mask], 2] = 1\n",
    "\n",
    "        H = torch.matmul(row_world_basis_mask, H_l.unsqueeze(-1)).squeeze(-1)\n",
    "        # H = torch.einsum('bni,bij->bnj', H_l, row_world_basis)\n",
    "\n",
    "        V = viewdir.unsqueeze(1).expand(-1, num_samples, 3)[ray_mask]\n",
    "        # N = normal.reshape(-1, 1, 3).expand(-1, num_samples, 3)[ray_mask]\n",
    "        L = (2.0 * (V * H).sum(dim=-1, keepdim=True) * H - V)\n",
    "\n",
    "        temp = torch.matmul(torch.matmul(H_l.reshape(-1, 1, 3), torch.diag_embed(1/S_mask_v.clip(min=eps))), H_l.reshape(-1, 3, 1))\n",
    "        prob = 1 / (math.pi * (S_mask_v[:, 0] * S_mask_v[:, 1] * S_mask_v[:, 2]).sqrt().reshape(-1) * (temp.reshape(-1))**2)\n",
    "\n",
    "        return L, row_world_basis_mask, prob\n",
    "\n",
    "    def compute_prob(self, halfvec, eN, r1, r2, **kwargs):\n",
    "        S_diag = torch.diag_embed(torch.stack([r1, r2, torch.ones_like(r1)], dim=-1).reshape(-1, 3))\n",
    "        temp = torch.matmul(torch.matmul(halfvec.reshape(-1, 1, 3), S_diag), halfvec.reshape(-1, 3, 1))\n",
    "        prob = 1 / (math.pi * torch.linalg.det(S_diag).sqrt().reshape(-1) * (temp.reshape(-1))**2)\n",
    "        return prob\n"
   ]
  },
  {
   "cell_type": "code",
   "execution_count": 48,
   "metadata": {},
   "outputs": [
    {
     "name": "stderr",
     "output_type": "stream",
     "text": [
      "ic| L.min(): tensor(-0.9219)\n"
     ]
    },
    {
     "data": {
      "application/vnd.plotly.v1+json": {
       "config": {
        "plotlyServerURL": "https://plot.ly"
       },
       "data": [
        {
         "hovertemplate": "x=%{x}<br>y=%{y}<br>z=%{z}<br>color=%{marker.color}<extra></extra>",
         "legendgroup": "",
         "marker": {
          "color": [
           229.5804443359375,
           341.5481262207031,
           440.2333068847656,
           735.4453125,
           1728.97021484375,
           631.8958740234375,
           319.8394775390625,
           239.5355682373047,
           1941.04638671875,
           297.8905334472656,
           542.8323974609375,
           1237.9881591796875,
           885.558837890625,
           497.2641296386719,
           370.5980224609375,
           275.9281005859375,
           287.6519470214844,
           385.0531921386719,
           463.3939208984375,
           812.5034790039062,
           1100.01953125,
           502.5344543457031,
           307.18304443359375,
           233.188232421875,
           248.30775451660156,
           330.5246887207031,
           578.1082153320312,
           1470.2286376953125,
           684.5662841796875,
           413.3954162597656,
           353.8479309082031,
           267.6344909667969,
           263.54461669921875,
           360.11724853515625,
           402.61773681640625,
           720.6135864257812,
           1371.054443359375,
           598.1602172851562,
           322.729736328125,
           252.36553955078125,
           236.8172607421875,
           300.52581787109375,
           517.3629150390625,
           1042.505859375,
           863.0712890625,
           449.6998291015625,
           392.6353759765625,
           283.0089416503906,
           270.5404357910156,
           379.8403015136719
          ],
          "coloraxis": "coloraxis",
          "symbol": "circle"
         },
         "mode": "markers",
         "name": "",
         "scene": "scene",
         "showlegend": false,
         "type": "scatter3d",
         "x": [
          0,
          0.44423922896385193,
          -0.4098972976207733,
          -0.2549017071723938,
          0.5481276512145996,
          0.5117838382720947,
          -0.3732512891292572,
          0.1384817659854889,
          -0.14249911904335022,
          -0.049656499177217484,
          -0.686047375202179,
          0.7364368438720703,
          -0.7130929827690125,
          0.530699610710144,
          -0.007885558530688286,
          0.12041609734296799,
          0.06116470322012901,
          0.12538820505142212,
          -0.39916062355041504,
          0.8121161460876465,
          -0.8610698580741882,
          0.5761617422103882,
          -0.13655199110507965,
          0.005339786410331726,
          -0.18404865264892578,
          0.4232991933822632,
          0.32401546835899353,
          0.7634784579277039,
          -0.43644043803215027,
          -0.28118476271629333,
          -0.47458207607269287,
          0.2505472004413605,
          -0.1953710913658142,
          -0.2040404975414276,
          -0.5430594086647034,
          0.8241987228393555,
          -0.9140435457229614,
          0.7654027342796326,
          0.189421147108078,
          0.10301583260297775,
          -0.10718414932489395,
          0.231845423579216,
          -0.1742921769618988,
          -0.19780506193637848,
          -0.02265571802854538,
          0.24550297856330872,
          -0.4687494933605194,
          0.2817067801952362,
          -0.2072530835866928,
          0.49776843190193176
         ],
         "y": [
          0,
          -0.08754272758960724,
          -0.44520944356918335,
          0.821321964263916,
          -0.7041694521903992,
          0.604376494884491,
          0.16668274998664856,
          -0.0014990776544436812,
          -0.740644097328186,
          0.3541240096092224,
          -0.20934562385082245,
          -0.676083505153656,
          0.5985314249992371,
          0.4116205871105194,
          -0.5042834877967834,
          0.2705768048763275,
          -0.3248383104801178,
          0.5124550461769104,
          0.49202606081962585,
          0.3880469799041748,
          -0.483492910861969,
          -0.3558712899684906,
          -0.3548829257488251,
          0.08332961797714233,
          0.04529723525047302,
          0.08178254216909409,
          -0.67521733045578,
          0.6137962937355042,
          -0.7045362591743469,
          0.4951016306877136,
          0.029546184465289116,
          -0.09766527265310287,
          -0.16278976202011108,
          0.44171085953712463,
          -0.10961781442165375,
          -0.2130294144153595,
          0.3918197751045227,
          -0.020236952230334282,
          -0.3692127764225006,
          0.18168942630290985,
          -0.04972240328788757,
          -0.2808471918106079,
          -0.6701828241348267,
          0.9567911028862,
          -0.9218800067901611,
          0.5660926699638367,
          0.26649901270866394,
          0.14628350734710693,
          0.18646401166915894,
          0.1481899917125702
         ],
         "z": [
          1,
          0.8916208744049072,
          0.7960982322692871,
          0.5103482007980347,
          -0.4513331651687622,
          0.6105788946151733,
          0.9126337766647339,
          0.9903638362884521,
          -0.656612753868103,
          0.9338793754577637,
          0.69678795337677,
          0.02391207218170166,
          0.36504602432250977,
          0.7408956289291382,
          0.8635021448135376,
          0.9551377296447754,
          0.9437897205352783,
          0.8495100736618042,
          0.7736800909042358,
          0.4357602596282959,
          0.15745902061462402,
          0.7357943058013916,
          0.924884557723999,
          0.9965077638626099,
          0.9818727970123291,
          0.9022911787033081,
          0.6626427173614502,
          -0.20088475942611694,
          0.5595965385437012,
          0.8220762014389038,
          0.8797153234481812,
          0.963165283203125,
          0.967124342918396,
          0.8736468553543091,
          0.8325085639953613,
          0.5247050523757935,
          -0.10488909482955933,
          0.6432332992553711,
          0.9098358154296875,
          0.9779449701309204,
          0.992995023727417,
          0.931328535079956,
          0.7214407920837402,
          0.213128924369812,
          0.38681256771087646,
          0.7869353294372559,
          0.8421709537506104,
          0.9482837915420532,
          0.9603527784347534,
          0.8545562028884888
         ]
        }
       ],
       "layout": {
        "coloraxis": {
         "colorbar": {
          "title": {
           "text": "color"
          }
         },
         "colorscale": [
          [
           0,
           "#0d0887"
          ],
          [
           0.1111111111111111,
           "#46039f"
          ],
          [
           0.2222222222222222,
           "#7201a8"
          ],
          [
           0.3333333333333333,
           "#9c179e"
          ],
          [
           0.4444444444444444,
           "#bd3786"
          ],
          [
           0.5555555555555556,
           "#d8576b"
          ],
          [
           0.6666666666666666,
           "#ed7953"
          ],
          [
           0.7777777777777778,
           "#fb9f3a"
          ],
          [
           0.8888888888888888,
           "#fdca26"
          ],
          [
           1,
           "#f0f921"
          ]
         ]
        },
        "legend": {
         "tracegroupgap": 0
        },
        "margin": {
         "t": 60
        },
        "scene": {
         "domain": {
          "x": [
           0,
           1
          ],
          "y": [
           0,
           1
          ]
         },
         "xaxis": {
          "title": {
           "text": "x"
          }
         },
         "yaxis": {
          "title": {
           "text": "y"
          }
         },
         "zaxis": {
          "title": {
           "text": "z"
          }
         }
        },
        "template": {
         "data": {
          "bar": [
           {
            "error_x": {
             "color": "#2a3f5f"
            },
            "error_y": {
             "color": "#2a3f5f"
            },
            "marker": {
             "line": {
              "color": "#E5ECF6",
              "width": 0.5
             },
             "pattern": {
              "fillmode": "overlay",
              "size": 10,
              "solidity": 0.2
             }
            },
            "type": "bar"
           }
          ],
          "barpolar": [
           {
            "marker": {
             "line": {
              "color": "#E5ECF6",
              "width": 0.5
             },
             "pattern": {
              "fillmode": "overlay",
              "size": 10,
              "solidity": 0.2
             }
            },
            "type": "barpolar"
           }
          ],
          "carpet": [
           {
            "aaxis": {
             "endlinecolor": "#2a3f5f",
             "gridcolor": "white",
             "linecolor": "white",
             "minorgridcolor": "white",
             "startlinecolor": "#2a3f5f"
            },
            "baxis": {
             "endlinecolor": "#2a3f5f",
             "gridcolor": "white",
             "linecolor": "white",
             "minorgridcolor": "white",
             "startlinecolor": "#2a3f5f"
            },
            "type": "carpet"
           }
          ],
          "choropleth": [
           {
            "colorbar": {
             "outlinewidth": 0,
             "ticks": ""
            },
            "type": "choropleth"
           }
          ],
          "contour": [
           {
            "colorbar": {
             "outlinewidth": 0,
             "ticks": ""
            },
            "colorscale": [
             [
              0,
              "#0d0887"
             ],
             [
              0.1111111111111111,
              "#46039f"
             ],
             [
              0.2222222222222222,
              "#7201a8"
             ],
             [
              0.3333333333333333,
              "#9c179e"
             ],
             [
              0.4444444444444444,
              "#bd3786"
             ],
             [
              0.5555555555555556,
              "#d8576b"
             ],
             [
              0.6666666666666666,
              "#ed7953"
             ],
             [
              0.7777777777777778,
              "#fb9f3a"
             ],
             [
              0.8888888888888888,
              "#fdca26"
             ],
             [
              1,
              "#f0f921"
             ]
            ],
            "type": "contour"
           }
          ],
          "contourcarpet": [
           {
            "colorbar": {
             "outlinewidth": 0,
             "ticks": ""
            },
            "type": "contourcarpet"
           }
          ],
          "heatmap": [
           {
            "colorbar": {
             "outlinewidth": 0,
             "ticks": ""
            },
            "colorscale": [
             [
              0,
              "#0d0887"
             ],
             [
              0.1111111111111111,
              "#46039f"
             ],
             [
              0.2222222222222222,
              "#7201a8"
             ],
             [
              0.3333333333333333,
              "#9c179e"
             ],
             [
              0.4444444444444444,
              "#bd3786"
             ],
             [
              0.5555555555555556,
              "#d8576b"
             ],
             [
              0.6666666666666666,
              "#ed7953"
             ],
             [
              0.7777777777777778,
              "#fb9f3a"
             ],
             [
              0.8888888888888888,
              "#fdca26"
             ],
             [
              1,
              "#f0f921"
             ]
            ],
            "type": "heatmap"
           }
          ],
          "heatmapgl": [
           {
            "colorbar": {
             "outlinewidth": 0,
             "ticks": ""
            },
            "colorscale": [
             [
              0,
              "#0d0887"
             ],
             [
              0.1111111111111111,
              "#46039f"
             ],
             [
              0.2222222222222222,
              "#7201a8"
             ],
             [
              0.3333333333333333,
              "#9c179e"
             ],
             [
              0.4444444444444444,
              "#bd3786"
             ],
             [
              0.5555555555555556,
              "#d8576b"
             ],
             [
              0.6666666666666666,
              "#ed7953"
             ],
             [
              0.7777777777777778,
              "#fb9f3a"
             ],
             [
              0.8888888888888888,
              "#fdca26"
             ],
             [
              1,
              "#f0f921"
             ]
            ],
            "type": "heatmapgl"
           }
          ],
          "histogram": [
           {
            "marker": {
             "pattern": {
              "fillmode": "overlay",
              "size": 10,
              "solidity": 0.2
             }
            },
            "type": "histogram"
           }
          ],
          "histogram2d": [
           {
            "colorbar": {
             "outlinewidth": 0,
             "ticks": ""
            },
            "colorscale": [
             [
              0,
              "#0d0887"
             ],
             [
              0.1111111111111111,
              "#46039f"
             ],
             [
              0.2222222222222222,
              "#7201a8"
             ],
             [
              0.3333333333333333,
              "#9c179e"
             ],
             [
              0.4444444444444444,
              "#bd3786"
             ],
             [
              0.5555555555555556,
              "#d8576b"
             ],
             [
              0.6666666666666666,
              "#ed7953"
             ],
             [
              0.7777777777777778,
              "#fb9f3a"
             ],
             [
              0.8888888888888888,
              "#fdca26"
             ],
             [
              1,
              "#f0f921"
             ]
            ],
            "type": "histogram2d"
           }
          ],
          "histogram2dcontour": [
           {
            "colorbar": {
             "outlinewidth": 0,
             "ticks": ""
            },
            "colorscale": [
             [
              0,
              "#0d0887"
             ],
             [
              0.1111111111111111,
              "#46039f"
             ],
             [
              0.2222222222222222,
              "#7201a8"
             ],
             [
              0.3333333333333333,
              "#9c179e"
             ],
             [
              0.4444444444444444,
              "#bd3786"
             ],
             [
              0.5555555555555556,
              "#d8576b"
             ],
             [
              0.6666666666666666,
              "#ed7953"
             ],
             [
              0.7777777777777778,
              "#fb9f3a"
             ],
             [
              0.8888888888888888,
              "#fdca26"
             ],
             [
              1,
              "#f0f921"
             ]
            ],
            "type": "histogram2dcontour"
           }
          ],
          "mesh3d": [
           {
            "colorbar": {
             "outlinewidth": 0,
             "ticks": ""
            },
            "type": "mesh3d"
           }
          ],
          "parcoords": [
           {
            "line": {
             "colorbar": {
              "outlinewidth": 0,
              "ticks": ""
             }
            },
            "type": "parcoords"
           }
          ],
          "pie": [
           {
            "automargin": true,
            "type": "pie"
           }
          ],
          "scatter": [
           {
            "fillpattern": {
             "fillmode": "overlay",
             "size": 10,
             "solidity": 0.2
            },
            "type": "scatter"
           }
          ],
          "scatter3d": [
           {
            "line": {
             "colorbar": {
              "outlinewidth": 0,
              "ticks": ""
             }
            },
            "marker": {
             "colorbar": {
              "outlinewidth": 0,
              "ticks": ""
             }
            },
            "type": "scatter3d"
           }
          ],
          "scattercarpet": [
           {
            "marker": {
             "colorbar": {
              "outlinewidth": 0,
              "ticks": ""
             }
            },
            "type": "scattercarpet"
           }
          ],
          "scattergeo": [
           {
            "marker": {
             "colorbar": {
              "outlinewidth": 0,
              "ticks": ""
             }
            },
            "type": "scattergeo"
           }
          ],
          "scattergl": [
           {
            "marker": {
             "colorbar": {
              "outlinewidth": 0,
              "ticks": ""
             }
            },
            "type": "scattergl"
           }
          ],
          "scattermapbox": [
           {
            "marker": {
             "colorbar": {
              "outlinewidth": 0,
              "ticks": ""
             }
            },
            "type": "scattermapbox"
           }
          ],
          "scatterpolar": [
           {
            "marker": {
             "colorbar": {
              "outlinewidth": 0,
              "ticks": ""
             }
            },
            "type": "scatterpolar"
           }
          ],
          "scatterpolargl": [
           {
            "marker": {
             "colorbar": {
              "outlinewidth": 0,
              "ticks": ""
             }
            },
            "type": "scatterpolargl"
           }
          ],
          "scatterternary": [
           {
            "marker": {
             "colorbar": {
              "outlinewidth": 0,
              "ticks": ""
             }
            },
            "type": "scatterternary"
           }
          ],
          "surface": [
           {
            "colorbar": {
             "outlinewidth": 0,
             "ticks": ""
            },
            "colorscale": [
             [
              0,
              "#0d0887"
             ],
             [
              0.1111111111111111,
              "#46039f"
             ],
             [
              0.2222222222222222,
              "#7201a8"
             ],
             [
              0.3333333333333333,
              "#9c179e"
             ],
             [
              0.4444444444444444,
              "#bd3786"
             ],
             [
              0.5555555555555556,
              "#d8576b"
             ],
             [
              0.6666666666666666,
              "#ed7953"
             ],
             [
              0.7777777777777778,
              "#fb9f3a"
             ],
             [
              0.8888888888888888,
              "#fdca26"
             ],
             [
              1,
              "#f0f921"
             ]
            ],
            "type": "surface"
           }
          ],
          "table": [
           {
            "cells": {
             "fill": {
              "color": "#EBF0F8"
             },
             "line": {
              "color": "white"
             }
            },
            "header": {
             "fill": {
              "color": "#C8D4E3"
             },
             "line": {
              "color": "white"
             }
            },
            "type": "table"
           }
          ]
         },
         "layout": {
          "annotationdefaults": {
           "arrowcolor": "#2a3f5f",
           "arrowhead": 0,
           "arrowwidth": 1
          },
          "autotypenumbers": "strict",
          "coloraxis": {
           "colorbar": {
            "outlinewidth": 0,
            "ticks": ""
           }
          },
          "colorscale": {
           "diverging": [
            [
             0,
             "#8e0152"
            ],
            [
             0.1,
             "#c51b7d"
            ],
            [
             0.2,
             "#de77ae"
            ],
            [
             0.3,
             "#f1b6da"
            ],
            [
             0.4,
             "#fde0ef"
            ],
            [
             0.5,
             "#f7f7f7"
            ],
            [
             0.6,
             "#e6f5d0"
            ],
            [
             0.7,
             "#b8e186"
            ],
            [
             0.8,
             "#7fbc41"
            ],
            [
             0.9,
             "#4d9221"
            ],
            [
             1,
             "#276419"
            ]
           ],
           "sequential": [
            [
             0,
             "#0d0887"
            ],
            [
             0.1111111111111111,
             "#46039f"
            ],
            [
             0.2222222222222222,
             "#7201a8"
            ],
            [
             0.3333333333333333,
             "#9c179e"
            ],
            [
             0.4444444444444444,
             "#bd3786"
            ],
            [
             0.5555555555555556,
             "#d8576b"
            ],
            [
             0.6666666666666666,
             "#ed7953"
            ],
            [
             0.7777777777777778,
             "#fb9f3a"
            ],
            [
             0.8888888888888888,
             "#fdca26"
            ],
            [
             1,
             "#f0f921"
            ]
           ],
           "sequentialminus": [
            [
             0,
             "#0d0887"
            ],
            [
             0.1111111111111111,
             "#46039f"
            ],
            [
             0.2222222222222222,
             "#7201a8"
            ],
            [
             0.3333333333333333,
             "#9c179e"
            ],
            [
             0.4444444444444444,
             "#bd3786"
            ],
            [
             0.5555555555555556,
             "#d8576b"
            ],
            [
             0.6666666666666666,
             "#ed7953"
            ],
            [
             0.7777777777777778,
             "#fb9f3a"
            ],
            [
             0.8888888888888888,
             "#fdca26"
            ],
            [
             1,
             "#f0f921"
            ]
           ]
          },
          "colorway": [
           "#636efa",
           "#EF553B",
           "#00cc96",
           "#ab63fa",
           "#FFA15A",
           "#19d3f3",
           "#FF6692",
           "#B6E880",
           "#FF97FF",
           "#FECB52"
          ],
          "font": {
           "color": "#2a3f5f"
          },
          "geo": {
           "bgcolor": "white",
           "lakecolor": "white",
           "landcolor": "#E5ECF6",
           "showlakes": true,
           "showland": true,
           "subunitcolor": "white"
          },
          "hoverlabel": {
           "align": "left"
          },
          "hovermode": "closest",
          "mapbox": {
           "style": "light"
          },
          "paper_bgcolor": "white",
          "plot_bgcolor": "#E5ECF6",
          "polar": {
           "angularaxis": {
            "gridcolor": "white",
            "linecolor": "white",
            "ticks": ""
           },
           "bgcolor": "#E5ECF6",
           "radialaxis": {
            "gridcolor": "white",
            "linecolor": "white",
            "ticks": ""
           }
          },
          "scene": {
           "xaxis": {
            "backgroundcolor": "#E5ECF6",
            "gridcolor": "white",
            "gridwidth": 2,
            "linecolor": "white",
            "showbackground": true,
            "ticks": "",
            "zerolinecolor": "white"
           },
           "yaxis": {
            "backgroundcolor": "#E5ECF6",
            "gridcolor": "white",
            "gridwidth": 2,
            "linecolor": "white",
            "showbackground": true,
            "ticks": "",
            "zerolinecolor": "white"
           },
           "zaxis": {
            "backgroundcolor": "#E5ECF6",
            "gridcolor": "white",
            "gridwidth": 2,
            "linecolor": "white",
            "showbackground": true,
            "ticks": "",
            "zerolinecolor": "white"
           }
          },
          "shapedefaults": {
           "line": {
            "color": "#2a3f5f"
           }
          },
          "ternary": {
           "aaxis": {
            "gridcolor": "white",
            "linecolor": "white",
            "ticks": ""
           },
           "baxis": {
            "gridcolor": "white",
            "linecolor": "white",
            "ticks": ""
           },
           "bgcolor": "#E5ECF6",
           "caxis": {
            "gridcolor": "white",
            "linecolor": "white",
            "ticks": ""
           }
          },
          "title": {
           "x": 0.05
          },
          "xaxis": {
           "automargin": true,
           "gridcolor": "white",
           "linecolor": "white",
           "ticks": "",
           "title": {
            "standoff": 15
           },
           "zerolinecolor": "white",
           "zerolinewidth": 2
          },
          "yaxis": {
           "automargin": true,
           "gridcolor": "white",
           "linecolor": "white",
           "ticks": "",
           "title": {
            "standoff": 15
           },
           "zerolinecolor": "white",
           "zerolinewidth": 2
          }
         }
        }
       }
      }
     },
     "metadata": {},
     "output_type": "display_data"
    }
   ],
   "source": [
    "device = torch.device('cpu')\n",
    "eps=torch.finfo(torch.float32).eps\n",
    "N = 50\n",
    "ray_mask = torch.ones((1, N), device=device, dtype=bool)\n",
    "roughness = torch.tensor(0.1)\n",
    "normal = torch.tensor([0, 0, 1.0], device=device).reshape(1, 3)\n",
    "viewdir = torch.tensor([0, 0, 1.0], device=device).reshape(1, 3)\n",
    "# sampler = CosineLobeSampler(512)\n",
    "sampler = SGGXSampler(512)\n",
    "L, basis, prob = sampler.sample(viewdir, normal, roughness, roughness, ray_mask)\n",
    "\n",
    "indiv_num_samples = ray_mask.sum(dim=1, keepdim=True).expand(ray_mask.shape)[ray_mask]\n",
    "mipval = -(prob * indiv_num_samples).log()\n",
    "H = normalize(L + viewdir)\n",
    "# mipval = sampler.calculate_mipval(H, viewdir, normal, ray_mask, roughness, torch.eye(3).reshape(1, 3, 3))\n",
    "ic(L.min())\n",
    "\n",
    "w = 1024\n",
    "h = 512\n",
    "dw = (1-L[:, 2]**2).clip(min=eps).sqrt() * 2 * math.pi / w\n",
    "dh = torch.ones_like(dw) * math.pi / h\n",
    "saSample = mipval.reshape(-1)\n",
    "\n",
    "saTexel_w = dw.clip(min=eps).log() + dh.clip(min=eps).log()\n",
    "saTexel_h = dw.clip(min=eps).log() + dh.clip(min=eps).log()\n",
    "# saTexel is the ratio to the solid angle subtended by one pixel of the 0th mipmap level\n",
    "# num_pixels = self.bg_mat.numel() // 3\n",
    "# saTexel = distortion / num_pixels\n",
    "miplevel_w = ((saSample - torch.log(saTexel_w.clip(min=eps))) / math.log(2)) / 2\n",
    "miplevel_h = ((saSample - torch.log(saTexel_h.clip(min=eps))) / math.log(2)) / 2\n",
    "\n",
    "px.scatter_3d(x=L[:, 0], y=L[:, 1], z=L[:, 2], color=2**miplevel_h).show()"
   ]
  },
  {
   "cell_type": "code",
   "execution_count": null,
   "metadata": {},
   "outputs": [],
   "source": []
  }
 ],
 "metadata": {
  "kernelspec": {
   "display_name": "31",
   "language": "python",
   "name": "python3"
  },
  "language_info": {
   "codemirror_mode": {
    "name": "ipython",
    "version": 3
   },
   "file_extension": ".py",
   "mimetype": "text/x-python",
   "name": "python",
   "nbconvert_exporter": "python",
   "pygments_lexer": "ipython3",
   "version": "3.10.5"
  },
  "orig_nbformat": 4,
  "vscode": {
   "interpreter": {
    "hash": "be76537492645a2c6be92a0ab2cc7fc4a631ad2e1167ca620f40cbb8b4259c8c"
   }
  }
 },
 "nbformat": 4,
 "nbformat_minor": 2
}
